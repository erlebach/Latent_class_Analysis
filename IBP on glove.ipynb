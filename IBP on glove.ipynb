{
 "cells": [
  {
   "cell_type": "code",
   "execution_count": 366,
   "metadata": {},
   "outputs": [],
   "source": [
    "import numpy as np\n",
    "import time\n",
    "import scipy.special\n",
    "from tqdm.notebook import tqdm,trange\n",
    "import matplotlib.pyplot as plt\n",
    "import scipy.stats\n",
    "import sklearn.metrics.pairwise\n",
    "from scipy import spatial\n",
    "import json\n",
    "import pandas as pd\n",
    "import nltk\n",
    "from nltk.tokenize import sent_tokenize, word_tokenize\n",
    "from IPython.display import display\n",
    "# nltk.download('punkt')"
   ]
  },
  {
   "cell_type": "markdown",
   "metadata": {},
   "source": [
    "# read in glove"
   ]
  },
  {
   "cell_type": "code",
   "execution_count": 2,
   "metadata": {},
   "outputs": [],
   "source": [
    "with open('glove.6B.50d.txt') as f:\n",
    "    lines = f.readlines()"
   ]
  },
  {
   "cell_type": "code",
   "execution_count": 4,
   "metadata": {},
   "outputs": [],
   "source": [
    "vocab = []\n",
    "embed = []\n",
    "for line in lines:\n",
    "    line = line.rstrip().split()\n",
    "    vocab.append(line[0])\n",
    "    embed.append(list(map(float, line[1:])))\n",
    "embed = np.array(embed)"
   ]
  },
  {
   "cell_type": "code",
   "execution_count": 5,
   "metadata": {
    "scrolled": true
   },
   "outputs": [
    {
     "data": {
      "text/plain": [
       "(400001, 50)"
      ]
     },
     "execution_count": 5,
     "metadata": {},
     "output_type": "execute_result"
    }
   ],
   "source": [
    "embed.shape"
   ]
  },
  {
   "cell_type": "code",
   "execution_count": 6,
   "metadata": {},
   "outputs": [],
   "source": [
    "categories = ['fruits', 'animals', 'sciences', 'countries', 'colors']"
   ]
  },
  {
   "cell_type": "code",
   "execution_count": 7,
   "metadata": {},
   "outputs": [],
   "source": [
    "fruits = ['apple', 'peach', 'fruit', 'cherry', 'banana', 'blueberry', 'grapefruit', 'lemon', 'mango', 'watermelon']"
   ]
  },
  {
   "cell_type": "code",
   "execution_count": 8,
   "metadata": {},
   "outputs": [],
   "source": [
    "animals = ['tiger', 'bird', 'elephant', 'dog', 'fox', 'snake', 'deer', 'turtle', 'fish', 'donkey']"
   ]
  },
  {
   "cell_type": "code",
   "execution_count": 9,
   "metadata": {},
   "outputs": [],
   "source": [
    "sciences = ['physics', 'chemistry', 'mathematics', 'statistics', 'geology', 'agriculture', 'biology', 'business', 'marketing', 'medicine']"
   ]
  },
  {
   "cell_type": "code",
   "execution_count": 10,
   "metadata": {},
   "outputs": [],
   "source": [
    "countries = ['china', 'america', 'canada', 'iran', 'india', 'france', 'russia', 'argentina', 'morocco', 'australia']"
   ]
  },
  {
   "cell_type": "code",
   "execution_count": 11,
   "metadata": {},
   "outputs": [],
   "source": [
    "colors = ['red', 'blue', 'gray', 'black', 'brown', 'yellow', 'white', 'green', 'pink', 'purple']"
   ]
  },
  {
   "cell_type": "code",
   "execution_count": 148,
   "metadata": {},
   "outputs": [
    {
     "name": "stdout",
     "output_type": "stream",
     "text": [
      "132 china\n",
      "258 business\n",
      "298 white\n",
      "387 france\n",
      "412 russia\n",
      "453 america\n",
      "474 india\n",
      "521 black\n",
      "545 iran\n",
      "603 australia\n",
      "639 red\n",
      "774 canada\n",
      "989 green\n",
      "1042 brown\n",
      "1185 blue\n",
      "2039 argentina\n",
      "2106 fox\n",
      "2120 fish\n",
      "2253 marketing\n",
      "2295 agriculture\n",
      "2350 medicine\n",
      "2381 statistics\n",
      "2632 bird\n",
      "2843 yellow\n",
      "2926 dog\n",
      "3292 apple\n",
      "3566 tiger\n",
      "3850 gray\n",
      "4138 fruit\n",
      "5318 morocco\n",
      "5491 pink\n",
      "5787 physics\n",
      "6422 chemistry\n",
      "6510 mathematics\n",
      "7634 biology\n",
      "7644 purple\n",
      "7929 deer\n",
      "9250 cherry\n",
      "9311 lemon\n",
      "9323 elephant\n",
      "9517 snake\n",
      "10705 banana\n",
      "13344 geology\n",
      "13841 turtle\n",
      "17660 peach\n",
      "20328 donkey\n",
      "21638 mango\n",
      "30238 grapefruit\n",
      "30514 watermelon\n",
      "35565 blueberry\n"
     ]
    }
   ],
   "source": [
    "idx = []\n",
    "word_list = []\n",
    "for i,word in enumerate(vocab):\n",
    "    if word in fruits or word in animals or word in sciences or word in countries or word in colors:\n",
    "        print(i, word)\n",
    "        idx.append(i)\n",
    "        word_list.append(word)"
   ]
  },
  {
   "cell_type": "code",
   "execution_count": 13,
   "metadata": {},
   "outputs": [],
   "source": [
    "fruit_idx = []\n",
    "animal_idx = []\n",
    "science_idx = []\n",
    "country_idx = []\n",
    "color_idx = []\n",
    "for i,word in enumerate(word_list):\n",
    "    if word in fruits:\n",
    "        fruit_idx.append(i)\n",
    "    if word in animals:\n",
    "        animal_idx.append(i)\n",
    "    if word in sciences:\n",
    "        science_idx.append(i)\n",
    "    if word in countries:\n",
    "        country_idx.append(i)\n",
    "    if word in colors:\n",
    "        color_idx.append(i)"
   ]
  },
  {
   "cell_type": "code",
   "execution_count": 14,
   "metadata": {},
   "outputs": [
    {
     "data": {
      "text/plain": [
       "(10, 10, 10, 10, 10)"
      ]
     },
     "execution_count": 14,
     "metadata": {},
     "output_type": "execute_result"
    }
   ],
   "source": [
    "len(fruit_idx), len(animal_idx), len(science_idx), len(country_idx), len(color_idx)"
   ]
  },
  {
   "cell_type": "code",
   "execution_count": 15,
   "metadata": {},
   "outputs": [],
   "source": [
    "all_idx = [fruit_idx, animal_idx, science_idx, country_idx, color_idx]"
   ]
  },
  {
   "cell_type": "markdown",
   "metadata": {},
   "source": [
    "# some necessary functions"
   ]
  },
  {
   "cell_type": "code",
   "execution_count": 40,
   "metadata": {},
   "outputs": [],
   "source": [
    "def IBP(alpha = 10, num_object = 20):\n",
    "    n_init = np.random.poisson(alpha)\n",
    "    Z = np.zeros(shape=(num_object,n_init),dtype = np.int32)\n",
    "    Z[0,:] = 1\n",
    "    K_plus = n_init\n",
    "    for i in range(1,num_object):\n",
    "        #Calculate probability of visiting past dishes\n",
    "        Z[i,:] = Z.sum(axis = 0)/(i+1) > np.random.rand(1,K_plus)\n",
    "        #Calculate the number of new dishes visited by customer i\n",
    "        K_new = np.random.poisson(alpha/(i+1)) \n",
    "        Z=np.concatenate((Z,np.zeros(shape=(num_object,K_new),dtype = np.int32)), axis=1)\n",
    "        Z[i,K_plus:K_plus+K_new] = 1\n",
    "        #Update matrix size and dish popularity count\n",
    "        K_plus = K_plus+K_new\n",
    "    return Z, K_plus\n"
   ]
  },
  {
   "cell_type": "code",
   "execution_count": 41,
   "metadata": {},
   "outputs": [],
   "source": [
    "def cal_M_i(Z, M, i, K_plus):\n",
    "    # according to equation 23, 24 line 2\n",
    "    M_i = M - (M@Z[i,:].reshape(K_plus,1)@Z[i,:].reshape(1,K_plus)@M)/(Z[i,:]@M@Z[i,:].T - 1) \n",
    "    return M_i\n"
   ]
  },
  {
   "cell_type": "code",
   "execution_count": 42,
   "metadata": {},
   "outputs": [],
   "source": [
    "def cal_M(Z, M_i, i, K_plus):\n",
    "    # according to equation 23, 24 line 2\n",
    "    M = M_i - (M_i@Z[i,:].reshape(K_plus,1)@Z[i,:].reshape(1,K_plus)@M_i)/(Z[i,:]@M_i@Z[i,:].T + 1)\n",
    "    return M\n"
   ]
  },
  {
   "cell_type": "code",
   "execution_count": 43,
   "metadata": {},
   "outputs": [],
   "source": [
    "def log_likelihood(X, Z, M, sigma_A, sigma_X, K_plus, num_object, num_dim):\n",
    "    # according to equation 26 in page 1203\n",
    "    return -1*num_object*num_dim*.5*np.log(2*np.pi) \\\n",
    "            - 1*(num_object - K_plus)*num_dim*np.log(sigma_X) \\\n",
    "            - K_plus*num_dim*np.log(sigma_A) \\\n",
    "            - num_dim*.5*np.log(np.linalg.det((Z.T@Z + (sigma_X**2/sigma_A**2)*np.diag(np.ones(K_plus))))) \\\n",
    "            + (-1/(2*sigma_X**2)) * np.trace(X.T@(np.diag(np.ones(num_object)) - Z@M@Z.T)@X)\n"
   ]
  },
  {
   "cell_type": "code",
   "execution_count": 67,
   "metadata": {},
   "outputs": [],
   "source": [
    "def infer(X, sigma_A = 1, sigma_X = 1, alpha = 1, num_iter = 1000, labels = None, IBP_init = True, log_skip_iter = 100, log_per_iter = 1):\n",
    "    # initialize \n",
    "    num_object, num_dim = X.shape\n",
    "    if labels is None:\n",
    "        if IBP_init == True:\n",
    "            Z, K_plus = IBP(alpha=alpha, num_object = num_object) # initialize with a sample from IBP\n",
    "        else:\n",
    "            Z, K_plus = (np.random.rand(num_object,1)>0.5).astype(np.int32), 1\n",
    "        Z_frozen = np.zeros_like(Z,dtype = np.int32)\n",
    "        \n",
    "    else:\n",
    "        Z = labels # must make sure labels have the right dimension\n",
    "        K_plus = Z.shape[1]\n",
    "        Z_frozen = np.ones_like(Z,dtype = np.int32)\n",
    "    # pre calculate Harmonic number for N\n",
    "    HN = np.sum(1/np.arange(1,num_object+1))\n",
    "\n",
    "    # allocate storage\n",
    "    history = {}\n",
    "    history['Z'] = []\n",
    "    history['K_plus'] = []\n",
    "    history['sigma_X'] = []\n",
    "    history['sigma_A'] = []\n",
    "    history['alpha'] = []\n",
    "\n",
    "    for iter in trange(num_iter):\n",
    "        for i in range(num_object):\n",
    "            M = np.linalg.inv(Z.T@Z+np.diag(np.ones(K_plus))) # according to equation 24 line 1 in page 1204\n",
    "            for k in range(K_plus):\n",
    "                if k>=K_plus:\n",
    "                    break\n",
    "                if Z_frozen[i,k] == 1:\n",
    "                    continue\n",
    "                if Z[i,k] > 0:\n",
    "                    # if a feature is only possessed by one object, delete the feature column\n",
    "                    if Z[:,k].sum() - Z[i,k] <= 0:\n",
    "                        Z[i,k] = 0\n",
    "                        Z[:,k:K_plus-1] =  Z[:,k+1:]\n",
    "                        K_plus = K_plus-1\n",
    "                        Z = Z[:,:K_plus]\n",
    "                        M = np.linalg.inv(Z.T@Z+np.diag(np.ones(K_plus))) # according to equation 24 line 1 in page 1204\n",
    "                        continue\n",
    "\n",
    "                # Compute conditional distributions for the current cell in Z.\n",
    "                p = np.zeros(2)\n",
    "                M_i = cal_M_i(Z, M, i, K_plus) # M_i is the same for both\n",
    "                \n",
    "                Z[i,k] = 1\n",
    "                M1 = cal_M(Z, M_i, i, K_plus)\n",
    "                p[0] = log_likelihood(X, Z, M1, sigma_A, sigma_X, K_plus, num_object, num_dim) \\\n",
    "                        + np.log(Z[:,k].sum() - 1) - np.log(num_object)  # according to equation 22 in page 1203 and equation 18 in page 1201\n",
    "                Z[i,k] = 0\n",
    "                M2 = cal_M(Z, M_i, i, K_plus)\n",
    "                p[1] = log_likelihood(X, Z, M2, sigma_A, sigma_X, K_plus, num_object, num_dim) \\\n",
    "                        + np.log(num_object - Z[:,k].sum()) - np.log(num_object)  # according to equation 22 in page 1203 and equation 18 in page 1201\n",
    "                # sometimes give warnings here\n",
    "\n",
    "                p = np.exp(p-p.max())\n",
    "                if np.random.rand() < p[0]/p.sum():\n",
    "                    Z[i,k] = 1\n",
    "                    M = M1\n",
    "                else:\n",
    "                    Z[i,k] = 0\n",
    "                    M = M2\n",
    "            # Sample the number of new dishes for the current object\n",
    "            K_new = K_plus # at most there won't be doubled dishes\n",
    "            if K_new < 2:\n",
    "                K_new += 2\n",
    "            trun_prob = np.zeros(K_new) \n",
    "            alpha_N = alpha / num_object\n",
    "            Z = np.concatenate((Z, np.zeros(shape=(num_object,K_new),dtype = np.int32)), axis=1)\n",
    "            Z[i,K_plus:K_plus+K_new] = 1\n",
    "            for k_i in range(K_new):\n",
    "                M = np.linalg.inv(Z[:,:K_plus+k_i].T@Z[:,:K_plus+k_i] + (sigma_X**2/sigma_A**2)*np.diag(np.ones(K_plus+k_i)))\n",
    "                trun_prob[k_i] = k_i*np.log(alpha_N) - alpha_N - np.log(scipy.special.factorial(k_i)) + \\\n",
    "                                log_likelihood(X, Z[:,:K_plus+k_i], M, sigma_A, sigma_X, K_plus+k_i, num_object, num_dim)\n",
    "            trun_prob = np.exp(trun_prob-trun_prob.max())\n",
    "            trun_prob = trun_prob/trun_prob.sum()\n",
    "            trun_prob = np.cumsum(trun_prob)\n",
    "\n",
    "            K_new = (trun_prob<np.random.rand()).sum()\n",
    "            Z = Z[:,:K_plus+K_new]\n",
    "            Z[i,K_plus:K_plus+K_new]=1\n",
    "            Z_frozen = np.concatenate((Z_frozen, np.zeros(shape=(num_object,K_new),dtype = np.int32)), axis=1)\n",
    "            K_plus = K_plus + K_new\n",
    "\n",
    "        # Metropolis steps for sampling sigma_X and sigma_A\n",
    "        M = np.linalg.inv(Z.T@Z + (sigma_X**2/sigma_A**2)*np.diag(np.ones(K_plus)))\n",
    "        l_curr = log_likelihood(X, Z, M, sigma_A, sigma_X, K_plus, num_object, num_dim)\n",
    "\n",
    "        if np.random.rand() < .5:\n",
    "            pr_sigma_X = sigma_X - np.random.rand()/20\n",
    "        else:\n",
    "            pr_sigma_X = sigma_X + np.random.rand()/20\n",
    "        M = np.linalg.inv(Z.T@Z + (pr_sigma_X**2/sigma_A**2)*np.diag(np.ones(K_plus)))\n",
    "        l_new_X = log_likelihood(X, Z, M, sigma_A, pr_sigma_X, K_plus, num_object, num_dim)\n",
    "        acc_X = np.exp(min(0, l_new_X - l_curr))\n",
    "\n",
    "        if np.random.rand() < .5:\n",
    "            pr_sigma_A = sigma_A - np.random.rand()/20\n",
    "        else:\n",
    "            pr_sigma_A = sigma_A + np.random.rand()/20\n",
    "        M = np.linalg.inv(Z.T@Z + (sigma_X**2/pr_sigma_A**2)*np.diag(np.ones(K_plus)))\n",
    "        l_new_A = log_likelihood(X, Z, M, pr_sigma_A, sigma_X, K_plus, num_object, num_dim)\n",
    "        acc_A = np.exp(min(0, l_new_A - l_curr))    \n",
    "\n",
    "        if np.random.rand() < acc_X:\n",
    "            sigma_X = pr_sigma_X\n",
    "\n",
    "        if np.random.rand() < acc_A:\n",
    "            sigma_A = pr_sigma_A\n",
    "\n",
    "\n",
    "        # sample alpha\n",
    "        alpha = np.random.gamma(1+K_plus, 1/(1+HN))\n",
    "\n",
    "        # save \n",
    "        if iter%log_per_iter == 0:\n",
    "            print('iteration {}/{}: number of feature: {}'.format(iter, num_iter, K_plus))\n",
    "            if iter > log_skip_iter:\n",
    "                history['Z'].append(Z)\n",
    "                history['K_plus'].append(K_plus)\n",
    "                history['sigma_X'].append(sigma_X)\n",
    "                history['sigma_A'].append(sigma_A)\n",
    "                history['alpha'].append(alpha)\n",
    "    return history"
   ]
  },
  {
   "cell_type": "markdown",
   "metadata": {},
   "source": [
    "# experiments\n",
    "## basic"
   ]
  },
  {
   "cell_type": "code",
   "execution_count": 149,
   "metadata": {
    "scrolled": false
   },
   "outputs": [
    {
     "data": {
      "text/plain": [
       "(50, 50)"
      ]
     },
     "execution_count": 149,
     "metadata": {},
     "output_type": "execute_result"
    }
   ],
   "source": [
    "X = embed[idx,:]\n",
    "X.shape"
   ]
  },
  {
   "cell_type": "code",
   "execution_count": 54,
   "metadata": {},
   "outputs": [
    {
     "data": {
      "application/vnd.jupyter.widget-view+json": {
       "model_id": "a16f7581222f4238abeb1f8bf23ee734",
       "version_major": 2,
       "version_minor": 0
      },
      "text/plain": [
       "HBox(children=(HTML(value=''), FloatProgress(value=0.0, max=2000.0), HTML(value='')))"
      ]
     },
     "metadata": {},
     "output_type": "display_data"
    },
    {
     "name": "stdout",
     "output_type": "stream",
     "text": [
      "iteration 0/2000: number of feature: 1\n",
      "iteration 50/2000: number of feature: 4\n",
      "iteration 100/2000: number of feature: 15\n",
      "iteration 150/2000: number of feature: 21\n",
      "iteration 200/2000: number of feature: 24\n",
      "iteration 250/2000: number of feature: 25\n",
      "iteration 300/2000: number of feature: 24\n",
      "iteration 350/2000: number of feature: 23\n",
      "iteration 400/2000: number of feature: 28\n",
      "iteration 450/2000: number of feature: 28\n",
      "iteration 500/2000: number of feature: 31\n",
      "iteration 550/2000: number of feature: 26\n",
      "iteration 600/2000: number of feature: 24\n",
      "iteration 650/2000: number of feature: 30\n",
      "iteration 700/2000: number of feature: 26\n",
      "iteration 750/2000: number of feature: 30\n",
      "iteration 800/2000: number of feature: 28\n",
      "iteration 850/2000: number of feature: 27\n",
      "iteration 900/2000: number of feature: 29\n",
      "iteration 950/2000: number of feature: 31\n",
      "iteration 1000/2000: number of feature: 28\n",
      "iteration 1050/2000: number of feature: 27\n",
      "iteration 1100/2000: number of feature: 31\n",
      "iteration 1150/2000: number of feature: 31\n",
      "iteration 1200/2000: number of feature: 29\n",
      "iteration 1250/2000: number of feature: 26\n",
      "iteration 1300/2000: number of feature: 28\n",
      "iteration 1350/2000: number of feature: 30\n",
      "iteration 1400/2000: number of feature: 31\n",
      "iteration 1450/2000: number of feature: 27\n",
      "iteration 1500/2000: number of feature: 27\n",
      "iteration 1550/2000: number of feature: 30\n",
      "iteration 1600/2000: number of feature: 27\n",
      "iteration 1650/2000: number of feature: 24\n",
      "iteration 1700/2000: number of feature: 28\n",
      "iteration 1750/2000: number of feature: 27\n",
      "iteration 1800/2000: number of feature: 31\n",
      "iteration 1850/2000: number of feature: 29\n",
      "iteration 1900/2000: number of feature: 33\n",
      "iteration 1950/2000: number of feature: 30\n",
      "\n"
     ]
    }
   ],
   "source": [
    "history = infer(X, num_iter = 2000, IBP_init = False, log_per_iter = 50)"
   ]
  },
  {
   "cell_type": "code",
   "execution_count": 55,
   "metadata": {},
   "outputs": [],
   "source": [
    "Z = history['Z'][-1]\n",
    "sigma_X = history['sigma_X'][-1]\n",
    "sigma_A = history['sigma_A'][-1]\n",
    "K_plus = history['K_plus'][-1]\n",
    "M = np.linalg.inv(Z.T@Z + (sigma_X**2/sigma_A**2)*np.diag(np.ones(K_plus)))\n",
    "A_prox = M@Z.T@X\n",
    "X_prox = Z@A_prox"
   ]
  },
  {
   "cell_type": "code",
   "execution_count": 56,
   "metadata": {},
   "outputs": [
    {
     "data": {
      "image/png": "[encoded data removed]",
      "text/plain": [
       "<Figure size 720x1080 with 1 Axes>"
      ]
     },
     "metadata": {
      "needs_background": "light"
     },
     "output_type": "display_data"
    }
   ],
   "source": [
    "plt.figure(figsize=(10,15))\n",
    "plt.yticks(np.arange(len(word_list)), word_list, fontsize = 16)\n",
    "plt.xlabel('feature dimension', fontsize = 16)\n",
    "plt.gca().xaxis.set_label_position('top')\n",
    "plt.imshow(Z, cmap='gray')\n",
    "plt.show()"
   ]
  },
  {
   "cell_type": "code",
   "execution_count": 57,
   "metadata": {},
   "outputs": [
    {
     "data": {
      "image/png": "[encoded data removed]",
      "text/plain": [
       "<Figure size 720x1080 with 5 Axes>"
      ]
     },
     "metadata": {
      "needs_background": "light"
     },
     "output_type": "display_data"
    }
   ],
   "source": [
    "plt.figure(figsize=(10,15))\n",
    "for i in range(5):\n",
    "    plt.subplot(5,1,1+i)\n",
    "    plt.imshow(Z[all_idx[i],:], cmap='gray')\n",
    "    plt.yticks(np.arange(len(all_idx[i])), np.array(word_list)[all_idx[i]], fontsize = 16)\n",
    "    if i == 0:\n",
    "        plt.xlabel('feature dimension', fontsize = 16)\n",
    "    plt.gca().xaxis.set_label_position('top')\n",
    "    plt.title(categories[i], x=-0.3, y=0.5, fontsize = 20)\n",
    "plt.tight_layout()\n",
    "plt.show()"
   ]
  },
  {
   "cell_type": "code",
   "execution_count": 136,
   "metadata": {},
   "outputs": [
    {
     "data": {
      "image/png": "[encoded data removed]",
      "text/plain": [
       "<Figure size 576x360 with 10 Axes>"
      ]
     },
     "metadata": {
      "needs_background": "light"
     },
     "output_type": "display_data"
    }
   ],
   "source": [
    "fig, axes = plt.subplots(3,3,figsize=(8,5))\n",
    "fig.suptitle(\"visualize real word embeddings\", fontsize=18)\n",
    "for i,ax in enumerate(axes.flat[:9]):\n",
    "    im = ax.imshow(X[i,:].reshape(5,10), cmap='gray', vmin = X.min(), vmax = X.max())\n",
    "    ax.set_title(word_list[i], fontsize=16)    \n",
    "    ax.axis('off')    \n",
    "axes[-1,-1].axis('off')   \n",
    "cbar_ax = fig.add_axes([0.95, 0.15, 0.05, 0.7])\n",
    "fig.colorbar(im, cax=cbar_ax)\n",
    "plt.show()"
   ]
  },
  {
   "cell_type": "code",
   "execution_count": 137,
   "metadata": {},
   "outputs": [
    {
     "data": {
      "image/png": "[encoded data removed]",
      "text/plain": [
       "<Figure size 576x360 with 10 Axes>"
      ]
     },
     "metadata": {
      "needs_background": "light"
     },
     "output_type": "display_data"
    }
   ],
   "source": [
    "fig, axes = plt.subplots(3,3,figsize=(8,5))\n",
    "fig.suptitle(\"visualize reconstructed word embeddings\", fontsize=18)\n",
    "for i,ax in enumerate(axes.flat[:9]):\n",
    "    im = ax.imshow(X_prox[i,:].reshape(5,10), cmap='gray', vmin = X_prox.min(), vmax = X_prox.max())\n",
    "    ax.set_title(word_list[i], fontsize=16)    \n",
    "    ax.axis('off')    \n",
    "axes[-1,-1].axis('off')   \n",
    "cbar_ax = fig.add_axes([0.95, 0.15, 0.05, 0.7])\n",
    "fig.colorbar(im, cax=cbar_ax)\n",
    "plt.show()"
   ]
  },
  {
   "cell_type": "code",
   "execution_count": 138,
   "metadata": {},
   "outputs": [
    {
     "data": {
      "image/png": "[encoded data removed]",
      "text/plain": [
       "<Figure size 576x360 with 10 Axes>"
      ]
     },
     "metadata": {
      "needs_background": "light"
     },
     "output_type": "display_data"
    }
   ],
   "source": [
    "# show all learned features\n",
    "fig, axes = plt.subplots(3,3,figsize=(8,5))\n",
    "fig.suptitle(\"visualize observed features\", fontsize=18)\n",
    "for i,ax in enumerate(axes.flat[:A_prox.shape[0]]):\n",
    "    im = ax.imshow(A_prox[i,:].reshape(5,10), cmap='gray', vmin = A_prox.min(), vmax = A_prox.max())\n",
    "    ax.set_title('observed feature '+str(i))    \n",
    "    ax.axis('off')    \n",
    "axes[-1,-1].axis('off')   \n",
    "cbar_ax = fig.add_axes([0.95, 0.15, 0.05, 0.7])\n",
    "fig.colorbar(im, cax=cbar_ax)\n",
    "plt.show()"
   ]
  },
  {
   "cell_type": "code",
   "execution_count": 149,
   "metadata": {},
   "outputs": [
    {
     "data": {
      "text/plain": [
       "(50,)"
      ]
     },
     "execution_count": 149,
     "metadata": {},
     "output_type": "execute_result"
    }
   ],
   "source": [
    "figc.shape"
   ]
  },
  {
   "cell_type": "code",
   "execution_count": 156,
   "metadata": {},
   "outputs": [
    {
     "data": {
      "image/png": "[encoded data removed]",
      "text/plain": [
       "<Figure size 576x432 with 3 Axes>"
      ]
     },
     "metadata": {
      "needs_background": "light"
     },
     "output_type": "display_data"
    }
   ],
   "source": [
    "figa = history['K_plus'] #[100:]\n",
    "figb = Z.sum(axis = 0)\n",
    "figb.sort()\n",
    "figc = Z.sum(axis = 1)\n",
    "# figd = Z_groundtruth.sum(axis = 0)\n",
    "# figd.sort()\n",
    "# fige = Z_groundtruth.sum(axis = 1)\n",
    "\n",
    "\n",
    "fig, axs = plt.subplots(ncols=2, nrows=2, figsize = (8,6))\n",
    "for ax in axs[0, 0:]:\n",
    "    ax.remove()\n",
    "gs = axs[0, 0].get_gridspec()\n",
    "axbig = fig.add_subplot(gs[0, 0:])\n",
    "axbig.hist(figa, bins = max(figa)+1, range=(0.5,max(figa)+1.5),rwidth = 0.8, density=True)\n",
    "# axbig.set_xticks(np.arange(max(figa)+2))\n",
    "axbig.set_xlabel('$K^+$')\n",
    "axbig.set_ylabel('Probability')\n",
    "axbig.set_title('figure (a)\\nhistogram of $K^+$')\n",
    "\n",
    "\n",
    "axs[1,0].bar(np.arange(figb.shape[0]), figb[::-1])\n",
    "# axs[1,0].set_xticks(np.arange(8))\n",
    "axs[1,0].set_xlabel('Feature(ordered by frequency)')\n",
    "axs[1,0].set_ylabel('Frequency')\n",
    "axs[1,0].set_title('figure (b)\\nfeature frequency')\n",
    "\n",
    "axs[1,1].hist(figc, bins = int(figc.max()), range=(0.5,figc.max()+0.5) , rwidth = 0.8, density=True)\n",
    "# axs[1,1].set_xticks(np.arange(8))\n",
    "axs[1,1].set_xlabel('Number of features')\n",
    "axs[1,1].set_ylabel('Probability')\n",
    "axs[1,1].set_title('figure (c)\\nnumber of features owned histogram')\n",
    "\n",
    "# axs[2,0].bar(np.arange(4), figd[::-1])\n",
    "# axs[2,0].set_xticks(np.arange(8))\n",
    "# axs[2,0].set_xlabel('Feature(ordered by frequency)')\n",
    "# axs[2,0].set_ylabel('Frequency')\n",
    "# axs[2,0].set_ylim((0,figb.max()))\n",
    "# axs[2,0].set_title('figure (d)')\n",
    "\n",
    "# axs[2,1].hist(fige, bins = 4, range=(0.5,4.5) , rwidth = 0.8, density=True)\n",
    "# axs[2,1].set_xticks(np.arange(8))\n",
    "# axs[2,1].set_xlabel('Number of features')\n",
    "# axs[2,1].set_ylabel('Probability')\n",
    "# axs[2,1].set_title('figure (e)')\n",
    "\n",
    "fig.tight_layout()\n",
    "plt.show()"
   ]
  },
  {
   "cell_type": "code",
   "execution_count": null,
   "metadata": {},
   "outputs": [],
   "source": []
  },
  {
   "cell_type": "markdown",
   "metadata": {},
   "source": [
    "## spherized embeddings (not working)\n",
    "\n",
    "https://projector.tensorflow.org/"
   ]
  },
  {
   "cell_type": "code",
   "execution_count": 35,
   "metadata": {},
   "outputs": [],
   "source": [
    "centroid = embed.sum(axis = 0)\n",
    "norms = np.linalg.norm(embed - centroid, axis = 1)\n",
    "normed_embed = (embed - centroid)/norms[:,None]"
   ]
  },
  {
   "cell_type": "code",
   "execution_count": 38,
   "metadata": {
    "scrolled": true
   },
   "outputs": [
    {
     "data": {
      "text/plain": [
       "(50, 50)"
      ]
     },
     "execution_count": 38,
     "metadata": {},
     "output_type": "execute_result"
    }
   ],
   "source": [
    "X = normed_embed[idx,:]\n",
    "X.shape"
   ]
  },
  {
   "cell_type": "code",
   "execution_count": 51,
   "metadata": {},
   "outputs": [
    {
     "data": {
      "application/vnd.jupyter.widget-view+json": {
       "model_id": "4b872349978946ff895ac77c1fc5b8c0",
       "version_major": 2,
       "version_minor": 0
      },
      "text/plain": [
       "HBox(children=(HTML(value=''), FloatProgress(value=0.0, max=2000.0), HTML(value='')))"
      ]
     },
     "metadata": {},
     "output_type": "display_data"
    },
    {
     "name": "stdout",
     "output_type": "stream",
     "text": [
      "iteration 0/2000: number of feature: 3\n"
     ]
    },
    {
     "name": "stderr",
     "output_type": "stream",
     "text": [
      "<ipython-input-43-0650fbbe8cbf>:4: RuntimeWarning: invalid value encountered in log\n",
      "  - 1*(num_object - K_plus)*num_dim*np.log(sigma_X) \\\n"
     ]
    },
    {
     "name": "stdout",
     "output_type": "stream",
     "text": [
      "iteration 20/2000: number of feature: 0\n",
      "iteration 40/2000: number of feature: 0\n",
      "iteration 60/2000: number of feature: 0\n",
      "iteration 80/2000: number of feature: 0\n",
      "iteration 100/2000: number of feature: 1\n",
      "iteration 120/2000: number of feature: 0\n",
      "iteration 140/2000: number of feature: 0\n",
      "iteration 160/2000: number of feature: 0\n",
      "iteration 180/2000: number of feature: 0\n",
      "iteration 200/2000: number of feature: 0\n",
      "iteration 220/2000: number of feature: 0\n",
      "iteration 240/2000: number of feature: 0\n",
      "iteration 260/2000: number of feature: 0\n",
      "iteration 280/2000: number of feature: 0\n",
      "iteration 300/2000: number of feature: 0\n",
      "iteration 320/2000: number of feature: 0\n",
      "iteration 340/2000: number of feature: 0\n",
      "iteration 360/2000: number of feature: 0\n",
      "iteration 380/2000: number of feature: 0\n",
      "iteration 400/2000: number of feature: 0\n",
      "iteration 420/2000: number of feature: 0\n",
      "iteration 440/2000: number of feature: 0\n",
      "iteration 460/2000: number of feature: 0\n",
      "iteration 480/2000: number of feature: 0\n",
      "iteration 500/2000: number of feature: 0\n",
      "iteration 520/2000: number of feature: 0\n",
      "iteration 540/2000: number of feature: 0\n",
      "iteration 560/2000: number of feature: 0\n",
      "iteration 580/2000: number of feature: 0\n",
      "iteration 600/2000: number of feature: 0\n",
      "iteration 620/2000: number of feature: 0\n",
      "iteration 640/2000: number of feature: 0\n",
      "iteration 660/2000: number of feature: 0\n",
      "iteration 680/2000: number of feature: 0\n",
      "iteration 700/2000: number of feature: 1\n",
      "iteration 720/2000: number of feature: 0\n",
      "iteration 740/2000: number of feature: 0\n",
      "iteration 760/2000: number of feature: 0\n",
      "iteration 780/2000: number of feature: 0\n",
      "iteration 800/2000: number of feature: 1\n",
      "iteration 820/2000: number of feature: 0\n",
      "iteration 840/2000: number of feature: 0\n",
      "iteration 860/2000: number of feature: 0\n",
      "iteration 880/2000: number of feature: 0\n",
      "iteration 900/2000: number of feature: 0\n",
      "iteration 920/2000: number of feature: 0\n",
      "iteration 940/2000: number of feature: 0\n",
      "iteration 960/2000: number of feature: 0\n",
      "iteration 980/2000: number of feature: 0\n",
      "iteration 1000/2000: number of feature: 0\n",
      "iteration 1020/2000: number of feature: 0\n",
      "iteration 1040/2000: number of feature: 1\n",
      "iteration 1060/2000: number of feature: 0\n",
      "iteration 1080/2000: number of feature: 0\n",
      "iteration 1100/2000: number of feature: 0\n",
      "iteration 1120/2000: number of feature: 0\n",
      "iteration 1140/2000: number of feature: 0\n",
      "iteration 1160/2000: number of feature: 0\n",
      "iteration 1180/2000: number of feature: 0\n",
      "iteration 1200/2000: number of feature: 0\n",
      "iteration 1220/2000: number of feature: 0\n",
      "iteration 1240/2000: number of feature: 0\n",
      "iteration 1260/2000: number of feature: 0\n",
      "iteration 1280/2000: number of feature: 0\n",
      "iteration 1300/2000: number of feature: 0\n",
      "iteration 1320/2000: number of feature: 0\n",
      "iteration 1340/2000: number of feature: 0\n",
      "iteration 1360/2000: number of feature: 0\n",
      "iteration 1380/2000: number of feature: 0\n",
      "iteration 1400/2000: number of feature: 0\n",
      "iteration 1420/2000: number of feature: 0\n",
      "iteration 1440/2000: number of feature: 0\n",
      "iteration 1460/2000: number of feature: 1\n",
      "iteration 1480/2000: number of feature: 1\n",
      "iteration 1500/2000: number of feature: 1\n",
      "iteration 1520/2000: number of feature: 1\n",
      "iteration 1540/2000: number of feature: 0\n",
      "iteration 1560/2000: number of feature: 1\n",
      "iteration 1580/2000: number of feature: 0\n",
      "iteration 1600/2000: number of feature: 0\n",
      "iteration 1620/2000: number of feature: 0\n",
      "iteration 1640/2000: number of feature: 0\n",
      "iteration 1660/2000: number of feature: 0\n",
      "iteration 1680/2000: number of feature: 0\n",
      "iteration 1700/2000: number of feature: 0\n",
      "iteration 1720/2000: number of feature: 0\n",
      "iteration 1740/2000: number of feature: 0\n",
      "iteration 1760/2000: number of feature: 0\n",
      "iteration 1780/2000: number of feature: 0\n",
      "iteration 1800/2000: number of feature: 0\n",
      "iteration 1820/2000: number of feature: 0\n",
      "iteration 1840/2000: number of feature: 0\n",
      "iteration 1860/2000: number of feature: 1\n",
      "iteration 1880/2000: number of feature: 1\n",
      "iteration 1900/2000: number of feature: 0\n",
      "iteration 1920/2000: number of feature: 0\n",
      "iteration 1940/2000: number of feature: 0\n",
      "iteration 1960/2000: number of feature: 0\n",
      "iteration 1980/2000: number of feature: 0\n",
      "\n"
     ]
    }
   ],
   "source": [
    "history = infer(X, sigma_X = 0.1, num_iter = 2000, IBP_init = True, log_per_iter = 20)"
   ]
  },
  {
   "cell_type": "markdown",
   "metadata": {},
   "source": [
    "## semi-supervised"
   ]
  },
  {
   "cell_type": "code",
   "execution_count": 150,
   "metadata": {},
   "outputs": [],
   "source": [
    "labels = np.zeros((X.shape[0], 5))\n",
    "for i in range(5):\n",
    "    for idx in all_idx[i]:\n",
    "        labels[idx,i] = 1"
   ]
  },
  {
   "cell_type": "code",
   "execution_count": 68,
   "metadata": {},
   "outputs": [
    {
     "data": {
      "application/vnd.jupyter.widget-view+json": {
       "model_id": "8a26cf812ae043d89d248d92726aa48a",
       "version_major": 2,
       "version_minor": 0
      },
      "text/plain": [
       "HBox(children=(HTML(value=''), FloatProgress(value=0.0, max=1000.0), HTML(value='')))"
      ]
     },
     "metadata": {},
     "output_type": "display_data"
    },
    {
     "name": "stdout",
     "output_type": "stream",
     "text": [
      "iteration 0/1000: number of feature: 5\n",
      "iteration 20/1000: number of feature: 5\n",
      "iteration 40/1000: number of feature: 6\n",
      "iteration 60/1000: number of feature: 14\n",
      "iteration 80/1000: number of feature: 16\n",
      "iteration 100/1000: number of feature: 19\n",
      "iteration 120/1000: number of feature: 21\n",
      "iteration 140/1000: number of feature: 22\n",
      "iteration 160/1000: number of feature: 23\n",
      "iteration 180/1000: number of feature: 26\n",
      "iteration 200/1000: number of feature: 28\n",
      "iteration 220/1000: number of feature: 27\n",
      "iteration 240/1000: number of feature: 27\n",
      "iteration 260/1000: number of feature: 27\n",
      "iteration 280/1000: number of feature: 36\n",
      "iteration 300/1000: number of feature: 29\n",
      "iteration 320/1000: number of feature: 32\n",
      "iteration 340/1000: number of feature: 34\n",
      "iteration 360/1000: number of feature: 28\n",
      "iteration 380/1000: number of feature: 29\n",
      "iteration 400/1000: number of feature: 27\n",
      "iteration 420/1000: number of feature: 27\n",
      "iteration 440/1000: number of feature: 28\n",
      "iteration 460/1000: number of feature: 30\n",
      "iteration 480/1000: number of feature: 29\n",
      "iteration 500/1000: number of feature: 28\n",
      "iteration 520/1000: number of feature: 30\n",
      "iteration 540/1000: number of feature: 29\n",
      "iteration 560/1000: number of feature: 31\n",
      "iteration 580/1000: number of feature: 30\n",
      "iteration 600/1000: number of feature: 26\n",
      "iteration 620/1000: number of feature: 32\n",
      "iteration 640/1000: number of feature: 32\n",
      "iteration 660/1000: number of feature: 33\n",
      "iteration 680/1000: number of feature: 32\n",
      "iteration 700/1000: number of feature: 27\n",
      "iteration 720/1000: number of feature: 27\n",
      "iteration 740/1000: number of feature: 29\n",
      "iteration 760/1000: number of feature: 30\n",
      "iteration 780/1000: number of feature: 29\n",
      "iteration 800/1000: number of feature: 26\n",
      "iteration 820/1000: number of feature: 27\n",
      "iteration 840/1000: number of feature: 27\n",
      "iteration 860/1000: number of feature: 28\n",
      "iteration 880/1000: number of feature: 31\n",
      "iteration 900/1000: number of feature: 35\n",
      "iteration 920/1000: number of feature: 35\n",
      "iteration 940/1000: number of feature: 29\n",
      "iteration 960/1000: number of feature: 33\n",
      "iteration 980/1000: number of feature: 33\n",
      "\n"
     ]
    }
   ],
   "source": [
    "history2 = infer(X, sigma_A = 1, sigma_X = 1, alpha = 1, num_iter = 1000, labels = labels, IBP_init = True, log_skip_iter = 100, log_per_iter = 20) \n"
   ]
  },
  {
   "cell_type": "code",
   "execution_count": 349,
   "metadata": {},
   "outputs": [],
   "source": [
    "Z = history2['Z'][-1]\n",
    "sigma_X = history2['sigma_X'][-1]\n",
    "sigma_A = history2['sigma_A'][-1]\n",
    "K_plus = history2['K_plus'][-1]\n",
    "M = np.linalg.inv(Z.T@Z + (sigma_X**2/sigma_A**2)*np.diag(np.ones(K_plus)))\n",
    "A_prox = M@Z.T@X\n",
    "X_prox = Z@A_prox"
   ]
  },
  {
   "cell_type": "code",
   "execution_count": 350,
   "metadata": {},
   "outputs": [
    {
     "data": {
      "image/png": "[encoded data removed]",
      "text/plain": [
       "<Figure size 720x1080 with 1 Axes>"
      ]
     },
     "metadata": {
      "needs_background": "light"
     },
     "output_type": "display_data"
    }
   ],
   "source": [
    "plt.figure(figsize=(10,15))\n",
    "plt.yticks(np.arange(len(word_list)), word_list, fontsize = 16)\n",
    "plt.xlabel('feature dimension', fontsize = 16)\n",
    "plt.gca().xaxis.set_label_position('top')\n",
    "plt.fill_between([-0.5,4.5],y1 = 49.5, y2=-0.5, color=\"none\",hatch=\"X\",edgecolor=\"b\")\n",
    "plt.imshow(Z, cmap='gray')\n",
    "plt.xlim(-0.5,)\n",
    "plt.ylim(49.5,-0.5)\n",
    "plt.show()"
   ]
  },
  {
   "cell_type": "code",
   "execution_count": 351,
   "metadata": {},
   "outputs": [
    {
     "data": {
      "image/png": "[encoded data removed]",
      "text/plain": [
       "<Figure size 720x1080 with 5 Axes>"
      ]
     },
     "metadata": {
      "needs_background": "light"
     },
     "output_type": "display_data"
    }
   ],
   "source": [
    "plt.figure(figsize=(10,15))\n",
    "for i in range(5):\n",
    "    plt.subplot(5,1,1+i)\n",
    "    plt.imshow(Z[all_idx[i],:], cmap='gray')\n",
    "    plt.yticks(np.arange(len(all_idx[i])), np.array(word_list)[all_idx[i]], fontsize = 16)\n",
    "    plt.fill_between([-0.5,4.5],y1 = 9.5, y2=-0.5, color=\"none\",hatch=\"X\",edgecolor=\"b\")\n",
    "    if i == 0:\n",
    "        plt.xlabel('feature dimension', fontsize = 16)\n",
    "    plt.gca().xaxis.set_label_position('top')\n",
    "    plt.title(categories[i], x=-0.3, y=0.5, fontsize = 20)\n",
    "    plt.xlim(-0.5,)\n",
    "    plt.ylim(9.5,-0.5)\n",
    "\n",
    "plt.tight_layout()\n",
    "plt.show()"
   ]
  },
  {
   "cell_type": "code",
   "execution_count": 352,
   "metadata": {},
   "outputs": [
    {
     "data": {
      "image/png": "[encoded data removed]",
      "text/plain": [
       "<Figure size 576x360 with 10 Axes>"
      ]
     },
     "metadata": {
      "needs_background": "light"
     },
     "output_type": "display_data"
    }
   ],
   "source": [
    "# show all learned features\n",
    "fig, axes = plt.subplots(3,3,figsize=(8,5))\n",
    "fig.suptitle(\"visualize observed features\", fontsize=18)\n",
    "for i,ax in enumerate(axes.flat[:A_prox.shape[0]]):\n",
    "    im = ax.imshow(A_prox[i,:].reshape(5,10), cmap='gray', vmin = A_prox.min(), vmax = A_prox.max())\n",
    "    if i < 5:\n",
    "        ax.set_title('feature '+str(i) + ': '+ categories[i])    \n",
    "    else:\n",
    "        ax.set_title('observed feature '+str(i))    \n",
    "    ax.axis('off')    \n",
    "axes[-1,-1].axis('off')   \n",
    "cbar_ax = fig.add_axes([0.95, 0.15, 0.05, 0.7])\n",
    "fig.colorbar(im, cax=cbar_ax)\n",
    "plt.show()"
   ]
  },
  {
   "cell_type": "code",
   "execution_count": 353,
   "metadata": {},
   "outputs": [
    {
     "data": {
      "image/png": "[encoded data removed]",
      "text/plain": [
       "<Figure size 576x432 with 3 Axes>"
      ]
     },
     "metadata": {
      "needs_background": "light"
     },
     "output_type": "display_data"
    }
   ],
   "source": [
    "figa = history2['K_plus'] #[100:]\n",
    "figb = Z.sum(axis = 0)\n",
    "figb.sort()\n",
    "figc = Z.sum(axis = 1)\n",
    "# figd = Z_groundtruth.sum(axis = 0)\n",
    "# figd.sort()\n",
    "# fige = Z_groundtruth.sum(axis = 1)\n",
    "\n",
    "\n",
    "fig, axs = plt.subplots(ncols=2, nrows=2, figsize = (8,6))\n",
    "for ax in axs[0, 0:]:\n",
    "    ax.remove()\n",
    "gs = axs[0, 0].get_gridspec()\n",
    "axbig = fig.add_subplot(gs[0, 0:])\n",
    "axbig.hist(figa, bins = max(figa)+1, range=(0.5,max(figa)+1.5),rwidth = 0.8, density=True)\n",
    "# axbig.set_xticks(np.arange(max(figa)+2))\n",
    "axbig.set_xlabel('$K^+$')\n",
    "axbig.set_ylabel('Probability')\n",
    "axbig.set_title('figure (a)\\nhistogram of $K^+$')\n",
    "\n",
    "\n",
    "axs[1,0].bar(np.arange(figb.shape[0]), figb[::-1])\n",
    "# axs[1,0].set_xticks(np.arange(8))\n",
    "axs[1,0].set_xlabel('Feature(ordered by frequency)')\n",
    "axs[1,0].set_ylabel('Frequency')\n",
    "axs[1,0].set_title('figure (b)\\nfeature frequency')\n",
    "\n",
    "axs[1,1].hist(figc, bins = int(figc.max()), range=(0.5,figc.max()+0.5) , rwidth = 0.8, density=True)\n",
    "# axs[1,1].set_xticks(np.arange(8))\n",
    "axs[1,1].set_xlabel('Number of features')\n",
    "axs[1,1].set_ylabel('Probability')\n",
    "axs[1,1].set_title('figure (c)\\nnumber of features owned histogram')\n",
    "\n",
    "# axs[2,0].bar(np.arange(4), figd[::-1])\n",
    "# axs[2,0].set_xticks(np.arange(8))\n",
    "# axs[2,0].set_xlabel('Feature(ordered by frequency)')\n",
    "# axs[2,0].set_ylabel('Frequency')\n",
    "# axs[2,0].set_ylim((0,figb.max()))\n",
    "# axs[2,0].set_title('figure (d)')\n",
    "\n",
    "# axs[2,1].hist(fige, bins = 4, range=(0.5,4.5) , rwidth = 0.8, density=True)\n",
    "# axs[2,1].set_xticks(np.arange(8))\n",
    "# axs[2,1].set_xlabel('Number of features')\n",
    "# axs[2,1].set_ylabel('Probability')\n",
    "# axs[2,1].set_title('figure (e)')\n",
    "\n",
    "fig.tight_layout()\n",
    "plt.show()"
   ]
  },
  {
   "cell_type": "code",
   "execution_count": 354,
   "metadata": {},
   "outputs": [],
   "source": [
    "def find_nearest_words(x, vocab, embed, n=10, metric = 'euclidean_distance'):\n",
    "    if metric == 'euclidean_distance':\n",
    "        score = np.linalg.norm(embed-x.reshape(1, -1), axis=1)\n",
    "        top_n_idx = score.reshape(-1).argsort()[:n]\n",
    "    else:\n",
    "        score = sklearn.metrics.pairwise.cosine_similarity(embed, x.reshape(1, -1))\n",
    "        top_n_idx = score.reshape(-1).argsort()[::-1][:n]\n",
    "    words_and_distances = []\n",
    "    for i in top_n_idx:\n",
    "        words_and_distances.append((vocab[i], score[i]))\n",
    "    return words_and_distances"
   ]
  },
  {
   "cell_type": "code",
   "execution_count": 206,
   "metadata": {},
   "outputs": [
    {
     "data": {
      "text/plain": [
       "[('brought', 2.779299678469836),\n",
       " ('.', 2.8315192557236135),\n",
       " ('put', 2.8473206638889845),\n",
       " ('except', 2.8484799721233847),\n",
       " ('instance', 2.8552574061628047),\n",
       " ('exception', 2.8813931527898444),\n",
       " ('puts', 2.881457074172142),\n",
       " ('while', 2.883591854216092),\n",
       " ('bringing', 2.885944564173896),\n",
       " ('came', 2.8982502321415886)]"
      ]
     },
     "execution_count": 206,
     "metadata": {},
     "output_type": "execute_result"
    }
   ],
   "source": [
    "# synthetic_word = A_prox[0,:] + A_prox[6,:] + A_prox[8,:]\n",
    "synthetic_word = A_prox[11,:] + A_prox[19,:] + A_prox[8,:]\n",
    "\n",
    "find_nearest_words(synthetic_word, vocab, embed, metric = 'euclidean_distance')"
   ]
  },
  {
   "cell_type": "code",
   "execution_count": 379,
   "metadata": {},
   "outputs": [
    {
     "data": {
      "text/html": [
       "<div>\n",
       "<style scoped>\n",
       "    .dataframe tbody tr th:only-of-type {\n",
       "        vertical-align: middle;\n",
       "    }\n",
       "\n",
       "    .dataframe tbody tr th {\n",
       "        vertical-align: top;\n",
       "    }\n",
       "\n",
       "    .dataframe thead th {\n",
       "        text-align: right;\n",
       "    }\n",
       "</style>\n",
       "<table border=\"1\" class=\"dataframe\">\n",
       "  <thead>\n",
       "    <tr style=\"text-align: right;\">\n",
       "      <th></th>\n",
       "      <th>similar words</th>\n",
       "    </tr>\n",
       "  </thead>\n",
       "  <tbody>\n",
       "    <tr>\n",
       "      <th>0</th>\n",
       "      <td>(france, 0.75064)</td>\n",
       "    </tr>\n",
       "    <tr>\n",
       "      <th>1</th>\n",
       "      <td>(advance, 0.74381)</td>\n",
       "    </tr>\n",
       "    <tr>\n",
       "      <th>2</th>\n",
       "      <td>(spain, 0.73485)</td>\n",
       "    </tr>\n",
       "    <tr>\n",
       "      <th>3</th>\n",
       "      <td>(against, 0.72825)</td>\n",
       "    </tr>\n",
       "    <tr>\n",
       "      <th>4</th>\n",
       "      <td>(ahead, 0.72601)</td>\n",
       "    </tr>\n",
       "    <tr>\n",
       "      <th>5</th>\n",
       "      <td>(us, 0.72429)</td>\n",
       "    </tr>\n",
       "    <tr>\n",
       "      <th>6</th>\n",
       "      <td>(losing, 0.72332)</td>\n",
       "    </tr>\n",
       "    <tr>\n",
       "      <th>7</th>\n",
       "      <td>(bid, 0.72098)</td>\n",
       "    </tr>\n",
       "    <tr>\n",
       "      <th>8</th>\n",
       "      <td>(russia, 0.72054)</td>\n",
       "    </tr>\n",
       "    <tr>\n",
       "      <th>9</th>\n",
       "      <td>(failed, 0.72002)</td>\n",
       "    </tr>\n",
       "  </tbody>\n",
       "</table>\n",
       "</div>"
      ],
      "text/plain": [
       "        similar words\n",
       "0   (france, 0.75064)\n",
       "1  (advance, 0.74381)\n",
       "2    (spain, 0.73485)\n",
       "3  (against, 0.72825)\n",
       "4    (ahead, 0.72601)\n",
       "5       (us, 0.72429)\n",
       "6   (losing, 0.72332)\n",
       "7      (bid, 0.72098)\n",
       "8   (russia, 0.72054)\n",
       "9   (failed, 0.72002)"
      ]
     },
     "metadata": {},
     "output_type": "display_data"
    }
   ],
   "source": [
    "synthetic_word = A_prox[11,:] + A_prox[19,:] + A_prox[28,:]\n",
    "\n",
    "df = pd.DataFrame()\n",
    "nearest_words = find_nearest_words(synthetic_word, vocab, embed, metric = 'cosine_similarity')\n",
    "column = []\n",
    "for j,item in enumerate(nearest_words):\n",
    "    column.append((item[0], str(item[1][0])[:7]))\n",
    "df['similar words'] = column\n",
    "display(df)\n"
   ]
  },
  {
   "cell_type": "code",
   "execution_count": 172,
   "metadata": {},
   "outputs": [
    {
     "data": {
      "text/plain": [
       "[('white', 0.0),\n",
       " ('black', 2.294861179495614),\n",
       " ('green', 2.5972569989059613),\n",
       " ('gray', 2.7076582627295784),\n",
       " ('brown', 2.721506490801556),\n",
       " ('blue', 3.15929894006012),\n",
       " ('red', 3.192774909565189),\n",
       " ('colored', 3.670290593168927),\n",
       " ('orange', 3.6931891207769203),\n",
       " ('bright', 3.7056535600158305)]"
      ]
     },
     "execution_count": 172,
     "metadata": {},
     "output_type": "execute_result"
    }
   ],
   "source": [
    "find_nearest_words(X[2,:], vocab, embed, metric = 'euclidean_distance')"
   ]
  },
  {
   "cell_type": "code",
   "execution_count": 376,
   "metadata": {},
   "outputs": [
    {
     "data": {
      "text/plain": [
       "[('kd97', 2.029939777965842),\n",
       " ('str95bb', 2.0561955948550805),\n",
       " ('bb96', 2.058103899438513),\n",
       " ('js94bb', 2.058514481820138),\n",
       " ('k977-1', 2.0617378419366483),\n",
       " ('bdb94', 2.061892307481991),\n",
       " ('k978-1', 2.0639637056072084),\n",
       " ('str94', 2.0660063636863155),\n",
       " ('k587-1', 2.068130143996338),\n",
       " ('http://www.mediabynumbers.com', 2.0712279058644976)]"
      ]
     },
     "execution_count": 376,
     "metadata": {},
     "output_type": "execute_result"
    }
   ],
   "source": [
    "find_nearest_words(A_prox[0,:], vocab, embed, metric = 'euclidean_distance')"
   ]
  },
  {
   "cell_type": "code",
   "execution_count": 207,
   "metadata": {},
   "outputs": [
    {
     "data": {
      "text/plain": [
       "[('france', array([0.79425981])),\n",
       " ('french', array([0.7894253])),\n",
       " ('over', array([0.78536019])),\n",
       " ('with', array([0.78201492])),\n",
       " ('.', array([0.77107905])),\n",
       " ('for', array([0.76828905])),\n",
       " ('united', array([0.76752918])),\n",
       " ('put', array([0.76702571])),\n",
       " ('european', array([0.76669272])),\n",
       " ('while', array([0.76647867]))]"
      ]
     },
     "execution_count": 207,
     "metadata": {},
     "output_type": "execute_result"
    }
   ],
   "source": [
    "find_nearest_words(synthetic_word, vocab, embed, metric = 'cosine_similarity')"
   ]
  },
  {
   "cell_type": "code",
   "execution_count": 174,
   "metadata": {
    "scrolled": true
   },
   "outputs": [
    {
     "data": {
      "text/plain": [
       "[('white', array([1.])),\n",
       " ('black', array([0.90581369])),\n",
       " ('green', array([0.87377817])),\n",
       " ('gray', array([0.86134205])),\n",
       " ('brown', array([0.86090119])),\n",
       " ('blue', array([0.8225342])),\n",
       " ('red', array([0.81493637])),\n",
       " ('colored', array([0.74938195])),\n",
       " ('orange', array([0.74255839])),\n",
       " ('bright', array([0.73476275]))]"
      ]
     },
     "execution_count": 174,
     "metadata": {},
     "output_type": "execute_result"
    }
   ],
   "source": [
    "find_nearest_words(X[2,:], vocab, embed, metric = 'cosine_similarity')"
   ]
  },
  {
   "cell_type": "code",
   "execution_count": 375,
   "metadata": {},
   "outputs": [
    {
     "data": {
      "text/html": [
       "<div>\n",
       "<style scoped>\n",
       "    .dataframe tbody tr th:only-of-type {\n",
       "        vertical-align: middle;\n",
       "    }\n",
       "\n",
       "    .dataframe tbody tr th {\n",
       "        vertical-align: top;\n",
       "    }\n",
       "\n",
       "    .dataframe thead th {\n",
       "        text-align: right;\n",
       "    }\n",
       "</style>\n",
       "<table border=\"1\" class=\"dataframe\">\n",
       "  <thead>\n",
       "    <tr style=\"text-align: right;\">\n",
       "      <th></th>\n",
       "      <th>feature 0</th>\n",
       "      <th>feature 1</th>\n",
       "      <th>feature 2</th>\n",
       "      <th>feature 3</th>\n",
       "      <th>feature 4</th>\n",
       "      <th>feature 5</th>\n",
       "      <th>feature 6</th>\n",
       "      <th>feature 7</th>\n",
       "      <th>feature 8</th>\n",
       "      <th>feature 9</th>\n",
       "    </tr>\n",
       "  </thead>\n",
       "  <tbody>\n",
       "    <tr>\n",
       "      <th>0</th>\n",
       "      <td>(cherries, 0.79268)</td>\n",
       "      <td>(shark, 0.72670)</td>\n",
       "      <td>(mathematics, 0.78229)</td>\n",
       "      <td>(portugal, 0.70282)</td>\n",
       "      <td>(wore, 0.83015)</td>\n",
       "      <td>(aol, 0.77922)</td>\n",
       "      <td>(lime, 0.69261)</td>\n",
       "      <td>(physics, 0.74692)</td>\n",
       "      <td>(black, 0.86610)</td>\n",
       "      <td>(worldvision, 0.64605)</td>\n",
       "    </tr>\n",
       "    <tr>\n",
       "      <th>1</th>\n",
       "      <td>(blueberry, 0.78979)</td>\n",
       "      <td>(dolphin, 0.67857)</td>\n",
       "      <td>(chemistry, 0.76648)</td>\n",
       "      <td>(netherlands, 0.69495)</td>\n",
       "      <td>(pink, 0.82092)</td>\n",
       "      <td>(viacom, 0.69973)</td>\n",
       "      <td>(bunches, 0.69258)</td>\n",
       "      <td>(mathematics, 0.69336)</td>\n",
       "      <td>(blue, 0.80446)</td>\n",
       "      <td>(laloo, 0.63215)</td>\n",
       "    </tr>\n",
       "    <tr>\n",
       "      <th>2</th>\n",
       "      <td>(peach, 0.77522)</td>\n",
       "      <td>(elephant, 0.67403)</td>\n",
       "      <td>(sociology, 0.75598)</td>\n",
       "      <td>(bulgaria, 0.67584)</td>\n",
       "      <td>(purple, 0.82068)</td>\n",
       "      <td>(warner, 0.69868)</td>\n",
       "      <td>(apricot, 0.68301)</td>\n",
       "      <td>(theoretical, 0.65086)</td>\n",
       "      <td>(green, 0.80399)</td>\n",
       "      <td>(bsnl, 0.62451)</td>\n",
       "    </tr>\n",
       "    <tr>\n",
       "      <th>3</th>\n",
       "      <td>(almond, 0.77033)</td>\n",
       "      <td>(scaredy, 0.66193)</td>\n",
       "      <td>(psychology, 0.75290)</td>\n",
       "      <td>(republic, 0.67244)</td>\n",
       "      <td>(gray, 0.81780)</td>\n",
       "      <td>(comcast, 0.69388)</td>\n",
       "      <td>(piccolos, 0.68165)</td>\n",
       "      <td>(mineralogy, 0.64853)</td>\n",
       "      <td>(red, 0.80384)</td>\n",
       "      <td>(palmoil, 0.62342)</td>\n",
       "    </tr>\n",
       "    <tr>\n",
       "      <th>4</th>\n",
       "      <td>(cobbler, 0.76049)</td>\n",
       "      <td>(cat, 0.65372)</td>\n",
       "      <td>(analytical, 0.72865)</td>\n",
       "      <td>(spain, 0.67100)</td>\n",
       "      <td>(jacket, 0.80609)</td>\n",
       "      <td>(llc, 0.68622)</td>\n",
       "      <td>(chilies, 0.66921)</td>\n",
       "      <td>(chemistry, 0.64729)</td>\n",
       "      <td>(golden, 0.78299)</td>\n",
       "      <td>(yuel, 0.61903)</td>\n",
       "    </tr>\n",
       "    <tr>\n",
       "      <th>5</th>\n",
       "      <td>(pomegranate, 0.74859)</td>\n",
       "      <td>(rabbit, 0.64774)</td>\n",
       "      <td>(engineering, 0.72666)</td>\n",
       "      <td>(greece, 0.66270)</td>\n",
       "      <td>(blue, 0.80426)</td>\n",
       "      <td>(disney, 0.67679)</td>\n",
       "      <td>(karsums, 0.66400)</td>\n",
       "      <td>(nanoscale, 0.63988)</td>\n",
       "      <td>(white, 0.77180)</td>\n",
       "      <td>(parastatal, 0.61809)</td>\n",
       "    </tr>\n",
       "    <tr>\n",
       "      <th>6</th>\n",
       "      <td>(candied, 0.74782)</td>\n",
       "      <td>(whale, 0.64040)</td>\n",
       "      <td>(anthropology, 0.72584)</td>\n",
       "      <td>(malta, 0.65829)</td>\n",
       "      <td>(black, 0.78911)</td>\n",
       "      <td>(corporate, 0.67619)</td>\n",
       "      <td>(chilis, 0.65552)</td>\n",
       "      <td>(waseda, 0.63318)</td>\n",
       "      <td>(pink, 0.76406)</td>\n",
       "      <td>(karamjit, 0.61615)</td>\n",
       "    </tr>\n",
       "    <tr>\n",
       "      <th>7</th>\n",
       "      <td>(rhubarb, 0.74648)</td>\n",
       "      <td>(crocodile, 0.63930)</td>\n",
       "      <td>(theoretical, 0.72567)</td>\n",
       "      <td>(morocco, 0.65716)</td>\n",
       "      <td>(stripes, 0.78854)</td>\n",
       "      <td>(yahoo, 0.67110)</td>\n",
       "      <td>(jicama, 0.65392)</td>\n",
       "      <td>(pedagogical, 0.62615)</td>\n",
       "      <td>(purple, 0.76310)</td>\n",
       "      <td>(displayport, 0.61212)</td>\n",
       "    </tr>\n",
       "    <tr>\n",
       "      <th>8</th>\n",
       "      <td>(pickle, 0.74236)</td>\n",
       "      <td>(dingo, 0.63873)</td>\n",
       "      <td>(economics, 0.71850)</td>\n",
       "      <td>(cuba, 0.65603)</td>\n",
       "      <td>(wearing, 0.78426)</td>\n",
       "      <td>(entertainment, 0.66188)</td>\n",
       "      <td>(numancia, 0.64960)</td>\n",
       "      <td>(astroparticle, 0.61918)</td>\n",
       "      <td>(dark, 0.74809)</td>\n",
       "      <td>(bharti, 0.60909)</td>\n",
       "    </tr>\n",
       "    <tr>\n",
       "      <th>9</th>\n",
       "      <td>(sorbet, 0.73917)</td>\n",
       "      <td>(frog, 0.63859)</td>\n",
       "      <td>(biochemistry, 0.71813)</td>\n",
       "      <td>(romania, 0.65286)</td>\n",
       "      <td>(maroon, 0.78258)</td>\n",
       "      <td>(compuserve, 0.65368)</td>\n",
       "      <td>(grapefruit, 0.64783)</td>\n",
       "      <td>(mathematical, 0.60269)</td>\n",
       "      <td>(orange, 0.74175)</td>\n",
       "      <td>(campero, 0.60357)</td>\n",
       "    </tr>\n",
       "  </tbody>\n",
       "</table>\n",
       "</div>"
      ],
      "text/plain": [
       "                feature 0             feature 1                feature 2  \\\n",
       "0     (cherries, 0.79268)      (shark, 0.72670)   (mathematics, 0.78229)   \n",
       "1    (blueberry, 0.78979)    (dolphin, 0.67857)     (chemistry, 0.76648)   \n",
       "2        (peach, 0.77522)   (elephant, 0.67403)     (sociology, 0.75598)   \n",
       "3       (almond, 0.77033)    (scaredy, 0.66193)    (psychology, 0.75290)   \n",
       "4      (cobbler, 0.76049)        (cat, 0.65372)    (analytical, 0.72865)   \n",
       "5  (pomegranate, 0.74859)     (rabbit, 0.64774)   (engineering, 0.72666)   \n",
       "6      (candied, 0.74782)      (whale, 0.64040)  (anthropology, 0.72584)   \n",
       "7      (rhubarb, 0.74648)  (crocodile, 0.63930)   (theoretical, 0.72567)   \n",
       "8       (pickle, 0.74236)      (dingo, 0.63873)     (economics, 0.71850)   \n",
       "9       (sorbet, 0.73917)       (frog, 0.63859)  (biochemistry, 0.71813)   \n",
       "\n",
       "                feature 3           feature 4                 feature 5  \\\n",
       "0     (portugal, 0.70282)     (wore, 0.83015)            (aol, 0.77922)   \n",
       "1  (netherlands, 0.69495)     (pink, 0.82092)         (viacom, 0.69973)   \n",
       "2     (bulgaria, 0.67584)   (purple, 0.82068)         (warner, 0.69868)   \n",
       "3     (republic, 0.67244)     (gray, 0.81780)        (comcast, 0.69388)   \n",
       "4        (spain, 0.67100)   (jacket, 0.80609)            (llc, 0.68622)   \n",
       "5       (greece, 0.66270)     (blue, 0.80426)         (disney, 0.67679)   \n",
       "6        (malta, 0.65829)    (black, 0.78911)      (corporate, 0.67619)   \n",
       "7      (morocco, 0.65716)  (stripes, 0.78854)          (yahoo, 0.67110)   \n",
       "8         (cuba, 0.65603)  (wearing, 0.78426)  (entertainment, 0.66188)   \n",
       "9      (romania, 0.65286)   (maroon, 0.78258)     (compuserve, 0.65368)   \n",
       "\n",
       "               feature 6                 feature 7          feature 8  \\\n",
       "0        (lime, 0.69261)        (physics, 0.74692)   (black, 0.86610)   \n",
       "1     (bunches, 0.69258)    (mathematics, 0.69336)    (blue, 0.80446)   \n",
       "2     (apricot, 0.68301)    (theoretical, 0.65086)   (green, 0.80399)   \n",
       "3    (piccolos, 0.68165)     (mineralogy, 0.64853)     (red, 0.80384)   \n",
       "4     (chilies, 0.66921)      (chemistry, 0.64729)  (golden, 0.78299)   \n",
       "5     (karsums, 0.66400)      (nanoscale, 0.63988)   (white, 0.77180)   \n",
       "6      (chilis, 0.65552)         (waseda, 0.63318)    (pink, 0.76406)   \n",
       "7      (jicama, 0.65392)    (pedagogical, 0.62615)  (purple, 0.76310)   \n",
       "8    (numancia, 0.64960)  (astroparticle, 0.61918)    (dark, 0.74809)   \n",
       "9  (grapefruit, 0.64783)   (mathematical, 0.60269)  (orange, 0.74175)   \n",
       "\n",
       "                feature 9  \n",
       "0  (worldvision, 0.64605)  \n",
       "1        (laloo, 0.63215)  \n",
       "2         (bsnl, 0.62451)  \n",
       "3      (palmoil, 0.62342)  \n",
       "4         (yuel, 0.61903)  \n",
       "5   (parastatal, 0.61809)  \n",
       "6     (karamjit, 0.61615)  \n",
       "7  (displayport, 0.61212)  \n",
       "8       (bharti, 0.60909)  \n",
       "9      (campero, 0.60357)  "
      ]
     },
     "metadata": {},
     "output_type": "display_data"
    }
   ],
   "source": [
    "df = pd.DataFrame()\n",
    "\n",
    "for i in range(10):\n",
    "    nearest_words = find_nearest_words(A_prox[i,:], vocab, embed, metric = 'cosine_similarity')\n",
    "    column = []\n",
    "    for j,item in enumerate(nearest_words):\n",
    "        column.append((item[0], str(item[1][0])[:7]))\n",
    "    df['feature '+str(i)] = column\n",
    "display(df)\n"
   ]
  },
  {
   "cell_type": "code",
   "execution_count": 372,
   "metadata": {
    "scrolled": false
   },
   "outputs": [
    {
     "data": {
      "text/html": [
       "<div>\n",
       "<style scoped>\n",
       "    .dataframe tbody tr th:only-of-type {\n",
       "        vertical-align: middle;\n",
       "    }\n",
       "\n",
       "    .dataframe tbody tr th {\n",
       "        vertical-align: top;\n",
       "    }\n",
       "\n",
       "    .dataframe thead th {\n",
       "        text-align: right;\n",
       "    }\n",
       "</style>\n",
       "<table border=\"1\" class=\"dataframe\">\n",
       "  <thead>\n",
       "    <tr style=\"text-align: right;\">\n",
       "      <th></th>\n",
       "      <th>word</th>\n",
       "      <th>cosine_similarity</th>\n",
       "    </tr>\n",
       "  </thead>\n",
       "  <tbody>\n",
       "    <tr>\n",
       "      <th>0</th>\n",
       "      <td>cherries</td>\n",
       "      <td>0.792688</td>\n",
       "    </tr>\n",
       "    <tr>\n",
       "      <th>1</th>\n",
       "      <td>blueberry</td>\n",
       "      <td>0.789791</td>\n",
       "    </tr>\n",
       "    <tr>\n",
       "      <th>2</th>\n",
       "      <td>peach</td>\n",
       "      <td>0.775229</td>\n",
       "    </tr>\n",
       "    <tr>\n",
       "      <th>3</th>\n",
       "      <td>almond</td>\n",
       "      <td>0.770335</td>\n",
       "    </tr>\n",
       "    <tr>\n",
       "      <th>4</th>\n",
       "      <td>cobbler</td>\n",
       "      <td>0.760491</td>\n",
       "    </tr>\n",
       "    <tr>\n",
       "      <th>5</th>\n",
       "      <td>pomegranate</td>\n",
       "      <td>0.748592</td>\n",
       "    </tr>\n",
       "    <tr>\n",
       "      <th>6</th>\n",
       "      <td>candied</td>\n",
       "      <td>0.747829</td>\n",
       "    </tr>\n",
       "    <tr>\n",
       "      <th>7</th>\n",
       "      <td>rhubarb</td>\n",
       "      <td>0.746485</td>\n",
       "    </tr>\n",
       "    <tr>\n",
       "      <th>8</th>\n",
       "      <td>pickle</td>\n",
       "      <td>0.742367</td>\n",
       "    </tr>\n",
       "    <tr>\n",
       "      <th>9</th>\n",
       "      <td>sorbet</td>\n",
       "      <td>0.739171</td>\n",
       "    </tr>\n",
       "  </tbody>\n",
       "</table>\n",
       "</div>"
      ],
      "text/plain": [
       "          word  cosine_similarity\n",
       "0     cherries           0.792688\n",
       "1    blueberry           0.789791\n",
       "2        peach           0.775229\n",
       "3       almond           0.770335\n",
       "4      cobbler           0.760491\n",
       "5  pomegranate           0.748592\n",
       "6      candied           0.747829\n",
       "7      rhubarb           0.746485\n",
       "8       pickle           0.742367\n",
       "9       sorbet           0.739171"
      ]
     },
     "metadata": {},
     "output_type": "display_data"
    },
    {
     "data": {
      "text/html": [
       "<div>\n",
       "<style scoped>\n",
       "    .dataframe tbody tr th:only-of-type {\n",
       "        vertical-align: middle;\n",
       "    }\n",
       "\n",
       "    .dataframe tbody tr th {\n",
       "        vertical-align: top;\n",
       "    }\n",
       "\n",
       "    .dataframe thead th {\n",
       "        text-align: right;\n",
       "    }\n",
       "</style>\n",
       "<table border=\"1\" class=\"dataframe\">\n",
       "  <thead>\n",
       "    <tr style=\"text-align: right;\">\n",
       "      <th></th>\n",
       "      <th>word</th>\n",
       "      <th>cosine_similarity</th>\n",
       "    </tr>\n",
       "  </thead>\n",
       "  <tbody>\n",
       "    <tr>\n",
       "      <th>0</th>\n",
       "      <td>shark</td>\n",
       "      <td>0.726708</td>\n",
       "    </tr>\n",
       "    <tr>\n",
       "      <th>1</th>\n",
       "      <td>dolphin</td>\n",
       "      <td>0.678575</td>\n",
       "    </tr>\n",
       "    <tr>\n",
       "      <th>2</th>\n",
       "      <td>elephant</td>\n",
       "      <td>0.674034</td>\n",
       "    </tr>\n",
       "    <tr>\n",
       "      <th>3</th>\n",
       "      <td>scaredy</td>\n",
       "      <td>0.661933</td>\n",
       "    </tr>\n",
       "    <tr>\n",
       "      <th>4</th>\n",
       "      <td>cat</td>\n",
       "      <td>0.653726</td>\n",
       "    </tr>\n",
       "    <tr>\n",
       "      <th>5</th>\n",
       "      <td>rabbit</td>\n",
       "      <td>0.647747</td>\n",
       "    </tr>\n",
       "    <tr>\n",
       "      <th>6</th>\n",
       "      <td>whale</td>\n",
       "      <td>0.640410</td>\n",
       "    </tr>\n",
       "    <tr>\n",
       "      <th>7</th>\n",
       "      <td>crocodile</td>\n",
       "      <td>0.639300</td>\n",
       "    </tr>\n",
       "    <tr>\n",
       "      <th>8</th>\n",
       "      <td>dingo</td>\n",
       "      <td>0.638731</td>\n",
       "    </tr>\n",
       "    <tr>\n",
       "      <th>9</th>\n",
       "      <td>frog</td>\n",
       "      <td>0.638596</td>\n",
       "    </tr>\n",
       "  </tbody>\n",
       "</table>\n",
       "</div>"
      ],
      "text/plain": [
       "        word  cosine_similarity\n",
       "0      shark           0.726708\n",
       "1    dolphin           0.678575\n",
       "2   elephant           0.674034\n",
       "3    scaredy           0.661933\n",
       "4        cat           0.653726\n",
       "5     rabbit           0.647747\n",
       "6      whale           0.640410\n",
       "7  crocodile           0.639300\n",
       "8      dingo           0.638731\n",
       "9       frog           0.638596"
      ]
     },
     "metadata": {},
     "output_type": "display_data"
    },
    {
     "data": {
      "text/html": [
       "<div>\n",
       "<style scoped>\n",
       "    .dataframe tbody tr th:only-of-type {\n",
       "        vertical-align: middle;\n",
       "    }\n",
       "\n",
       "    .dataframe tbody tr th {\n",
       "        vertical-align: top;\n",
       "    }\n",
       "\n",
       "    .dataframe thead th {\n",
       "        text-align: right;\n",
       "    }\n",
       "</style>\n",
       "<table border=\"1\" class=\"dataframe\">\n",
       "  <thead>\n",
       "    <tr style=\"text-align: right;\">\n",
       "      <th></th>\n",
       "      <th>word</th>\n",
       "      <th>cosine_similarity</th>\n",
       "    </tr>\n",
       "  </thead>\n",
       "  <tbody>\n",
       "    <tr>\n",
       "      <th>0</th>\n",
       "      <td>mathematics</td>\n",
       "      <td>0.782294</td>\n",
       "    </tr>\n",
       "    <tr>\n",
       "      <th>1</th>\n",
       "      <td>chemistry</td>\n",
       "      <td>0.766485</td>\n",
       "    </tr>\n",
       "    <tr>\n",
       "      <th>2</th>\n",
       "      <td>sociology</td>\n",
       "      <td>0.755986</td>\n",
       "    </tr>\n",
       "    <tr>\n",
       "      <th>3</th>\n",
       "      <td>psychology</td>\n",
       "      <td>0.752907</td>\n",
       "    </tr>\n",
       "    <tr>\n",
       "      <th>4</th>\n",
       "      <td>analytical</td>\n",
       "      <td>0.728657</td>\n",
       "    </tr>\n",
       "    <tr>\n",
       "      <th>5</th>\n",
       "      <td>engineering</td>\n",
       "      <td>0.726660</td>\n",
       "    </tr>\n",
       "    <tr>\n",
       "      <th>6</th>\n",
       "      <td>anthropology</td>\n",
       "      <td>0.725846</td>\n",
       "    </tr>\n",
       "    <tr>\n",
       "      <th>7</th>\n",
       "      <td>theoretical</td>\n",
       "      <td>0.725672</td>\n",
       "    </tr>\n",
       "    <tr>\n",
       "      <th>8</th>\n",
       "      <td>economics</td>\n",
       "      <td>0.718505</td>\n",
       "    </tr>\n",
       "    <tr>\n",
       "      <th>9</th>\n",
       "      <td>biochemistry</td>\n",
       "      <td>0.718131</td>\n",
       "    </tr>\n",
       "  </tbody>\n",
       "</table>\n",
       "</div>"
      ],
      "text/plain": [
       "           word  cosine_similarity\n",
       "0   mathematics           0.782294\n",
       "1     chemistry           0.766485\n",
       "2     sociology           0.755986\n",
       "3    psychology           0.752907\n",
       "4    analytical           0.728657\n",
       "5   engineering           0.726660\n",
       "6  anthropology           0.725846\n",
       "7   theoretical           0.725672\n",
       "8     economics           0.718505\n",
       "9  biochemistry           0.718131"
      ]
     },
     "metadata": {},
     "output_type": "display_data"
    },
    {
     "data": {
      "text/html": [
       "<div>\n",
       "<style scoped>\n",
       "    .dataframe tbody tr th:only-of-type {\n",
       "        vertical-align: middle;\n",
       "    }\n",
       "\n",
       "    .dataframe tbody tr th {\n",
       "        vertical-align: top;\n",
       "    }\n",
       "\n",
       "    .dataframe thead th {\n",
       "        text-align: right;\n",
       "    }\n",
       "</style>\n",
       "<table border=\"1\" class=\"dataframe\">\n",
       "  <thead>\n",
       "    <tr style=\"text-align: right;\">\n",
       "      <th></th>\n",
       "      <th>word</th>\n",
       "      <th>cosine_similarity</th>\n",
       "    </tr>\n",
       "  </thead>\n",
       "  <tbody>\n",
       "    <tr>\n",
       "      <th>0</th>\n",
       "      <td>portugal</td>\n",
       "      <td>0.702828</td>\n",
       "    </tr>\n",
       "    <tr>\n",
       "      <th>1</th>\n",
       "      <td>netherlands</td>\n",
       "      <td>0.694956</td>\n",
       "    </tr>\n",
       "    <tr>\n",
       "      <th>2</th>\n",
       "      <td>bulgaria</td>\n",
       "      <td>0.675844</td>\n",
       "    </tr>\n",
       "    <tr>\n",
       "      <th>3</th>\n",
       "      <td>republic</td>\n",
       "      <td>0.672442</td>\n",
       "    </tr>\n",
       "    <tr>\n",
       "      <th>4</th>\n",
       "      <td>spain</td>\n",
       "      <td>0.671008</td>\n",
       "    </tr>\n",
       "    <tr>\n",
       "      <th>5</th>\n",
       "      <td>greece</td>\n",
       "      <td>0.662710</td>\n",
       "    </tr>\n",
       "    <tr>\n",
       "      <th>6</th>\n",
       "      <td>malta</td>\n",
       "      <td>0.658295</td>\n",
       "    </tr>\n",
       "    <tr>\n",
       "      <th>7</th>\n",
       "      <td>morocco</td>\n",
       "      <td>0.657168</td>\n",
       "    </tr>\n",
       "    <tr>\n",
       "      <th>8</th>\n",
       "      <td>cuba</td>\n",
       "      <td>0.656036</td>\n",
       "    </tr>\n",
       "    <tr>\n",
       "      <th>9</th>\n",
       "      <td>romania</td>\n",
       "      <td>0.652864</td>\n",
       "    </tr>\n",
       "  </tbody>\n",
       "</table>\n",
       "</div>"
      ],
      "text/plain": [
       "          word  cosine_similarity\n",
       "0     portugal           0.702828\n",
       "1  netherlands           0.694956\n",
       "2     bulgaria           0.675844\n",
       "3     republic           0.672442\n",
       "4        spain           0.671008\n",
       "5       greece           0.662710\n",
       "6        malta           0.658295\n",
       "7      morocco           0.657168\n",
       "8         cuba           0.656036\n",
       "9      romania           0.652864"
      ]
     },
     "metadata": {},
     "output_type": "display_data"
    },
    {
     "data": {
      "text/html": [
       "<div>\n",
       "<style scoped>\n",
       "    .dataframe tbody tr th:only-of-type {\n",
       "        vertical-align: middle;\n",
       "    }\n",
       "\n",
       "    .dataframe tbody tr th {\n",
       "        vertical-align: top;\n",
       "    }\n",
       "\n",
       "    .dataframe thead th {\n",
       "        text-align: right;\n",
       "    }\n",
       "</style>\n",
       "<table border=\"1\" class=\"dataframe\">\n",
       "  <thead>\n",
       "    <tr style=\"text-align: right;\">\n",
       "      <th></th>\n",
       "      <th>word</th>\n",
       "      <th>cosine_similarity</th>\n",
       "    </tr>\n",
       "  </thead>\n",
       "  <tbody>\n",
       "    <tr>\n",
       "      <th>0</th>\n",
       "      <td>wore</td>\n",
       "      <td>0.830151</td>\n",
       "    </tr>\n",
       "    <tr>\n",
       "      <th>1</th>\n",
       "      <td>pink</td>\n",
       "      <td>0.820923</td>\n",
       "    </tr>\n",
       "    <tr>\n",
       "      <th>2</th>\n",
       "      <td>purple</td>\n",
       "      <td>0.820680</td>\n",
       "    </tr>\n",
       "    <tr>\n",
       "      <th>3</th>\n",
       "      <td>gray</td>\n",
       "      <td>0.817804</td>\n",
       "    </tr>\n",
       "    <tr>\n",
       "      <th>4</th>\n",
       "      <td>jacket</td>\n",
       "      <td>0.806092</td>\n",
       "    </tr>\n",
       "    <tr>\n",
       "      <th>5</th>\n",
       "      <td>blue</td>\n",
       "      <td>0.804268</td>\n",
       "    </tr>\n",
       "    <tr>\n",
       "      <th>6</th>\n",
       "      <td>black</td>\n",
       "      <td>0.789114</td>\n",
       "    </tr>\n",
       "    <tr>\n",
       "      <th>7</th>\n",
       "      <td>stripes</td>\n",
       "      <td>0.788547</td>\n",
       "    </tr>\n",
       "    <tr>\n",
       "      <th>8</th>\n",
       "      <td>wearing</td>\n",
       "      <td>0.784260</td>\n",
       "    </tr>\n",
       "    <tr>\n",
       "      <th>9</th>\n",
       "      <td>maroon</td>\n",
       "      <td>0.782584</td>\n",
       "    </tr>\n",
       "  </tbody>\n",
       "</table>\n",
       "</div>"
      ],
      "text/plain": [
       "      word  cosine_similarity\n",
       "0     wore           0.830151\n",
       "1     pink           0.820923\n",
       "2   purple           0.820680\n",
       "3     gray           0.817804\n",
       "4   jacket           0.806092\n",
       "5     blue           0.804268\n",
       "6    black           0.789114\n",
       "7  stripes           0.788547\n",
       "8  wearing           0.784260\n",
       "9   maroon           0.782584"
      ]
     },
     "metadata": {},
     "output_type": "display_data"
    },
    {
     "data": {
      "text/html": [
       "<div>\n",
       "<style scoped>\n",
       "    .dataframe tbody tr th:only-of-type {\n",
       "        vertical-align: middle;\n",
       "    }\n",
       "\n",
       "    .dataframe tbody tr th {\n",
       "        vertical-align: top;\n",
       "    }\n",
       "\n",
       "    .dataframe thead th {\n",
       "        text-align: right;\n",
       "    }\n",
       "</style>\n",
       "<table border=\"1\" class=\"dataframe\">\n",
       "  <thead>\n",
       "    <tr style=\"text-align: right;\">\n",
       "      <th></th>\n",
       "      <th>word</th>\n",
       "      <th>cosine_similarity</th>\n",
       "    </tr>\n",
       "  </thead>\n",
       "  <tbody>\n",
       "    <tr>\n",
       "      <th>0</th>\n",
       "      <td>aol</td>\n",
       "      <td>0.779229</td>\n",
       "    </tr>\n",
       "    <tr>\n",
       "      <th>1</th>\n",
       "      <td>viacom</td>\n",
       "      <td>0.699730</td>\n",
       "    </tr>\n",
       "    <tr>\n",
       "      <th>2</th>\n",
       "      <td>warner</td>\n",
       "      <td>0.698688</td>\n",
       "    </tr>\n",
       "    <tr>\n",
       "      <th>3</th>\n",
       "      <td>comcast</td>\n",
       "      <td>0.693889</td>\n",
       "    </tr>\n",
       "    <tr>\n",
       "      <th>4</th>\n",
       "      <td>llc</td>\n",
       "      <td>0.686221</td>\n",
       "    </tr>\n",
       "    <tr>\n",
       "      <th>5</th>\n",
       "      <td>disney</td>\n",
       "      <td>0.676793</td>\n",
       "    </tr>\n",
       "    <tr>\n",
       "      <th>6</th>\n",
       "      <td>corporate</td>\n",
       "      <td>0.676199</td>\n",
       "    </tr>\n",
       "    <tr>\n",
       "      <th>7</th>\n",
       "      <td>yahoo</td>\n",
       "      <td>0.671100</td>\n",
       "    </tr>\n",
       "    <tr>\n",
       "      <th>8</th>\n",
       "      <td>entertainment</td>\n",
       "      <td>0.661890</td>\n",
       "    </tr>\n",
       "    <tr>\n",
       "      <th>9</th>\n",
       "      <td>compuserve</td>\n",
       "      <td>0.653686</td>\n",
       "    </tr>\n",
       "  </tbody>\n",
       "</table>\n",
       "</div>"
      ],
      "text/plain": [
       "            word  cosine_similarity\n",
       "0            aol           0.779229\n",
       "1         viacom           0.699730\n",
       "2         warner           0.698688\n",
       "3        comcast           0.693889\n",
       "4            llc           0.686221\n",
       "5         disney           0.676793\n",
       "6      corporate           0.676199\n",
       "7          yahoo           0.671100\n",
       "8  entertainment           0.661890\n",
       "9     compuserve           0.653686"
      ]
     },
     "metadata": {},
     "output_type": "display_data"
    },
    {
     "data": {
      "text/html": [
       "<div>\n",
       "<style scoped>\n",
       "    .dataframe tbody tr th:only-of-type {\n",
       "        vertical-align: middle;\n",
       "    }\n",
       "\n",
       "    .dataframe tbody tr th {\n",
       "        vertical-align: top;\n",
       "    }\n",
       "\n",
       "    .dataframe thead th {\n",
       "        text-align: right;\n",
       "    }\n",
       "</style>\n",
       "<table border=\"1\" class=\"dataframe\">\n",
       "  <thead>\n",
       "    <tr style=\"text-align: right;\">\n",
       "      <th></th>\n",
       "      <th>word</th>\n",
       "      <th>cosine_similarity</th>\n",
       "    </tr>\n",
       "  </thead>\n",
       "  <tbody>\n",
       "    <tr>\n",
       "      <th>0</th>\n",
       "      <td>lime</td>\n",
       "      <td>0.692610</td>\n",
       "    </tr>\n",
       "    <tr>\n",
       "      <th>1</th>\n",
       "      <td>bunches</td>\n",
       "      <td>0.692581</td>\n",
       "    </tr>\n",
       "    <tr>\n",
       "      <th>2</th>\n",
       "      <td>apricot</td>\n",
       "      <td>0.683019</td>\n",
       "    </tr>\n",
       "    <tr>\n",
       "      <th>3</th>\n",
       "      <td>piccolos</td>\n",
       "      <td>0.681650</td>\n",
       "    </tr>\n",
       "    <tr>\n",
       "      <th>4</th>\n",
       "      <td>chilies</td>\n",
       "      <td>0.669212</td>\n",
       "    </tr>\n",
       "    <tr>\n",
       "      <th>5</th>\n",
       "      <td>karsums</td>\n",
       "      <td>0.664006</td>\n",
       "    </tr>\n",
       "    <tr>\n",
       "      <th>6</th>\n",
       "      <td>chilis</td>\n",
       "      <td>0.655529</td>\n",
       "    </tr>\n",
       "    <tr>\n",
       "      <th>7</th>\n",
       "      <td>jicama</td>\n",
       "      <td>0.653922</td>\n",
       "    </tr>\n",
       "    <tr>\n",
       "      <th>8</th>\n",
       "      <td>numancia</td>\n",
       "      <td>0.649608</td>\n",
       "    </tr>\n",
       "    <tr>\n",
       "      <th>9</th>\n",
       "      <td>grapefruit</td>\n",
       "      <td>0.647835</td>\n",
       "    </tr>\n",
       "  </tbody>\n",
       "</table>\n",
       "</div>"
      ],
      "text/plain": [
       "         word  cosine_similarity\n",
       "0        lime           0.692610\n",
       "1     bunches           0.692581\n",
       "2     apricot           0.683019\n",
       "3    piccolos           0.681650\n",
       "4     chilies           0.669212\n",
       "5     karsums           0.664006\n",
       "6      chilis           0.655529\n",
       "7      jicama           0.653922\n",
       "8    numancia           0.649608\n",
       "9  grapefruit           0.647835"
      ]
     },
     "metadata": {},
     "output_type": "display_data"
    },
    {
     "data": {
      "text/html": [
       "<div>\n",
       "<style scoped>\n",
       "    .dataframe tbody tr th:only-of-type {\n",
       "        vertical-align: middle;\n",
       "    }\n",
       "\n",
       "    .dataframe tbody tr th {\n",
       "        vertical-align: top;\n",
       "    }\n",
       "\n",
       "    .dataframe thead th {\n",
       "        text-align: right;\n",
       "    }\n",
       "</style>\n",
       "<table border=\"1\" class=\"dataframe\">\n",
       "  <thead>\n",
       "    <tr style=\"text-align: right;\">\n",
       "      <th></th>\n",
       "      <th>word</th>\n",
       "      <th>cosine_similarity</th>\n",
       "    </tr>\n",
       "  </thead>\n",
       "  <tbody>\n",
       "    <tr>\n",
       "      <th>0</th>\n",
       "      <td>physics</td>\n",
       "      <td>0.746922</td>\n",
       "    </tr>\n",
       "    <tr>\n",
       "      <th>1</th>\n",
       "      <td>mathematics</td>\n",
       "      <td>0.693368</td>\n",
       "    </tr>\n",
       "    <tr>\n",
       "      <th>2</th>\n",
       "      <td>theoretical</td>\n",
       "      <td>0.650868</td>\n",
       "    </tr>\n",
       "    <tr>\n",
       "      <th>3</th>\n",
       "      <td>mineralogy</td>\n",
       "      <td>0.648530</td>\n",
       "    </tr>\n",
       "    <tr>\n",
       "      <th>4</th>\n",
       "      <td>chemistry</td>\n",
       "      <td>0.647292</td>\n",
       "    </tr>\n",
       "    <tr>\n",
       "      <th>5</th>\n",
       "      <td>nanoscale</td>\n",
       "      <td>0.639887</td>\n",
       "    </tr>\n",
       "    <tr>\n",
       "      <th>6</th>\n",
       "      <td>waseda</td>\n",
       "      <td>0.633186</td>\n",
       "    </tr>\n",
       "    <tr>\n",
       "      <th>7</th>\n",
       "      <td>pedagogical</td>\n",
       "      <td>0.626152</td>\n",
       "    </tr>\n",
       "    <tr>\n",
       "      <th>8</th>\n",
       "      <td>astroparticle</td>\n",
       "      <td>0.619189</td>\n",
       "    </tr>\n",
       "    <tr>\n",
       "      <th>9</th>\n",
       "      <td>mathematical</td>\n",
       "      <td>0.602697</td>\n",
       "    </tr>\n",
       "  </tbody>\n",
       "</table>\n",
       "</div>"
      ],
      "text/plain": [
       "            word  cosine_similarity\n",
       "0        physics           0.746922\n",
       "1    mathematics           0.693368\n",
       "2    theoretical           0.650868\n",
       "3     mineralogy           0.648530\n",
       "4      chemistry           0.647292\n",
       "5      nanoscale           0.639887\n",
       "6         waseda           0.633186\n",
       "7    pedagogical           0.626152\n",
       "8  astroparticle           0.619189\n",
       "9   mathematical           0.602697"
      ]
     },
     "metadata": {},
     "output_type": "display_data"
    },
    {
     "data": {
      "text/html": [
       "<div>\n",
       "<style scoped>\n",
       "    .dataframe tbody tr th:only-of-type {\n",
       "        vertical-align: middle;\n",
       "    }\n",
       "\n",
       "    .dataframe tbody tr th {\n",
       "        vertical-align: top;\n",
       "    }\n",
       "\n",
       "    .dataframe thead th {\n",
       "        text-align: right;\n",
       "    }\n",
       "</style>\n",
       "<table border=\"1\" class=\"dataframe\">\n",
       "  <thead>\n",
       "    <tr style=\"text-align: right;\">\n",
       "      <th></th>\n",
       "      <th>word</th>\n",
       "      <th>cosine_similarity</th>\n",
       "    </tr>\n",
       "  </thead>\n",
       "  <tbody>\n",
       "    <tr>\n",
       "      <th>0</th>\n",
       "      <td>black</td>\n",
       "      <td>0.866103</td>\n",
       "    </tr>\n",
       "    <tr>\n",
       "      <th>1</th>\n",
       "      <td>blue</td>\n",
       "      <td>0.804463</td>\n",
       "    </tr>\n",
       "    <tr>\n",
       "      <th>2</th>\n",
       "      <td>green</td>\n",
       "      <td>0.803995</td>\n",
       "    </tr>\n",
       "    <tr>\n",
       "      <th>3</th>\n",
       "      <td>red</td>\n",
       "      <td>0.803843</td>\n",
       "    </tr>\n",
       "    <tr>\n",
       "      <th>4</th>\n",
       "      <td>golden</td>\n",
       "      <td>0.782996</td>\n",
       "    </tr>\n",
       "    <tr>\n",
       "      <th>5</th>\n",
       "      <td>white</td>\n",
       "      <td>0.771805</td>\n",
       "    </tr>\n",
       "    <tr>\n",
       "      <th>6</th>\n",
       "      <td>pink</td>\n",
       "      <td>0.764064</td>\n",
       "    </tr>\n",
       "    <tr>\n",
       "      <th>7</th>\n",
       "      <td>purple</td>\n",
       "      <td>0.763105</td>\n",
       "    </tr>\n",
       "    <tr>\n",
       "      <th>8</th>\n",
       "      <td>dark</td>\n",
       "      <td>0.748099</td>\n",
       "    </tr>\n",
       "    <tr>\n",
       "      <th>9</th>\n",
       "      <td>orange</td>\n",
       "      <td>0.741759</td>\n",
       "    </tr>\n",
       "  </tbody>\n",
       "</table>\n",
       "</div>"
      ],
      "text/plain": [
       "     word  cosine_similarity\n",
       "0   black           0.866103\n",
       "1    blue           0.804463\n",
       "2   green           0.803995\n",
       "3     red           0.803843\n",
       "4  golden           0.782996\n",
       "5   white           0.771805\n",
       "6    pink           0.764064\n",
       "7  purple           0.763105\n",
       "8    dark           0.748099\n",
       "9  orange           0.741759"
      ]
     },
     "metadata": {},
     "output_type": "display_data"
    },
    {
     "data": {
      "text/html": [
       "<div>\n",
       "<style scoped>\n",
       "    .dataframe tbody tr th:only-of-type {\n",
       "        vertical-align: middle;\n",
       "    }\n",
       "\n",
       "    .dataframe tbody tr th {\n",
       "        vertical-align: top;\n",
       "    }\n",
       "\n",
       "    .dataframe thead th {\n",
       "        text-align: right;\n",
       "    }\n",
       "</style>\n",
       "<table border=\"1\" class=\"dataframe\">\n",
       "  <thead>\n",
       "    <tr style=\"text-align: right;\">\n",
       "      <th></th>\n",
       "      <th>word</th>\n",
       "      <th>cosine_similarity</th>\n",
       "    </tr>\n",
       "  </thead>\n",
       "  <tbody>\n",
       "    <tr>\n",
       "      <th>0</th>\n",
       "      <td>worldvision</td>\n",
       "      <td>0.646054</td>\n",
       "    </tr>\n",
       "    <tr>\n",
       "      <th>1</th>\n",
       "      <td>laloo</td>\n",
       "      <td>0.632156</td>\n",
       "    </tr>\n",
       "    <tr>\n",
       "      <th>2</th>\n",
       "      <td>bsnl</td>\n",
       "      <td>0.624517</td>\n",
       "    </tr>\n",
       "    <tr>\n",
       "      <th>3</th>\n",
       "      <td>palmoil</td>\n",
       "      <td>0.623427</td>\n",
       "    </tr>\n",
       "    <tr>\n",
       "      <th>4</th>\n",
       "      <td>yuel</td>\n",
       "      <td>0.619032</td>\n",
       "    </tr>\n",
       "    <tr>\n",
       "      <th>5</th>\n",
       "      <td>parastatal</td>\n",
       "      <td>0.618093</td>\n",
       "    </tr>\n",
       "    <tr>\n",
       "      <th>6</th>\n",
       "      <td>karamjit</td>\n",
       "      <td>0.616150</td>\n",
       "    </tr>\n",
       "    <tr>\n",
       "      <th>7</th>\n",
       "      <td>displayport</td>\n",
       "      <td>0.612128</td>\n",
       "    </tr>\n",
       "    <tr>\n",
       "      <th>8</th>\n",
       "      <td>bharti</td>\n",
       "      <td>0.609091</td>\n",
       "    </tr>\n",
       "    <tr>\n",
       "      <th>9</th>\n",
       "      <td>campero</td>\n",
       "      <td>0.603576</td>\n",
       "    </tr>\n",
       "  </tbody>\n",
       "</table>\n",
       "</div>"
      ],
      "text/plain": [
       "          word  cosine_similarity\n",
       "0  worldvision           0.646054\n",
       "1        laloo           0.632156\n",
       "2         bsnl           0.624517\n",
       "3      palmoil           0.623427\n",
       "4         yuel           0.619032\n",
       "5   parastatal           0.618093\n",
       "6     karamjit           0.616150\n",
       "7  displayport           0.612128\n",
       "8       bharti           0.609091\n",
       "9      campero           0.603576"
      ]
     },
     "metadata": {},
     "output_type": "display_data"
    }
   ],
   "source": [
    "for i in range(10):\n",
    "    df = pd.DataFrame(columns = ['word', 'cosine_similarity'])\n",
    "    nearest_words = find_nearest_words(A_prox[i,:], vocab, embed, metric = 'cosine_similarity')\n",
    "    for j,item in enumerate(nearest_words):\n",
    "        df.loc[j]=[item[0], item[1][0]]\n",
    "#     df.style.set_table_attributes(\"style='display:inline'\").set_caption('category:'+categories[i])\n",
    "    display(df)\n"
   ]
  },
  {
   "cell_type": "code",
   "execution_count": 205,
   "metadata": {},
   "outputs": [
    {
     "data": {
      "text/plain": [
       "[('cherries', array([0.79268757])),\n",
       " ('blueberry', array([0.78979141])),\n",
       " ('peach', array([0.77522946])),\n",
       " ('almond', array([0.77033542])),\n",
       " ('cobbler', array([0.76049081])),\n",
       " ('pomegranate', array([0.74859236])),\n",
       " ('candied', array([0.74782884])),\n",
       " ('rhubarb', array([0.74648482])),\n",
       " ('pickle', array([0.74236698])),\n",
       " ('sorbet', array([0.73917112]))]"
      ]
     },
     "execution_count": 205,
     "metadata": {},
     "output_type": "execute_result"
    }
   ],
   "source": [
    "find_nearest_words(A_prox[0,:], vocab, embed, metric = 'cosine_similarity')"
   ]
  },
  {
   "cell_type": "code",
   "execution_count": 187,
   "metadata": {},
   "outputs": [],
   "source": [
    "centroid = embed.sum(axis = 0)\n",
    "norms = np.linalg.norm(embed - centroid, axis = 1)\n",
    "normed_embed = (embed - centroid)/norms[:,None]\n",
    "\n",
    "norm = np.linalg.norm(A_prox[2,:] - centroid)\n",
    "normed_x = (A_prox[2,:] - centroid)/norm"
   ]
  },
  {
   "cell_type": "code",
   "execution_count": 188,
   "metadata": {},
   "outputs": [],
   "source": [
    "norm = np.linalg.norm(X[2,:] - centroid)\n",
    "normed_x = (X[2,:] - centroid)/norm"
   ]
  },
  {
   "cell_type": "code",
   "execution_count": 189,
   "metadata": {},
   "outputs": [
    {
     "data": {
      "text/plain": [
       "[('white', array([1.])),\n",
       " ('black', array([1.])),\n",
       " ('gray', array([1.])),\n",
       " ('green', array([1.])),\n",
       " ('straightener', array([1.])),\n",
       " ('brown', array([1.])),\n",
       " ('light-colored', array([1.])),\n",
       " ('blood-red', array([1.])),\n",
       " ('stinkwood', array([1.])),\n",
       " ('ecru', array([1.]))]"
      ]
     },
     "execution_count": 189,
     "metadata": {},
     "output_type": "execute_result"
    }
   ],
   "source": [
    "find_nearest_words(normed_x, vocab, normed_embed, metric = 'cosine_similarity')"
   ]
  },
  {
   "cell_type": "code",
   "execution_count": 190,
   "metadata": {},
   "outputs": [
    {
     "data": {
      "text/plain": [
       "[('white', 2.140912511205415e-16),\n",
       " ('black', 4.082475509844446e-06),\n",
       " ('gray', 4.420460065713855e-06),\n",
       " ('green', 4.496105397021316e-06),\n",
       " ('straightener', 4.798953252011358e-06),\n",
       " ('brown', 4.80397938694234e-06),\n",
       " ('light-colored', 4.818306789170287e-06),\n",
       " ('blood-red', 4.863696364292146e-06),\n",
       " ('stinkwood', 4.869211300223045e-06),\n",
       " ('ecru', 4.882550061239889e-06)]"
      ]
     },
     "execution_count": 190,
     "metadata": {},
     "output_type": "execute_result"
    }
   ],
   "source": [
    "find_nearest_words(normed_x, vocab, normed_embed, metric = 'euclidean_distance')"
   ]
  },
  {
   "cell_type": "code",
   "execution_count": 200,
   "metadata": {},
   "outputs": [
    {
     "data": {
      "text/plain": [
       "array([ 0.00533641, -0.01787854, -0.19873847,  0.22222647,  0.09749482,\n",
       "        0.11854932, -0.13237801, -0.05128171,  0.02827775,  0.07647994,\n",
       "       -0.09463979,  0.01749037,  0.24813689, -0.07811896,  0.05922052,\n",
       "       -0.0262983 , -0.07145906,  0.13986933,  0.11535557, -0.21720439,\n",
       "       -0.02110517, -0.18968447,  0.25563991,  0.04325991, -0.09342878,\n",
       "        0.05797962, -0.05496449,  0.23259176,  0.17238111, -0.16514826,\n",
       "        0.30592708, -0.0583743 , -0.14054475,  0.24027601,  0.07937818,\n",
       "        0.03047899, -0.25740228,  0.055982  ,  0.16992432, -0.16753858,\n",
       "       -0.06745765, -0.00736106, -0.2194927 , -0.16200851,  0.18280955,\n",
       "        0.14738331,  0.04645289, -0.13066189,  0.03813754, -0.03698073])"
      ]
     },
     "execution_count": 200,
     "metadata": {},
     "output_type": "execute_result"
    }
   ],
   "source": [
    "X[fruit_idx].mean(axis = 0)/np.linalg.norm(X[fruit_idx].mean(axis = 0))\n"
   ]
  },
  {
   "cell_type": "code",
   "execution_count": 201,
   "metadata": {},
   "outputs": [
    {
     "data": {
      "text/plain": [
       "array([-0.05726719, -0.01751745, -0.10456211,  0.16901264,  0.13980601,\n",
       "        0.16234777, -0.09291117,  0.10483205, -0.04888838,  0.07517027,\n",
       "       -0.20622353, -0.03880031,  0.19558154, -0.11026077,  0.09321433,\n",
       "       -0.0073865 , -0.0976044 ,  0.15647898,  0.25486614, -0.2285901 ,\n",
       "        0.07693528, -0.09432162,  0.25718746,  0.11497884, -0.03950574,\n",
       "        0.19650431, -0.07798253,  0.16215425,  0.17664075, -0.06806152,\n",
       "       -0.10072558, -0.14833133, -0.1561608 ,  0.18323812,  0.16692315,\n",
       "       -0.04872101, -0.26982613, -0.01802127,  0.2107482 , -0.11272128,\n",
       "       -0.08700075,  0.01866338, -0.33146007, -0.12923918,  0.08929448,\n",
       "        0.14798069,  0.07660203, -0.00626841, -0.06324882,  0.03886811])"
      ]
     },
     "execution_count": 201,
     "metadata": {},
     "output_type": "execute_result"
    }
   ],
   "source": [
    "A_prox[0,:]/np.linalg.norm(A_prox[0,:])"
   ]
  },
  {
   "cell_type": "code",
   "execution_count": 204,
   "metadata": {},
   "outputs": [
    {
     "data": {
      "text/plain": [
       "0.7946981943693108"
      ]
     },
     "execution_count": 204,
     "metadata": {},
     "output_type": "execute_result"
    }
   ],
   "source": [
    "result = 1 - spatial.distance.cosine(X[fruit_idx].mean(axis = 0), A_prox[0,:])\n",
    "result"
   ]
  },
  {
   "cell_type": "code",
   "execution_count": 208,
   "metadata": {},
   "outputs": [
    {
     "data": {
      "text/plain": [
       "[('mango', array([0.930017])),\n",
       " ('peach', array([0.90159437])),\n",
       " ('pineapple', array([0.89876458])),\n",
       " ('fruit', array([0.8744893])),\n",
       " ('pear', array([0.86853496])),\n",
       " ('tomato', array([0.86257965])),\n",
       " ('juice', array([0.86092226])),\n",
       " ('coconut', array([0.85340767])),\n",
       " ('plum', array([0.84996229])),\n",
       " ('apricot', array([0.8445478]))]"
      ]
     },
     "execution_count": 208,
     "metadata": {},
     "output_type": "execute_result"
    }
   ],
   "source": [
    "find_nearest_words(X[fruit_idx].mean(axis = 0), vocab, embed, metric = 'cosine_similarity')"
   ]
  },
  {
   "cell_type": "code",
   "execution_count": 209,
   "metadata": {},
   "outputs": [
    {
     "data": {
      "text/plain": [
       "[('mango', 1.8203236106026537),\n",
       " ('peach', 2.0437119116986633),\n",
       " ('plum', 2.335863235674106),\n",
       " ('pineapple', 2.352487001535914),\n",
       " ('cherry', 2.4499484179834248),\n",
       " ('pear', 2.452042962546458),\n",
       " ('bean', 2.4811914977718237),\n",
       " ('pomegranate', 2.565040562030597),\n",
       " ('pumpkin', 2.6212278468048122),\n",
       " ('watermelon', 2.627281535041358)]"
      ]
     },
     "execution_count": 209,
     "metadata": {},
     "output_type": "execute_result"
    }
   ],
   "source": [
    "find_nearest_words(X[fruit_idx].mean(axis = 0), vocab, embed, metric = 'euclidean_distance')"
   ]
  },
  {
   "cell_type": "markdown",
   "metadata": {},
   "source": [
    "## average of moving windows\n",
    "\n",
    "https://www.kaggle.com/rmisra/news-category-dataset"
   ]
  },
  {
   "cell_type": "code",
   "execution_count": 224,
   "metadata": {},
   "outputs": [
    {
     "data": {
      "text/html": [
       "<div>\n",
       "<style scoped>\n",
       "    .dataframe tbody tr th:only-of-type {\n",
       "        vertical-align: middle;\n",
       "    }\n",
       "\n",
       "    .dataframe tbody tr th {\n",
       "        vertical-align: top;\n",
       "    }\n",
       "\n",
       "    .dataframe thead th {\n",
       "        text-align: right;\n",
       "    }\n",
       "</style>\n",
       "<table border=\"1\" class=\"dataframe\">\n",
       "  <thead>\n",
       "    <tr style=\"text-align: right;\">\n",
       "      <th></th>\n",
       "      <th>category</th>\n",
       "      <th>headline</th>\n",
       "      <th>authors</th>\n",
       "      <th>link</th>\n",
       "      <th>short_description</th>\n",
       "      <th>date</th>\n",
       "    </tr>\n",
       "  </thead>\n",
       "  <tbody>\n",
       "    <tr>\n",
       "      <th>0</th>\n",
       "      <td>CRIME</td>\n",
       "      <td>There Were 2 Mass Shootings In Texas Last Week...</td>\n",
       "      <td>Melissa Jeltsen</td>\n",
       "      <td>https://www.huffingtonpost.com/entry/texas-ama...</td>\n",
       "      <td>She left her husband. He killed their children...</td>\n",
       "      <td>2018-05-26</td>\n",
       "    </tr>\n",
       "    <tr>\n",
       "      <th>1</th>\n",
       "      <td>ENTERTAINMENT</td>\n",
       "      <td>Will Smith Joins Diplo And Nicky Jam For The 2...</td>\n",
       "      <td>Andy McDonald</td>\n",
       "      <td>https://www.huffingtonpost.com/entry/will-smit...</td>\n",
       "      <td>Of course it has a song.</td>\n",
       "      <td>2018-05-26</td>\n",
       "    </tr>\n",
       "    <tr>\n",
       "      <th>2</th>\n",
       "      <td>ENTERTAINMENT</td>\n",
       "      <td>Hugh Grant Marries For The First Time At Age 57</td>\n",
       "      <td>Ron Dicker</td>\n",
       "      <td>https://www.huffingtonpost.com/entry/hugh-gran...</td>\n",
       "      <td>The actor and his longtime girlfriend Anna Ebe...</td>\n",
       "      <td>2018-05-26</td>\n",
       "    </tr>\n",
       "    <tr>\n",
       "      <th>3</th>\n",
       "      <td>ENTERTAINMENT</td>\n",
       "      <td>Jim Carrey Blasts 'Castrato' Adam Schiff And D...</td>\n",
       "      <td>Ron Dicker</td>\n",
       "      <td>https://www.huffingtonpost.com/entry/jim-carre...</td>\n",
       "      <td>The actor gives Dems an ass-kicking for not fi...</td>\n",
       "      <td>2018-05-26</td>\n",
       "    </tr>\n",
       "    <tr>\n",
       "      <th>4</th>\n",
       "      <td>ENTERTAINMENT</td>\n",
       "      <td>Julianna Margulies Uses Donald Trump Poop Bags...</td>\n",
       "      <td>Ron Dicker</td>\n",
       "      <td>https://www.huffingtonpost.com/entry/julianna-...</td>\n",
       "      <td>The \"Dietland\" actress said using the bags is ...</td>\n",
       "      <td>2018-05-26</td>\n",
       "    </tr>\n",
       "    <tr>\n",
       "      <th>...</th>\n",
       "      <td>...</td>\n",
       "      <td>...</td>\n",
       "      <td>...</td>\n",
       "      <td>...</td>\n",
       "      <td>...</td>\n",
       "      <td>...</td>\n",
       "    </tr>\n",
       "    <tr>\n",
       "      <th>200848</th>\n",
       "      <td>TECH</td>\n",
       "      <td>RIM CEO Thorsten Heins' 'Significant' Plans Fo...</td>\n",
       "      <td>Reuters, Reuters</td>\n",
       "      <td>https://www.huffingtonpost.com/entry/rim-ceo-t...</td>\n",
       "      <td>Verizon Wireless and AT&amp;T are already promotin...</td>\n",
       "      <td>2012-01-28</td>\n",
       "    </tr>\n",
       "    <tr>\n",
       "      <th>200849</th>\n",
       "      <td>SPORTS</td>\n",
       "      <td>Maria Sharapova Stunned By Victoria Azarenka I...</td>\n",
       "      <td></td>\n",
       "      <td>https://www.huffingtonpost.com/entry/maria-sha...</td>\n",
       "      <td>Afterward, Azarenka, more effusive with the pr...</td>\n",
       "      <td>2012-01-28</td>\n",
       "    </tr>\n",
       "    <tr>\n",
       "      <th>200850</th>\n",
       "      <td>SPORTS</td>\n",
       "      <td>Giants Over Patriots, Jets Over Colts Among  M...</td>\n",
       "      <td></td>\n",
       "      <td>https://www.huffingtonpost.com/entry/super-bow...</td>\n",
       "      <td>Leading up to Super Bowl XLVI, the most talked...</td>\n",
       "      <td>2012-01-28</td>\n",
       "    </tr>\n",
       "    <tr>\n",
       "      <th>200851</th>\n",
       "      <td>SPORTS</td>\n",
       "      <td>Aldon Smith Arrested: 49ers Linebacker Busted ...</td>\n",
       "      <td></td>\n",
       "      <td>https://www.huffingtonpost.com/entry/aldon-smi...</td>\n",
       "      <td>CORRECTION: An earlier version of this story i...</td>\n",
       "      <td>2012-01-28</td>\n",
       "    </tr>\n",
       "    <tr>\n",
       "      <th>200852</th>\n",
       "      <td>SPORTS</td>\n",
       "      <td>Dwight Howard Rips Teammates After Magic Loss ...</td>\n",
       "      <td></td>\n",
       "      <td>https://www.huffingtonpost.com/entry/dwight-ho...</td>\n",
       "      <td>The five-time all-star center tore into his te...</td>\n",
       "      <td>2012-01-28</td>\n",
       "    </tr>\n",
       "  </tbody>\n",
       "</table>\n",
       "<p>200853 rows × 6 columns</p>\n",
       "</div>"
      ],
      "text/plain": [
       "             category                                           headline  \\\n",
       "0               CRIME  There Were 2 Mass Shootings In Texas Last Week...   \n",
       "1       ENTERTAINMENT  Will Smith Joins Diplo And Nicky Jam For The 2...   \n",
       "2       ENTERTAINMENT    Hugh Grant Marries For The First Time At Age 57   \n",
       "3       ENTERTAINMENT  Jim Carrey Blasts 'Castrato' Adam Schiff And D...   \n",
       "4       ENTERTAINMENT  Julianna Margulies Uses Donald Trump Poop Bags...   \n",
       "...               ...                                                ...   \n",
       "200848           TECH  RIM CEO Thorsten Heins' 'Significant' Plans Fo...   \n",
       "200849         SPORTS  Maria Sharapova Stunned By Victoria Azarenka I...   \n",
       "200850         SPORTS  Giants Over Patriots, Jets Over Colts Among  M...   \n",
       "200851         SPORTS  Aldon Smith Arrested: 49ers Linebacker Busted ...   \n",
       "200852         SPORTS  Dwight Howard Rips Teammates After Magic Loss ...   \n",
       "\n",
       "                 authors                                               link  \\\n",
       "0        Melissa Jeltsen  https://www.huffingtonpost.com/entry/texas-ama...   \n",
       "1          Andy McDonald  https://www.huffingtonpost.com/entry/will-smit...   \n",
       "2             Ron Dicker  https://www.huffingtonpost.com/entry/hugh-gran...   \n",
       "3             Ron Dicker  https://www.huffingtonpost.com/entry/jim-carre...   \n",
       "4             Ron Dicker  https://www.huffingtonpost.com/entry/julianna-...   \n",
       "...                  ...                                                ...   \n",
       "200848  Reuters, Reuters  https://www.huffingtonpost.com/entry/rim-ceo-t...   \n",
       "200849                    https://www.huffingtonpost.com/entry/maria-sha...   \n",
       "200850                    https://www.huffingtonpost.com/entry/super-bow...   \n",
       "200851                    https://www.huffingtonpost.com/entry/aldon-smi...   \n",
       "200852                    https://www.huffingtonpost.com/entry/dwight-ho...   \n",
       "\n",
       "                                        short_description       date  \n",
       "0       She left her husband. He killed their children... 2018-05-26  \n",
       "1                                Of course it has a song. 2018-05-26  \n",
       "2       The actor and his longtime girlfriend Anna Ebe... 2018-05-26  \n",
       "3       The actor gives Dems an ass-kicking for not fi... 2018-05-26  \n",
       "4       The \"Dietland\" actress said using the bags is ... 2018-05-26  \n",
       "...                                                   ...        ...  \n",
       "200848  Verizon Wireless and AT&T are already promotin... 2012-01-28  \n",
       "200849  Afterward, Azarenka, more effusive with the pr... 2012-01-28  \n",
       "200850  Leading up to Super Bowl XLVI, the most talked... 2012-01-28  \n",
       "200851  CORRECTION: An earlier version of this story i... 2012-01-28  \n",
       "200852  The five-time all-star center tore into his te... 2012-01-28  \n",
       "\n",
       "[200853 rows x 6 columns]"
      ]
     },
     "execution_count": 224,
     "metadata": {},
     "output_type": "execute_result"
    }
   ],
   "source": [
    "df = pd.read_json('dataset/News_Category_Dataset_v2.json', lines=True)\n",
    "df"
   ]
  },
  {
   "cell_type": "code",
   "execution_count": 232,
   "metadata": {},
   "outputs": [
    {
     "data": {
      "text/html": [
       "<div>\n",
       "<style scoped>\n",
       "    .dataframe tbody tr th:only-of-type {\n",
       "        vertical-align: middle;\n",
       "    }\n",
       "\n",
       "    .dataframe tbody tr th {\n",
       "        vertical-align: top;\n",
       "    }\n",
       "\n",
       "    .dataframe thead th {\n",
       "        text-align: right;\n",
       "    }\n",
       "</style>\n",
       "<table border=\"1\" class=\"dataframe\">\n",
       "  <thead>\n",
       "    <tr style=\"text-align: right;\">\n",
       "      <th></th>\n",
       "      <th>headline</th>\n",
       "      <th>authors</th>\n",
       "      <th>link</th>\n",
       "      <th>short_description</th>\n",
       "      <th>date</th>\n",
       "    </tr>\n",
       "    <tr>\n",
       "      <th>category</th>\n",
       "      <th></th>\n",
       "      <th></th>\n",
       "      <th></th>\n",
       "      <th></th>\n",
       "      <th></th>\n",
       "    </tr>\n",
       "  </thead>\n",
       "  <tbody>\n",
       "    <tr>\n",
       "      <th>ARTS</th>\n",
       "      <td>1509</td>\n",
       "      <td>1509</td>\n",
       "      <td>1509</td>\n",
       "      <td>1509</td>\n",
       "      <td>1509</td>\n",
       "    </tr>\n",
       "    <tr>\n",
       "      <th>ARTS &amp; CULTURE</th>\n",
       "      <td>1339</td>\n",
       "      <td>1339</td>\n",
       "      <td>1339</td>\n",
       "      <td>1339</td>\n",
       "      <td>1339</td>\n",
       "    </tr>\n",
       "    <tr>\n",
       "      <th>BLACK VOICES</th>\n",
       "      <td>4528</td>\n",
       "      <td>4528</td>\n",
       "      <td>4528</td>\n",
       "      <td>4528</td>\n",
       "      <td>4528</td>\n",
       "    </tr>\n",
       "    <tr>\n",
       "      <th>BUSINESS</th>\n",
       "      <td>5937</td>\n",
       "      <td>5937</td>\n",
       "      <td>5937</td>\n",
       "      <td>5937</td>\n",
       "      <td>5937</td>\n",
       "    </tr>\n",
       "    <tr>\n",
       "      <th>COLLEGE</th>\n",
       "      <td>1144</td>\n",
       "      <td>1144</td>\n",
       "      <td>1144</td>\n",
       "      <td>1144</td>\n",
       "      <td>1144</td>\n",
       "    </tr>\n",
       "    <tr>\n",
       "      <th>COMEDY</th>\n",
       "      <td>5175</td>\n",
       "      <td>5175</td>\n",
       "      <td>5175</td>\n",
       "      <td>5175</td>\n",
       "      <td>5175</td>\n",
       "    </tr>\n",
       "    <tr>\n",
       "      <th>CRIME</th>\n",
       "      <td>3405</td>\n",
       "      <td>3405</td>\n",
       "      <td>3405</td>\n",
       "      <td>3405</td>\n",
       "      <td>3405</td>\n",
       "    </tr>\n",
       "    <tr>\n",
       "      <th>CULTURE &amp; ARTS</th>\n",
       "      <td>1030</td>\n",
       "      <td>1030</td>\n",
       "      <td>1030</td>\n",
       "      <td>1030</td>\n",
       "      <td>1030</td>\n",
       "    </tr>\n",
       "    <tr>\n",
       "      <th>DIVORCE</th>\n",
       "      <td>3426</td>\n",
       "      <td>3426</td>\n",
       "      <td>3426</td>\n",
       "      <td>3426</td>\n",
       "      <td>3426</td>\n",
       "    </tr>\n",
       "    <tr>\n",
       "      <th>EDUCATION</th>\n",
       "      <td>1004</td>\n",
       "      <td>1004</td>\n",
       "      <td>1004</td>\n",
       "      <td>1004</td>\n",
       "      <td>1004</td>\n",
       "    </tr>\n",
       "    <tr>\n",
       "      <th>ENTERTAINMENT</th>\n",
       "      <td>16058</td>\n",
       "      <td>16058</td>\n",
       "      <td>16058</td>\n",
       "      <td>16058</td>\n",
       "      <td>16058</td>\n",
       "    </tr>\n",
       "    <tr>\n",
       "      <th>ENVIRONMENT</th>\n",
       "      <td>1323</td>\n",
       "      <td>1323</td>\n",
       "      <td>1323</td>\n",
       "      <td>1323</td>\n",
       "      <td>1323</td>\n",
       "    </tr>\n",
       "    <tr>\n",
       "      <th>FIFTY</th>\n",
       "      <td>1401</td>\n",
       "      <td>1401</td>\n",
       "      <td>1401</td>\n",
       "      <td>1401</td>\n",
       "      <td>1401</td>\n",
       "    </tr>\n",
       "    <tr>\n",
       "      <th>FOOD &amp; DRINK</th>\n",
       "      <td>6226</td>\n",
       "      <td>6226</td>\n",
       "      <td>6226</td>\n",
       "      <td>6226</td>\n",
       "      <td>6226</td>\n",
       "    </tr>\n",
       "    <tr>\n",
       "      <th>GOOD NEWS</th>\n",
       "      <td>1398</td>\n",
       "      <td>1398</td>\n",
       "      <td>1398</td>\n",
       "      <td>1398</td>\n",
       "      <td>1398</td>\n",
       "    </tr>\n",
       "    <tr>\n",
       "      <th>GREEN</th>\n",
       "      <td>2622</td>\n",
       "      <td>2622</td>\n",
       "      <td>2622</td>\n",
       "      <td>2622</td>\n",
       "      <td>2622</td>\n",
       "    </tr>\n",
       "    <tr>\n",
       "      <th>HEALTHY LIVING</th>\n",
       "      <td>6694</td>\n",
       "      <td>6694</td>\n",
       "      <td>6694</td>\n",
       "      <td>6694</td>\n",
       "      <td>6694</td>\n",
       "    </tr>\n",
       "    <tr>\n",
       "      <th>HOME &amp; LIVING</th>\n",
       "      <td>4195</td>\n",
       "      <td>4195</td>\n",
       "      <td>4195</td>\n",
       "      <td>4195</td>\n",
       "      <td>4195</td>\n",
       "    </tr>\n",
       "    <tr>\n",
       "      <th>IMPACT</th>\n",
       "      <td>3459</td>\n",
       "      <td>3459</td>\n",
       "      <td>3459</td>\n",
       "      <td>3459</td>\n",
       "      <td>3459</td>\n",
       "    </tr>\n",
       "    <tr>\n",
       "      <th>LATINO VOICES</th>\n",
       "      <td>1129</td>\n",
       "      <td>1129</td>\n",
       "      <td>1129</td>\n",
       "      <td>1129</td>\n",
       "      <td>1129</td>\n",
       "    </tr>\n",
       "    <tr>\n",
       "      <th>MEDIA</th>\n",
       "      <td>2815</td>\n",
       "      <td>2815</td>\n",
       "      <td>2815</td>\n",
       "      <td>2815</td>\n",
       "      <td>2815</td>\n",
       "    </tr>\n",
       "    <tr>\n",
       "      <th>MONEY</th>\n",
       "      <td>1707</td>\n",
       "      <td>1707</td>\n",
       "      <td>1707</td>\n",
       "      <td>1707</td>\n",
       "      <td>1707</td>\n",
       "    </tr>\n",
       "    <tr>\n",
       "      <th>PARENTING</th>\n",
       "      <td>8677</td>\n",
       "      <td>8677</td>\n",
       "      <td>8677</td>\n",
       "      <td>8677</td>\n",
       "      <td>8677</td>\n",
       "    </tr>\n",
       "    <tr>\n",
       "      <th>PARENTS</th>\n",
       "      <td>3955</td>\n",
       "      <td>3955</td>\n",
       "      <td>3955</td>\n",
       "      <td>3955</td>\n",
       "      <td>3955</td>\n",
       "    </tr>\n",
       "    <tr>\n",
       "      <th>POLITICS</th>\n",
       "      <td>32739</td>\n",
       "      <td>32739</td>\n",
       "      <td>32739</td>\n",
       "      <td>32739</td>\n",
       "      <td>32739</td>\n",
       "    </tr>\n",
       "    <tr>\n",
       "      <th>QUEER VOICES</th>\n",
       "      <td>6314</td>\n",
       "      <td>6314</td>\n",
       "      <td>6314</td>\n",
       "      <td>6314</td>\n",
       "      <td>6314</td>\n",
       "    </tr>\n",
       "    <tr>\n",
       "      <th>RELIGION</th>\n",
       "      <td>2556</td>\n",
       "      <td>2556</td>\n",
       "      <td>2556</td>\n",
       "      <td>2556</td>\n",
       "      <td>2556</td>\n",
       "    </tr>\n",
       "    <tr>\n",
       "      <th>SCIENCE</th>\n",
       "      <td>2178</td>\n",
       "      <td>2178</td>\n",
       "      <td>2178</td>\n",
       "      <td>2178</td>\n",
       "      <td>2178</td>\n",
       "    </tr>\n",
       "    <tr>\n",
       "      <th>SPORTS</th>\n",
       "      <td>4884</td>\n",
       "      <td>4884</td>\n",
       "      <td>4884</td>\n",
       "      <td>4884</td>\n",
       "      <td>4884</td>\n",
       "    </tr>\n",
       "    <tr>\n",
       "      <th>STYLE</th>\n",
       "      <td>2254</td>\n",
       "      <td>2254</td>\n",
       "      <td>2254</td>\n",
       "      <td>2254</td>\n",
       "      <td>2254</td>\n",
       "    </tr>\n",
       "    <tr>\n",
       "      <th>STYLE &amp; BEAUTY</th>\n",
       "      <td>9649</td>\n",
       "      <td>9649</td>\n",
       "      <td>9649</td>\n",
       "      <td>9649</td>\n",
       "      <td>9649</td>\n",
       "    </tr>\n",
       "    <tr>\n",
       "      <th>TASTE</th>\n",
       "      <td>2096</td>\n",
       "      <td>2096</td>\n",
       "      <td>2096</td>\n",
       "      <td>2096</td>\n",
       "      <td>2096</td>\n",
       "    </tr>\n",
       "    <tr>\n",
       "      <th>TECH</th>\n",
       "      <td>2082</td>\n",
       "      <td>2082</td>\n",
       "      <td>2082</td>\n",
       "      <td>2082</td>\n",
       "      <td>2082</td>\n",
       "    </tr>\n",
       "    <tr>\n",
       "      <th>THE WORLDPOST</th>\n",
       "      <td>3664</td>\n",
       "      <td>3664</td>\n",
       "      <td>3664</td>\n",
       "      <td>3664</td>\n",
       "      <td>3664</td>\n",
       "    </tr>\n",
       "    <tr>\n",
       "      <th>TRAVEL</th>\n",
       "      <td>9887</td>\n",
       "      <td>9887</td>\n",
       "      <td>9887</td>\n",
       "      <td>9887</td>\n",
       "      <td>9887</td>\n",
       "    </tr>\n",
       "    <tr>\n",
       "      <th>WEDDINGS</th>\n",
       "      <td>3651</td>\n",
       "      <td>3651</td>\n",
       "      <td>3651</td>\n",
       "      <td>3651</td>\n",
       "      <td>3651</td>\n",
       "    </tr>\n",
       "    <tr>\n",
       "      <th>WEIRD NEWS</th>\n",
       "      <td>2670</td>\n",
       "      <td>2670</td>\n",
       "      <td>2670</td>\n",
       "      <td>2670</td>\n",
       "      <td>2670</td>\n",
       "    </tr>\n",
       "    <tr>\n",
       "      <th>WELLNESS</th>\n",
       "      <td>17827</td>\n",
       "      <td>17827</td>\n",
       "      <td>17827</td>\n",
       "      <td>17827</td>\n",
       "      <td>17827</td>\n",
       "    </tr>\n",
       "    <tr>\n",
       "      <th>WOMEN</th>\n",
       "      <td>3490</td>\n",
       "      <td>3490</td>\n",
       "      <td>3490</td>\n",
       "      <td>3490</td>\n",
       "      <td>3490</td>\n",
       "    </tr>\n",
       "    <tr>\n",
       "      <th>WORLD NEWS</th>\n",
       "      <td>2177</td>\n",
       "      <td>2177</td>\n",
       "      <td>2177</td>\n",
       "      <td>2177</td>\n",
       "      <td>2177</td>\n",
       "    </tr>\n",
       "    <tr>\n",
       "      <th>WORLDPOST</th>\n",
       "      <td>2579</td>\n",
       "      <td>2579</td>\n",
       "      <td>2579</td>\n",
       "      <td>2579</td>\n",
       "      <td>2579</td>\n",
       "    </tr>\n",
       "  </tbody>\n",
       "</table>\n",
       "</div>"
      ],
      "text/plain": [
       "                headline  authors   link  short_description   date\n",
       "category                                                          \n",
       "ARTS                1509     1509   1509               1509   1509\n",
       "ARTS & CULTURE      1339     1339   1339               1339   1339\n",
       "BLACK VOICES        4528     4528   4528               4528   4528\n",
       "BUSINESS            5937     5937   5937               5937   5937\n",
       "COLLEGE             1144     1144   1144               1144   1144\n",
       "COMEDY              5175     5175   5175               5175   5175\n",
       "CRIME               3405     3405   3405               3405   3405\n",
       "CULTURE & ARTS      1030     1030   1030               1030   1030\n",
       "DIVORCE             3426     3426   3426               3426   3426\n",
       "EDUCATION           1004     1004   1004               1004   1004\n",
       "ENTERTAINMENT      16058    16058  16058              16058  16058\n",
       "ENVIRONMENT         1323     1323   1323               1323   1323\n",
       "FIFTY               1401     1401   1401               1401   1401\n",
       "FOOD & DRINK        6226     6226   6226               6226   6226\n",
       "GOOD NEWS           1398     1398   1398               1398   1398\n",
       "GREEN               2622     2622   2622               2622   2622\n",
       "HEALTHY LIVING      6694     6694   6694               6694   6694\n",
       "HOME & LIVING       4195     4195   4195               4195   4195\n",
       "IMPACT              3459     3459   3459               3459   3459\n",
       "LATINO VOICES       1129     1129   1129               1129   1129\n",
       "MEDIA               2815     2815   2815               2815   2815\n",
       "MONEY               1707     1707   1707               1707   1707\n",
       "PARENTING           8677     8677   8677               8677   8677\n",
       "PARENTS             3955     3955   3955               3955   3955\n",
       "POLITICS           32739    32739  32739              32739  32739\n",
       "QUEER VOICES        6314     6314   6314               6314   6314\n",
       "RELIGION            2556     2556   2556               2556   2556\n",
       "SCIENCE             2178     2178   2178               2178   2178\n",
       "SPORTS              4884     4884   4884               4884   4884\n",
       "STYLE               2254     2254   2254               2254   2254\n",
       "STYLE & BEAUTY      9649     9649   9649               9649   9649\n",
       "TASTE               2096     2096   2096               2096   2096\n",
       "TECH                2082     2082   2082               2082   2082\n",
       "THE WORLDPOST       3664     3664   3664               3664   3664\n",
       "TRAVEL              9887     9887   9887               9887   9887\n",
       "WEDDINGS            3651     3651   3651               3651   3651\n",
       "WEIRD NEWS          2670     2670   2670               2670   2670\n",
       "WELLNESS           17827    17827  17827              17827  17827\n",
       "WOMEN               3490     3490   3490               3490   3490\n",
       "WORLD NEWS          2177     2177   2177               2177   2177\n",
       "WORLDPOST           2579     2579   2579               2579   2579"
      ]
     },
     "execution_count": 232,
     "metadata": {},
     "output_type": "execute_result"
    }
   ],
   "source": [
    "df.groupby(\"category\").count()"
   ]
  },
  {
   "cell_type": "code",
   "execution_count": 333,
   "metadata": {},
   "outputs": [
    {
     "data": {
      "text/plain": [
       "category                                                    WORLD NEWS\n",
       "headline             South Korean President Meets North Korea's Kim...\n",
       "authors                                                               \n",
       "link                 https://www.huffingtonpost.com/entry/south-kor...\n",
       "short_description    The two met to pave the way for a summit betwe...\n",
       "date                                               2018-05-26 00:00:00\n",
       "Name: 11, dtype: object"
      ]
     },
     "execution_count": 333,
     "metadata": {},
     "output_type": "execute_result"
    }
   ],
   "source": [
    "df.iloc[11]"
   ]
  },
  {
   "cell_type": "code",
   "execution_count": 341,
   "metadata": {},
   "outputs": [],
   "source": [
    "doc_idx_list = [11, 122, 145]\n",
    "docs = []\n",
    "doc_slices = []\n",
    "doc_slices_labels = []\n",
    "window_size = 3    # n words before and n words after\n",
    "step = 1\n",
    "for idx in doc_idx_list:\n",
    "    doc = word_tokenize(df.iloc[idx]['short_description'].lower())\n",
    "    for word in doc:\n",
    "        if word not in vocab:\n",
    "            print(word+' not existing in vocab')\n",
    "            doc.remove(word)\n",
    "    docs.append(doc)\n",
    "            \n",
    "    for i in range(window_size,len(doc)-window_size, step):\n",
    "        doc_slices.append(doc[i-window_size:i+window_size+1])\n",
    "        doc_slices_labels.append(idx)"
   ]
  },
  {
   "cell_type": "code",
   "execution_count": 342,
   "metadata": {},
   "outputs": [
    {
     "name": "stdout",
     "output_type": "stream",
     "text": [
      "the two met to pave the way for a summit between north korean and the u.s .\n",
      "“ why did you shoot at the girl ? you killed her ! ” a bystander asks in viral video that shows the aftermath of the shooting .\n",
      "`` he ’ s my brother , so it ’ s hard . i may not have a very clear perspective on it , but i ’ m trying to . ”\n"
     ]
    }
   ],
   "source": [
    "for i in docs:\n",
    "    print(' '.join(i))"
   ]
  },
  {
   "cell_type": "code",
   "execution_count": 343,
   "metadata": {},
   "outputs": [
    {
     "data": {
      "text/plain": [
       "59"
      ]
     },
     "execution_count": 343,
     "metadata": {},
     "output_type": "execute_result"
    }
   ],
   "source": [
    "len(doc_slices)"
   ]
  },
  {
   "cell_type": "code",
   "execution_count": 344,
   "metadata": {},
   "outputs": [],
   "source": [
    "word_embed_avgs = np.zeros((len(doc_slices), 50))\n",
    "for i,doc_slice in enumerate(doc_slices):\n",
    "    for word in doc_slice:\n",
    "        word_idx = vocab.index(word)\n",
    "        word_embed_avgs[i,:] += embed[word_idx,:]\n",
    "word_embed_avgs = word_embed_avgs/5"
   ]
  },
  {
   "cell_type": "code",
   "execution_count": 345,
   "metadata": {},
   "outputs": [
    {
     "data": {
      "application/vnd.jupyter.widget-view+json": {
       "model_id": "ade87f1e080541efb99efc81945d0e26",
       "version_major": 2,
       "version_minor": 0
      },
      "text/plain": [
       "HBox(children=(HTML(value=''), FloatProgress(value=0.0, max=2000.0), HTML(value='')))"
      ]
     },
     "metadata": {},
     "output_type": "display_data"
    },
    {
     "name": "stdout",
     "output_type": "stream",
     "text": [
      "iteration 0/2000: number of feature: 1\n",
      "iteration 50/2000: number of feature: 1\n",
      "iteration 100/2000: number of feature: 3\n",
      "iteration 150/2000: number of feature: 3\n",
      "iteration 200/2000: number of feature: 3\n",
      "iteration 250/2000: number of feature: 3\n",
      "iteration 300/2000: number of feature: 3\n",
      "iteration 350/2000: number of feature: 3\n",
      "iteration 400/2000: number of feature: 3\n",
      "iteration 450/2000: number of feature: 3\n",
      "iteration 500/2000: number of feature: 3\n",
      "iteration 550/2000: number of feature: 3\n",
      "iteration 600/2000: number of feature: 3\n",
      "iteration 650/2000: number of feature: 3\n",
      "iteration 700/2000: number of feature: 3\n",
      "iteration 750/2000: number of feature: 3\n",
      "iteration 800/2000: number of feature: 3\n",
      "iteration 850/2000: number of feature: 3\n",
      "iteration 900/2000: number of feature: 3\n",
      "iteration 950/2000: number of feature: 3\n",
      "iteration 1000/2000: number of feature: 3\n",
      "iteration 1050/2000: number of feature: 3\n",
      "iteration 1100/2000: number of feature: 3\n",
      "iteration 1150/2000: number of feature: 3\n",
      "iteration 1200/2000: number of feature: 3\n",
      "iteration 1250/2000: number of feature: 3\n",
      "iteration 1300/2000: number of feature: 3\n",
      "iteration 1350/2000: number of feature: 3\n",
      "iteration 1400/2000: number of feature: 3\n",
      "iteration 1450/2000: number of feature: 3\n",
      "iteration 1500/2000: number of feature: 3\n",
      "iteration 1550/2000: number of feature: 3\n",
      "iteration 1600/2000: number of feature: 3\n",
      "iteration 1650/2000: number of feature: 3\n",
      "iteration 1700/2000: number of feature: 3\n",
      "iteration 1750/2000: number of feature: 3\n",
      "iteration 1800/2000: number of feature: 3\n",
      "iteration 1850/2000: number of feature: 3\n",
      "iteration 1900/2000: number of feature: 3\n",
      "iteration 1950/2000: number of feature: 3\n",
      "\n"
     ]
    }
   ],
   "source": [
    "history3 = infer(word_embed_avgs, num_iter = 2000, IBP_init = False, log_per_iter = 50)"
   ]
  },
  {
   "cell_type": "code",
   "execution_count": 346,
   "metadata": {},
   "outputs": [],
   "source": [
    "Z = history3['Z'][-1]\n",
    "sigma_X = history3['sigma_X'][-1]\n",
    "sigma_A = history3['sigma_A'][-1]\n",
    "K_plus = history3['K_plus'][-1]\n",
    "M = np.linalg.inv(Z.T@Z + (sigma_X**2/sigma_A**2)*np.diag(np.ones(K_plus)))\n",
    "A_prox = M@Z.T@word_embed_avgs\n",
    "X_prox = Z@A_prox"
   ]
  },
  {
   "cell_type": "code",
   "execution_count": 347,
   "metadata": {},
   "outputs": [
    {
     "data": {
      "image/png": "[encoded data removed]",
      "text/plain": [
       "<Figure size 720x1080 with 1 Axes>"
      ]
     },
     "metadata": {
      "needs_background": "light"
     },
     "output_type": "display_data"
    }
   ],
   "source": [
    "plt.figure(figsize=(10,15))\n",
    "plt.yticks(np.arange(len(doc_slices_labels)), doc_slices_labels, fontsize = 16)\n",
    "plt.xlabel('feature dimension', fontsize = 16)\n",
    "plt.ylabel('real labels', fontsize = 16)\n",
    "\n",
    "plt.gca().xaxis.set_label_position('top')\n",
    "# plt.fill_between([-0.5,4.5],y1 = 49.5, y2=-0.5, color=\"none\",hatch=\"X\",edgecolor=\"b\")\n",
    "plt.imshow(Z, cmap='gray')\n",
    "# plt.xlim(-0.5,)\n",
    "# plt.ylim(49.5,-0.5)\n",
    "plt.show()"
   ]
  },
  {
   "cell_type": "code",
   "execution_count": null,
   "metadata": {},
   "outputs": [],
   "source": []
  }
 ],
 "metadata": {
  "kernelspec": {
   "display_name": "Python 3",
   "language": "python",
   "name": "python3"
  },
  "language_info": {
   "codemirror_mode": {
    "name": "ipython",
    "version": 3
   },
   "file_extension": ".py",
   "mimetype": "text/x-python",
   "name": "python",
   "nbconvert_exporter": "python",
   "pygments_lexer": "ipython3",
   "version": "3.8.5"
  },
  "toc": {
   "base_numbering": 1,
   "nav_menu": {},
   "number_sections": true,
   "sideBar": true,
   "skip_h1_title": false,
   "title_cell": "Table of Contents",
   "title_sidebar": "Contents",
   "toc_cell": false,
   "toc_position": {
    "height": "calc(100% - 180px)",
    "left": "10px",
    "top": "150px",
    "width": "165px"
   },
   "toc_section_display": true,
   "toc_window_display": true
  }
 },
 "nbformat": 4,
 "nbformat_minor": 4
}
