{
 "cells": [
  {
   "cell_type": "markdown",
   "metadata": {
    "toc": true
   },
   "source": [
    "<h1>Table of Contents<span class=\"tocSkip\"></span></h1>\n",
    "<div class=\"toc\"><ul class=\"toc-item\"><li><span><a href=\"#skip\" data-toc-modified-id=\"skip-1\"><span class=\"toc-item-num\">1&nbsp;&nbsp;</span>skip</a></span></li><li><span><a href=\"#start-from-below\" data-toc-modified-id=\"start-from-below-2\"><span class=\"toc-item-num\">2&nbsp;&nbsp;</span>start from below</a></span></li><li><span><a href=\"#glove\" data-toc-modified-id=\"glove-3\"><span class=\"toc-item-num\">3&nbsp;&nbsp;</span>glove</a></span></li><li><span><a href=\"#on-bert-sentence-embeddings\" data-toc-modified-id=\"on-bert-sentence-embeddings-4\"><span class=\"toc-item-num\">4&nbsp;&nbsp;</span>on bert sentence embeddings</a></span></li></ul></div>"
   ]
  },
  {
   "cell_type": "markdown",
   "metadata": {},
   "source": [
    "How to resolve the nan?\n",
    "- float128 not support for numpy/scipy special functions, like Gamma\n",
    "- checked derivation for rho_n\\[0\\], it's correct\n",
    "- temperature, won't influence rho_n\\[0\\] \n",
    "- L'Hôpital's rule? no. take derivative of beta\\^alpha over alpha is still problematic\n",
    "- Stirling's approximation!! cancel out some big terms and get an analytical approximation,\n"
   ]
  },
  {
   "cell_type": "code",
   "execution_count": 1,
   "metadata": {},
   "outputs": [],
   "source": [
    "import numpy as np\n",
    "import matplotlib.pyplot as plt\n",
    "from tqdm.notebook import tqdm,trange\n",
    "import pdb\n",
    "import inspect\n",
    "import scipy.io\n",
    "import copy\n",
    "\n",
    "import scipy.stats, scipy.special\n",
    "from scipy.special import digamma as Digamma\n",
    "from scipy.special import gamma as Gamma\n",
    "\n",
    "from numpy.random import gamma as Gammar\n",
    "from numpy.random import beta as Beta\n",
    "from numpy.random import multivariate_normal as Normal\n"
   ]
  },
  {
   "cell_type": "code",
   "execution_count": 179,
   "metadata": {},
   "outputs": [],
   "source": [
    "def GammaR(alpha, beta):\n",
    "    return Gammar(alpha, scale = 1/beta)"
   ]
  },
  {
   "cell_type": "code",
   "execution_count": 180,
   "metadata": {},
   "outputs": [],
   "source": [
    "def log(x):\n",
    "    return np.log(x)"
   ]
  },
  {
   "cell_type": "code",
   "execution_count": 181,
   "metadata": {},
   "outputs": [],
   "source": [
    "def logGamma(x):\n",
    "    return np.log(Gamma(x))"
   ]
  },
  {
   "cell_type": "code",
   "execution_count": 182,
   "metadata": {},
   "outputs": [],
   "source": [
    "def stirling(x):\n",
    "    return np.sqrt(2*np.pi/x)*(x/np.e)**x"
   ]
  },
  {
   "cell_type": "code",
   "execution_count": 2,
   "metadata": {},
   "outputs": [],
   "source": [
    "def IBP(alpha = 10, num_object = 20):\n",
    "    n_init = np.random.poisson(alpha)\n",
    "    Z = np.zeros(shape=(num_object,n_init),dtype = np.int32)\n",
    "    Z[0,:] = 1\n",
    "    K_plus = n_init\n",
    "    for i in range(1,num_object):\n",
    "        # Calculate probability of visiting past dishes\n",
    "        Z[i,:] = Z.sum(axis = 0)/(i+1) > np.random.rand(1,K_plus)\n",
    "        # Calculate the number of new dishes visited by customer i\n",
    "        K_new = np.random.poisson(alpha/(i+1)) \n",
    "        Z=np.concatenate((Z,np.zeros(shape=(num_object,K_new),dtype = np.int32)), axis=1)\n",
    "        Z[i,K_plus:K_plus+K_new] = 1\n",
    "        # Update matrix size and dish popularity count\n",
    "        K_plus = K_plus+K_new\n",
    "    return Z, K_plus"
   ]
  },
  {
   "cell_type": "markdown",
   "metadata": {},
   "source": [
    "# skip"
   ]
  },
  {
   "cell_type": "code",
   "execution_count": 3,
   "metadata": {},
   "outputs": [],
   "source": [
    "A = np.array([[0, 1, 0, 0, 0, 0, 1, 1, 1, 0, 0, 0, 0, 1, 0, 0, 0, 0, 0, 0, 0, 0, 0, 0, 0, 0, 0, 0, 0, 0, 0, 0, 0, 0, 0, 0],\n",
    "              [0, 0, 0, 1, 1, 1, 0, 0, 0, 1, 0, 1, 0, 0, 0, 1, 1, 1, 0, 0, 0, 0, 0, 0, 0, 0, 0, 0, 0, 0, 0, 0, 0, 0, 0, 0],\n",
    "              [0, 0, 0, 0, 0, 0, 0, 0, 0, 0, 0, 0, 0, 0, 0, 0, 0, 0, 1, 0, 0, 0, 0, 0, 1, 1, 0, 0, 0, 0, 1, 1, 1, 0, 0, 0],\n",
    "              [0, 0, 0, 0, 0, 0, 0, 0, 0, 0, 0, 0, 0, 0, 0, 0, 0, 0, 0, 0, 0, 1, 1, 1, 0, 0, 0, 0, 1, 0, 0, 0, 0, 0, 1, 0]])\n",
    "def gen_data(A, sigma_x = 0.5, num_object = 100):\n",
    "    num_feature, num_dim = A.shape\n",
    "    I = sigma_x*np.ones(num_dim)\n",
    "    Z = np.zeros((num_object, num_feature))\n",
    "    X = np.zeros((num_object, num_dim))\n",
    "    for i in range(num_object):\n",
    "        while (Z[i,:].sum() == 0):\n",
    "            Z[i,:] = np.random.rand(1,num_feature) > .5\n",
    "        X[i,:] = np.random.randn(num_dim)*I+Z[i,:]@A\n",
    "    return X, Z"
   ]
  },
  {
   "cell_type": "code",
   "execution_count": 18,
   "metadata": {},
   "outputs": [],
   "source": [
    "# generate data\n",
    "sigma_x = 0.1\n",
    "num_feature = 4\n",
    "num_dim = 36\n",
    "num_object = 500\n",
    "X,Z_groundtruth = gen_data(A, sigma_x = sigma_x, num_object = num_object)"
   ]
  },
  {
   "cell_type": "code",
   "execution_count": 19,
   "metadata": {
    "scrolled": true
   },
   "outputs": [
    {
     "data": {
      "text/plain": [
       "(500, 4)"
      ]
     },
     "execution_count": 19,
     "metadata": {},
     "output_type": "execute_result"
    }
   ],
   "source": [
    "Z_groundtruth.shape"
   ]
  },
  {
   "cell_type": "code",
   "execution_count": 23,
   "metadata": {},
   "outputs": [],
   "source": [
    "X = X - X.min()\n",
    "X = X/X.max()\n",
    "X[X==1] = 0.999\n",
    "X[X==0] = 0.001"
   ]
  },
  {
   "cell_type": "code",
   "execution_count": 24,
   "metadata": {},
   "outputs": [],
   "source": [
    "np.savetxt('Z.txt', Z_groundtruth)"
   ]
  },
  {
   "cell_type": "code",
   "execution_count": 25,
   "metadata": {},
   "outputs": [],
   "source": [
    "from pathlib import Path\n",
    "Path(\"./img\").mkdir(parents=True, exist_ok=True)\n",
    "for i in range(num_object):\n",
    "    plt.imsave('./img/'+str(i)+'.jpg', X[i,:].reshape(6,6), cmap='gray')"
   ]
  },
  {
   "cell_type": "code",
   "execution_count": 17,
   "metadata": {},
   "outputs": [
    {
     "name": "stdout",
     "output_type": "stream",
     "text": [
      "[0. 0. 1. 0.]\n",
      "[1. 1. 1. 1.]\n",
      "[0. 0. 1. 1.]\n",
      "[1. 0. 0. 0.]\n"
     ]
    },
    {
     "data": {
      "image/png": "[encoded data removed]",
      "text/plain": [
       "<Figure size 432x288 with 4 Axes>"
      ]
     },
     "metadata": {},
     "output_type": "display_data"
    }
   ],
   "source": [
    "# show first 4 examples\n",
    "for i in range(4):\n",
    "    print(Z_groundtruth[i])\n",
    "    plt.subplot(2,2,1+i)\n",
    "    plt.imshow(X[i,:].reshape(6,6), cmap='gray')"
   ]
  },
  {
   "cell_type": "code",
   "execution_count": null,
   "metadata": {},
   "outputs": [],
   "source": []
  },
  {
   "cell_type": "code",
   "execution_count": null,
   "metadata": {},
   "outputs": [],
   "source": []
  },
  {
   "cell_type": "markdown",
   "metadata": {},
   "source": [
    "# start from below"
   ]
  },
  {
   "cell_type": "code",
   "execution_count": 10,
   "metadata": {},
   "outputs": [],
   "source": [
    "# helper class for simpler function arguments and data storage\n",
    "class params_set():\n",
    "    def attrs_dict(self, exclude = []):\n",
    "        dic = copy.deepcopy(self.__dict__)\n",
    "        for key in exclude:\n",
    "            del dic[key]\n",
    "        return dic\n",
    "    def print_attrs(self, key = None):\n",
    "        if key == None:\n",
    "            key = list(self.attrs_dict().keys())\n",
    "        for k in key:\n",
    "            print(k+\": \",self.attrs_dict()[k])\n",
    "    def set_attrs_dict(self, dic): \n",
    "#         self.__dict__ = dic\n",
    "        for k,v in dic.items():\n",
    "            self.__dict__[k] = v"
   ]
  },
  {
   "cell_type": "code",
   "execution_count": 11,
   "metadata": {},
   "outputs": [],
   "source": [
    "def compute_auxiliary_q_and_lb(eta, k):\n",
    "    eta = eta[:k,:]\n",
    "    temp = Digamma(eta[:,1]) \\\n",
    "         + np.cumsum(np.insert(Digamma(eta[:,0]),0,0))[:-1] \\\n",
    "         - np.cumsum(Digamma(eta[:,0]+eta[:,1])) \n",
    "    q = np.exp(temp-temp.max())\n",
    "    q = q/q.sum()\n",
    "    lb = (q*(temp - log(q))).sum()\n",
    "    return q, lb   "
   ]
  },
  {
   "cell_type": "code",
   "execution_count": 12,
   "metadata": {},
   "outputs": [],
   "source": [
    "def compute_lower_bound(X, model):\n",
    "    # following section 2.2 in VIBP derivation (eq.10)\n",
    "    N = model.N\n",
    "    K = model.K\n",
    "    D = model.D\n",
    "    \n",
    "    alpha_0 = model.alpha_0\n",
    "    tau_A0 = model.tau_A0\n",
    "    tau_n0 = model.tau_n0\n",
    "    \n",
    "    rho_alpha = model.rho_alpha\n",
    "    rho_A = model.rho_A\n",
    "    rho_n = model.rho_n\n",
    "    nu = model.nu\n",
    "    eta = model.eta\n",
    "    phi_mean = model.phi[0,:,:]\n",
    "    phi_cov = model.phi[1,:,:]\n",
    "    \n",
    "    terms = [] # save terms seperately for debugging purpose\n",
    "    \n",
    "    # first three terms (eq.17), for alpha, tau_A, and tau_n\n",
    "    term1 = alpha_0[1]**alpha_0[0]/Gamma(alpha_0[0]) \\\n",
    "            + (alpha_0[0] - 1)*(-log(rho_alpha[1]) + Digamma(rho_alpha[0])) \\\n",
    "            - alpha_0[0]*rho_alpha[0]/rho_alpha[1]\n",
    "    terms.append(term1)\n",
    "    \n",
    "    term2 = tau_A0[1]**tau_A0[0]/Gamma(tau_A0[0]) \\\n",
    "            + (tau_A0[0] - 1)*(-log(rho_A[1]) + Digamma(rho_A[0])) \\\n",
    "            - tau_A0[0]*rho_A[0]/rho_A[1]\n",
    "    terms.append(term2)\n",
    "    \n",
    "    term3 = tau_n0[1]**tau_n0[0]/Gamma(tau_n0[0]) \\\n",
    "            + (tau_n0[0] - 1)*(-log(rho_n[1]) + Digamma(rho_n[0])) \\\n",
    "            - tau_n0[0]*rho_n[0]/rho_n[1]\n",
    "    terms.append(term3)\n",
    "    \n",
    "    # forth term (eq.18), for v\n",
    "    term4 = K*(-log(rho_alpha[1]) + Digamma(rho_alpha[0])) \\\n",
    "            + (rho_alpha[0]/rho_alpha[1] - 1) \\\n",
    "                *(Digamma(eta[:,0]) - Digamma(eta.sum(axis=1))).sum()\n",
    "    terms.append(term4)\n",
    "    \n",
    "    # fifth term (eq.19), for Z\n",
    "    term5 = 0\n",
    "    for k in range(K):\n",
    "        q, lb = compute_auxiliary_q_and_lb(eta, k+1)\n",
    "        term5 += nu[:,k].sum()*(Digamma(eta[:k+1,0]) - Digamma(eta[:k+1,0]+eta[:k+1,1])).sum() \\\n",
    "                + (N-nu[:,k].sum())*lb\n",
    "    terms.append(term5)\n",
    "    \n",
    "    # sixth term (eq.24), for A\n",
    "    term6 = K*D/2*(-log(rho_A[1]) + Digamma(rho_A[0])-log(2*np.pi)) \\\n",
    "            - rho_A[0]/2/rho_A[1] * (phi_cov.sum() + (phi_mean**2).sum()) # need to confirm the last term (phi_mean**2).sum()\n",
    "    terms.append(term6)\n",
    "    \n",
    "    # seventh term (eq.26), for likelihood\n",
    "    term7 = N*D/2*(-log(rho_n[1]) + Digamma(rho_n[0]) - log(2*np.pi)) \\\n",
    "            - rho_n[0]/2/rho_n[1]*( (X**2).sum() \\\n",
    "                                   - 2*(nu*(X@phi_mean.T)).sum() \\\n",
    "                                   + ((nu@phi_mean)**2).sum() - (nu**2@phi_mean**2).sum() \\\n",
    "                                   + (nu*(np.ones_like(X)@(phi_cov + phi_mean**2).T)).sum() )  # need to confirm the last term (nu@(phi_cov + (phi_mean**2))).sum()\n",
    "    terms.append(term7)\n",
    "    \n",
    "    # eighth term (eq.29), for entropy\n",
    "    term8_1 = log(Gamma(rho_alpha[0])/(rho_alpha[1])**rho_alpha[0]) \\\n",
    "            - (rho_alpha[0] - 1)*(-log(rho_alpha[1]) + Digamma(rho_alpha[0])) \\\n",
    "            + rho_alpha[0]\n",
    "    \n",
    "    # approxiate term8_2 using Stirling's approximation\n",
    "    temp = log(np.sqrt(2*np.pi/rho_A[0])) + rho_A[0] * log(rho_A[0]/np.e/rho_A[1])\n",
    "#     term8_2 = log(Gamma(rho_A[0])/(rho_A[1])**rho_A[0]) \\\n",
    "    term8_2 = temp \\\n",
    "            - (rho_A[0] - 1)*(-log(rho_A[1]) + Digamma(rho_A[0])) \\\n",
    "            + rho_A[0]\n",
    "    \n",
    "    # approxiate term8_3 using Stirling's approximation\n",
    "    temp = log(np.sqrt(2*np.pi/rho_n[0])) + rho_n[0] * log(rho_n[0]/np.e/rho_n[1])\n",
    "#     term8_3 = log(Gamma(rho_n[0])/(rho_n[1])**rho_n[0]) \\\n",
    "    term8_3 = temp \\\n",
    "            - (rho_n[0] - 1)*(-log(rho_n[1]) + Digamma(rho_n[0])) \\\n",
    "            + rho_n[0]\n",
    "    \n",
    "    # approxiate term8_4 using Stirling's approximation\n",
    "    temp = 0\n",
    "    for i in range(eta.shape[0]):\n",
    "        temp += log( np.sqrt(2*np.pi* (eta[i,0]+eta[i,1])/(eta[i,0]*eta[i,1]))) \\\n",
    "                + eta[i,0]*log(eta[i,0]) + eta[i,1]*log(eta[i,1]) \\\n",
    "                - (eta[i,0] + eta[i,1])*log(eta[i,0] + eta[i,1])\n",
    "#     temp = logGamma(eta[:,0]).sum() + logGamma(eta[:,1]).sum() \\\n",
    "#             - logGamma(eta.sum(axis=1)).sum() \\    \n",
    "    term8_4 = temp \\\n",
    "            - ((eta[:,0] - 1)*Digamma(eta[:,0])).sum() \\\n",
    "            - ((eta[:,1] - 1)*Digamma(eta[:,1])).sum() \\\n",
    "            + ((eta.sum(axis=1) - 2)*Digamma(eta.sum(axis=1))).sum()\n",
    "    \n",
    "    term8_5 = K*D/2*log(2*np.pi*np.e) + 1/2*log(phi_cov).sum()\n",
    "    \n",
    "    tmp_nu = nu + 0.5*(nu==0) - 0.5*(nu==1)\n",
    "    term8_6 = -tmp_nu*log(tmp_nu) - (1-tmp_nu)*log(1-tmp_nu)\n",
    "    term8_6 = ( term8_6 * (nu>0) * (nu<1) ).sum() \n",
    "                                   \n",
    "    term8s = np.array([term8_1, term8_2, term8_3, term8_4, term8_5, term8_6])\n",
    "    term8 = term8s.sum()\n",
    "    terms.append(term8)\n",
    "                                   \n",
    "    lower_bound = np.sum(terms)\n",
    "    \n",
    "    return lower_bound, terms"
   ]
  },
  {
   "cell_type": "code",
   "execution_count": 13,
   "metadata": {},
   "outputs": [],
   "source": [
    "def update_phi(X, model):\n",
    "    N = model.N\n",
    "    K = model.K\n",
    "    rho_A = model.rho_A\n",
    "    rho_n = model.rho_n\n",
    "    nu = model.nu\n",
    "    phi_mean = model.phi[0,:,:]\n",
    "    phi_cov = model.phi[1,:,:]\n",
    "   \n",
    "    for k in range(K):\n",
    "        non_k_idx = np.delete(np.arange(K), k)\n",
    "        mat_B = (rho_A[0]/rho_A[1] + rho_n[0]/rho_n[1] * np.ones_like(X).T@nu[:,k]) # why the mask (ones_like in my case)?\n",
    "        mat_C = X.T@nu[:,k]\n",
    "        for n in range(N):\n",
    "            mat_C -= nu[n,k] * (nu[n,non_k_idx].reshape(-1,1)*phi_mean[non_k_idx,:]).sum(axis = 0)\n",
    "#         mat_C = mat_C * (rho_n[0]*nu[:,k].sum()/rho_n[1])\n",
    "        mat_C = mat_C * (rho_n[0]/rho_n[1])\n",
    "        \n",
    "        phi_cov[k,:] = 1/mat_B\n",
    "        phi_mean[k,:] = mat_C/mat_B\n",
    "    return phi_mean, phi_cov\n"
   ]
  },
  {
   "cell_type": "code",
   "execution_count": 14,
   "metadata": {},
   "outputs": [],
   "source": [
    "def update_nu(X, model):\n",
    "    N = model.N\n",
    "    K = model.K\n",
    "    rho_n = model.rho_n\n",
    "    nu = model.nu\n",
    "    phi_mean = model.phi[0,:,:]\n",
    "    phi_cov = model.phi[1,:,:]\n",
    "    eta = model.eta\n",
    "    \n",
    "    for k in range(K):\n",
    "        _, lb = compute_auxiliary_q_and_lb(eta, k+1)\n",
    "        var_theta_k = (Digamma(eta[:k+1,0]) - Digamma(eta[:k+1,:].sum(axis=1))).sum() - lb\n",
    "        non_k_idx = np.delete(np.arange(K), k)\n",
    "        for n in range(N):\n",
    "            var_theta = var_theta_k - (rho_n[0]/2/rho_n[1]) * ((phi_cov[k,:].sum() + (phi_mean[k,:]**2).sum()) \\\n",
    "                           - 2*(phi_mean[k,:].T@(X[n,:].T - (nu[n, non_k_idx].reshape(-1,1) * phi_mean[non_k_idx,:]).sum(axis=0) )) )\n",
    "            nu[n,k] = max(0.00001, 1/(1+np.exp(-var_theta)) )  # var_theta can be too negative, lead to overflow\n",
    "    return nu       \n",
    "                                     "
   ]
  },
  {
   "cell_type": "code",
   "execution_count": 15,
   "metadata": {},
   "outputs": [],
   "source": [
    "def update_eta(model):\n",
    "    N = model.N\n",
    "    K = model.K\n",
    "    nu = model.nu\n",
    "    eta = model.eta\n",
    "    alpha_0 = model.alpha_0\n",
    "    \n",
    "    sum_n_nu = nu.sum(axis=0)\n",
    "    N_minus_sum_n_nu = N - sum_n_nu\n",
    "    for k in range(K):\n",
    "        q,_ = compute_auxiliary_q_and_lb(eta, K)\n",
    "        qs = np.zeros((K,K))\n",
    "        for m in range(k,K):\n",
    "            qs[m,:m+1] = q[:m+1]/q[:m+1].sum()\n",
    "        eta[k,0] = alpha_0[0] + sum_n_nu[k:].sum() \\\n",
    "                        + N_minus_sum_n_nu[k+1:]@qs[k+1:,k+1:].sum(axis=1) # confirmed with doshi's\n",
    "        eta[k,1] = N_minus_sum_n_nu[k:]@qs[k:,k] + 1   # confirmed with doshi's\n",
    "    return eta\n",
    "        "
   ]
  },
  {
   "cell_type": "code",
   "execution_count": 16,
   "metadata": {},
   "outputs": [],
   "source": [
    "def update_rho_A(model):\n",
    "    K = model.K\n",
    "    D = model.D\n",
    "    tau_A0 = model.tau_A0\n",
    "    phi_mean = model.phi[0,:,:]\n",
    "    phi_cov = model.phi[1,:,:]\n",
    "    rho_A = model.rho_A\n",
    "    \n",
    "    rho_A[0] = tau_A0[0] + D*K/2\n",
    "    rho_A[1] = tau_A0[1] +1/2*(phi_cov.sum() + (phi_mean**2).sum())\n",
    "    return rho_A"
   ]
  },
  {
   "cell_type": "code",
   "execution_count": 17,
   "metadata": {},
   "outputs": [],
   "source": [
    "def update_rho_n(X, model):\n",
    "    N = model.N\n",
    "    K = model.K\n",
    "    D = model.D\n",
    "    tau_n0 = model.tau_n0\n",
    "    nu = model.nu\n",
    "    phi_mean = model.phi[0,:,:]\n",
    "    phi_cov = model.phi[1,:,:]\n",
    "    rho_n = model.rho_n\n",
    "\n",
    "    rho_n[0] = tau_n0[0] + D*N/2\n",
    "    \n",
    "    # X**2 may too large\n",
    "    rho_n[1] = tau_n0[1] \\\n",
    "             + 1/2*( (X**2).sum() \\\n",
    "             - 2*(nu*(X@phi_mean.T)).sum() \\\n",
    "             + ((nu@phi_mean)**2).sum() - (nu**2@phi_mean**2).sum() \\\n",
    "             + (nu*(np.ones_like(X)@(phi_cov + phi_mean**2).T)).sum() )  # links to term 7 in lower bound\n",
    "    return rho_n"
   ]
  },
  {
   "cell_type": "code",
   "execution_count": 18,
   "metadata": {},
   "outputs": [],
   "source": [
    "def update_rho_alpha(model):\n",
    "    K = model.K\n",
    "    alpha_0 = model.alpha_0\n",
    "    eta = model.eta\n",
    "    rho_alpha = model.rho_alpha\n",
    "    \n",
    "    rho_alpha[0] = alpha_0[0] + K\n",
    "    rho_alpha[1] = alpha_0[1] \\\n",
    "                 - (Digamma(eta[:,0]) - Digamma(eta[:,0]+eta[:,1])).sum()\n",
    "    return rho_alpha"
   ]
  },
  {
   "cell_type": "code",
   "execution_count": 19,
   "metadata": {},
   "outputs": [],
   "source": [
    "def update_parameters(X, model, maxIter = 20, thresh = 1e-2):\n",
    "    itr_count = 0\n",
    "    lb, _ = compute_lower_bound(X, model)\n",
    "    local_lbs = []\n",
    "#     print('initial lb: ',lb)\n",
    "    while 1:\n",
    "#         print('='*20,'itr {}'.format(itr_count),'='*20)\n",
    "        itr_count += 1\n",
    "        for j in np.random.permutation(6): # update in random order\n",
    "            if j == 0:\n",
    "                eta = update_eta(model)\n",
    "                model.eta = eta\n",
    "            elif j == 1:\n",
    "                nu = update_nu(X, model)\n",
    "                model.nu = nu\n",
    "            elif j == 2:\n",
    "                phi_mean, phi_cov = update_phi(X, model)\n",
    "                model.phi[0,:,:] = phi_mean\n",
    "                model.phi[1,:,:] = phi_cov\n",
    "            elif j == 3:\n",
    "                rho_A = update_rho_A(model)\n",
    "                model.rho_A = rho_A\n",
    "            elif j == 4:\n",
    "                rho_n = update_rho_n(X, model)\n",
    "                model.rho_n = rho_n\n",
    "            else:\n",
    "                rho_alpha = update_rho_alpha(model)\n",
    "                model.rho_alpha = rho_alpha\n",
    "        lb, _ = compute_lower_bound(X, model)\n",
    "#         print(lb)\n",
    "        if (np.std(local_lbs[-3:]) < thresh and itr_count > 3) or itr_count >= maxIter:\n",
    "            break\n",
    "            \n",
    "    return model"
   ]
  },
  {
   "cell_type": "code",
   "execution_count": 20,
   "metadata": {},
   "outputs": [],
   "source": [
    "def move(model, h, l):\n",
    "    phi_mean = model.phi[0,:,:]\n",
    "    phi_cov = model.phi[1,:,:]\n",
    "    nu = model.nu\n",
    "    \n",
    "    r = np.random.randint(5)\n",
    "    if r == 0:  # Let h = h - l, leave l alone\n",
    "        phi_mean[h,:] = phi_mean[h,:] - phi_mean[l,:]\n",
    "        nu[:,h] = nu[:,h] - nu[:,l]\n",
    "        nu[nu[:,h] <= 0,h] = 0.0001  # make sure it's larger than 0\n",
    "    elif r == 1: # Let h = h + l, leave l alone\n",
    "        phi_mean[h,:] = phi_mean[h,:] + phi_mean[l,:]\n",
    "        nu[:,h] = nu[:,h] + nu[:,l]\n",
    "        nu[nu[:,h] >= 1,h] = 0.9999 # make sure it's smaller than 1\n",
    "        phi_cov_avg = (phi_cov[h,:] + phi_cov[l,:])/2\n",
    "        phi_cov[h,:] = phi_cov_avg\n",
    "        phi_cov[l,:] = phi_cov_avg\n",
    "    elif r == 2: # Let h = h + l, delete l\n",
    "        phi_mean[h,:] = phi_mean[h,:] + phi_mean[l,:]\n",
    "        phi_mean[l,:] = 0.01*np.random.rand(phi_mean[l,:].shape[0])\n",
    "        nu[:,h] = nu[:,h] + nu[:,l]\n",
    "        nu[nu[:,h] >= 1,h] = 0.9999 # make sure it's smaller than 1\n",
    "        phi_cov_avg = (phi_cov[h,:] + phi_cov[l,:])/2\n",
    "        phi_cov[h,:] = phi_cov_avg\n",
    "        phi_cov[l,:] = phi_cov_avg\n",
    "    elif r == 3: # randomly reset h and l\n",
    "        phi_mean[h,:] = 0.01*np.random.randn(phi_mean[h,:].shape[0])\n",
    "        phi_mean[l,:] = 0.01*np.random.randn(phi_mean[l,:].shape[0])\n",
    "        nu[:,h] = np.random.rand(nu[:,h].shape[0])\n",
    "        nu[:,l] = np.random.rand(nu[:,l].shape[0])\n",
    "        phi_cov_avg = (phi_cov[h,:] + phi_cov[l,:])/2\n",
    "        phi_cov[h,:] = phi_cov_avg\n",
    "        phi_cov[l,:] = phi_cov_avg\n",
    "    elif r == 4: # h = h - l, l = h + l\n",
    "        phi_mean[h,:], phi_mean[l,:] = phi_mean[h,:] - phi_mean[l,:], phi_mean[h,:] + phi_mean[l,:]\n",
    "        nu[:,h], nu[:,l] = nu[:,h] + nu[:,l], nu[:,h] + nu[:,l]\n",
    "        nu[nu[:,h] >= 1,h] = 0.9999 # make sure it's smaller than 1\n",
    "        nu[nu[:,l] >= 1,l] = 0.9999 # make sure it's smaller than 1\n",
    "        phi_cov_avg = (phi_cov[h,:] + phi_cov[l,:])/2\n",
    "        phi_cov[h,:] = phi_cov_avg\n",
    "        phi_cov[l,:] = phi_cov_avg\n",
    "    model.phi[0,:,:] = phi_mean\n",
    "    model.phi[1,:,:] = phi_cov\n",
    "    model.nu = nu\n",
    "    return model"
   ]
  },
  {
   "cell_type": "code",
   "execution_count": 31,
   "metadata": {},
   "outputs": [],
   "source": [
    "def search_heuristics(X, model):\n",
    "    best_lb, _ = compute_lower_bound(X, model)\n",
    "    best_model_dic = model.attrs_dict(exclude = ['lbs','model_sets', 'best_lb', 'best_model_idx'])\n",
    "    \n",
    "    K = model.K\n",
    "    \n",
    "    for h in range(K):\n",
    "        for l in np.delete(np.arange(K), h):\n",
    "            new_model = copy.deepcopy(model)\n",
    "            new_model = move(new_model, h, l)\n",
    "            new_model = update_parameters(X, new_model, maxIter = 5)\n",
    "            new_lb, _ = compute_lower_bound(X, new_model)\n",
    "            if new_lb > best_lb:\n",
    "                best_model_dic = new_model.attrs_dict(exclude = ['lbs','model_sets', 'best_lb', 'best_model_idx'])\n",
    "                best_lb = new_lb\n",
    "            new_model = None\n",
    "    return best_lb, best_model_dic"
   ]
  },
  {
   "cell_type": "code",
   "execution_count": 107,
   "metadata": {},
   "outputs": [],
   "source": [
    "def initialize_model(model, K = 6):\n",
    "     # save model parameters\n",
    "    model.N, model.D = X.shape\n",
    "    model.K = K # set maximum truncation level\n",
    "\n",
    "    # priors\n",
    "    model.alpha_0 = np.array([1.1, 1.1])\n",
    "    model.tau_A0 = np.array([1.1, 1.1])\n",
    "    model.tau_n0 = np.array([1.1, 1.1])\n",
    "\n",
    "    # variational parameters\n",
    "    model.rho_alpha = np.random.rand(2)\n",
    "    model.rho_A = np.random.rand(2)\n",
    "    model.rho_n = np.random.rand(2)\n",
    "    model.phi = np.random.rand(2, model.K, model.D) # Dim 0 for mean and dim 1 for var\n",
    "                                                    # same in doshi's code, assume independent\n",
    "    model.eta = np.random.rand(model.K, 2)\n",
    "    model.nu = np.random.rand(model.N, model.K)\n",
    "    return model"
   ]
  },
  {
   "cell_type": "code",
   "execution_count": 2,
   "metadata": {},
   "outputs": [],
   "source": [
    "data_dic = scipy.io.loadmat('data.mat')\n",
    "X = scipy.io.loadmat('data.mat')['X']"
   ]
  },
  {
   "cell_type": "code",
   "execution_count": null,
   "metadata": {},
   "outputs": [],
   "source": []
  },
  {
   "cell_type": "code",
   "execution_count": 185,
   "metadata": {},
   "outputs": [
    {
     "data": {
      "text/plain": [
       "(20, 16)"
      ]
     },
     "execution_count": 185,
     "metadata": {},
     "output_type": "execute_result"
    }
   ],
   "source": [
    "X.shape"
   ]
  },
  {
   "cell_type": "code",
   "execution_count": null,
   "metadata": {},
   "outputs": [],
   "source": [
    "from PIL import Image\n",
    "im = Image.fromarray(A)\n",
    "im.save(\"your_file.jpeg\")"
   ]
  },
  {
   "cell_type": "code",
   "execution_count": 80,
   "metadata": {
    "scrolled": false
   },
   "outputs": [
    {
     "name": "stdout",
     "output_type": "stream",
     "text": [
      "==================================================\n",
      "==================== Run #0 ====================\n",
      "==================================================\n",
      "initial lb:  -8350.448969461288\n",
      "after update_parameters, lb:  -327.3004413863892\n"
     ]
    },
    {
     "name": "stderr",
     "output_type": "stream",
     "text": [
      "/Users/joey/anaconda3/lib/python3.6/site-packages/numpy/core/_methods.py:234: RuntimeWarning: Degrees of freedom <= 0 for slice\n",
      "  keepdims=keepdims)\n",
      "/Users/joey/anaconda3/lib/python3.6/site-packages/numpy/core/_methods.py:195: RuntimeWarning: invalid value encountered in true_divide\n",
      "  arrmean, rcount, out=arrmean, casting='unsafe', subok=False)\n",
      "/Users/joey/anaconda3/lib/python3.6/site-packages/numpy/core/_methods.py:226: RuntimeWarning: invalid value encountered in double_scalars\n",
      "  ret = ret.dtype.type(ret / rcount)\n"
     ]
    },
    {
     "name": "stdout",
     "output_type": "stream",
     "text": [
      "after search_heuristics, lb:  -113.78215085305942\n",
      "after update_parameters, lb:  -65.39211094002661\n",
      "after search_heuristics, lb:  -34.37930242606031\n",
      "after update_parameters, lb:  -33.97658451755634\n",
      "after search_heuristics, lb:  -20.239610666928606\n",
      "after update_parameters, lb:  -20.059292256805755\n",
      "after search_heuristics, lb:  -20.052725333730486\n",
      "after update_parameters, lb:  -20.052448674835766\n",
      "after search_heuristics, lb:  -19.249678114135428\n",
      "after update_parameters, lb:  -19.175566152216106\n",
      "after search_heuristics, lb:  -12.14130281871526\n",
      "after update_parameters, lb:  -9.833410162434241\n",
      "after search_heuristics, lb:  -9.612376631446885\n",
      "after update_parameters, lb:  -9.595219014589574\n",
      "after search_heuristics, lb:  -9.570142250331216\n",
      "after update_parameters, lb:  -9.565997935475416\n",
      "after search_heuristics, lb:  -9.560163612507694\n",
      "after update_parameters, lb:  -9.558913006208485\n",
      "after search_heuristics, lb:  -9.557201958256307\n",
      "after update_parameters, lb:  -9.556851924026319\n",
      "after search_heuristics, lb:  -9.55637534650559\n",
      "after update_parameters, lb:  -9.556277246455394\n",
      "after search_heuristics, lb:  -9.556140899690568\n",
      "after update_parameters, lb:  -9.556111642284144\n",
      "after search_heuristics, lb:  -9.556068560948297\n",
      "after update_parameters, lb:  -9.556059503490154\n",
      "after search_heuristics, lb:  -9.556044354613945\n",
      "==================================================\n",
      "==================== Run #1 ====================\n",
      "==================================================\n",
      "initial lb:  -1570.5984829647975\n",
      "after update_parameters, lb:  -324.00497906957327\n",
      "after search_heuristics, lb:  -166.58741683891836\n",
      "after update_parameters, lb:  -163.75973209874772\n",
      "after search_heuristics, lb:  -115.1473766060163\n",
      "after update_parameters, lb:  -114.91016213889215\n",
      "after search_heuristics, lb:  -59.89125739954953\n",
      "after update_parameters, lb:  -20.865740926446847\n",
      "after search_heuristics, lb:  -4.8644658581939595\n",
      "after update_parameters, lb:  -4.34982102763685\n",
      "after search_heuristics, lb:  -3.7512652711418752\n",
      "after update_parameters, lb:  -3.662558926059994\n",
      "after search_heuristics, lb:  -3.5780482807850476\n",
      "after update_parameters, lb:  -3.5675918412086673\n",
      "after search_heuristics, lb:  -3.5584091346615523\n",
      "after update_parameters, lb:  -3.5573709353420853\n",
      "after search_heuristics, lb:  -3.55652329434961\n",
      "after update_parameters, lb:  -3.5564411673036602\n",
      "after search_heuristics, lb:  -3.5563893830134603\n",
      "after update_parameters, lb:  -3.556388539233758\n",
      "after search_heuristics, lb:  -3.556388539233758\n",
      "after update_parameters, lb:  -3.556390275497627\n",
      "after search_heuristics, lb:  -3.556390275497627\n",
      "==================================================\n",
      "==================== Run #2 ====================\n",
      "==================================================\n",
      "initial lb:  -28739.30182729274\n",
      "after update_parameters, lb:  -504.2505997290008\n",
      "after search_heuristics, lb:  -214.26042094915385\n",
      "after update_parameters, lb:  -205.30625784573314\n",
      "after search_heuristics, lb:  -143.62414689538375\n",
      "after update_parameters, lb:  -141.30848964100753\n",
      "after search_heuristics, lb:  -102.8748316214633\n",
      "after update_parameters, lb:  -95.2122039627755\n",
      "after search_heuristics, lb:  -2.782256468395559\n",
      "after update_parameters, lb:  -0.6052240138815108\n",
      "after search_heuristics, lb:  -0.25237049702080583\n",
      "after update_parameters, lb:  -0.2270283681711902\n",
      "after search_heuristics, lb:  -0.21334423580245954\n",
      "after update_parameters, lb:  -0.21264652762812375\n",
      "after search_heuristics, lb:  -0.21235475663260672\n",
      "after update_parameters, lb:  -0.2123577280574338\n",
      "after search_heuristics, lb:  -0.2123577280574338\n",
      "after update_parameters, lb:  -0.2123669818717957\n",
      "after search_heuristics, lb:  -0.2123669818717957\n",
      "after update_parameters, lb:  -0.21237554785264479\n",
      "after search_heuristics, lb:  -0.21237554785264479\n",
      "==================================================\n",
      "==================== Run #3 ====================\n",
      "==================================================\n",
      "initial lb:  -4698.380214007149\n",
      "after update_parameters, lb:  -314.4724124933311\n",
      "after search_heuristics, lb:  -151.78076618080004\n",
      "after update_parameters, lb:  -141.2254905141691\n",
      "after search_heuristics, lb:  -129.40507442208724\n",
      "after update_parameters, lb:  -125.92821539182796\n",
      "after search_heuristics, lb:  -26.943163798643944\n",
      "after update_parameters, lb:  -24.217066162953905\n",
      "after search_heuristics, lb:  -16.588039654722692\n",
      "after update_parameters, lb:  -16.510825455653517\n",
      "after search_heuristics, lb:  -16.47171850595508\n",
      "after update_parameters, lb:  -16.469264456689288\n",
      "after search_heuristics, lb:  -16.468760724174544\n",
      "after update_parameters, lb:  -16.468804947740722\n",
      "after search_heuristics, lb:  -16.468804947740722\n",
      "after update_parameters, lb:  -16.46886494154777\n",
      "after search_heuristics, lb:  -16.46886494154777\n",
      "after update_parameters, lb:  -16.468919353512135\n",
      "after search_heuristics, lb:  -16.468919353512135\n",
      "after update_parameters, lb:  -16.468962060451425\n",
      "after search_heuristics, lb:  -16.468962060451425\n",
      "==================================================\n",
      "==================== Run #4 ====================\n",
      "==================================================\n",
      "initial lb:  -3372.0751320161608\n",
      "after update_parameters, lb:  -313.70088812760633\n",
      "after search_heuristics, lb:  -167.8424909015512\n",
      "after update_parameters, lb:  -155.80345934927752\n",
      "after search_heuristics, lb:  -104.83995141142356\n",
      "after update_parameters, lb:  -102.94413790206633\n",
      "after search_heuristics, lb:  -38.922532128652065\n",
      "after update_parameters, lb:  -22.843952839333433\n",
      "after search_heuristics, lb:  -18.659578842064654\n",
      "after update_parameters, lb:  -18.617179551652065\n",
      "after search_heuristics, lb:  -18.60797425927639\n",
      "after update_parameters, lb:  -18.60780780262133\n",
      "after search_heuristics, lb:  -7.779489746239037\n",
      "after update_parameters, lb:  -7.705793151219524\n",
      "after search_heuristics, lb:  -7.6991816478352035\n",
      "after update_parameters, lb:  -7.698849434322803\n",
      "after search_heuristics, lb:  -7.698626187718112\n",
      "after update_parameters, lb:  -7.698620286639873\n",
      "after search_heuristics, lb:  -7.698620286639873\n",
      "after update_parameters, lb:  -7.698627736681743\n",
      "after search_heuristics, lb:  -7.698627736681743\n",
      "after update_parameters, lb:  -7.698640218590782\n"
     ]
    },
    {
     "name": "stderr",
     "output_type": "stream",
     "text": [
      "/Users/joey/anaconda3/lib/python3.6/site-packages/ipykernel_launcher.py:16: RuntimeWarning: overflow encountered in exp\n",
      "  app.launch_new_instance()\n"
     ]
    },
    {
     "name": "stdout",
     "output_type": "stream",
     "text": [
      "after search_heuristics, lb:  -7.698640218590782\n"
     ]
    }
   ],
   "source": [
    "model = params_set()\n",
    "# for logging purpose\n",
    "model.lbs = []\n",
    "model.model_sets = []\n",
    "model.best_lb = 0\n",
    "# recording which iteration in which run has the best lb \n",
    "model.best_model_idx = (0,0) # (best run idx, best iter idx) \n",
    "\n",
    "\n",
    "for i in range(5):\n",
    "    print('='*50)\n",
    "    print('='*20,'Run #{}'.format(i),'='*20)\n",
    "    print('='*50)\n",
    "    \n",
    "    model = initialize_model(model)\n",
    "    lb, _ = compute_lower_bound(X, model)\n",
    "    print('initial lb: ', lb)\n",
    "    \n",
    "    lbs = [lb]\n",
    "    model_sets = [model.attrs_dict(exclude = ['lbs','model_sets', 'best_lb', 'best_model_idx'])]\n",
    "    iter_count = 0\n",
    "    while 1:\n",
    "        model = update_parameters(X, model, maxIter = 2)\n",
    "        lb, _ = compute_lower_bound(X, model)\n",
    "        print('after update_parameters, lb: ', lb)\n",
    "\n",
    "        best_lb, best_model_dic = search_heuristics(X, model)\n",
    "        model.set_attrs_dict(best_model_dic)\n",
    "        lb, _ = compute_lower_bound(X, model)\n",
    "        print('after search_heuristics, lb: ', lb)\n",
    "        \n",
    "        lbs.append(lb)\n",
    "        model_sets.append(model.attrs_dict(exclude = ['lbs','model_sets', 'best_lb', 'best_model_idx']))\n",
    "        if len(lbs) > 5 and np.std(lbs[-5:]) <1e-3:\n",
    "            break\n",
    "        if model.best_lb < lb or model.best_lb == 0:\n",
    "            model.best_lb = lb\n",
    "            model.best_model_idx = (i,iter_count)\n",
    "        iter_count += 1\n",
    "        \n",
    "    model.model_sets.append(model_sets)\n",
    "    model.lbs.append(lbs)\n"
   ]
  },
  {
   "cell_type": "code",
   "execution_count": 81,
   "metadata": {},
   "outputs": [],
   "source": [
    "def plot_para_history(model_sets, name):\n",
    "    parameters = np.zeros((len(model_sets), model_sets[0][name].shape[0]))\n",
    "    for i,model_set in enumerate(model_sets):\n",
    "        parameters[i,:] = model_sets[i][name]\n",
    "        \n",
    "    for i in range(model_sets[0][name].shape[0]):\n",
    "        plt.plot(parameters[:,i], label = str(i))\n",
    "    plt.title(name)\n",
    "    plt.legend()\n",
    "    plt.show()"
   ]
  },
  {
   "cell_type": "code",
   "execution_count": 87,
   "metadata": {},
   "outputs": [
    {
     "name": "stdout",
     "output_type": "stream",
     "text": [
      "(2, 6)\n"
     ]
    }
   ],
   "source": [
    "best_model_idx = model.best_model_idx\n",
    "print(best_model_idx)"
   ]
  },
  {
   "cell_type": "code",
   "execution_count": 88,
   "metadata": {},
   "outputs": [
    {
     "data": {
      "image/png": "[encoded data removed]",
      "text/plain": [
       "<Figure size 432x288 with 1 Axes>"
      ]
     },
     "metadata": {},
     "output_type": "display_data"
    }
   ],
   "source": [
    "model_sets = model.model_sets[best_model_idx[0]]\n",
    "plot_para_history(model_sets, 'rho_n')"
   ]
  },
  {
   "cell_type": "code",
   "execution_count": 89,
   "metadata": {},
   "outputs": [
    {
     "data": {
      "image/png": "[encoded data removed]",
      "text/plain": [
       "<Figure size 432x288 with 1 Axes>"
      ]
     },
     "metadata": {},
     "output_type": "display_data"
    }
   ],
   "source": [
    "plot_para_history(model_sets, 'rho_A')"
   ]
  },
  {
   "cell_type": "code",
   "execution_count": 90,
   "metadata": {},
   "outputs": [
    {
     "data": {
      "image/png": "[encoded data removed]",
      "text/plain": [
       "<Figure size 432x288 with 1 Axes>"
      ]
     },
     "metadata": {},
     "output_type": "display_data"
    }
   ],
   "source": [
    "plot_para_history(model_sets, 'rho_alpha')"
   ]
  },
  {
   "cell_type": "code",
   "execution_count": 91,
   "metadata": {},
   "outputs": [
    {
     "data": {
      "image/png": "[encoded data removed]",
      "text/plain": [
       "<Figure size 432x288 with 1 Axes>"
      ]
     },
     "metadata": {},
     "output_type": "display_data"
    }
   ],
   "source": [
    "for i in range(5):\n",
    "    plt.plot(model.lbs[i], label = 'run # '+str(i))\n",
    "    plt.legend()\n",
    "plt.title('lb')\n",
    "plt.show()"
   ]
  },
  {
   "cell_type": "code",
   "execution_count": 95,
   "metadata": {},
   "outputs": [],
   "source": [
    "best_model = model.model_sets[best_model_idx[0]][best_model_idx[1]]"
   ]
  },
  {
   "cell_type": "code",
   "execution_count": 96,
   "metadata": {},
   "outputs": [
    {
     "data": {
      "text/plain": [
       "<matplotlib.colorbar.Colorbar at 0x7f8fb38b0a90>"
      ]
     },
     "execution_count": 96,
     "metadata": {},
     "output_type": "execute_result"
    },
    {
     "data": {
      "image/png": "[encoded data removed]",
      "text/plain": [
       "<Figure size 432x288 with 2 Axes>"
      ]
     },
     "metadata": {},
     "output_type": "display_data"
    }
   ],
   "source": [
    "plt.imshow(best_model['nu'])\n",
    "plt.colorbar()\n"
   ]
  },
  {
   "cell_type": "code",
   "execution_count": 98,
   "metadata": {},
   "outputs": [
    {
     "data": {
      "image/png": "[encoded data removed]",
      "text/plain": [
       "<Figure size 432x288 with 12 Axes>"
      ]
     },
     "metadata": {},
     "output_type": "display_data"
    }
   ],
   "source": [
    "for j in range(6):\n",
    "    plt.subplot(2,3,1+j)\n",
    "    plt.imshow(best_model['phi'][0,j,:].reshape(4,4), cmap = 'gray')\n",
    "    plt.colorbar()\n",
    "plt.show()"
   ]
  },
  {
   "cell_type": "code",
   "execution_count": null,
   "metadata": {},
   "outputs": [],
   "source": []
  },
  {
   "cell_type": "code",
   "execution_count": null,
   "metadata": {},
   "outputs": [],
   "source": []
  },
  {
   "cell_type": "markdown",
   "metadata": {},
   "source": [
    "# glove"
   ]
  },
  {
   "cell_type": "code",
   "execution_count": 99,
   "metadata": {},
   "outputs": [],
   "source": [
    "with open('./glove/glove.6B.50d.txt') as f:\n",
    "    lines = f.readlines()"
   ]
  },
  {
   "cell_type": "code",
   "execution_count": 100,
   "metadata": {},
   "outputs": [],
   "source": [
    "vocab = []\n",
    "embed = []\n",
    "for line in lines:\n",
    "    line = line.rstrip().split()\n",
    "    vocab.append(line[0])\n",
    "    embed.append(list(map(float, line[1:])))\n",
    "embed = np.array(embed)\n"
   ]
  },
  {
   "cell_type": "code",
   "execution_count": 101,
   "metadata": {},
   "outputs": [],
   "source": [
    "categories = ['fruits', 'animals', 'sciences', 'countries', 'colors']"
   ]
  },
  {
   "cell_type": "code",
   "execution_count": 103,
   "metadata": {},
   "outputs": [
    {
     "name": "stdout",
     "output_type": "stream",
     "text": [
      "132 china\n",
      "258 business\n",
      "298 white\n",
      "387 france\n",
      "412 russia\n",
      "453 america\n",
      "474 india\n",
      "521 black\n",
      "545 iran\n",
      "603 australia\n",
      "639 red\n",
      "774 canada\n",
      "989 green\n",
      "1042 brown\n",
      "1185 blue\n",
      "2039 argentina\n",
      "2106 fox\n",
      "2120 fish\n",
      "2253 marketing\n",
      "2295 agriculture\n",
      "2350 medicine\n",
      "2381 statistics\n",
      "2632 bird\n",
      "2843 yellow\n",
      "2926 dog\n",
      "3292 apple\n",
      "3566 tiger\n",
      "3850 gray\n",
      "4138 fruit\n",
      "5318 morocco\n",
      "5491 pink\n",
      "5787 physics\n",
      "6422 chemistry\n",
      "6510 mathematics\n",
      "7634 biology\n",
      "7644 purple\n",
      "7929 deer\n",
      "9250 cherry\n",
      "9311 lemon\n",
      "9323 elephant\n",
      "9517 snake\n",
      "10705 banana\n",
      "13344 geology\n",
      "13841 turtle\n",
      "17660 peach\n",
      "20328 donkey\n",
      "21638 mango\n",
      "30238 grapefruit\n",
      "30514 watermelon\n",
      "35565 blueberry\n"
     ]
    }
   ],
   "source": [
    "fruits = ['apple', 'peach', 'fruit', 'cherry', 'banana', 'blueberry', 'grapefruit', 'lemon', 'mango', 'watermelon']\n",
    "\n",
    "animals = ['tiger', 'bird', 'elephant', 'dog', 'fox', 'snake', 'deer', 'turtle', 'fish', 'donkey']\n",
    "\n",
    "sciences = ['physics', 'chemistry', 'mathematics', 'statistics', 'geology', 'agriculture', 'biology', 'business', 'marketing', 'medicine']\n",
    "\n",
    "countries = ['china', 'america', 'canada', 'iran', 'india', 'france', 'russia', 'argentina', 'morocco', 'australia']\n",
    "\n",
    "colors = ['red', 'blue', 'gray', 'black', 'brown', 'yellow', 'white', 'green', 'pink', 'purple']\n",
    "\n",
    "idx = []\n",
    "word_list = []\n",
    "for i,word in enumerate(vocab):\n",
    "    if word in fruits or word in animals or word in sciences or word in countries or word in colors:\n",
    "        print(i, word)\n",
    "        idx.append(i)\n",
    "        word_list.append(word)"
   ]
  },
  {
   "cell_type": "code",
   "execution_count": 104,
   "metadata": {},
   "outputs": [
    {
     "data": {
      "text/plain": [
       "(10, 10, 10, 10, 10)"
      ]
     },
     "execution_count": 104,
     "metadata": {},
     "output_type": "execute_result"
    }
   ],
   "source": [
    "fruit_idx = []\n",
    "animal_idx = []\n",
    "science_idx = []\n",
    "country_idx = []\n",
    "color_idx = []\n",
    "for i,word in enumerate(word_list):\n",
    "    if word in fruits:\n",
    "        fruit_idx.append(i)\n",
    "    if word in animals:\n",
    "        animal_idx.append(i)\n",
    "    if word in sciences:\n",
    "        science_idx.append(i)\n",
    "    if word in countries:\n",
    "        country_idx.append(i)\n",
    "    if word in colors:\n",
    "        color_idx.append(i)\n",
    "\n",
    "all_idx = [fruit_idx, animal_idx, science_idx, country_idx, color_idx]\n",
    "\n",
    "len(fruit_idx), len(animal_idx), len(science_idx), len(country_idx), len(color_idx)\n"
   ]
  },
  {
   "cell_type": "code",
   "execution_count": 105,
   "metadata": {},
   "outputs": [],
   "source": [
    "X = embed[idx,:]"
   ]
  },
  {
   "cell_type": "code",
   "execution_count": 110,
   "metadata": {
    "scrolled": false
   },
   "outputs": [
    {
     "name": "stdout",
     "output_type": "stream",
     "text": [
      "==================================================\n",
      "==================== Run #0 ====================\n",
      "==================================================\n",
      "initial lb:  -22466.50046476085\n",
      "after update_parameters, lb:  -3669.2035463700345\n"
     ]
    },
    {
     "name": "stderr",
     "output_type": "stream",
     "text": [
      "/Users/joey/anaconda3/lib/python3.6/site-packages/numpy/core/_methods.py:234: RuntimeWarning: Degrees of freedom <= 0 for slice\n",
      "  keepdims=keepdims)\n",
      "/Users/joey/anaconda3/lib/python3.6/site-packages/numpy/core/_methods.py:195: RuntimeWarning: invalid value encountered in true_divide\n",
      "  arrmean, rcount, out=arrmean, casting='unsafe', subok=False)\n",
      "/Users/joey/anaconda3/lib/python3.6/site-packages/numpy/core/_methods.py:226: RuntimeWarning: invalid value encountered in double_scalars\n",
      "  ret = ret.dtype.type(ret / rcount)\n"
     ]
    },
    {
     "name": "stdout",
     "output_type": "stream",
     "text": [
      "after search_heuristics, lb:  -2274.1095175292494\n",
      "after update_parameters, lb:  -2238.1970328829952\n",
      "after search_heuristics, lb:  -2182.6030503356915\n",
      "after update_parameters, lb:  -2173.8523183910506\n",
      "after search_heuristics, lb:  -2148.906237034327\n",
      "after update_parameters, lb:  -2148.2767252120652\n",
      "after search_heuristics, lb:  -2126.6961951623757\n",
      "after update_parameters, lb:  -2123.6568997200993\n",
      "after search_heuristics, lb:  -2109.009913874036\n",
      "after update_parameters, lb:  -2108.9349645421016\n",
      "after search_heuristics, lb:  -2098.5353050902727\n",
      "after update_parameters, lb:  -2098.4534860567987\n",
      "after search_heuristics, lb:  -2098.435535878897\n",
      "after update_parameters, lb:  -2098.4355350075643\n",
      "after search_heuristics, lb:  -2098.4335836639516\n",
      "after update_parameters, lb:  -2098.4332317708445\n",
      "after search_heuristics, lb:  -2098.432802902835\n",
      "==================================================\n",
      "==================== Run #1 ====================\n",
      "==================================================\n",
      "initial lb:  -20208.058809793565\n",
      "after update_parameters, lb:  -2761.6741672875296\n",
      "after search_heuristics, lb:  -2485.3100259055286\n",
      "after update_parameters, lb:  -2440.851623701403\n",
      "after search_heuristics, lb:  -2307.7619168912493\n",
      "after update_parameters, lb:  -2297.2152616960943\n",
      "after search_heuristics, lb:  -2198.541138611722\n",
      "after update_parameters, lb:  -2190.498688797698\n",
      "after search_heuristics, lb:  -2154.014291273285\n",
      "after update_parameters, lb:  -2151.328601169966\n",
      "after search_heuristics, lb:  -2138.401965143644\n",
      "after update_parameters, lb:  -2132.7346093408146\n",
      "after search_heuristics, lb:  -2129.5869406999846\n",
      "after update_parameters, lb:  -2129.471861226747\n",
      "after search_heuristics, lb:  -2124.169887675121\n",
      "after update_parameters, lb:  -2124.005650823926\n",
      "after search_heuristics, lb:  -2123.899981491981\n",
      "after update_parameters, lb:  -2123.895848128646\n",
      "after search_heuristics, lb:  -2123.8926641303087\n",
      "after update_parameters, lb:  -2123.8921065647546\n",
      "after search_heuristics, lb:  -2117.7462455830837\n",
      "after update_parameters, lb:  -2117.617923138164\n",
      "after search_heuristics, lb:  -2117.545848702054\n",
      "after update_parameters, lb:  -2117.539788757883\n",
      "after search_heuristics, lb:  -2114.893454239869\n",
      "after update_parameters, lb:  -2114.8774402037407\n",
      "after search_heuristics, lb:  -2114.868574835752\n",
      "after update_parameters, lb:  -2114.8676733080847\n",
      "after search_heuristics, lb:  -2114.8666916487955\n",
      "after update_parameters, lb:  -2114.8665472614703\n",
      "after search_heuristics, lb:  -2110.7400614665066\n",
      "after update_parameters, lb:  -2107.3469886917496\n",
      "after search_heuristics, lb:  -2106.148485026777\n",
      "after update_parameters, lb:  -2106.020879874509\n",
      "after search_heuristics, lb:  -2105.0171643177277\n",
      "after update_parameters, lb:  -2104.9772443280754\n",
      "after search_heuristics, lb:  -2104.4593874057136\n",
      "after update_parameters, lb:  -2103.985885359142\n",
      "after search_heuristics, lb:  -2103.501075546777\n",
      "after update_parameters, lb:  -2103.4270236959874\n",
      "after search_heuristics, lb:  -2103.32557182637\n",
      "after update_parameters, lb:  -2103.3057139570037\n",
      "after search_heuristics, lb:  -2103.2797673751816\n",
      "after update_parameters, lb:  -2103.2746342063692\n",
      "after search_heuristics, lb:  -2103.267791725566\n",
      "after update_parameters, lb:  -2103.2664210164403\n",
      "after search_heuristics, lb:  -2103.2645385556502\n",
      "==================================================\n",
      "==================== Run #2 ====================\n",
      "==================================================\n",
      "initial lb:  -40844.329697857465\n",
      "after update_parameters, lb:  -2811.530048586598\n",
      "after search_heuristics, lb:  -2455.0257832090842\n",
      "after update_parameters, lb:  -2442.859030741661\n",
      "after search_heuristics, lb:  -2318.213392628981\n",
      "after update_parameters, lb:  -2298.6511692183603\n",
      "after search_heuristics, lb:  -2261.8380063371187\n",
      "after update_parameters, lb:  -2257.0673577713924\n",
      "after search_heuristics, lb:  -2199.177308571298\n",
      "after update_parameters, lb:  -2188.733817961689\n",
      "after search_heuristics, lb:  -2166.1982037799853\n",
      "after update_parameters, lb:  -2165.135252592967\n",
      "after search_heuristics, lb:  -2154.5614535772756\n",
      "after update_parameters, lb:  -2153.094817310164\n",
      "after search_heuristics, lb:  -2144.383414900668\n",
      "after update_parameters, lb:  -2144.1854850918985\n",
      "after search_heuristics, lb:  -2137.4152258459594\n",
      "after update_parameters, lb:  -2137.250236605934\n",
      "after search_heuristics, lb:  -2130.1162150791197\n",
      "after update_parameters, lb:  -2128.243504236174\n",
      "after search_heuristics, lb:  -2122.3990448337295\n",
      "after update_parameters, lb:  -2122.3793901829818\n",
      "after search_heuristics, lb:  -2118.4028162534482\n",
      "after update_parameters, lb:  -2118.3948660902274\n",
      "after search_heuristics, lb:  -2111.6456580618997\n",
      "after update_parameters, lb:  -2111.5776974854402\n",
      "after search_heuristics, lb:  -2110.9409549075044\n",
      "after update_parameters, lb:  -2110.9276715989795\n",
      "after search_heuristics, lb:  -2110.9209299098275\n",
      "after update_parameters, lb:  -2110.9200220017424\n",
      "after search_heuristics, lb:  -2110.9186967631063\n",
      "after update_parameters, lb:  -2110.918366052941\n",
      "after search_heuristics, lb:  -2110.917793862538\n"
     ]
    }
   ],
   "source": [
    "model = params_set()\n",
    "# for logging purpose\n",
    "model.lbs = []\n",
    "model.model_sets = []\n",
    "model.best_lb = 0\n",
    "# recording which iteration in which run has the best lb \n",
    "model.best_model_idx = (0,0) # (best run idx, best iter idx) \n",
    "\n",
    "\n",
    "for i in range(3):\n",
    "    print('='*50)\n",
    "    print('='*20,'Run #{}'.format(i),'='*20)\n",
    "    print('='*50)\n",
    "    \n",
    "    model = initialize_model(model, K = 10)\n",
    "    lb, _ = compute_lower_bound(X, model)\n",
    "    print('initial lb: ', lb)\n",
    "    \n",
    "    lbs = [lb]\n",
    "    model_sets = [model.attrs_dict(exclude = ['lbs','model_sets', 'best_lb', 'best_model_idx'])]\n",
    "    iter_count = 0\n",
    "    while 1:\n",
    "        model = update_parameters(X, model, maxIter = 2)\n",
    "        lb, _ = compute_lower_bound(X, model)\n",
    "        print('after update_parameters, lb: ', lb)\n",
    "\n",
    "        best_lb, best_model_dic = search_heuristics(X, model)\n",
    "        model.set_attrs_dict(best_model_dic)\n",
    "        lb, _ = compute_lower_bound(X, model)\n",
    "        print('after search_heuristics, lb: ', lb)\n",
    "        \n",
    "        lbs.append(lb)\n",
    "        model_sets.append(model.attrs_dict(exclude = ['lbs','model_sets', 'best_lb', 'best_model_idx']))\n",
    "        if len(lbs) > 3 and np.std(lbs[-3:]) <1e-2:\n",
    "            break\n",
    "        if model.best_lb < lb or model.best_lb == 0:\n",
    "            model.best_lb = lb\n",
    "            model.best_model_idx = (i,iter_count)\n",
    "        iter_count += 1\n",
    "        \n",
    "    model.model_sets.append(model_sets)\n",
    "    model.lbs.append(lbs)\n"
   ]
  },
  {
   "cell_type": "code",
   "execution_count": 111,
   "metadata": {},
   "outputs": [
    {
     "data": {
      "image/png": "[encoded data removed]",
      "text/plain": [
       "<Figure size 432x288 with 1 Axes>"
      ]
     },
     "metadata": {},
     "output_type": "display_data"
    }
   ],
   "source": [
    "for i in range(3):\n",
    "    plt.plot(model.lbs[i], label = 'run # '+str(i))\n",
    "    plt.legend()\n",
    "plt.title('lb')\n",
    "plt.show()"
   ]
  },
  {
   "cell_type": "code",
   "execution_count": null,
   "metadata": {},
   "outputs": [],
   "source": []
  },
  {
   "cell_type": "code",
   "execution_count": null,
   "metadata": {},
   "outputs": [],
   "source": []
  },
  {
   "cell_type": "code",
   "execution_count": null,
   "metadata": {},
   "outputs": [],
   "source": []
  },
  {
   "cell_type": "code",
   "execution_count": 116,
   "metadata": {},
   "outputs": [
    {
     "name": "stdout",
     "output_type": "stream",
     "text": [
      "(0, 7)\n"
     ]
    }
   ],
   "source": [
    "best_model_idx = model.best_model_idx\n",
    "print(best_model_idx)\n",
    "\n",
    "model_sets = model.model_sets[best_model_idx[0]]\n"
   ]
  },
  {
   "cell_type": "code",
   "execution_count": 117,
   "metadata": {},
   "outputs": [],
   "source": [
    "Z = model_sets[-1]['nu']\n",
    "sigma_X = model_sets[-1]['rho_n'][0] / model_sets[-1]['rho_n'][1]\n",
    "sigma_A = model_sets[-1]['rho_A'][0] / model_sets[-1]['rho_A'][1]\n",
    "K_plus = model_sets[-1]['K']\n",
    "M = np.linalg.inv(Z.T@Z + (sigma_X**2/sigma_A**2)*np.diag(np.ones(K_plus)))\n",
    "A_prox = M@Z.T@X\n",
    "X_prox = Z@A_prox"
   ]
  },
  {
   "cell_type": "code",
   "execution_count": 118,
   "metadata": {},
   "outputs": [
    {
     "data": {
      "image/png": "[encoded data removed]",
      "text/plain": [
       "<Figure size 720x1080 with 1 Axes>"
      ]
     },
     "metadata": {},
     "output_type": "display_data"
    }
   ],
   "source": [
    "plt.figure(figsize=(10,15))\n",
    "plt.yticks(np.arange(len(word_list)), word_list, fontsize = 16)\n",
    "plt.xlabel('feature dimension', fontsize = 16)\n",
    "plt.gca().xaxis.set_label_position('top')\n",
    "plt.imshow(Z, cmap='gray')\n",
    "plt.show()"
   ]
  },
  {
   "cell_type": "code",
   "execution_count": 119,
   "metadata": {},
   "outputs": [
    {
     "data": {
      "image/png": "[encoded data removed]",
      "text/plain": [
       "<Figure size 720x1080 with 5 Axes>"
      ]
     },
     "metadata": {},
     "output_type": "display_data"
    }
   ],
   "source": [
    "plt.figure(figsize=(10,15))\n",
    "for i in range(5):\n",
    "    plt.subplot(5,1,1+i)\n",
    "    plt.imshow(Z[all_idx[i],:], cmap='gray')\n",
    "    plt.yticks(np.arange(len(all_idx[i])), np.array(word_list)[all_idx[i]], fontsize = 16)\n",
    "    if i == 0:\n",
    "        plt.xlabel('feature dimension', fontsize = 16)\n",
    "    plt.gca().xaxis.set_label_position('top')\n",
    "    plt.title(categories[i], x=-0.3, y=0.5, fontsize = 20)\n",
    "plt.tight_layout()\n",
    "plt.show()"
   ]
  },
  {
   "cell_type": "code",
   "execution_count": null,
   "metadata": {},
   "outputs": [],
   "source": []
  },
  {
   "cell_type": "code",
   "execution_count": null,
   "metadata": {},
   "outputs": [],
   "source": []
  },
  {
   "cell_type": "code",
   "execution_count": null,
   "metadata": {},
   "outputs": [],
   "source": []
  },
  {
   "cell_type": "markdown",
   "metadata": {},
   "source": [
    "# on bert sentence embeddings"
   ]
  },
  {
   "cell_type": "code",
   "execution_count": 120,
   "metadata": {},
   "outputs": [
    {
     "name": "stderr",
     "output_type": "stream",
     "text": [
      "I1001 14:03:48.503644 4528848384 SentenceTransformer.py:60] Load pretrained SentenceTransformer: all-MiniLM-L6-v2\n",
      "I1001 14:03:51.575271 4528848384 SentenceTransformer.py:97] Use pytorch device: cpu\n"
     ]
    }
   ],
   "source": [
    "from sentence_transformers import SentenceTransformer\n",
    "model = SentenceTransformer('all-MiniLM-L6-v2')\n"
   ]
  },
  {
   "cell_type": "code",
   "execution_count": 125,
   "metadata": {},
   "outputs": [
    {
     "data": {
      "application/vnd.jupyter.widget-view+json": {
       "model_id": "df8a269336cc48159e9e25024a51d33b",
       "version_major": 2,
       "version_minor": 0
      },
      "text/plain": [
       "HBox(children=(FloatProgress(value=0.0, description='Batches', max=1.0, style=ProgressStyle(description_width=…"
      ]
     },
     "metadata": {},
     "output_type": "display_data"
    },
    {
     "name": "stderr",
     "output_type": "stream",
     "text": [
      "/Users/joey/anaconda3/lib/python3.6/site-packages/transformers/tokenization_utils_base.py:2227: UserWarning: `max_length` is ignored when `padding`=`True`.\n",
      "  warnings.warn(\"`max_length` is ignored when `padding`=`True`.\")\n"
     ]
    },
    {
     "name": "stdout",
     "output_type": "stream",
     "text": [
      "\n"
     ]
    }
   ],
   "source": [
    "sentences = ['North Korea Sends Confusing Signals: Dialogue or Tension?',\n",
    "             'London Police, Under Fire on Everard Murder, Respond With Safety Tips',\n",
    "             'In Portugal, There Is Virtually No One Left to Vaccinate',\n",
    "             'Fashion Mogul Agrees to Face Sex-Trafficking Charges in U.S.',\n",
    "             'House infrastructure vote on hold as Democrats try to strike deal on broader social spending bill',\n",
    "             'CEOs are at their wits’ ends — they don’t know how to get their employees back in',\n",
    "             'Stocks making the biggest moves midday: Merck, Moderna, United Airlines and more',\n",
    "             'Alaska Airlines tells employees they need Covid vaccinations under federal rules',\n",
    "             'Rising cases and deaths test Singapore’s pivot to treat Covid as endemic',\n",
    "             'Amazon hardware chief says Astro home robot started as a security device and ‘evolved’',\n",
    "             'Facebook used Big Tobacco playbook to exploit teens and children, senators say'\n",
    "            ]\n",
    "sentence_embeddings = model.encode(sentences)\n"
   ]
  },
  {
   "cell_type": "code",
   "execution_count": 127,
   "metadata": {},
   "outputs": [
    {
     "data": {
      "text/plain": [
       "array([[-0.01703846,  0.04693829,  0.023722  , ...,  0.01539291,\n",
       "        -0.09617949, -0.03351739],\n",
       "       [ 0.00993483,  0.06485876, -0.0134256 , ..., -0.01853283,\n",
       "        -0.01734944,  0.04869064],\n",
       "       [ 0.06575372,  0.05510629, -0.06001321, ..., -0.03737281,\n",
       "        -0.00201545,  0.00608888],\n",
       "       ...,\n",
       "       [-0.00420298, -0.01088682, -0.01527512, ..., -0.03880221,\n",
       "         0.01342504,  0.07348343],\n",
       "       [-0.03179686,  0.02309716, -0.02921871, ...,  0.04169037,\n",
       "         0.01917455,  0.043859  ],\n",
       "       [-0.00658451,  0.09564114, -0.03408258, ..., -0.00178985,\n",
       "         0.01740042,  0.03228514]], dtype=float32)"
      ]
     },
     "execution_count": 127,
     "metadata": {},
     "output_type": "execute_result"
    }
   ],
   "source": [
    "sentence_embeddings"
   ]
  },
  {
   "cell_type": "code",
   "execution_count": null,
   "metadata": {},
   "outputs": [],
   "source": []
  },
  {
   "cell_type": "code",
   "execution_count": 133,
   "metadata": {},
   "outputs": [
    {
     "data": {
      "text/plain": [
       "0.16871125"
      ]
     },
     "execution_count": 133,
     "metadata": {},
     "output_type": "execute_result"
    }
   ],
   "source": [
    "sentence_embeddings.max()"
   ]
  },
  {
   "cell_type": "code",
   "execution_count": 126,
   "metadata": {},
   "outputs": [
    {
     "data": {
      "text/plain": [
       "(11, 384)"
      ]
     },
     "execution_count": 126,
     "metadata": {},
     "output_type": "execute_result"
    }
   ],
   "source": [
    "sentence_embeddings.shape"
   ]
  },
  {
   "cell_type": "code",
   "execution_count": 134,
   "metadata": {},
   "outputs": [],
   "source": [
    "X = sentence_embeddings/sentence_embeddings.max()"
   ]
  },
  {
   "cell_type": "code",
   "execution_count": 158,
   "metadata": {},
   "outputs": [
    {
     "name": "stdout",
     "output_type": "stream",
     "text": [
      "==================================================\n",
      "==================== Run #0 ====================\n",
      "==================================================\n",
      "initial lb:  -82611.23210531393\n"
     ]
    },
    {
     "name": "stderr",
     "output_type": "stream",
     "text": [
      "/Users/joey/anaconda3/lib/python3.6/site-packages/ipykernel_launcher.py:16: RuntimeWarning: overflow encountered in exp\n",
      "  app.launch_new_instance()\n",
      "/Users/joey/anaconda3/lib/python3.6/site-packages/numpy/core/_methods.py:234: RuntimeWarning: Degrees of freedom <= 0 for slice\n",
      "  keepdims=keepdims)\n",
      "/Users/joey/anaconda3/lib/python3.6/site-packages/numpy/core/_methods.py:195: RuntimeWarning: invalid value encountered in true_divide\n",
      "  arrmean, rcount, out=arrmean, casting='unsafe', subok=False)\n",
      "/Users/joey/anaconda3/lib/python3.6/site-packages/numpy/core/_methods.py:226: RuntimeWarning: invalid value encountered in double_scalars\n",
      "  ret = ret.dtype.type(ret / rcount)\n"
     ]
    },
    {
     "name": "stdout",
     "output_type": "stream",
     "text": [
      "after update_parameters, lb:  -990.9431637063035\n",
      "after search_heuristics, lb:  -975.0470845957892\n",
      "after update_parameters, lb:  -972.2901305771567\n",
      "after search_heuristics, lb:  -968.2155898157192\n",
      "after update_parameters, lb:  -967.367768384362\n",
      "after search_heuristics, lb:  -965.9350882222541\n",
      "after update_parameters, lb:  -965.5638597333972\n",
      "after search_heuristics, lb:  -964.8675679008019\n",
      "after update_parameters, lb:  -964.6699979446338\n",
      "after search_heuristics, lb:  -964.347296978821\n",
      "after update_parameters, lb:  -964.3000603493002\n",
      "after search_heuristics, lb:  -964.2608875818769\n",
      "after update_parameters, lb:  -964.2569912537426\n",
      "after search_heuristics, lb:  -964.2538768812088\n",
      "after update_parameters, lb:  -964.2535472275925\n"
     ]
    },
    {
     "ename": "KeyboardInterrupt",
     "evalue": "",
     "output_type": "error",
     "traceback": [
      "\u001b[0;31m---------------------------------------------------------------------------\u001b[0m",
      "\u001b[0;31mKeyboardInterrupt\u001b[0m                         Traceback (most recent call last)",
      "\u001b[0;32m<ipython-input-158-38169d342518>\u001b[0m in \u001b[0;36m<module>\u001b[0;34m()\u001b[0m\n\u001b[1;32m     25\u001b[0m         \u001b[0mprint\u001b[0m\u001b[0;34m(\u001b[0m\u001b[0;34m'after update_parameters, lb: '\u001b[0m\u001b[0;34m,\u001b[0m \u001b[0mlb\u001b[0m\u001b[0;34m)\u001b[0m\u001b[0;34m\u001b[0m\u001b[0;34m\u001b[0m\u001b[0m\n\u001b[1;32m     26\u001b[0m \u001b[0;34m\u001b[0m\u001b[0m\n\u001b[0;32m---> 27\u001b[0;31m         \u001b[0mbest_lb\u001b[0m\u001b[0;34m,\u001b[0m \u001b[0mbest_model_dic\u001b[0m \u001b[0;34m=\u001b[0m \u001b[0msearch_heuristics\u001b[0m\u001b[0;34m(\u001b[0m\u001b[0mX\u001b[0m\u001b[0;34m,\u001b[0m \u001b[0mmodel\u001b[0m\u001b[0;34m)\u001b[0m\u001b[0;34m\u001b[0m\u001b[0;34m\u001b[0m\u001b[0m\n\u001b[0m\u001b[1;32m     28\u001b[0m         \u001b[0mmodel\u001b[0m\u001b[0;34m.\u001b[0m\u001b[0mset_attrs_dict\u001b[0m\u001b[0;34m(\u001b[0m\u001b[0mbest_model_dic\u001b[0m\u001b[0;34m)\u001b[0m\u001b[0;34m\u001b[0m\u001b[0;34m\u001b[0m\u001b[0m\n\u001b[1;32m     29\u001b[0m         \u001b[0mlb\u001b[0m\u001b[0;34m,\u001b[0m \u001b[0m_\u001b[0m \u001b[0;34m=\u001b[0m \u001b[0mcompute_lower_bound\u001b[0m\u001b[0;34m(\u001b[0m\u001b[0mX\u001b[0m\u001b[0;34m,\u001b[0m \u001b[0mmodel\u001b[0m\u001b[0;34m)\u001b[0m\u001b[0;34m\u001b[0m\u001b[0;34m\u001b[0m\u001b[0m\n",
      "\u001b[0;32m<ipython-input-31-a78d7e5eb50a>\u001b[0m in \u001b[0;36msearch_heuristics\u001b[0;34m(X, model)\u001b[0m\n\u001b[1;32m      9\u001b[0m             \u001b[0mnew_model\u001b[0m \u001b[0;34m=\u001b[0m \u001b[0mcopy\u001b[0m\u001b[0;34m.\u001b[0m\u001b[0mdeepcopy\u001b[0m\u001b[0;34m(\u001b[0m\u001b[0mmodel\u001b[0m\u001b[0;34m)\u001b[0m\u001b[0;34m\u001b[0m\u001b[0;34m\u001b[0m\u001b[0m\n\u001b[1;32m     10\u001b[0m             \u001b[0mnew_model\u001b[0m \u001b[0;34m=\u001b[0m \u001b[0mmove\u001b[0m\u001b[0;34m(\u001b[0m\u001b[0mnew_model\u001b[0m\u001b[0;34m,\u001b[0m \u001b[0mh\u001b[0m\u001b[0;34m,\u001b[0m \u001b[0ml\u001b[0m\u001b[0;34m)\u001b[0m\u001b[0;34m\u001b[0m\u001b[0;34m\u001b[0m\u001b[0m\n\u001b[0;32m---> 11\u001b[0;31m             \u001b[0mnew_model\u001b[0m \u001b[0;34m=\u001b[0m \u001b[0mupdate_parameters\u001b[0m\u001b[0;34m(\u001b[0m\u001b[0mX\u001b[0m\u001b[0;34m,\u001b[0m \u001b[0mnew_model\u001b[0m\u001b[0;34m,\u001b[0m \u001b[0mmaxIter\u001b[0m \u001b[0;34m=\u001b[0m \u001b[0;36m5\u001b[0m\u001b[0;34m)\u001b[0m\u001b[0;34m\u001b[0m\u001b[0;34m\u001b[0m\u001b[0m\n\u001b[0m\u001b[1;32m     12\u001b[0m             \u001b[0mnew_lb\u001b[0m\u001b[0;34m,\u001b[0m \u001b[0m_\u001b[0m \u001b[0;34m=\u001b[0m \u001b[0mcompute_lower_bound\u001b[0m\u001b[0;34m(\u001b[0m\u001b[0mX\u001b[0m\u001b[0;34m,\u001b[0m \u001b[0mnew_model\u001b[0m\u001b[0;34m)\u001b[0m\u001b[0;34m\u001b[0m\u001b[0;34m\u001b[0m\u001b[0m\n\u001b[1;32m     13\u001b[0m             \u001b[0;32mif\u001b[0m \u001b[0mnew_lb\u001b[0m \u001b[0;34m>\u001b[0m \u001b[0mbest_lb\u001b[0m\u001b[0;34m:\u001b[0m\u001b[0;34m\u001b[0m\u001b[0;34m\u001b[0m\u001b[0m\n",
      "\u001b[0;32m<ipython-input-19-ec2213deae5c>\u001b[0m in \u001b[0;36mupdate_parameters\u001b[0;34m(X, model, maxIter, thresh)\u001b[0m\n\u001b[1;32m     27\u001b[0m                 \u001b[0mrho_alpha\u001b[0m \u001b[0;34m=\u001b[0m \u001b[0mupdate_rho_alpha\u001b[0m\u001b[0;34m(\u001b[0m\u001b[0mmodel\u001b[0m\u001b[0;34m)\u001b[0m\u001b[0;34m\u001b[0m\u001b[0;34m\u001b[0m\u001b[0m\n\u001b[1;32m     28\u001b[0m                 \u001b[0mmodel\u001b[0m\u001b[0;34m.\u001b[0m\u001b[0mrho_alpha\u001b[0m \u001b[0;34m=\u001b[0m \u001b[0mrho_alpha\u001b[0m\u001b[0;34m\u001b[0m\u001b[0;34m\u001b[0m\u001b[0m\n\u001b[0;32m---> 29\u001b[0;31m         \u001b[0mlb\u001b[0m\u001b[0;34m,\u001b[0m \u001b[0m_\u001b[0m \u001b[0;34m=\u001b[0m \u001b[0mcompute_lower_bound\u001b[0m\u001b[0;34m(\u001b[0m\u001b[0mX\u001b[0m\u001b[0;34m,\u001b[0m \u001b[0mmodel\u001b[0m\u001b[0;34m)\u001b[0m\u001b[0;34m\u001b[0m\u001b[0;34m\u001b[0m\u001b[0m\n\u001b[0m\u001b[1;32m     30\u001b[0m \u001b[0;31m#         print(lb)\u001b[0m\u001b[0;34m\u001b[0m\u001b[0;34m\u001b[0m\u001b[0;34m\u001b[0m\u001b[0m\n\u001b[1;32m     31\u001b[0m         \u001b[0;32mif\u001b[0m \u001b[0;34m(\u001b[0m\u001b[0mnp\u001b[0m\u001b[0;34m.\u001b[0m\u001b[0mstd\u001b[0m\u001b[0;34m(\u001b[0m\u001b[0mlocal_lbs\u001b[0m\u001b[0;34m[\u001b[0m\u001b[0;34m-\u001b[0m\u001b[0;36m3\u001b[0m\u001b[0;34m:\u001b[0m\u001b[0;34m]\u001b[0m\u001b[0;34m)\u001b[0m \u001b[0;34m<\u001b[0m \u001b[0mthresh\u001b[0m \u001b[0;32mand\u001b[0m \u001b[0mitr_count\u001b[0m \u001b[0;34m>\u001b[0m \u001b[0;36m3\u001b[0m\u001b[0;34m)\u001b[0m \u001b[0;32mor\u001b[0m \u001b[0mitr_count\u001b[0m \u001b[0;34m>=\u001b[0m \u001b[0mmaxIter\u001b[0m\u001b[0;34m:\u001b[0m\u001b[0;34m\u001b[0m\u001b[0;34m\u001b[0m\u001b[0m\n",
      "\u001b[0;32m<ipython-input-12-42907f730ba6>\u001b[0m in \u001b[0;36mcompute_lower_bound\u001b[0;34m(X, model)\u001b[0m\n\u001b[1;32m     36\u001b[0m     \u001b[0mterm5\u001b[0m \u001b[0;34m=\u001b[0m \u001b[0;36m0\u001b[0m\u001b[0;34m\u001b[0m\u001b[0;34m\u001b[0m\u001b[0m\n\u001b[1;32m     37\u001b[0m     \u001b[0;32mfor\u001b[0m \u001b[0mk\u001b[0m \u001b[0;32min\u001b[0m \u001b[0mrange\u001b[0m\u001b[0;34m(\u001b[0m\u001b[0mK\u001b[0m\u001b[0;34m)\u001b[0m\u001b[0;34m:\u001b[0m\u001b[0;34m\u001b[0m\u001b[0;34m\u001b[0m\u001b[0m\n\u001b[0;32m---> 38\u001b[0;31m         \u001b[0mq\u001b[0m\u001b[0;34m,\u001b[0m \u001b[0mlb\u001b[0m \u001b[0;34m=\u001b[0m \u001b[0mcompute_auxiliary_q_and_lb\u001b[0m\u001b[0;34m(\u001b[0m\u001b[0meta\u001b[0m\u001b[0;34m,\u001b[0m \u001b[0mk\u001b[0m\u001b[0;34m+\u001b[0m\u001b[0;36m1\u001b[0m\u001b[0;34m)\u001b[0m\u001b[0;34m\u001b[0m\u001b[0;34m\u001b[0m\u001b[0m\n\u001b[0m\u001b[1;32m     39\u001b[0m         \u001b[0mterm5\u001b[0m \u001b[0;34m+=\u001b[0m \u001b[0mnu\u001b[0m\u001b[0;34m[\u001b[0m\u001b[0;34m:\u001b[0m\u001b[0;34m,\u001b[0m\u001b[0mk\u001b[0m\u001b[0;34m]\u001b[0m\u001b[0;34m.\u001b[0m\u001b[0msum\u001b[0m\u001b[0;34m(\u001b[0m\u001b[0;34m)\u001b[0m\u001b[0;34m*\u001b[0m\u001b[0;34m(\u001b[0m\u001b[0mDigamma\u001b[0m\u001b[0;34m(\u001b[0m\u001b[0meta\u001b[0m\u001b[0;34m[\u001b[0m\u001b[0;34m:\u001b[0m\u001b[0mk\u001b[0m\u001b[0;34m+\u001b[0m\u001b[0;36m1\u001b[0m\u001b[0;34m,\u001b[0m\u001b[0;36m0\u001b[0m\u001b[0;34m]\u001b[0m\u001b[0;34m)\u001b[0m \u001b[0;34m-\u001b[0m \u001b[0mDigamma\u001b[0m\u001b[0;34m(\u001b[0m\u001b[0meta\u001b[0m\u001b[0;34m[\u001b[0m\u001b[0;34m:\u001b[0m\u001b[0mk\u001b[0m\u001b[0;34m+\u001b[0m\u001b[0;36m1\u001b[0m\u001b[0;34m,\u001b[0m\u001b[0;36m0\u001b[0m\u001b[0;34m]\u001b[0m\u001b[0;34m+\u001b[0m\u001b[0meta\u001b[0m\u001b[0;34m[\u001b[0m\u001b[0;34m:\u001b[0m\u001b[0mk\u001b[0m\u001b[0;34m+\u001b[0m\u001b[0;36m1\u001b[0m\u001b[0;34m,\u001b[0m\u001b[0;36m1\u001b[0m\u001b[0;34m]\u001b[0m\u001b[0;34m)\u001b[0m\u001b[0;34m)\u001b[0m\u001b[0;34m.\u001b[0m\u001b[0msum\u001b[0m\u001b[0;34m(\u001b[0m\u001b[0;34m)\u001b[0m                 \u001b[0;34m+\u001b[0m \u001b[0;34m(\u001b[0m\u001b[0mN\u001b[0m\u001b[0;34m-\u001b[0m\u001b[0mnu\u001b[0m\u001b[0;34m[\u001b[0m\u001b[0;34m:\u001b[0m\u001b[0;34m,\u001b[0m\u001b[0mk\u001b[0m\u001b[0;34m]\u001b[0m\u001b[0;34m.\u001b[0m\u001b[0msum\u001b[0m\u001b[0;34m(\u001b[0m\u001b[0;34m)\u001b[0m\u001b[0;34m)\u001b[0m\u001b[0;34m*\u001b[0m\u001b[0mlb\u001b[0m\u001b[0;34m\u001b[0m\u001b[0;34m\u001b[0m\u001b[0m\n\u001b[1;32m     40\u001b[0m     \u001b[0mterms\u001b[0m\u001b[0;34m.\u001b[0m\u001b[0mappend\u001b[0m\u001b[0;34m(\u001b[0m\u001b[0mterm5\u001b[0m\u001b[0;34m)\u001b[0m\u001b[0;34m\u001b[0m\u001b[0;34m\u001b[0m\u001b[0m\n",
      "\u001b[0;32m<ipython-input-11-2b694b99b171>\u001b[0m in \u001b[0;36mcompute_auxiliary_q_and_lb\u001b[0;34m(eta, k)\u001b[0m\n\u001b[1;32m      2\u001b[0m     \u001b[0meta\u001b[0m \u001b[0;34m=\u001b[0m \u001b[0meta\u001b[0m\u001b[0;34m[\u001b[0m\u001b[0;34m:\u001b[0m\u001b[0mk\u001b[0m\u001b[0;34m,\u001b[0m\u001b[0;34m:\u001b[0m\u001b[0;34m]\u001b[0m\u001b[0;34m\u001b[0m\u001b[0;34m\u001b[0m\u001b[0m\n\u001b[1;32m      3\u001b[0m     \u001b[0mtemp\u001b[0m \u001b[0;34m=\u001b[0m \u001b[0mDigamma\u001b[0m\u001b[0;34m(\u001b[0m\u001b[0meta\u001b[0m\u001b[0;34m[\u001b[0m\u001b[0;34m:\u001b[0m\u001b[0;34m,\u001b[0m\u001b[0;36m1\u001b[0m\u001b[0;34m]\u001b[0m\u001b[0;34m)\u001b[0m          \u001b[0;34m+\u001b[0m \u001b[0mnp\u001b[0m\u001b[0;34m.\u001b[0m\u001b[0mcumsum\u001b[0m\u001b[0;34m(\u001b[0m\u001b[0mnp\u001b[0m\u001b[0;34m.\u001b[0m\u001b[0minsert\u001b[0m\u001b[0;34m(\u001b[0m\u001b[0mDigamma\u001b[0m\u001b[0;34m(\u001b[0m\u001b[0meta\u001b[0m\u001b[0;34m[\u001b[0m\u001b[0;34m:\u001b[0m\u001b[0;34m,\u001b[0m\u001b[0;36m0\u001b[0m\u001b[0;34m]\u001b[0m\u001b[0;34m)\u001b[0m\u001b[0;34m,\u001b[0m\u001b[0;36m0\u001b[0m\u001b[0;34m,\u001b[0m\u001b[0;36m0\u001b[0m\u001b[0;34m)\u001b[0m\u001b[0;34m)\u001b[0m\u001b[0;34m[\u001b[0m\u001b[0;34m:\u001b[0m\u001b[0;34m-\u001b[0m\u001b[0;36m1\u001b[0m\u001b[0;34m]\u001b[0m          \u001b[0;34m-\u001b[0m \u001b[0mnp\u001b[0m\u001b[0;34m.\u001b[0m\u001b[0mcumsum\u001b[0m\u001b[0;34m(\u001b[0m\u001b[0mDigamma\u001b[0m\u001b[0;34m(\u001b[0m\u001b[0meta\u001b[0m\u001b[0;34m[\u001b[0m\u001b[0;34m:\u001b[0m\u001b[0;34m,\u001b[0m\u001b[0;36m0\u001b[0m\u001b[0;34m]\u001b[0m\u001b[0;34m+\u001b[0m\u001b[0meta\u001b[0m\u001b[0;34m[\u001b[0m\u001b[0;34m:\u001b[0m\u001b[0;34m,\u001b[0m\u001b[0;36m1\u001b[0m\u001b[0;34m]\u001b[0m\u001b[0;34m)\u001b[0m\u001b[0;34m)\u001b[0m\u001b[0;34m\u001b[0m\u001b[0;34m\u001b[0m\u001b[0m\n\u001b[0;32m----> 4\u001b[0;31m     \u001b[0mq\u001b[0m \u001b[0;34m=\u001b[0m \u001b[0mnp\u001b[0m\u001b[0;34m.\u001b[0m\u001b[0mexp\u001b[0m\u001b[0;34m(\u001b[0m\u001b[0mtemp\u001b[0m\u001b[0;34m-\u001b[0m\u001b[0mtemp\u001b[0m\u001b[0;34m.\u001b[0m\u001b[0mmax\u001b[0m\u001b[0;34m(\u001b[0m\u001b[0;34m)\u001b[0m\u001b[0;34m)\u001b[0m\u001b[0;34m\u001b[0m\u001b[0;34m\u001b[0m\u001b[0m\n\u001b[0m\u001b[1;32m      5\u001b[0m     \u001b[0mq\u001b[0m \u001b[0;34m=\u001b[0m \u001b[0mq\u001b[0m\u001b[0;34m/\u001b[0m\u001b[0mq\u001b[0m\u001b[0;34m.\u001b[0m\u001b[0msum\u001b[0m\u001b[0;34m(\u001b[0m\u001b[0;34m)\u001b[0m\u001b[0;34m\u001b[0m\u001b[0;34m\u001b[0m\u001b[0m\n\u001b[1;32m      6\u001b[0m     \u001b[0mlb\u001b[0m \u001b[0;34m=\u001b[0m \u001b[0;34m(\u001b[0m\u001b[0mq\u001b[0m\u001b[0;34m*\u001b[0m\u001b[0;34m(\u001b[0m\u001b[0mtemp\u001b[0m \u001b[0;34m-\u001b[0m \u001b[0mlog\u001b[0m\u001b[0;34m(\u001b[0m\u001b[0mq\u001b[0m\u001b[0;34m)\u001b[0m\u001b[0;34m)\u001b[0m\u001b[0;34m)\u001b[0m\u001b[0;34m.\u001b[0m\u001b[0msum\u001b[0m\u001b[0;34m(\u001b[0m\u001b[0;34m)\u001b[0m\u001b[0;34m\u001b[0m\u001b[0;34m\u001b[0m\u001b[0m\n",
      "\u001b[0;32m~/anaconda3/lib/python3.6/site-packages/numpy/core/_methods.py\u001b[0m in \u001b[0;36m_amax\u001b[0;34m(a, axis, out, keepdims, initial, where)\u001b[0m\n\u001b[1;32m     35\u001b[0m \u001b[0;31m# avoid keyword arguments to speed up parsing, saves about 15%-20% for very\u001b[0m\u001b[0;34m\u001b[0m\u001b[0;34m\u001b[0m\u001b[0;34m\u001b[0m\u001b[0m\n\u001b[1;32m     36\u001b[0m \u001b[0;31m# small reductions\u001b[0m\u001b[0;34m\u001b[0m\u001b[0;34m\u001b[0m\u001b[0;34m\u001b[0m\u001b[0m\n\u001b[0;32m---> 37\u001b[0;31m def _amax(a, axis=None, out=None, keepdims=False,\n\u001b[0m\u001b[1;32m     38\u001b[0m           initial=_NoValue, where=True):\n\u001b[1;32m     39\u001b[0m     \u001b[0;32mreturn\u001b[0m \u001b[0mumr_maximum\u001b[0m\u001b[0;34m(\u001b[0m\u001b[0ma\u001b[0m\u001b[0;34m,\u001b[0m \u001b[0maxis\u001b[0m\u001b[0;34m,\u001b[0m \u001b[0;32mNone\u001b[0m\u001b[0;34m,\u001b[0m \u001b[0mout\u001b[0m\u001b[0;34m,\u001b[0m \u001b[0mkeepdims\u001b[0m\u001b[0;34m,\u001b[0m \u001b[0minitial\u001b[0m\u001b[0;34m,\u001b[0m \u001b[0mwhere\u001b[0m\u001b[0;34m)\u001b[0m\u001b[0;34m\u001b[0m\u001b[0;34m\u001b[0m\u001b[0m\n",
      "\u001b[0;31mKeyboardInterrupt\u001b[0m: "
     ]
    }
   ],
   "source": [
    "model = params_set()\n",
    "# for logging purpose\n",
    "model.lbs = []\n",
    "model.model_sets = []\n",
    "model.best_lb = 0\n",
    "# recording which iteration in which run has the best lb \n",
    "model.best_model_idx = (0,0) # (best run idx, best iter idx) \n",
    "num_runs = 1\n",
    "\n",
    "for i in range(num_runs):\n",
    "    print('='*50)\n",
    "    print('='*20,'Run #{}'.format(i),'='*20)\n",
    "    print('='*50)\n",
    "    \n",
    "    model = initialize_model(model, K = 12)\n",
    "    lb, _ = compute_lower_bound(X, model)\n",
    "    print('initial lb: ', lb)\n",
    "    \n",
    "    lbs = [lb]\n",
    "    model_sets = [model.attrs_dict(exclude = ['lbs','model_sets', 'best_lb', 'best_model_idx'])]\n",
    "    iter_count = 0\n",
    "    while 1:\n",
    "        model = update_parameters(X, model, maxIter = 2)\n",
    "        lb, _ = compute_lower_bound(X, model)\n",
    "        print('after update_parameters, lb: ', lb)\n",
    "\n",
    "        best_lb, best_model_dic = search_heuristics(X, model)\n",
    "        model.set_attrs_dict(best_model_dic)\n",
    "        lb, _ = compute_lower_bound(X, model)\n",
    "        print('after search_heuristics, lb: ', lb)\n",
    "        \n",
    "        lbs.append(lb)\n",
    "        model_sets.append(model.attrs_dict(exclude = ['lbs','model_sets', 'best_lb', 'best_model_idx']))\n",
    "        if len(lbs) > 3 and np.std(lbs[-3:]) <1e-2:\n",
    "            break\n",
    "        if model.best_lb < lb or model.best_lb == 0:\n",
    "            model.best_lb = lb\n",
    "            model.best_model_idx = (i,iter_count)\n",
    "        iter_count += 1\n",
    "        \n",
    "    model.model_sets.append(model_sets)\n",
    "    model.lbs.append(lbs)\n"
   ]
  },
  {
   "cell_type": "code",
   "execution_count": 159,
   "metadata": {},
   "outputs": [
    {
     "data": {
      "text/plain": [
       "(0, 6)"
      ]
     },
     "execution_count": 159,
     "metadata": {},
     "output_type": "execute_result"
    }
   ],
   "source": [
    "best_model_idx = model.best_model_idx\n",
    "best_model_idx"
   ]
  },
  {
   "cell_type": "code",
   "execution_count": 161,
   "metadata": {},
   "outputs": [
    {
     "ename": "IndexError",
     "evalue": "list index out of range",
     "output_type": "error",
     "traceback": [
      "\u001b[0;31m---------------------------------------------------------------------------\u001b[0m",
      "\u001b[0;31mIndexError\u001b[0m                                Traceback (most recent call last)",
      "\u001b[0;32m<ipython-input-161-29f2b1a0596f>\u001b[0m in \u001b[0;36m<module>\u001b[0;34m()\u001b[0m\n\u001b[0;32m----> 1\u001b[0;31m \u001b[0mbest_model\u001b[0m \u001b[0;34m=\u001b[0m \u001b[0mmodel\u001b[0m\u001b[0;34m.\u001b[0m\u001b[0mmodel_sets\u001b[0m\u001b[0;34m[\u001b[0m\u001b[0mbest_model_idx\u001b[0m\u001b[0;34m[\u001b[0m\u001b[0;36m0\u001b[0m\u001b[0;34m]\u001b[0m\u001b[0;34m]\u001b[0m\u001b[0;34m[\u001b[0m\u001b[0mbest_model_idx\u001b[0m\u001b[0;34m[\u001b[0m\u001b[0;36m1\u001b[0m\u001b[0;34m]\u001b[0m\u001b[0;34m]\u001b[0m\u001b[0;34m\u001b[0m\u001b[0;34m\u001b[0m\u001b[0m\n\u001b[0m",
      "\u001b[0;31mIndexError\u001b[0m: list index out of range"
     ]
    }
   ],
   "source": [
    "best_model = model.model_sets[best_model_idx[0]][best_model_idx[1]]"
   ]
  },
  {
   "cell_type": "code",
   "execution_count": 173,
   "metadata": {},
   "outputs": [],
   "source": [
    "best_model = model_sets[0]"
   ]
  },
  {
   "cell_type": "code",
   "execution_count": 177,
   "metadata": {},
   "outputs": [
    {
     "data": {
      "text/plain": [
       "<matplotlib.colorbar.Colorbar at 0x7f8fa5eef358>"
      ]
     },
     "execution_count": 177,
     "metadata": {},
     "output_type": "execute_result"
    },
    {
     "data": {
      "image/png": "[encoded data removed]",
      "text/plain": [
       "<Figure size 432x288 with 2 Axes>"
      ]
     },
     "metadata": {},
     "output_type": "display_data"
    }
   ],
   "source": [
    "plt.imshow(best_model['nu'])\n",
    "for i, s in enumerate(sentences):\n",
    "    plt.text(15,i,s, fontsize = 16)\n",
    "plt.colorbar()\n"
   ]
  },
  {
   "cell_type": "code",
   "execution_count": null,
   "metadata": {},
   "outputs": [],
   "source": []
  }
 ],
 "metadata": {
  "kernelspec": {
   "display_name": "Python 3",
   "language": "python",
   "name": "python3"
  },
  "language_info": {
   "codemirror_mode": {
    "name": "ipython",
    "version": 3
   },
   "file_extension": ".py",
   "mimetype": "text/x-python",
   "name": "python",
   "nbconvert_exporter": "python",
   "pygments_lexer": "ipython3",
   "version": "3.6.7"
  },
  "toc": {
   "base_numbering": 1,
   "nav_menu": {},
   "number_sections": true,
   "sideBar": true,
   "skip_h1_title": false,
   "title_cell": "Table of Contents",
   "title_sidebar": "Contents",
   "toc_cell": true,
   "toc_position": {
    "height": "calc(100% - 180px)",
    "left": "10px",
    "top": "150px",
    "width": "165px"
   },
   "toc_section_display": true,
   "toc_window_display": true
  }
 },
 "nbformat": 4,
 "nbformat_minor": 2
}
