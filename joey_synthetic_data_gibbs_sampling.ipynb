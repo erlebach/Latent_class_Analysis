{
 "cells": [
  {
   "cell_type": "markdown",
   "metadata": {},
   "source": [
    "## Latent Class Analysis \n",
    "- Uses conjugate priors\n",
    "\n",
    "### Author: Joey Jingze"
   ]
  },
  {
   "cell_type": "code",
   "execution_count": null,
   "metadata": {},
   "outputs": [],
   "source": [
    "import numpy as np\n",
    "import time\n",
    "from tqdm.notebook import tqdm,trange"
   ]
  },
  {
   "cell_type": "markdown",
   "metadata": {},
   "source": [
    "# Generate synthetic data"
   ]
  },
  {
   "cell_type": "code",
   "execution_count": null,
   "metadata": {},
   "outputs": [],
   "source": [
    "def gen_data(num_class = 4, num_feature = 7, num_object = 100000):\n",
    "    mu = np.ones(num_class) # the dirichlet prior alpha\n",
    "    alpha, beta = 1,1  # the beta prior\n",
    "\n",
    "    pi = np.random.dirichlet(mu)\n",
    "    p = np.random.beta(alpha, beta, size = (num_class, num_feature))\n",
    "    c = np.random.choice(num_class, p = pi, size = num_object) # the true class labels\n",
    "\n",
    "    y = np.zeros((num_object, num_feature)) # the observations\n",
    "\n",
    "    for i in range(num_class):\n",
    "        idx = c==i\n",
    "        y[idx,:] = np.random.binomial(1, p[i,:], size = (idx.sum(),num_feature))\n",
    "    return y, c"
   ]
  },
  {
   "cell_type": "code",
   "execution_count": null,
   "metadata": {},
   "outputs": [],
   "source": [
    "# very fast\n",
    "num_class = 3\n",
    "num_feature = 5\n",
    "num_object = 1000\n",
    "s = time.time()\n",
    "y,c_groundtruth = gen_data(num_class, num_feature, num_object)\n",
    "print(time.time()-s)"
   ]
  },
  {
   "cell_type": "code",
   "execution_count": null,
   "metadata": {},
   "outputs": [],
   "source": []
  },
  {
   "cell_type": "code",
   "execution_count": null,
   "metadata": {},
   "outputs": [],
   "source": [
    "y.shape, c_groundtruth.shape"
   ]
  },
  {
   "cell_type": "code",
   "execution_count": null,
   "metadata": {},
   "outputs": [],
   "source": [
    "gt = (c_groundtruth==0).sum(), (c_groundtruth==1).sum(), (c_groundtruth==2).sum()\n",
    "gt / np.sum(gt)"
   ]
  },
  {
   "cell_type": "markdown",
   "metadata": {},
   "source": [
    "# Gibbs"
   ]
  },
  {
   "cell_type": "code",
   "execution_count": null,
   "metadata": {},
   "outputs": [],
   "source": [
    "num_iter = 3000"
   ]
  },
  {
   "cell_type": "code",
   "execution_count": null,
   "metadata": {},
   "outputs": [],
   "source": [
    "# allocate storage\n",
    "Pi = np.zeros((num_iter, num_class))    # Pi\n",
    "Pjk = np.zeros((num_iter, num_class, num_feature))  # Pjk\n",
    "Cij = np.zeros((num_iter, num_object, num_class))    # Cij\n",
    "Cij_prob = np.zeros((num_iter, num_object, num_class)) # Cij.pr\n"
   ]
  },
  {
   "cell_type": "code",
   "execution_count": null,
   "metadata": {},
   "outputs": [],
   "source": [
    "# initialize \n",
    "mu = np.ones(num_class) # the dirichlet prior alpha\n",
    "Pi_current = np.random.dirichlet(mu)  # pi.t1\n",
    "alpha, beta = np.ones((num_class, num_feature)), np.ones((num_class, num_feature))   # the beta prior\n",
    "Pjk_current = np.random.beta(alpha, beta) # pjk.t1\n",
    "\n",
    "Cij_current = np.zeros((num_object, num_class)) # Cl.t1\n",
    "Cij_prob_current = np.zeros((num_object, num_class)) # Clp.t1\n"
   ]
  },
  {
   "cell_type": "code",
   "execution_count": null,
   "metadata": {},
   "outputs": [],
   "source": [
    "# one step iteration\n",
    "\n",
    "# update Cij and C\n",
    "for i in range(num_object):\n",
    "    temp = Pi_current * np.prod(Pjk_current**y[i,:] * (1-Pjk_current)**(1-y[i,:]), axis=1)\n",
    "    Cij_prob_current[i,:] = temp/temp.sum()\n",
    "    Cij_current[i,:] = np.random.multinomial(1, Cij_prob_current[i,:])\n",
    "\n",
    "# update Pi and Pjk\n",
    "Pi_current = np.random.dirichlet(mu + Cij_current.sum(axis = 0))\n",
    "\n",
    "temp_alpha = alpha.copy() \n",
    "temp_beta = beta.copy()\n",
    "\n",
    "# update Pjk \n",
    "for j in range(num_class):\n",
    "    for k in range(num_feature):\n",
    "        temp_alpha[j,k] += np.sum(y[:,k]*Cij_current[:,j])\n",
    "        temp_beta[j,k] += np.sum((1-y[:,k])*Cij_current[:,j])\n",
    "\n",
    "Pjk_current = np.random.beta(temp_alpha, temp_beta) \n",
    "\n"
   ]
  },
  {
   "cell_type": "markdown",
   "metadata": {},
   "source": [
    "# Gibbs iterations"
   ]
  },
  {
   "cell_type": "code",
   "execution_count": null,
   "metadata": {},
   "outputs": [],
   "source": [
    "def Gibbs_step(Pi_current, Pjk_current, Cij_prob_current, Cij_current):\n",
    "    # update Cij and C\n",
    "    for i in range(num_object):\n",
    "        temp = Pi_current * np.prod(Pjk_current**y[i,:] * (1-Pjk_current)**(1-y[i,:]), axis=1)\n",
    "        Cij_prob_current[i,:] = temp/temp.sum()\n",
    "        Cij_current[i,:] = np.random.multinomial(1, Cij_prob_current[i,:])\n",
    "\n",
    "    # update Pi\n",
    "    Pi_current = np.random.dirichlet(mu + Cij_current.sum(axis = 0))\n",
    "\n",
    "    temp_alpha = alpha.copy() \n",
    "    temp_beta = beta.copy() \n",
    "\n",
    "    # update Pjk\n",
    "    for j in range(num_class):\n",
    "        for k in range(num_feature):\n",
    "            temp_alpha[j,k] += np.sum(y[:,k]*Cij_current[:,j])\n",
    "            temp_beta[j,k] += np.sum((1-y[:,k])*Cij_current[:,j])\n",
    "\n",
    "    Pjk_current = np.random.beta(temp_alpha, temp_beta) \n",
    "    \n",
    "    return Pi_current, Pjk_current, Cij_prob_current, Cij_current"
   ]
  },
  {
   "cell_type": "code",
   "execution_count": null,
   "metadata": {},
   "outputs": [],
   "source": [
    "num_iter = 3000\n",
    "# allocate storage\n",
    "Pi = np.zeros((num_iter, num_class))    # Pi\n",
    "Pjk = np.zeros((num_iter, num_class, num_feature))  # Pjk\n",
    "Cij = np.zeros((num_iter, num_object, num_class))    # Cij\n",
    "Cij_prob = np.zeros((num_iter, num_object, num_class)) # Cij.pr\n",
    "\n",
    "# initialize \n",
    "mu = np.ones(num_class) # the dirichlet prior alpha\n",
    "Pi_current = np.random.dirichlet(mu)  # pi.t1\n",
    "alpha, beta = np.ones((num_class, num_feature)), np.ones((num_class, num_feature))   # the beta prior\n",
    "Pjk_current = np.random.beta(alpha, beta, size = (num_class, num_feature)) # pjk.t1\n",
    "\n",
    "Cij_prob_current = np.zeros((num_object, num_class)) # Clp.t1\n",
    "Cij_current = np.zeros((num_object, num_class)) # Cl.t1\n",
    "\n",
    "# start iteration\n",
    "for i in trange(num_iter):\n",
    "    Pi_current, Pjk_current, Cij_prob_current, Cij_current = Gibbs_step(Pi_current, Pjk_current, Cij_prob_current, Cij_current)\n",
    "    Pi[i,:] = Pi_current\n",
    "    Pjk[i,:,:] = Pjk_current\n",
    "    Cij_prob[i,:,:] = Cij_prob_current    \n",
    "    Cij[i,:,:] = Cij_current\n"
   ]
  },
  {
   "cell_type": "code",
   "execution_count": null,
   "metadata": {},
   "outputs": [],
   "source": [
    "print(Pi[-5:,:])"
   ]
  },
  {
   "cell_type": "code",
   "execution_count": null,
   "metadata": {
    "scrolled": true
   },
   "outputs": [],
   "source": [
    "print(Pjk[-5:,:,:])"
   ]
  },
  {
   "cell_type": "code",
   "execution_count": null,
   "metadata": {},
   "outputs": [],
   "source": [
    "a = Cij[-1,:,:].sum(axis=0)"
   ]
  },
  {
   "cell_type": "code",
   "execution_count": null,
   "metadata": {},
   "outputs": [],
   "source": [
    "a / a.sum()"
   ]
  },
  {
   "cell_type": "code",
   "execution_count": null,
   "metadata": {},
   "outputs": [],
   "source": [
    "# another run\n",
    "# the position switched!\n",
    "Cij[-1,:,:].sum(axis=0)"
   ]
  },
  {
   "cell_type": "code",
   "execution_count": null,
   "metadata": {},
   "outputs": [],
   "source": []
  }
 ],
 "metadata": {
  "kernelspec": {
   "display_name": "Python 3",
   "language": "python",
   "name": "python3"
  },
  "language_info": {
   "codemirror_mode": {
    "name": "ipython",
    "version": 3
   },
   "file_extension": ".py",
   "mimetype": "text/x-python",
   "name": "python",
   "nbconvert_exporter": "python",
   "pygments_lexer": "ipython3",
   "version": "3.7.6"
  },
  "toc": {
   "base_numbering": 1,
   "nav_menu": {},
   "number_sections": true,
   "sideBar": true,
   "skip_h1_title": false,
   "title_cell": "Table of Contents",
   "title_sidebar": "Contents",
   "toc_cell": false,
   "toc_position": {
    "height": "calc(100% - 180px)",
    "left": "10px",
    "top": "150px",
    "width": "165px"
   },
   "toc_section_display": true,
   "toc_window_display": true
  }
 },
 "nbformat": 4,
 "nbformat_minor": 4
}
