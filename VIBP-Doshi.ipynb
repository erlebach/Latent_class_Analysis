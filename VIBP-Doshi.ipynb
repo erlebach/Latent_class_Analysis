{
 "cells": [
  {
   "cell_type": "markdown",
   "metadata": {
    "toc": true
   },
   "source": [
    "<h1>Table of Contents<span class=\"tocSkip\"></span></h1>\n",
    "<div class=\"toc\"><ul class=\"toc-item\"></ul></div>"
   ]
  },
  {
   "cell_type": "code",
   "execution_count": 973,
   "metadata": {},
   "outputs": [],
   "source": [
    "import numpy as np\n",
    "import matplotlib.pyplot as plt\n",
    "from tqdm.notebook import tqdm,trange\n",
    "import pdb\n",
    "import inspect\n",
    "import scipy.io\n",
    "import copy\n",
    "\n",
    "import scipy.stats, scipy.special\n",
    "from scipy.special import digamma as Digamma\n",
    "from scipy.special import gamma as Gamma\n",
    "\n",
    "from numpy.random import gamma as Gammar\n",
    "from numpy.random import beta as Beta\n",
    "from numpy.random import multivariate_normal as Normal"
   ]
  },
  {
   "cell_type": "code",
   "execution_count": 2,
   "metadata": {},
   "outputs": [],
   "source": [
    "def log(x):\n",
    "    return np.log(x)"
   ]
  },
  {
   "cell_type": "code",
   "execution_count": 409,
   "metadata": {},
   "outputs": [],
   "source": [
    "def logGamma(x):\n",
    "    return np.log(Gamma(x))"
   ]
  },
  {
   "cell_type": "code",
   "execution_count": 4,
   "metadata": {},
   "outputs": [],
   "source": [
    "def stirling(x):\n",
    "    return np.sqrt(2*np.pi/x)*(x/np.e)**x"
   ]
  },
  {
   "cell_type": "code",
   "execution_count": 5,
   "metadata": {},
   "outputs": [],
   "source": [
    "def IBP(alpha = 10, num_object = 20):\n",
    "    n_init = np.random.poisson(alpha)\n",
    "    Z = np.zeros(shape=(num_object,n_init),dtype = np.int32)\n",
    "    Z[0,:] = 1\n",
    "    K_plus = n_init\n",
    "    for i in range(1,num_object):\n",
    "        # Calculate probability of visiting past dishes\n",
    "        Z[i,:] = Z.sum(axis = 0)/(i+1) > np.random.rand(1,K_plus)\n",
    "        # Calculate the number of new dishes visited by customer i\n",
    "        K_new = np.random.poisson(alpha/(i+1)) \n",
    "        Z=np.concatenate((Z,np.zeros(shape=(num_object,K_new),dtype = np.int32)), axis=1)\n",
    "        Z[i,K_plus:K_plus+K_new] = 1\n",
    "        # Update matrix size and dish popularity count\n",
    "        K_plus = K_plus+K_new\n",
    "    return Z, K_plus"
   ]
  },
  {
   "cell_type": "code",
   "execution_count": null,
   "metadata": {},
   "outputs": [],
   "source": []
  },
  {
   "cell_type": "code",
   "execution_count": null,
   "metadata": {},
   "outputs": [],
   "source": []
  },
  {
   "cell_type": "code",
   "execution_count": 891,
   "metadata": {},
   "outputs": [],
   "source": [
    "# helper class for simpler function arguments and data storage\n",
    "class params_set():\n",
    "    def attrs_dict(self):\n",
    "        return self.__dict__\n",
    "    def print_attrs(self, key = None):\n",
    "        if key == None:\n",
    "            key = list(self.attrs_dict().keys())\n",
    "        for k in key:\n",
    "            print(k+\": \",self.attrs_dict()[k])\n",
    "    def set_attrs_dict(self, dic): # not useful unless for testing\n",
    "        self.__dict__ = dic"
   ]
  },
  {
   "cell_type": "code",
   "execution_count": 892,
   "metadata": {},
   "outputs": [],
   "source": [
    "data_dic = scipy.io.loadmat('data.mat')"
   ]
  },
  {
   "cell_type": "code",
   "execution_count": 893,
   "metadata": {},
   "outputs": [],
   "source": [
    "X = scipy.io.loadmat('data.mat')['X']"
   ]
  },
  {
   "cell_type": "code",
   "execution_count": 922,
   "metadata": {},
   "outputs": [],
   "source": [
    "N = model.N\n",
    "K = model.K\n",
    "D = model.D\n",
    "\n",
    "alpha = model.alpha\n",
    "sigma_A = model.sigma_A\n",
    "sigma_n = model.sigma_n\n",
    "\n",
    "# nu = model.nu\n",
    "# tau = model.tau\n",
    "# phi_mean = model.phi[0,:,:]\n",
    "# phi_cov = model.phi[1,:,:]\n"
   ]
  },
  {
   "cell_type": "code",
   "execution_count": 923,
   "metadata": {},
   "outputs": [],
   "source": [
    "def compute_auxiliary_q_and_lb(tau, k):\n",
    "    tau = tau[:k,:]\n",
    "    temp = Digamma(tau[:,1]) \\\n",
    "         + np.cumsum(np.insert(Digamma(tau[:,0]),0,0))[:-1] \\\n",
    "         - np.cumsum(Digamma(tau[:,0]+tau[:,1])) \n",
    "    q = np.exp(temp-temp.max())\n",
    "    q = q/q.sum()\n",
    "    lb = (q*(temp - log(q))).sum()\n",
    "    return q, lb   "
   ]
  },
  {
   "cell_type": "code",
   "execution_count": 924,
   "metadata": {},
   "outputs": [],
   "source": [
    "def compute_lower_bound(X, model): #  --- correct\n",
    "    # following section 2.2 in VIBP derivation (eq.10)\n",
    "    N = model.N\n",
    "    K = model.K\n",
    "    D = model.D\n",
    "    \n",
    "    alpha = model.alpha\n",
    "    sigma_n = model.sigma_n\n",
    "    sigma_A = model.sigma_A\n",
    "    \n",
    "    nu = model.nu\n",
    "    tau = model.tau\n",
    "    phi_mean = model.phi[0,:,:]\n",
    "    phi_cov = model.phi[1,:,:]\n",
    "    \n",
    "    terms = [] # save terms seperately for debugging purpose\n",
    "    \n",
    "    # forth term (eq.18), for v   --- correct\n",
    "    term4 = K*log(alpha) + (alpha - 1) \\\n",
    "                *(Digamma(tau[:,0]) - Digamma(tau.sum(axis=1))).sum()\n",
    "    terms.append(term4)\n",
    "    \n",
    "    # fifth term (eq.19), for Z   --- correct\n",
    "    term5 = 0\n",
    "    for k in range(K):\n",
    "        q, lb = compute_auxiliary_q_and_lb(tau, k+1)\n",
    "        term5 += nu[:,k].sum()*(Digamma(tau[:k+1,0]) - Digamma(tau[:k+1,0]+tau[:k+1,1])).sum() \\\n",
    "                + (N-nu[:,k].sum())*lb\n",
    "    terms.append(term5)\n",
    "    \n",
    "    # sixth term (eq.24), for A   --- correct\n",
    "    term6 = -K*D/2*log(2*np.pi*sigma_A**2) \\\n",
    "            - 1/(2*sigma_A**2) * (phi_cov.sum() + (phi_mean**2).sum()) # need to confirm the last term (phi_mean**2).sum()\n",
    "    terms.append(term6)\n",
    "    \n",
    "    # seventh term (eq.26), for likelihood   --- correct\n",
    "    term7 = - N*D/2*(log(2*np.pi*sigma_n**2) ) \\\n",
    "            - 1/(2*sigma_n**2)*( (X**2).sum() \\\n",
    "                                   - 2*(nu*(X@phi_mean.T)).sum() \\\n",
    "                                   + ((nu@phi_mean)**2).sum() - (nu**2@phi_mean**2).sum() \\\n",
    "                                   + (nu*(np.ones_like(X)@(phi_cov + phi_mean**2).T)).sum() )  # need to confirm the last term (nu@(phi_cov + (phi_mean**2))).sum()\n",
    "    terms.append(term7)\n",
    "    \n",
    "    # eighth term (eq.29), for entropy --- correct\n",
    "    term8_4 = logGamma(tau[:,0]).sum() + logGamma(tau[:,1]).sum() - logGamma(tau.sum(axis=1)).sum()  - ((tau[:,0] - 1)*Digamma(tau[:,0])).sum() - ((tau[:,1] - 1)*Digamma(tau[:,1])).sum() + ((tau.sum(axis=1) - 2)*Digamma(tau.sum(axis=1))).sum()\n",
    "#     approxiate term8_4 using Stirling's approximation\n",
    "#     temp = 0\n",
    "#     for i in range(tau.shape[0]):\n",
    "#         temp += log( np.sqrt(2*np.pi*tau[i,0]*tau[i,1])/(tau[i,0]+tau[i,1])) \\\n",
    "#                 + tau[i,0]*log(tau[i,0]) + tau[i,1]*log(tau[i,1]) \\\n",
    "#                 - (tau[i,0] + tau[i,1])*log(tau[i,0] + tau[i,1])\n",
    "#     term8_4 = temp \\\n",
    "#             - ((tau[:,0] - 1)*Digamma(tau[:,0])).sum() \\\n",
    "#             - ((tau[:,1] - 1)*Digamma(tau[:,1])).sum() \\\n",
    "#             + ((tau.sum(axis=1) - 2)*Digamma(tau.sum(axis=1))).sum()\n",
    "    term8_5 = K*D/2*log(2*np.pi*np.e) + 1/2*log(phi_cov).sum()\n",
    "    \n",
    "    tmp_nu = nu + 0.5*(nu==0) - 0.5*(nu==1)\n",
    "    term8_6 = -tmp_nu*log(tmp_nu) - (1-tmp_nu)*log(1-tmp_nu)\n",
    "    term8_6 = ( term8_6 * (nu>0) * (nu<1) ).sum() \n",
    "    \n",
    "    term8s = np.array([term8_4, term8_5, term8_6])\n",
    "    term8 = term8s.sum()\n",
    "    terms.append(term8)\n",
    "    \n",
    "    lower_bound = np.sum(terms)\n",
    "    return lower_bound, terms"
   ]
  },
  {
   "cell_type": "code",
   "execution_count": 925,
   "metadata": {
    "scrolled": true
   },
   "outputs": [],
   "source": [
    "lbb, terms = compute_lower_bound(X, model)"
   ]
  },
  {
   "cell_type": "code",
   "execution_count": 926,
   "metadata": {},
   "outputs": [
    {
     "data": {
      "text/plain": [
       "(-61723.58345250463,\n",
       " [0.0,\n",
       "  -1280.7578904705629,\n",
       "  -224.12755275098982,\n",
       "  -60328.99166317382,\n",
       "  110.29365389074492])"
      ]
     },
     "execution_count": 926,
     "metadata": {},
     "output_type": "execute_result"
    }
   ],
   "source": [
    "lbb, terms"
   ]
  },
  {
   "cell_type": "code",
   "execution_count": 927,
   "metadata": {},
   "outputs": [],
   "source": [
    "def update_phi(X, model): # --- correct\n",
    "    N = model.N\n",
    "    K = model.K\n",
    "    D = model.D\n",
    "    nu = model.nu\n",
    "    phi_mean = model.phi[0,:,:]\n",
    "    phi_cov = model.phi[1,:,:]\n",
    "    for k in range(K):\n",
    "        non_k_idx = np.delete(np.arange(K), k)\n",
    "        mat_B = (1/sigma_A**2 + 1/sigma_n**2 * np.ones_like(X).T@nu[:,k]) # why the mask (ones_like in my case)?\n",
    "        mat_C = X.T@nu[:,k]\n",
    "        for n in range(N):\n",
    "            mat_C -= nu[n,k] * (nu[n,non_k_idx].reshape(-1,1)*phi_mean[non_k_idx,:]).sum(axis = 0)\n",
    "        mat_C = mat_C /sigma_n**2\n",
    "\n",
    "        phi_cov[k,:] = 1/mat_B\n",
    "        phi_mean[k,:] = mat_C/mat_B\n",
    "    return phi_mean, phi_cov\n"
   ]
  },
  {
   "cell_type": "code",
   "execution_count": 989,
   "metadata": {},
   "outputs": [],
   "source": [
    "def update_nu(X, model): # --- correct\n",
    "    N = model.N\n",
    "    K = model.K\n",
    "    nu = model.nu\n",
    "    phi_mean = model.phi[0,:,:]\n",
    "    phi_cov = model.phi[1,:,:]\n",
    "    tau = model.tau\n",
    "    \n",
    "    for k in range(K):\n",
    "        _, lb = compute_auxiliary_q_and_lb(tau, k+1)\n",
    "        var_theta_k = (Digamma(tau[:k+1,0]) - Digamma(tau[:k+1,:].sum(axis=1))).sum() - lb\n",
    "        non_k_idx = np.delete(np.arange(K), k)\n",
    "        for n in range(N):\n",
    "            var_theta = var_theta_k - 1/(2*sigma_n**2) * ((phi_cov[k,:].sum() + (phi_mean[k,:]**2).sum()) \\\n",
    "                            - 2*(phi_mean[k,:].T@(X[n,:].T - (nu[n, non_k_idx].reshape(-1,1) * phi_mean[non_k_idx,:]).sum(axis=0) )) )\n",
    "            nu[n,k] = max(0.00001, 1/(1+np.exp(-var_theta)) ) # var_theta can be too negative, lead to overflow\n",
    "    return nu         \n",
    "                                     "
   ]
  },
  {
   "cell_type": "code",
   "execution_count": 990,
   "metadata": {},
   "outputs": [],
   "source": [
    "def update_tau(model):  # --- correct\n",
    "    N = model.N\n",
    "    K = model.K\n",
    "    nu = model.nu\n",
    "    tau = model.tau\n",
    "    \n",
    "    sum_n_nu = nu.sum(axis=0)\n",
    "    N_minus_sum_n_nu = N - sum_n_nu\n",
    "    for k in range(K):\n",
    "        q,_ = compute_auxiliary_q_and_lb(tau, K)\n",
    "        qs = np.zeros((K,K))\n",
    "        for m in range(k,K):\n",
    "            qs[m,:m+1] = q[:m+1]/q[:m+1].sum()\n",
    "        \n",
    "        tau[k,0] = alpha + sum_n_nu[k:].sum() \\\n",
    "                        + N_minus_sum_n_nu[k+1:]@qs[k+1:,k+1:].sum(axis=1) # need to confirm derivation  \n",
    "        tau[k,1] = N_minus_sum_n_nu[k:]@qs[k:,k] + 1   # need to confirm derivation  \n",
    "    return tau\n",
    "        "
   ]
  },
  {
   "cell_type": "code",
   "execution_count": 992,
   "metadata": {},
   "outputs": [],
   "source": [
    "def update_parameters(X, model):\n",
    "    for j in np.random.permutation(3): # update in random order\n",
    "        if j == 0:\n",
    "            tau = update_tau(model)\n",
    "            model.tau = tau\n",
    "        elif j == 1:\n",
    "            nu = update_nu(X, model)\n",
    "            model.nu = nu\n",
    "        else:\n",
    "            phi_mean, phi_cov = update_phi(X, model)\n",
    "            model.phi[0,:,:] = phi_mean\n",
    "            model.phi[1,:,:] = phi_cov\n",
    "    return model"
   ]
  },
  {
   "cell_type": "code",
   "execution_count": 1041,
   "metadata": {},
   "outputs": [],
   "source": [
    "def search_heuristics(X, model):\n",
    "    best_lb = model.lbs[-1]\n",
    "    new_model = copy.deepcopy(model)\n",
    "    best_model = new_model\n",
    "    K = model.K\n",
    "    \n",
    "    for h in range(K):\n",
    "        for l in np.delete(np.arange(K), h):\n",
    "            new_model = move(model, h, l)\n",
    "            for count in range(3):\n",
    "                new_model = update_parameters(X, new_model)\n",
    "            new_lb, _ = compute_lower_bound(X, new_model)\n",
    "            if new_lb > best_lb:\n",
    "                best_model = new_model\n",
    "                best_lb = new_lb\n",
    "    print('after heuristic search, lb becomes', best_lb)\n",
    "    best_model.lbs[-1] = best_lb\n",
    "    return best_model"
   ]
  },
  {
   "cell_type": "code",
   "execution_count": 1040,
   "metadata": {},
   "outputs": [],
   "source": [
    "def move(model, h, l):\n",
    "    new_model = copy.deepcopy(model)\n",
    "    \n",
    "    phi_mean = new_model.phi[0,:,:]\n",
    "    phi_cov = new_model.phi[1,:,:]\n",
    "    nu = new_model.nu\n",
    "    \n",
    "    r = np.random.randint(3)\n",
    "    if r == 0:  # Let h = h - l, leave l alone\n",
    "        phi_mean[h,:] = phi_mean[h,:] - phi_mean[l,:]\n",
    "        nu[:,h] = nu[:,h] - nu[:,l]\n",
    "        nu[nu[:,h] <= 0, h] = 0.001  # make sure it's larger than 0\n",
    "    elif r == 1: # Let h = h + l, leave l alone\n",
    "        phi_mean[h,:] = phi_mean[h,:] + phi_mean[l,:]\n",
    "        nu[:,h] = nu[:,h] + nu[:,l]\n",
    "        nu[nu[:,h] >= 1, h] = 0.999 # make sure it's smaller than 1\n",
    "        phi_cov_avg = (phi_cov[h,:] + phi_cov[l,:])/2\n",
    "        phi_cov[h,:] = phi_cov_avg\n",
    "        phi_cov[l,:] = phi_cov_avg\n",
    "    elif r == 2: # randomly reset h and l\n",
    "        phi_mean[h,:] = 0.01*np.random.randn(phi_mean[h,:].shape[0])\n",
    "        phi_mean[l,:] = 0.01*np.random.randn(phi_mean[l,:].shape[0])\n",
    "        nu[:,h] = np.random.rand(nu[:,h].shape[0])\n",
    "        nu[:,l] = np.random.rand(nu[:,l].shape[0])\n",
    "        phi_cov_avg = (phi_cov[h,:] + phi_cov[l,:])/2\n",
    "        phi_cov[h,:] = phi_cov_avg\n",
    "        phi_cov[l,:] = phi_cov_avg\n",
    "    \n",
    "    new_model.phi[0,:,:] = phi_mean\n",
    "    new_model.phi[1,:,:] = phi_cov\n",
    "    new_model.nu = nu\n",
    "    return new_model"
   ]
  },
  {
   "cell_type": "code",
   "execution_count": null,
   "metadata": {},
   "outputs": [],
   "source": []
  },
  {
   "cell_type": "code",
   "execution_count": null,
   "metadata": {},
   "outputs": [],
   "source": []
  },
  {
   "cell_type": "code",
   "execution_count": 1042,
   "metadata": {},
   "outputs": [],
   "source": [
    "# initialize\n",
    "# np.random.seed(123)\n",
    "model = params_set() # save model parameters\n",
    "hyper = params_set() # save hyper parameters\n",
    "hyper.num_iter = 1000\n",
    "hyper.logging_per = 100 # logging the model parameters per several iterations\n",
    "hyper.logging_skip = 100 # skip the first several iterations\n",
    "hyper.logging_count = int((hyper.num_iter - hyper.logging_skip)/hyper.logging_per + 1)\n",
    "hyper.converge_iter = 5\n",
    "hyper.search_heuristic = 'random'\n",
    "\n",
    "\n",
    "model.N, model.D = 20, 16\n",
    "\n",
    "model.alpha = data_dic['alpha'][0,0]\n",
    "\n",
    "# model.sigma_A = 0.43\n",
    "model.sigma_A = data_dic['sigma_a'][0,0]\n",
    "\n",
    "# model.sigma_n = 0.1\n",
    "model.sigma_n = data_dic['sigma_n'][0,0]\n",
    "\n",
    "\n",
    "# hidden variables to be learned\n",
    "# model.Z, model.K = IBP(alpha = model.alpha, num_object = model.N)\n",
    "model.K = 6 # set maximum truncation level\n",
    "\n",
    "# variational parameters\n",
    "model.phi = np.random.rand(2, model.K, model.D) # Dim 0 for mean and dim 1 for var\n",
    "                                                # same in doshi's code, assume independent\n",
    "# model.phi = 0.6*np.ones((2, model.K, model.D) )\n",
    "\n",
    "model.tau = np.random.rand(model.K, 2)\n",
    "# model.tau = 0.8*np.ones((model.K, 2))\n",
    "\n",
    "model.nu = np.random.rand(model.N, model.K)\n",
    "# model.nu = 0.93*np.ones((model.N, model.K))\n",
    "\n",
    "# for logging purpose\n",
    "model.lbs = []\n",
    "model.best_lb = 0\n",
    "model.best = {}\n",
    "\n"
   ]
  },
  {
   "cell_type": "code",
   "execution_count": 1043,
   "metadata": {
    "scrolled": true
   },
   "outputs": [
    {
     "name": "stdout",
     "output_type": "stream",
     "text": [
      "==================== itr 0 ====================\n",
      "lb -44726.50023113657\n"
     ]
    },
    {
     "name": "stderr",
     "output_type": "stream",
     "text": [
      "/Users/joey/anaconda3/lib/python3.6/site-packages/ipykernel_launcher.py:15: RuntimeWarning: overflow encountered in exp\n",
      "  from ipykernel import kernelapp as app\n"
     ]
    },
    {
     "name": "stdout",
     "output_type": "stream",
     "text": [
      "after heuristic search, lb becomes -666.2817217835817\n",
      "==================== itr 1 ====================\n",
      "lb -666.2817217835817\n",
      "after heuristic search, lb becomes -168.31075554539098\n",
      "==================== itr 2 ====================\n",
      "lb -168.31075554539098\n",
      "after heuristic search, lb becomes 27.2648842970644\n",
      "==================== itr 3 ====================\n",
      "lb 27.2648842970644\n",
      "after heuristic search, lb becomes 41.4828765557953\n",
      "==================== itr 4 ====================\n",
      "lb 41.4828765557953\n",
      "after heuristic search, lb becomes 58.63217161615847\n",
      "==================== itr 5 ====================\n",
      "lb 58.63217161615847\n",
      "after heuristic search, lb becomes 59.15336236289477\n",
      "==================== itr 6 ====================\n",
      "lb 59.15336236289477\n",
      "after heuristic search, lb becomes 59.15439057853027\n",
      "==================== itr 7 ====================\n",
      "lb 59.15439057853027\n",
      "after heuristic search, lb becomes 59.154430323074905\n",
      "==================== itr 8 ====================\n",
      "lb 59.154430323074905\n",
      "after heuristic search, lb becomes 59.154431967706984\n",
      "==================== itr 9 ====================\n",
      "lb 59.154431967706984\n",
      "after heuristic search, lb becomes 59.15443212807793\n",
      "==================== itr 10 ====================\n",
      "lb 59.15443212807793\n",
      "converged!\n"
     ]
    }
   ],
   "source": [
    "# start iteration\n",
    "\n",
    "# for itr in range(10):\n",
    "for itr in range(hyper.num_iter):\n",
    "    print('='*20,'itr {}'.format(itr),'='*20)\n",
    "    \n",
    "    lb, lb_terms = compute_lower_bound(X, model)\n",
    "    print('lb',lb)\n",
    "    model.lbs.append(lb)\n",
    "    \n",
    "    if len(model.lbs) > hyper.converge_iter and np.std(model.lbs[-hyper.converge_iter:]) < 1e-4: # stop if converge\n",
    "        print('converged!')\n",
    "        break\n",
    "    if model.best_lb < lb or model.best_lb == 0: # save the best model parameters\n",
    "        model.best['tau'] = model.tau\n",
    "        model.best['nu'] = model.nu\n",
    "        model.best['phi'] = model.phi\n",
    "    \n",
    "    model = update_parameters(X, model)\n",
    "    model = search_heuristics(X, model)\n",
    "    \n",
    "    \n"
   ]
  },
  {
   "cell_type": "code",
   "execution_count": 1044,
   "metadata": {},
   "outputs": [
    {
     "data": {
      "text/plain": [
       "[<matplotlib.lines.Line2D at 0x7f9ec3143a90>]"
      ]
     },
     "execution_count": 1044,
     "metadata": {},
     "output_type": "execute_result"
    },
    {
     "data": {
      "image/png": "[encoded data removed]",
      "text/plain": [
       "<Figure size 432x288 with 1 Axes>"
      ]
     },
     "metadata": {},
     "output_type": "display_data"
    }
   ],
   "source": [
    "plt.plot(model.lbs)"
   ]
  },
  {
   "cell_type": "code",
   "execution_count": 1045,
   "metadata": {},
   "outputs": [
    {
     "data": {
      "text/plain": [
       "(20, 6)"
      ]
     },
     "execution_count": 1045,
     "metadata": {},
     "output_type": "execute_result"
    },
    {
     "data": {
      "image/png": "[encoded data removed]",
      "text/plain": [
       "<Figure size 432x288 with 2 Axes>"
      ]
     },
     "metadata": {},
     "output_type": "display_data"
    }
   ],
   "source": [
    "plt.imshow(model.best['nu'])\n",
    "plt.colorbar()\n",
    "nu.shape"
   ]
  },
  {
   "cell_type": "code",
   "execution_count": null,
   "metadata": {},
   "outputs": [],
   "source": []
  },
  {
   "cell_type": "code",
   "execution_count": 1036,
   "metadata": {},
   "outputs": [
    {
     "data": {
      "image/png": "[encoded data removed]",
      "text/plain": [
       "<Figure size 432x288 with 6 Axes>"
      ]
     },
     "metadata": {},
     "output_type": "display_data"
    }
   ],
   "source": [
    "for j in range(6):\n",
    "    plt.subplot(2,3,1+j)\n",
    "    plt.imshow(model.phi[0,j,:].reshape(4,4), cmap = 'gray')\n",
    "plt.show()"
   ]
  },
  {
   "cell_type": "code",
   "execution_count": null,
   "metadata": {},
   "outputs": [],
   "source": []
  }
 ],
 "metadata": {
  "kernelspec": {
   "display_name": "Python 3",
   "language": "python",
   "name": "python3"
  },
  "language_info": {
   "codemirror_mode": {
    "name": "ipython",
    "version": 3
   },
   "file_extension": ".py",
   "mimetype": "text/x-python",
   "name": "python",
   "nbconvert_exporter": "python",
   "pygments_lexer": "ipython3",
   "version": "3.6.7"
  },
  "toc": {
   "base_numbering": 1,
   "nav_menu": {},
   "number_sections": true,
   "sideBar": true,
   "skip_h1_title": false,
   "title_cell": "Table of Contents",
   "title_sidebar": "Contents",
   "toc_cell": true,
   "toc_position": {
    "height": "calc(100% - 180px)",
    "left": "10px",
    "top": "150px",
    "width": "165px"
   },
   "toc_section_display": true,
   "toc_window_display": true
  }
 },
 "nbformat": 4,
 "nbformat_minor": 2
}
