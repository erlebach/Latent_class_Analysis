{
 "cells": [
  {
   "cell_type": "markdown",
   "metadata": {
    "toc": true
   },
   "source": [
    "<h1>Table of Contents<span class=\"tocSkip\"></span></h1>\n",
    "<div class=\"toc\"><ul class=\"toc-item\"><li><span><a href=\"#vae-example\" data-toc-modified-id=\"vae-example-1\"><span class=\"toc-item-num\">1&nbsp;&nbsp;</span>vae example</a></span></li><li><span><a href=\"#custom-dataset\" data-toc-modified-id=\"custom-dataset-2\"><span class=\"toc-item-num\">2&nbsp;&nbsp;</span>custom dataset</a></span></li><li><span><a href=\"#vae-with-rsample\" data-toc-modified-id=\"vae-with-rsample-3\"><span class=\"toc-item-num\">3&nbsp;&nbsp;</span>vae with rsample</a></span></li><li><span><a href=\"#custom-loss-and-layers\" data-toc-modified-id=\"custom-loss-and-layers-4\"><span class=\"toc-item-num\">4&nbsp;&nbsp;</span>custom loss and layers</a></span></li><li><span><a href=\"#IBP\" data-toc-modified-id=\"IBP-5\"><span class=\"toc-item-num\">5&nbsp;&nbsp;</span>IBP</a></span></li><li><span><a href=\"#sampling-decoder\" data-toc-modified-id=\"sampling-decoder-6\"><span class=\"toc-item-num\">6&nbsp;&nbsp;</span>sampling decoder</a></span></li><li><span><a href=\"#POS-vectors\" data-toc-modified-id=\"POS-vectors-7\"><span class=\"toc-item-num\">7&nbsp;&nbsp;</span>POS vectors</a></span></li></ul></div>"
   ]
  },
  {
   "cell_type": "code",
   "execution_count": 1,
   "metadata": {},
   "outputs": [],
   "source": [
    "from __future__ import print_function\n",
    "import torch\n",
    "import torch.utils.data\n",
    "from torch.utils.data import Dataset, DataLoader\n",
    "import torch.distributions\n",
    "from torch import nn, optim\n",
    "from torch.nn import functional as F\n",
    "\n",
    "from torchvision import datasets, transforms\n",
    "from torchvision.transforms import ToTensor, Grayscale\n",
    "from torchvision.utils import save_image\n",
    "from torchvision.io import read_image\n",
    "\n",
    "import numpy as np\n",
    "import os\n",
    "# import pandas as pd\n",
    "\n",
    "\n",
    "import matplotlib.pyplot as plt\n",
    "from pathlib import Path\n"
   ]
  },
  {
   "cell_type": "markdown",
   "metadata": {},
   "source": [
    "# vae example"
   ]
  },
  {
   "cell_type": "code",
   "execution_count": 2,
   "metadata": {},
   "outputs": [],
   "source": [
    "class arg():\n",
    "    def __init__(self, batch_size=128, cuda=False, epochs=10, log_interval=10):\n",
    "        self.batch_size = batch_size\n",
    "        self.cuda = cuda\n",
    "        self.epochs = epochs\n",
    "        self.log_interval = log_interval"
   ]
  },
  {
   "cell_type": "code",
   "execution_count": 3,
   "metadata": {},
   "outputs": [],
   "source": [
    "args = arg()\n",
    "device = torch.device(\"cuda\" if args.cuda else \"cpu\")"
   ]
  },
  {
   "cell_type": "code",
   "execution_count": 4,
   "metadata": {},
   "outputs": [
    {
     "name": "stderr",
     "output_type": "stream",
     "text": [
      "/Users/joey/anaconda3/lib/python3.6/site-packages/torchvision/datasets/mnist.py:498: UserWarning: The given NumPy array is not writeable, and PyTorch does not support non-writeable tensors. This means you can write to the underlying (supposedly non-writeable) NumPy array using the tensor. You may want to copy the array to protect its data or make it writeable before converting it to a tensor. This type of warning will be suppressed for the rest of this program. (Triggered internally at  /Users/distiller/project/conda/conda-bld/pytorch_1631631159818/work/torch/csrc/utils/tensor_numpy.cpp:180.)\n",
      "  return torch.from_numpy(parsed.astype(m[2], copy=False)).view(*s)\n"
     ]
    }
   ],
   "source": [
    "kwargs = {'num_workers': 1, 'pin_memory': True} if args.cuda else {}\n",
    "train_loader = torch.utils.data.DataLoader(\n",
    "    datasets.MNIST('../data', train=True, download=True,\n",
    "                   transform=transforms.ToTensor()),\n",
    "    batch_size=args.batch_size, shuffle=True, **kwargs)\n",
    "test_loader = torch.utils.data.DataLoader(\n",
    "    datasets.MNIST('../data', train=False, transform=transforms.ToTensor()),\n",
    "    batch_size=args.batch_size, shuffle=True, **kwargs)"
   ]
  },
  {
   "cell_type": "code",
   "execution_count": 5,
   "metadata": {},
   "outputs": [],
   "source": [
    "class VAE(nn.Module):\n",
    "    def __init__(self):\n",
    "        super(VAE, self).__init__()\n",
    "\n",
    "        self.fc1 = nn.Linear(784, 400)\n",
    "        self.fc21 = nn.Linear(400, 20)\n",
    "        self.fc22 = nn.Linear(400, 20)\n",
    "        self.fc3 = nn.Linear(20, 400)\n",
    "        self.fc4 = nn.Linear(400, 784)\n",
    "\n",
    "    def encode(self, x):\n",
    "        h1 = F.relu(self.fc1(x))\n",
    "        return self.fc21(h1), self.fc22(h1)\n",
    "\n",
    "    def reparameterize(self, mu, logvar):\n",
    "        std = torch.exp(0.5*logvar)\n",
    "        eps = torch.randn_like(std)\n",
    "        return mu + eps*std\n",
    "\n",
    "    def decode(self, z):\n",
    "        h3 = F.relu(self.fc3(z))\n",
    "        return torch.sigmoid(self.fc4(h3))\n",
    "\n",
    "    def forward(self, x):\n",
    "        mu, logvar = self.encode(x.view(-1, 784))\n",
    "        z = self.reparameterize(mu, logvar)\n",
    "        return self.decode(z), mu, logvar\n"
   ]
  },
  {
   "cell_type": "code",
   "execution_count": 6,
   "metadata": {},
   "outputs": [],
   "source": [
    "model = VAE().to(device)\n",
    "optimizer = optim.Adam(model.parameters(), lr=1e-3)"
   ]
  },
  {
   "cell_type": "code",
   "execution_count": 7,
   "metadata": {},
   "outputs": [],
   "source": [
    "def loss_function(recon_x, x, mu, logvar):\n",
    "    BCE = F.binary_cross_entropy(recon_x, x.view(-1, 784), reduction='sum')\n",
    "\n",
    "    # see Appendix B from VAE paper:\n",
    "    # Kingma and Welling. Auto-Encoding Variational Bayes. ICLR, 2014\n",
    "    # https://arxiv.org/abs/1312.6114\n",
    "    # 0.5 * sum(1 + log(sigma^2) - mu^2 - sigma^2)\n",
    "    KLD = -0.5 * torch.sum(1 + logvar - mu.pow(2) - logvar.exp())\n",
    "\n",
    "    return BCE + KLD\n"
   ]
  },
  {
   "cell_type": "code",
   "execution_count": 8,
   "metadata": {},
   "outputs": [],
   "source": [
    "def train(epoch):\n",
    "    model.train()\n",
    "    train_loss = 0\n",
    "    for batch_idx, (data, _) in enumerate(train_loader):\n",
    "        data = data.to(device)\n",
    "        optimizer.zero_grad()\n",
    "        recon_batch, mu, logvar = model(data)\n",
    "        loss = loss_function(recon_batch, data, mu, logvar)\n",
    "        loss.backward()\n",
    "        train_loss += loss.item()\n",
    "        optimizer.step()\n",
    "        if batch_idx % args.log_interval == 0:\n",
    "            print('Train Epoch: {} [{}/{} ({:.0f}%)]\\tLoss: {:.6f}'.format(\n",
    "                epoch, batch_idx * len(data), len(train_loader.dataset),\n",
    "                100. * batch_idx / len(train_loader),\n",
    "                loss.item() / len(data)))\n",
    "\n",
    "    print('====> Epoch: {} Average loss: {:.4f}'.format(\n",
    "          epoch, train_loss / len(train_loader.dataset)))\n"
   ]
  },
  {
   "cell_type": "code",
   "execution_count": 9,
   "metadata": {},
   "outputs": [],
   "source": [
    "def test(epoch):\n",
    "    model.eval()\n",
    "    test_loss = 0\n",
    "    with torch.no_grad():\n",
    "        for i, (data, _) in enumerate(test_loader):\n",
    "            data = data.to(device)\n",
    "            recon_batch, mu, logvar = model(data)\n",
    "            test_loss += loss_function(recon_batch, data, mu, logvar).item()\n",
    "            if i == 0:\n",
    "                n = min(data.size(0), 8)\n",
    "                comparison = torch.cat([data[:n],\n",
    "                                      recon_batch.view(args.batch_size, 1, 28, 28)[:n]])\n",
    "                save_image(comparison.cpu(),\n",
    "                         'results/reconstruction_' + str(epoch) + '.png', nrow=n)\n",
    "\n",
    "    test_loss /= len(test_loader.dataset)\n",
    "    print('====> Test set loss: {:.4f}'.format(test_loss))"
   ]
  },
  {
   "cell_type": "code",
   "execution_count": 10,
   "metadata": {},
   "outputs": [],
   "source": [
    "from pathlib import Path\n",
    "Path(\"./results\").mkdir(parents=True, exist_ok=True)"
   ]
  },
  {
   "cell_type": "code",
   "execution_count": 45,
   "metadata": {},
   "outputs": [
    {
     "name": "stdout",
     "output_type": "stream",
     "text": [
      "Train Epoch: 1 [0/60000 (0%)]\tLoss: 124.292923\n",
      "Train Epoch: 1 [1280/60000 (2%)]\tLoss: 130.159805\n",
      "Train Epoch: 1 [2560/60000 (4%)]\tLoss: 127.233940\n",
      "Train Epoch: 1 [3840/60000 (6%)]\tLoss: 124.477226\n",
      "Train Epoch: 1 [5120/60000 (9%)]\tLoss: 127.134209\n",
      "Train Epoch: 1 [6400/60000 (11%)]\tLoss: 122.506271\n",
      "Train Epoch: 1 [7680/60000 (13%)]\tLoss: 128.894775\n",
      "Train Epoch: 1 [8960/60000 (15%)]\tLoss: 125.699615\n",
      "Train Epoch: 1 [10240/60000 (17%)]\tLoss: 121.545853\n",
      "Train Epoch: 1 [11520/60000 (19%)]\tLoss: 117.791359\n",
      "Train Epoch: 1 [12800/60000 (21%)]\tLoss: 131.282471\n",
      "Train Epoch: 1 [14080/60000 (23%)]\tLoss: 122.196877\n",
      "Train Epoch: 1 [15360/60000 (26%)]\tLoss: 123.444298\n",
      "Train Epoch: 1 [16640/60000 (28%)]\tLoss: 123.436554\n",
      "Train Epoch: 1 [17920/60000 (30%)]\tLoss: 125.832314\n",
      "Train Epoch: 1 [19200/60000 (32%)]\tLoss: 121.947296\n",
      "Train Epoch: 1 [20480/60000 (34%)]\tLoss: 119.540382\n",
      "Train Epoch: 1 [21760/60000 (36%)]\tLoss: 118.806534\n",
      "Train Epoch: 1 [23040/60000 (38%)]\tLoss: 122.166443\n",
      "Train Epoch: 1 [24320/60000 (41%)]\tLoss: 117.825623\n",
      "Train Epoch: 1 [25600/60000 (43%)]\tLoss: 121.336533\n",
      "Train Epoch: 1 [26880/60000 (45%)]\tLoss: 122.490822\n",
      "Train Epoch: 1 [28160/60000 (47%)]\tLoss: 122.913269\n",
      "Train Epoch: 1 [29440/60000 (49%)]\tLoss: 115.007080\n",
      "Train Epoch: 1 [30720/60000 (51%)]\tLoss: 118.044571\n",
      "Train Epoch: 1 [32000/60000 (53%)]\tLoss: 121.532166\n",
      "Train Epoch: 1 [33280/60000 (55%)]\tLoss: 119.634766\n",
      "Train Epoch: 1 [34560/60000 (58%)]\tLoss: 118.012238\n",
      "Train Epoch: 1 [35840/60000 (60%)]\tLoss: 120.115959\n",
      "Train Epoch: 1 [37120/60000 (62%)]\tLoss: 118.900269\n",
      "Train Epoch: 1 [38400/60000 (64%)]\tLoss: 118.067825\n",
      "Train Epoch: 1 [39680/60000 (66%)]\tLoss: 118.042145\n",
      "Train Epoch: 1 [40960/60000 (68%)]\tLoss: 116.961807\n",
      "Train Epoch: 1 [42240/60000 (70%)]\tLoss: 119.930695\n",
      "Train Epoch: 1 [43520/60000 (72%)]\tLoss: 117.005325\n",
      "Train Epoch: 1 [44800/60000 (75%)]\tLoss: 119.685295\n",
      "Train Epoch: 1 [46080/60000 (77%)]\tLoss: 119.220078\n",
      "Train Epoch: 1 [47360/60000 (79%)]\tLoss: 120.715370\n",
      "Train Epoch: 1 [48640/60000 (81%)]\tLoss: 118.244797\n",
      "Train Epoch: 1 [49920/60000 (83%)]\tLoss: 121.623795\n",
      "Train Epoch: 1 [51200/60000 (85%)]\tLoss: 116.634933\n",
      "Train Epoch: 1 [52480/60000 (87%)]\tLoss: 120.246193\n",
      "Train Epoch: 1 [53760/60000 (90%)]\tLoss: 124.968384\n",
      "Train Epoch: 1 [55040/60000 (92%)]\tLoss: 116.022408\n",
      "Train Epoch: 1 [56320/60000 (94%)]\tLoss: 113.733826\n",
      "Train Epoch: 1 [57600/60000 (96%)]\tLoss: 119.491058\n",
      "Train Epoch: 1 [58880/60000 (98%)]\tLoss: 113.364403\n",
      "====> Epoch: 1 Average loss: 120.8051\n",
      "====> Test set loss: 115.3102\n",
      "Train Epoch: 2 [0/60000 (0%)]\tLoss: 112.968109\n",
      "Train Epoch: 2 [1280/60000 (2%)]\tLoss: 111.679123\n",
      "Train Epoch: 2 [2560/60000 (4%)]\tLoss: 117.798111\n",
      "Train Epoch: 2 [3840/60000 (6%)]\tLoss: 115.595390\n",
      "Train Epoch: 2 [5120/60000 (9%)]\tLoss: 113.702293\n",
      "Train Epoch: 2 [6400/60000 (11%)]\tLoss: 117.244537\n",
      "Train Epoch: 2 [7680/60000 (13%)]\tLoss: 115.166107\n",
      "Train Epoch: 2 [8960/60000 (15%)]\tLoss: 116.459564\n",
      "Train Epoch: 2 [10240/60000 (17%)]\tLoss: 109.043839\n",
      "Train Epoch: 2 [11520/60000 (19%)]\tLoss: 117.932785\n",
      "Train Epoch: 2 [12800/60000 (21%)]\tLoss: 116.619072\n",
      "Train Epoch: 2 [14080/60000 (23%)]\tLoss: 113.010597\n",
      "Train Epoch: 2 [15360/60000 (26%)]\tLoss: 119.070503\n",
      "Train Epoch: 2 [16640/60000 (28%)]\tLoss: 112.467270\n",
      "Train Epoch: 2 [17920/60000 (30%)]\tLoss: 111.407173\n",
      "Train Epoch: 2 [19200/60000 (32%)]\tLoss: 117.145172\n",
      "Train Epoch: 2 [20480/60000 (34%)]\tLoss: 113.877151\n",
      "Train Epoch: 2 [21760/60000 (36%)]\tLoss: 117.899727\n",
      "Train Epoch: 2 [23040/60000 (38%)]\tLoss: 113.162529\n",
      "Train Epoch: 2 [24320/60000 (41%)]\tLoss: 121.807716\n",
      "Train Epoch: 2 [25600/60000 (43%)]\tLoss: 114.494186\n",
      "Train Epoch: 2 [26880/60000 (45%)]\tLoss: 114.412796\n",
      "Train Epoch: 2 [28160/60000 (47%)]\tLoss: 114.378708\n",
      "Train Epoch: 2 [29440/60000 (49%)]\tLoss: 114.375183\n",
      "Train Epoch: 2 [30720/60000 (51%)]\tLoss: 113.062660\n",
      "Train Epoch: 2 [32000/60000 (53%)]\tLoss: 114.047668\n",
      "Train Epoch: 2 [33280/60000 (55%)]\tLoss: 111.112122\n",
      "Train Epoch: 2 [34560/60000 (58%)]\tLoss: 112.142441\n",
      "Train Epoch: 2 [35840/60000 (60%)]\tLoss: 115.626724\n",
      "Train Epoch: 2 [37120/60000 (62%)]\tLoss: 113.252678\n",
      "Train Epoch: 2 [38400/60000 (64%)]\tLoss: 112.574524\n",
      "Train Epoch: 2 [39680/60000 (66%)]\tLoss: 116.059280\n",
      "Train Epoch: 2 [40960/60000 (68%)]\tLoss: 115.307594\n",
      "Train Epoch: 2 [42240/60000 (70%)]\tLoss: 115.385872\n",
      "Train Epoch: 2 [43520/60000 (72%)]\tLoss: 112.103516\n",
      "Train Epoch: 2 [44800/60000 (75%)]\tLoss: 113.374573\n",
      "Train Epoch: 2 [46080/60000 (77%)]\tLoss: 111.125221\n",
      "Train Epoch: 2 [47360/60000 (79%)]\tLoss: 112.255859\n",
      "Train Epoch: 2 [48640/60000 (81%)]\tLoss: 112.584778\n",
      "Train Epoch: 2 [49920/60000 (83%)]\tLoss: 109.638077\n",
      "Train Epoch: 2 [51200/60000 (85%)]\tLoss: 114.696075\n",
      "Train Epoch: 2 [52480/60000 (87%)]\tLoss: 117.289200\n",
      "Train Epoch: 2 [53760/60000 (90%)]\tLoss: 111.636658\n",
      "Train Epoch: 2 [55040/60000 (92%)]\tLoss: 110.107193\n",
      "Train Epoch: 2 [56320/60000 (94%)]\tLoss: 113.956207\n",
      "Train Epoch: 2 [57600/60000 (96%)]\tLoss: 113.920685\n",
      "Train Epoch: 2 [58880/60000 (98%)]\tLoss: 112.165047\n",
      "====> Epoch: 2 Average loss: 114.1829\n",
      "====> Test set loss: 111.2992\n",
      "Train Epoch: 3 [0/60000 (0%)]\tLoss: 112.479401\n",
      "Train Epoch: 3 [1280/60000 (2%)]\tLoss: 117.918335\n",
      "Train Epoch: 3 [2560/60000 (4%)]\tLoss: 114.737885\n",
      "Train Epoch: 3 [3840/60000 (6%)]\tLoss: 113.729721\n",
      "Train Epoch: 3 [5120/60000 (9%)]\tLoss: 108.996933\n",
      "Train Epoch: 3 [6400/60000 (11%)]\tLoss: 109.031868\n",
      "Train Epoch: 3 [7680/60000 (13%)]\tLoss: 112.327240\n",
      "Train Epoch: 3 [8960/60000 (15%)]\tLoss: 108.342102\n",
      "Train Epoch: 3 [10240/60000 (17%)]\tLoss: 114.034546\n",
      "Train Epoch: 3 [11520/60000 (19%)]\tLoss: 113.721985\n",
      "Train Epoch: 3 [12800/60000 (21%)]\tLoss: 112.071205\n",
      "Train Epoch: 3 [14080/60000 (23%)]\tLoss: 111.097214\n",
      "Train Epoch: 3 [15360/60000 (26%)]\tLoss: 112.306007\n",
      "Train Epoch: 3 [16640/60000 (28%)]\tLoss: 114.813126\n",
      "Train Epoch: 3 [17920/60000 (30%)]\tLoss: 111.417633\n",
      "Train Epoch: 3 [19200/60000 (32%)]\tLoss: 110.447067\n",
      "Train Epoch: 3 [20480/60000 (34%)]\tLoss: 110.901077\n",
      "Train Epoch: 3 [21760/60000 (36%)]\tLoss: 110.902908\n",
      "Train Epoch: 3 [23040/60000 (38%)]\tLoss: 108.676392\n",
      "Train Epoch: 3 [24320/60000 (41%)]\tLoss: 110.613083\n",
      "Train Epoch: 3 [25600/60000 (43%)]\tLoss: 111.468994\n",
      "Train Epoch: 3 [26880/60000 (45%)]\tLoss: 111.569145\n",
      "Train Epoch: 3 [28160/60000 (47%)]\tLoss: 109.554283\n",
      "Train Epoch: 3 [29440/60000 (49%)]\tLoss: 112.489708\n",
      "Train Epoch: 3 [30720/60000 (51%)]\tLoss: 110.772583\n",
      "Train Epoch: 3 [32000/60000 (53%)]\tLoss: 110.145432\n",
      "Train Epoch: 3 [33280/60000 (55%)]\tLoss: 111.756142\n",
      "Train Epoch: 3 [34560/60000 (58%)]\tLoss: 114.976585\n",
      "Train Epoch: 3 [35840/60000 (60%)]\tLoss: 115.503487\n",
      "Train Epoch: 3 [37120/60000 (62%)]\tLoss: 113.190125\n",
      "Train Epoch: 3 [38400/60000 (64%)]\tLoss: 104.954582\n",
      "Train Epoch: 3 [39680/60000 (66%)]\tLoss: 109.260674\n",
      "Train Epoch: 3 [40960/60000 (68%)]\tLoss: 109.697586\n",
      "Train Epoch: 3 [42240/60000 (70%)]\tLoss: 108.181816\n",
      "Train Epoch: 3 [43520/60000 (72%)]\tLoss: 113.878616\n",
      "Train Epoch: 3 [44800/60000 (75%)]\tLoss: 106.758484\n",
      "Train Epoch: 3 [46080/60000 (77%)]\tLoss: 110.119652\n",
      "Train Epoch: 3 [47360/60000 (79%)]\tLoss: 113.689087\n",
      "Train Epoch: 3 [48640/60000 (81%)]\tLoss: 113.300682\n",
      "Train Epoch: 3 [49920/60000 (83%)]\tLoss: 111.960190\n",
      "Train Epoch: 3 [51200/60000 (85%)]\tLoss: 112.727142\n",
      "Train Epoch: 3 [52480/60000 (87%)]\tLoss: 110.787582\n",
      "Train Epoch: 3 [53760/60000 (90%)]\tLoss: 106.053818\n",
      "Train Epoch: 3 [55040/60000 (92%)]\tLoss: 105.998276\n",
      "Train Epoch: 3 [56320/60000 (94%)]\tLoss: 105.384003\n",
      "Train Epoch: 3 [57600/60000 (96%)]\tLoss: 109.946495\n",
      "Train Epoch: 3 [58880/60000 (98%)]\tLoss: 108.513504\n",
      "====> Epoch: 3 Average loss: 111.3582\n",
      "====> Test set loss: 109.5728\n",
      "Train Epoch: 4 [0/60000 (0%)]\tLoss: 111.384430\n",
      "Train Epoch: 4 [1280/60000 (2%)]\tLoss: 108.816849\n",
      "Train Epoch: 4 [2560/60000 (4%)]\tLoss: 107.550232\n",
      "Train Epoch: 4 [3840/60000 (6%)]\tLoss: 108.874329\n",
      "Train Epoch: 4 [5120/60000 (9%)]\tLoss: 111.372543\n",
      "Train Epoch: 4 [6400/60000 (11%)]\tLoss: 112.965034\n",
      "Train Epoch: 4 [7680/60000 (13%)]\tLoss: 111.031921\n",
      "Train Epoch: 4 [8960/60000 (15%)]\tLoss: 109.282555\n",
      "Train Epoch: 4 [10240/60000 (17%)]\tLoss: 110.927986\n",
      "Train Epoch: 4 [11520/60000 (19%)]\tLoss: 114.141731\n",
      "Train Epoch: 4 [12800/60000 (21%)]\tLoss: 108.404716\n",
      "Train Epoch: 4 [14080/60000 (23%)]\tLoss: 112.477402\n",
      "Train Epoch: 4 [15360/60000 (26%)]\tLoss: 108.712601\n",
      "Train Epoch: 4 [16640/60000 (28%)]\tLoss: 111.408737\n"
     ]
    },
    {
     "name": "stdout",
     "output_type": "stream",
     "text": [
      "Train Epoch: 4 [17920/60000 (30%)]\tLoss: 109.183441\n",
      "Train Epoch: 4 [19200/60000 (32%)]\tLoss: 108.207253\n",
      "Train Epoch: 4 [20480/60000 (34%)]\tLoss: 109.144424\n",
      "Train Epoch: 4 [21760/60000 (36%)]\tLoss: 108.685463\n",
      "Train Epoch: 4 [23040/60000 (38%)]\tLoss: 109.028648\n",
      "Train Epoch: 4 [24320/60000 (41%)]\tLoss: 109.352081\n",
      "Train Epoch: 4 [25600/60000 (43%)]\tLoss: 107.731895\n",
      "Train Epoch: 4 [26880/60000 (45%)]\tLoss: 111.474762\n",
      "Train Epoch: 4 [28160/60000 (47%)]\tLoss: 113.027275\n",
      "Train Epoch: 4 [29440/60000 (49%)]\tLoss: 110.358627\n",
      "Train Epoch: 4 [30720/60000 (51%)]\tLoss: 112.601463\n",
      "Train Epoch: 4 [32000/60000 (53%)]\tLoss: 110.508942\n",
      "Train Epoch: 4 [33280/60000 (55%)]\tLoss: 114.937218\n",
      "Train Epoch: 4 [34560/60000 (58%)]\tLoss: 108.731789\n",
      "Train Epoch: 4 [35840/60000 (60%)]\tLoss: 108.046577\n",
      "Train Epoch: 4 [37120/60000 (62%)]\tLoss: 103.438004\n",
      "Train Epoch: 4 [38400/60000 (64%)]\tLoss: 106.997421\n",
      "Train Epoch: 4 [39680/60000 (66%)]\tLoss: 109.033539\n",
      "Train Epoch: 4 [40960/60000 (68%)]\tLoss: 109.049141\n",
      "Train Epoch: 4 [42240/60000 (70%)]\tLoss: 109.002380\n",
      "Train Epoch: 4 [43520/60000 (72%)]\tLoss: 110.299728\n",
      "Train Epoch: 4 [44800/60000 (75%)]\tLoss: 103.134476\n",
      "Train Epoch: 4 [46080/60000 (77%)]\tLoss: 108.736115\n",
      "Train Epoch: 4 [47360/60000 (79%)]\tLoss: 110.317276\n",
      "Train Epoch: 4 [48640/60000 (81%)]\tLoss: 109.709068\n",
      "Train Epoch: 4 [49920/60000 (83%)]\tLoss: 106.636658\n",
      "Train Epoch: 4 [51200/60000 (85%)]\tLoss: 107.993759\n",
      "Train Epoch: 4 [52480/60000 (87%)]\tLoss: 106.037292\n",
      "Train Epoch: 4 [53760/60000 (90%)]\tLoss: 111.469749\n",
      "Train Epoch: 4 [55040/60000 (92%)]\tLoss: 111.400192\n",
      "Train Epoch: 4 [56320/60000 (94%)]\tLoss: 106.516434\n",
      "Train Epoch: 4 [57600/60000 (96%)]\tLoss: 108.834290\n",
      "Train Epoch: 4 [58880/60000 (98%)]\tLoss: 107.181358\n",
      "====> Epoch: 4 Average loss: 109.6942\n",
      "====> Test set loss: 108.1331\n",
      "Train Epoch: 5 [0/60000 (0%)]\tLoss: 107.731140\n",
      "Train Epoch: 5 [1280/60000 (2%)]\tLoss: 111.411987\n",
      "Train Epoch: 5 [2560/60000 (4%)]\tLoss: 108.856796\n",
      "Train Epoch: 5 [3840/60000 (6%)]\tLoss: 107.832199\n",
      "Train Epoch: 5 [5120/60000 (9%)]\tLoss: 107.271126\n",
      "Train Epoch: 5 [6400/60000 (11%)]\tLoss: 110.989899\n",
      "Train Epoch: 5 [7680/60000 (13%)]\tLoss: 106.191193\n",
      "Train Epoch: 5 [8960/60000 (15%)]\tLoss: 108.490021\n",
      "Train Epoch: 5 [10240/60000 (17%)]\tLoss: 113.117180\n",
      "Train Epoch: 5 [11520/60000 (19%)]\tLoss: 110.813705\n",
      "Train Epoch: 5 [12800/60000 (21%)]\tLoss: 108.886017\n",
      "Train Epoch: 5 [14080/60000 (23%)]\tLoss: 114.165924\n",
      "Train Epoch: 5 [15360/60000 (26%)]\tLoss: 111.023224\n",
      "Train Epoch: 5 [16640/60000 (28%)]\tLoss: 109.412895\n",
      "Train Epoch: 5 [17920/60000 (30%)]\tLoss: 107.097565\n",
      "Train Epoch: 5 [19200/60000 (32%)]\tLoss: 107.511810\n",
      "Train Epoch: 5 [20480/60000 (34%)]\tLoss: 105.581245\n",
      "Train Epoch: 5 [21760/60000 (36%)]\tLoss: 108.712540\n",
      "Train Epoch: 5 [23040/60000 (38%)]\tLoss: 105.507278\n",
      "Train Epoch: 5 [24320/60000 (41%)]\tLoss: 105.510757\n",
      "Train Epoch: 5 [25600/60000 (43%)]\tLoss: 108.693626\n",
      "Train Epoch: 5 [26880/60000 (45%)]\tLoss: 106.971786\n",
      "Train Epoch: 5 [28160/60000 (47%)]\tLoss: 113.561661\n",
      "Train Epoch: 5 [29440/60000 (49%)]\tLoss: 105.781303\n",
      "Train Epoch: 5 [30720/60000 (51%)]\tLoss: 105.961578\n",
      "Train Epoch: 5 [32000/60000 (53%)]\tLoss: 109.672134\n",
      "Train Epoch: 5 [33280/60000 (55%)]\tLoss: 109.725563\n",
      "Train Epoch: 5 [34560/60000 (58%)]\tLoss: 107.476151\n",
      "Train Epoch: 5 [35840/60000 (60%)]\tLoss: 103.058762\n",
      "Train Epoch: 5 [37120/60000 (62%)]\tLoss: 104.074890\n",
      "Train Epoch: 5 [38400/60000 (64%)]\tLoss: 108.509705\n",
      "Train Epoch: 5 [39680/60000 (66%)]\tLoss: 107.728798\n",
      "Train Epoch: 5 [40960/60000 (68%)]\tLoss: 107.230194\n",
      "Train Epoch: 5 [42240/60000 (70%)]\tLoss: 108.601456\n",
      "Train Epoch: 5 [43520/60000 (72%)]\tLoss: 104.796967\n",
      "Train Epoch: 5 [44800/60000 (75%)]\tLoss: 108.384766\n",
      "Train Epoch: 5 [46080/60000 (77%)]\tLoss: 108.254761\n",
      "Train Epoch: 5 [47360/60000 (79%)]\tLoss: 107.052094\n",
      "Train Epoch: 5 [48640/60000 (81%)]\tLoss: 104.998802\n",
      "Train Epoch: 5 [49920/60000 (83%)]\tLoss: 105.821701\n",
      "Train Epoch: 5 [51200/60000 (85%)]\tLoss: 103.917130\n",
      "Train Epoch: 5 [52480/60000 (87%)]\tLoss: 106.946648\n",
      "Train Epoch: 5 [53760/60000 (90%)]\tLoss: 107.293602\n",
      "Train Epoch: 5 [55040/60000 (92%)]\tLoss: 108.421722\n",
      "Train Epoch: 5 [56320/60000 (94%)]\tLoss: 108.176064\n",
      "Train Epoch: 5 [57600/60000 (96%)]\tLoss: 104.924271\n",
      "Train Epoch: 5 [58880/60000 (98%)]\tLoss: 107.133835\n",
      "====> Epoch: 5 Average loss: 108.5203\n",
      "====> Test set loss: 107.4815\n",
      "Train Epoch: 6 [0/60000 (0%)]\tLoss: 109.613480\n",
      "Train Epoch: 6 [1280/60000 (2%)]\tLoss: 106.313347\n",
      "Train Epoch: 6 [2560/60000 (4%)]\tLoss: 113.137711\n",
      "Train Epoch: 6 [3840/60000 (6%)]\tLoss: 106.823891\n",
      "Train Epoch: 6 [5120/60000 (9%)]\tLoss: 104.133713\n",
      "Train Epoch: 6 [6400/60000 (11%)]\tLoss: 104.731598\n",
      "Train Epoch: 6 [7680/60000 (13%)]\tLoss: 113.907211\n",
      "Train Epoch: 6 [8960/60000 (15%)]\tLoss: 107.322853\n",
      "Train Epoch: 6 [10240/60000 (17%)]\tLoss: 106.349930\n",
      "Train Epoch: 6 [11520/60000 (19%)]\tLoss: 106.997147\n",
      "Train Epoch: 6 [12800/60000 (21%)]\tLoss: 109.310837\n",
      "Train Epoch: 6 [14080/60000 (23%)]\tLoss: 108.954330\n",
      "Train Epoch: 6 [15360/60000 (26%)]\tLoss: 101.258606\n",
      "Train Epoch: 6 [16640/60000 (28%)]\tLoss: 110.546570\n",
      "Train Epoch: 6 [17920/60000 (30%)]\tLoss: 107.042046\n",
      "Train Epoch: 6 [19200/60000 (32%)]\tLoss: 108.434319\n",
      "Train Epoch: 6 [20480/60000 (34%)]\tLoss: 105.436882\n",
      "Train Epoch: 6 [21760/60000 (36%)]\tLoss: 105.160530\n",
      "Train Epoch: 6 [23040/60000 (38%)]\tLoss: 108.334747\n",
      "Train Epoch: 6 [24320/60000 (41%)]\tLoss: 107.704865\n",
      "Train Epoch: 6 [25600/60000 (43%)]\tLoss: 110.388023\n",
      "Train Epoch: 6 [26880/60000 (45%)]\tLoss: 109.416771\n",
      "Train Epoch: 6 [28160/60000 (47%)]\tLoss: 107.917229\n",
      "Train Epoch: 6 [29440/60000 (49%)]\tLoss: 106.047493\n",
      "Train Epoch: 6 [30720/60000 (51%)]\tLoss: 109.553406\n",
      "Train Epoch: 6 [32000/60000 (53%)]\tLoss: 110.933525\n",
      "Train Epoch: 6 [33280/60000 (55%)]\tLoss: 108.034645\n",
      "Train Epoch: 6 [34560/60000 (58%)]\tLoss: 109.069206\n",
      "Train Epoch: 6 [35840/60000 (60%)]\tLoss: 106.629402\n",
      "Train Epoch: 6 [37120/60000 (62%)]\tLoss: 102.391769\n",
      "Train Epoch: 6 [38400/60000 (64%)]\tLoss: 108.174957\n",
      "Train Epoch: 6 [39680/60000 (66%)]\tLoss: 105.718658\n",
      "Train Epoch: 6 [40960/60000 (68%)]\tLoss: 107.856445\n",
      "Train Epoch: 6 [42240/60000 (70%)]\tLoss: 106.821594\n",
      "Train Epoch: 6 [43520/60000 (72%)]\tLoss: 104.418610\n",
      "Train Epoch: 6 [44800/60000 (75%)]\tLoss: 107.202423\n",
      "Train Epoch: 6 [46080/60000 (77%)]\tLoss: 105.172668\n",
      "Train Epoch: 6 [47360/60000 (79%)]\tLoss: 106.971962\n",
      "Train Epoch: 6 [48640/60000 (81%)]\tLoss: 110.017624\n",
      "Train Epoch: 6 [49920/60000 (83%)]\tLoss: 109.349533\n",
      "Train Epoch: 6 [51200/60000 (85%)]\tLoss: 108.943115\n",
      "Train Epoch: 6 [52480/60000 (87%)]\tLoss: 105.789680\n",
      "Train Epoch: 6 [53760/60000 (90%)]\tLoss: 106.101105\n",
      "Train Epoch: 6 [55040/60000 (92%)]\tLoss: 104.471214\n",
      "Train Epoch: 6 [56320/60000 (94%)]\tLoss: 112.670670\n",
      "Train Epoch: 6 [57600/60000 (96%)]\tLoss: 107.419014\n",
      "Train Epoch: 6 [58880/60000 (98%)]\tLoss: 104.793274\n",
      "====> Epoch: 6 Average loss: 107.7439\n",
      "====> Test set loss: 106.6158\n",
      "Train Epoch: 7 [0/60000 (0%)]\tLoss: 112.507263\n",
      "Train Epoch: 7 [1280/60000 (2%)]\tLoss: 106.457016\n",
      "Train Epoch: 7 [2560/60000 (4%)]\tLoss: 109.056908\n",
      "Train Epoch: 7 [3840/60000 (6%)]\tLoss: 107.616257\n",
      "Train Epoch: 7 [5120/60000 (9%)]\tLoss: 105.899673\n",
      "Train Epoch: 7 [6400/60000 (11%)]\tLoss: 102.816551\n",
      "Train Epoch: 7 [7680/60000 (13%)]\tLoss: 109.625610\n",
      "Train Epoch: 7 [8960/60000 (15%)]\tLoss: 109.061897\n",
      "Train Epoch: 7 [10240/60000 (17%)]\tLoss: 107.999611\n",
      "Train Epoch: 7 [11520/60000 (19%)]\tLoss: 106.773575\n",
      "Train Epoch: 7 [12800/60000 (21%)]\tLoss: 106.581657\n",
      "Train Epoch: 7 [14080/60000 (23%)]\tLoss: 106.973526\n",
      "Train Epoch: 7 [15360/60000 (26%)]\tLoss: 110.290970\n",
      "Train Epoch: 7 [16640/60000 (28%)]\tLoss: 107.363861\n",
      "Train Epoch: 7 [17920/60000 (30%)]\tLoss: 108.592079\n",
      "Train Epoch: 7 [19200/60000 (32%)]\tLoss: 108.707779\n",
      "Train Epoch: 7 [20480/60000 (34%)]\tLoss: 108.067619\n",
      "Train Epoch: 7 [21760/60000 (36%)]\tLoss: 104.379150\n",
      "Train Epoch: 7 [23040/60000 (38%)]\tLoss: 105.285332\n",
      "Train Epoch: 7 [24320/60000 (41%)]\tLoss: 105.478798\n",
      "Train Epoch: 7 [25600/60000 (43%)]\tLoss: 105.592087\n",
      "Train Epoch: 7 [26880/60000 (45%)]\tLoss: 109.073364\n",
      "Train Epoch: 7 [28160/60000 (47%)]\tLoss: 110.463463\n",
      "Train Epoch: 7 [29440/60000 (49%)]\tLoss: 108.226105\n",
      "Train Epoch: 7 [30720/60000 (51%)]\tLoss: 104.767914\n",
      "Train Epoch: 7 [32000/60000 (53%)]\tLoss: 109.983864\n",
      "Train Epoch: 7 [33280/60000 (55%)]\tLoss: 106.210022\n",
      "Train Epoch: 7 [34560/60000 (58%)]\tLoss: 102.251312\n"
     ]
    },
    {
     "name": "stdout",
     "output_type": "stream",
     "text": [
      "Train Epoch: 7 [35840/60000 (60%)]\tLoss: 106.945152\n",
      "Train Epoch: 7 [37120/60000 (62%)]\tLoss: 102.951241\n",
      "Train Epoch: 7 [38400/60000 (64%)]\tLoss: 106.989563\n",
      "Train Epoch: 7 [39680/60000 (66%)]\tLoss: 104.519928\n",
      "Train Epoch: 7 [40960/60000 (68%)]\tLoss: 106.716003\n",
      "Train Epoch: 7 [42240/60000 (70%)]\tLoss: 108.652840\n",
      "Train Epoch: 7 [43520/60000 (72%)]\tLoss: 110.558777\n",
      "Train Epoch: 7 [44800/60000 (75%)]\tLoss: 108.842194\n",
      "Train Epoch: 7 [46080/60000 (77%)]\tLoss: 106.881927\n",
      "Train Epoch: 7 [47360/60000 (79%)]\tLoss: 112.067657\n",
      "Train Epoch: 7 [48640/60000 (81%)]\tLoss: 111.910606\n",
      "Train Epoch: 7 [49920/60000 (83%)]\tLoss: 105.351898\n",
      "Train Epoch: 7 [51200/60000 (85%)]\tLoss: 106.846085\n",
      "Train Epoch: 7 [52480/60000 (87%)]\tLoss: 103.567307\n",
      "Train Epoch: 7 [53760/60000 (90%)]\tLoss: 105.103233\n",
      "Train Epoch: 7 [55040/60000 (92%)]\tLoss: 109.263626\n",
      "Train Epoch: 7 [56320/60000 (94%)]\tLoss: 106.808884\n",
      "Train Epoch: 7 [57600/60000 (96%)]\tLoss: 105.987213\n",
      "Train Epoch: 7 [58880/60000 (98%)]\tLoss: 105.692245\n",
      "====> Epoch: 7 Average loss: 107.0855\n",
      "====> Test set loss: 105.9694\n",
      "Train Epoch: 8 [0/60000 (0%)]\tLoss: 106.384621\n",
      "Train Epoch: 8 [1280/60000 (2%)]\tLoss: 105.676971\n",
      "Train Epoch: 8 [2560/60000 (4%)]\tLoss: 105.826736\n",
      "Train Epoch: 8 [3840/60000 (6%)]\tLoss: 107.485519\n",
      "Train Epoch: 8 [5120/60000 (9%)]\tLoss: 103.724220\n",
      "Train Epoch: 8 [6400/60000 (11%)]\tLoss: 106.528526\n",
      "Train Epoch: 8 [7680/60000 (13%)]\tLoss: 105.130920\n",
      "Train Epoch: 8 [8960/60000 (15%)]\tLoss: 105.977242\n",
      "Train Epoch: 8 [10240/60000 (17%)]\tLoss: 108.073997\n",
      "Train Epoch: 8 [11520/60000 (19%)]\tLoss: 103.466309\n",
      "Train Epoch: 8 [12800/60000 (21%)]\tLoss: 107.839493\n",
      "Train Epoch: 8 [14080/60000 (23%)]\tLoss: 103.143326\n",
      "Train Epoch: 8 [15360/60000 (26%)]\tLoss: 104.330925\n",
      "Train Epoch: 8 [16640/60000 (28%)]\tLoss: 109.094276\n",
      "Train Epoch: 8 [17920/60000 (30%)]\tLoss: 106.500191\n",
      "Train Epoch: 8 [19200/60000 (32%)]\tLoss: 105.484344\n",
      "Train Epoch: 8 [20480/60000 (34%)]\tLoss: 110.068245\n",
      "Train Epoch: 8 [21760/60000 (36%)]\tLoss: 102.917648\n",
      "Train Epoch: 8 [23040/60000 (38%)]\tLoss: 105.616806\n",
      "Train Epoch: 8 [24320/60000 (41%)]\tLoss: 106.609848\n",
      "Train Epoch: 8 [25600/60000 (43%)]\tLoss: 104.994095\n",
      "Train Epoch: 8 [26880/60000 (45%)]\tLoss: 107.363045\n",
      "Train Epoch: 8 [28160/60000 (47%)]\tLoss: 104.088768\n",
      "Train Epoch: 8 [29440/60000 (49%)]\tLoss: 106.704559\n",
      "Train Epoch: 8 [30720/60000 (51%)]\tLoss: 105.749077\n",
      "Train Epoch: 8 [32000/60000 (53%)]\tLoss: 104.539032\n",
      "Train Epoch: 8 [33280/60000 (55%)]\tLoss: 110.072937\n",
      "Train Epoch: 8 [34560/60000 (58%)]\tLoss: 106.432632\n",
      "Train Epoch: 8 [35840/60000 (60%)]\tLoss: 105.713547\n",
      "Train Epoch: 8 [37120/60000 (62%)]\tLoss: 104.960037\n",
      "Train Epoch: 8 [38400/60000 (64%)]\tLoss: 105.045815\n",
      "Train Epoch: 8 [39680/60000 (66%)]\tLoss: 103.976669\n",
      "Train Epoch: 8 [40960/60000 (68%)]\tLoss: 107.157120\n",
      "Train Epoch: 8 [42240/60000 (70%)]\tLoss: 105.949188\n",
      "Train Epoch: 8 [43520/60000 (72%)]\tLoss: 100.794281\n",
      "Train Epoch: 8 [44800/60000 (75%)]\tLoss: 110.019928\n",
      "Train Epoch: 8 [46080/60000 (77%)]\tLoss: 105.925011\n",
      "Train Epoch: 8 [47360/60000 (79%)]\tLoss: 109.306732\n",
      "Train Epoch: 8 [48640/60000 (81%)]\tLoss: 111.879707\n",
      "Train Epoch: 8 [49920/60000 (83%)]\tLoss: 107.816605\n",
      "Train Epoch: 8 [51200/60000 (85%)]\tLoss: 110.282578\n",
      "Train Epoch: 8 [52480/60000 (87%)]\tLoss: 105.555138\n",
      "Train Epoch: 8 [53760/60000 (90%)]\tLoss: 104.504807\n",
      "Train Epoch: 8 [55040/60000 (92%)]\tLoss: 106.235977\n",
      "Train Epoch: 8 [56320/60000 (94%)]\tLoss: 102.637077\n",
      "Train Epoch: 8 [57600/60000 (96%)]\tLoss: 108.047760\n",
      "Train Epoch: 8 [58880/60000 (98%)]\tLoss: 111.192093\n",
      "====> Epoch: 8 Average loss: 106.5807\n",
      "====> Test set loss: 105.8702\n",
      "Train Epoch: 9 [0/60000 (0%)]\tLoss: 110.388870\n",
      "Train Epoch: 9 [1280/60000 (2%)]\tLoss: 104.106911\n",
      "Train Epoch: 9 [2560/60000 (4%)]\tLoss: 106.449463\n",
      "Train Epoch: 9 [3840/60000 (6%)]\tLoss: 110.951172\n",
      "Train Epoch: 9 [5120/60000 (9%)]\tLoss: 104.728851\n",
      "Train Epoch: 9 [6400/60000 (11%)]\tLoss: 101.598053\n",
      "Train Epoch: 9 [7680/60000 (13%)]\tLoss: 104.674828\n",
      "Train Epoch: 9 [8960/60000 (15%)]\tLoss: 104.922241\n",
      "Train Epoch: 9 [10240/60000 (17%)]\tLoss: 106.314056\n",
      "Train Epoch: 9 [11520/60000 (19%)]\tLoss: 111.095314\n",
      "Train Epoch: 9 [12800/60000 (21%)]\tLoss: 105.091179\n",
      "Train Epoch: 9 [14080/60000 (23%)]\tLoss: 105.765701\n",
      "Train Epoch: 9 [15360/60000 (26%)]\tLoss: 108.868889\n",
      "Train Epoch: 9 [16640/60000 (28%)]\tLoss: 106.414093\n",
      "Train Epoch: 9 [17920/60000 (30%)]\tLoss: 102.290573\n",
      "Train Epoch: 9 [19200/60000 (32%)]\tLoss: 102.958748\n",
      "Train Epoch: 9 [20480/60000 (34%)]\tLoss: 108.848213\n",
      "Train Epoch: 9 [21760/60000 (36%)]\tLoss: 102.640869\n",
      "Train Epoch: 9 [23040/60000 (38%)]\tLoss: 104.756134\n",
      "Train Epoch: 9 [24320/60000 (41%)]\tLoss: 103.813187\n",
      "Train Epoch: 9 [25600/60000 (43%)]\tLoss: 106.334587\n",
      "Train Epoch: 9 [26880/60000 (45%)]\tLoss: 106.260529\n",
      "Train Epoch: 9 [28160/60000 (47%)]\tLoss: 109.301102\n",
      "Train Epoch: 9 [29440/60000 (49%)]\tLoss: 104.687515\n",
      "Train Epoch: 9 [30720/60000 (51%)]\tLoss: 106.058617\n",
      "Train Epoch: 9 [32000/60000 (53%)]\tLoss: 105.641556\n",
      "Train Epoch: 9 [33280/60000 (55%)]\tLoss: 109.873108\n",
      "Train Epoch: 9 [34560/60000 (58%)]\tLoss: 99.429565\n",
      "Train Epoch: 9 [35840/60000 (60%)]\tLoss: 107.308456\n",
      "Train Epoch: 9 [37120/60000 (62%)]\tLoss: 104.806534\n",
      "Train Epoch: 9 [38400/60000 (64%)]\tLoss: 107.869781\n",
      "Train Epoch: 9 [39680/60000 (66%)]\tLoss: 105.074417\n",
      "Train Epoch: 9 [40960/60000 (68%)]\tLoss: 103.782303\n",
      "Train Epoch: 9 [42240/60000 (70%)]\tLoss: 109.264854\n",
      "Train Epoch: 9 [43520/60000 (72%)]\tLoss: 105.629745\n",
      "Train Epoch: 9 [44800/60000 (75%)]\tLoss: 103.291412\n",
      "Train Epoch: 9 [46080/60000 (77%)]\tLoss: 100.842590\n",
      "Train Epoch: 9 [47360/60000 (79%)]\tLoss: 105.031082\n",
      "Train Epoch: 9 [48640/60000 (81%)]\tLoss: 106.637383\n",
      "Train Epoch: 9 [49920/60000 (83%)]\tLoss: 103.653854\n",
      "Train Epoch: 9 [51200/60000 (85%)]\tLoss: 105.182961\n",
      "Train Epoch: 9 [52480/60000 (87%)]\tLoss: 105.110016\n",
      "Train Epoch: 9 [53760/60000 (90%)]\tLoss: 108.754601\n",
      "Train Epoch: 9 [55040/60000 (92%)]\tLoss: 101.379105\n",
      "Train Epoch: 9 [56320/60000 (94%)]\tLoss: 108.813011\n",
      "Train Epoch: 9 [57600/60000 (96%)]\tLoss: 103.364525\n",
      "Train Epoch: 9 [58880/60000 (98%)]\tLoss: 106.724518\n",
      "====> Epoch: 9 Average loss: 106.1334\n",
      "====> Test set loss: 105.5980\n",
      "Train Epoch: 10 [0/60000 (0%)]\tLoss: 108.415993\n",
      "Train Epoch: 10 [1280/60000 (2%)]\tLoss: 107.078156\n",
      "Train Epoch: 10 [2560/60000 (4%)]\tLoss: 105.102875\n",
      "Train Epoch: 10 [3840/60000 (6%)]\tLoss: 108.937363\n",
      "Train Epoch: 10 [5120/60000 (9%)]\tLoss: 106.363068\n",
      "Train Epoch: 10 [6400/60000 (11%)]\tLoss: 104.056908\n",
      "Train Epoch: 10 [7680/60000 (13%)]\tLoss: 105.930763\n",
      "Train Epoch: 10 [8960/60000 (15%)]\tLoss: 104.466698\n",
      "Train Epoch: 10 [10240/60000 (17%)]\tLoss: 104.923393\n",
      "Train Epoch: 10 [11520/60000 (19%)]\tLoss: 107.056183\n",
      "Train Epoch: 10 [12800/60000 (21%)]\tLoss: 103.748886\n",
      "Train Epoch: 10 [14080/60000 (23%)]\tLoss: 105.881882\n",
      "Train Epoch: 10 [15360/60000 (26%)]\tLoss: 101.317665\n",
      "Train Epoch: 10 [16640/60000 (28%)]\tLoss: 104.715385\n",
      "Train Epoch: 10 [17920/60000 (30%)]\tLoss: 104.108047\n",
      "Train Epoch: 10 [19200/60000 (32%)]\tLoss: 105.748352\n",
      "Train Epoch: 10 [20480/60000 (34%)]\tLoss: 104.109116\n",
      "Train Epoch: 10 [21760/60000 (36%)]\tLoss: 99.973160\n",
      "Train Epoch: 10 [23040/60000 (38%)]\tLoss: 105.654930\n",
      "Train Epoch: 10 [24320/60000 (41%)]\tLoss: 111.109222\n",
      "Train Epoch: 10 [25600/60000 (43%)]\tLoss: 105.688858\n",
      "Train Epoch: 10 [26880/60000 (45%)]\tLoss: 103.019806\n",
      "Train Epoch: 10 [28160/60000 (47%)]\tLoss: 107.154045\n",
      "Train Epoch: 10 [29440/60000 (49%)]\tLoss: 107.864937\n",
      "Train Epoch: 10 [30720/60000 (51%)]\tLoss: 105.062828\n",
      "Train Epoch: 10 [32000/60000 (53%)]\tLoss: 105.401138\n",
      "Train Epoch: 10 [33280/60000 (55%)]\tLoss: 104.776459\n",
      "Train Epoch: 10 [34560/60000 (58%)]\tLoss: 110.850014\n",
      "Train Epoch: 10 [35840/60000 (60%)]\tLoss: 107.754395\n",
      "Train Epoch: 10 [37120/60000 (62%)]\tLoss: 106.640625\n",
      "Train Epoch: 10 [38400/60000 (64%)]\tLoss: 105.060760\n",
      "Train Epoch: 10 [39680/60000 (66%)]\tLoss: 106.379066\n",
      "Train Epoch: 10 [40960/60000 (68%)]\tLoss: 106.286415\n",
      "Train Epoch: 10 [42240/60000 (70%)]\tLoss: 108.457596\n",
      "Train Epoch: 10 [43520/60000 (72%)]\tLoss: 103.979782\n",
      "Train Epoch: 10 [44800/60000 (75%)]\tLoss: 110.661102\n",
      "Train Epoch: 10 [46080/60000 (77%)]\tLoss: 104.100494\n",
      "Train Epoch: 10 [47360/60000 (79%)]\tLoss: 107.934494\n",
      "Train Epoch: 10 [48640/60000 (81%)]\tLoss: 104.768738\n",
      "Train Epoch: 10 [49920/60000 (83%)]\tLoss: 109.618271\n",
      "Train Epoch: 10 [51200/60000 (85%)]\tLoss: 105.600403\n"
     ]
    },
    {
     "name": "stdout",
     "output_type": "stream",
     "text": [
      "Train Epoch: 10 [52480/60000 (87%)]\tLoss: 108.963737\n",
      "Train Epoch: 10 [53760/60000 (90%)]\tLoss: 106.519547\n",
      "Train Epoch: 10 [55040/60000 (92%)]\tLoss: 109.272835\n",
      "Train Epoch: 10 [56320/60000 (94%)]\tLoss: 106.415100\n",
      "Train Epoch: 10 [57600/60000 (96%)]\tLoss: 105.187523\n",
      "Train Epoch: 10 [58880/60000 (98%)]\tLoss: 101.867424\n",
      "====> Epoch: 10 Average loss: 105.7675\n",
      "====> Test set loss: 105.3351\n"
     ]
    }
   ],
   "source": [
    "for epoch in range(1, args.epochs + 1):\n",
    "    train(epoch)\n",
    "    test(epoch)\n",
    "    with torch.no_grad():\n",
    "        sample = torch.randn(64, 20).to(device)\n",
    "        sample = model.decode(sample).cpu()\n",
    "        save_image(sample.view(64, 1, 28, 28),\n",
    "                   'results/sample_' + str(epoch) + '.png')"
   ]
  },
  {
   "cell_type": "markdown",
   "metadata": {},
   "source": [
    "# custom dataset "
   ]
  },
  {
   "cell_type": "code",
   "execution_count": 11,
   "metadata": {},
   "outputs": [],
   "source": [
    "class CustomImageDataset(Dataset):\n",
    "    def __init__(self, annotations_file, img_dir, transform=None, target_transform=None):\n",
    "        self.img_labels = np.loadtxt(annotations_file)\n",
    "        self.img_dir = img_dir\n",
    "        self.transform = transform\n",
    "        self.target_transform = target_transform\n",
    "\n",
    "    def __len__(self):\n",
    "        return self.img_labels.shape[0]\n",
    "\n",
    "    def __getitem__(self, idx):\n",
    "        img_path = os.path.join(self.img_dir, str(idx) + '.jpg')\n",
    "        image = read_image(img_path).float()\n",
    "        image = image/image.max()\n",
    "        label = self.img_labels[idx, :]\n",
    "        if self.transform:\n",
    "            image = self.transform(image)\n",
    "        if self.target_transform:\n",
    "            label = self.target_transform(label).type(torch.int)\n",
    "        return image, label\n"
   ]
  },
  {
   "cell_type": "code",
   "execution_count": 12,
   "metadata": {},
   "outputs": [],
   "source": [
    "my_dataset = CustomImageDataset('Z.txt' ,'./img', transform = Grayscale(), target_transform = torch.from_numpy)"
   ]
  },
  {
   "cell_type": "code",
   "execution_count": 13,
   "metadata": {},
   "outputs": [],
   "source": [
    "mydataloader = DataLoader(my_dataset, batch_size = 12, shuffle = True)"
   ]
  },
  {
   "cell_type": "code",
   "execution_count": 189,
   "metadata": {},
   "outputs": [],
   "source": [
    "class myVAE(nn.Module):\n",
    "    def __init__(self):\n",
    "        super(myVAE, self).__init__()\n",
    "\n",
    "        self.fc1 = nn.Linear(36, 100)\n",
    "        self.fc21 = nn.Linear(100, 10)\n",
    "        self.fc22 = nn.Linear(100, 10)\n",
    "        self.fc3 = nn.Linear(10, 100)\n",
    "        self.fc4 = nn.Linear(100, 36)\n",
    "\n",
    "    def encode(self, x):\n",
    "        h1 = F.relu(self.fc1(x))\n",
    "        return self.fc21(h1), self.fc22(h1)\n",
    "\n",
    "    def reparameterize(self, mu, logvar):\n",
    "        std = torch.exp(0.5*logvar)\n",
    "        eps = torch.randn_like(std)\n",
    "        return mu + eps*std\n",
    "\n",
    "    def decode(self, z):\n",
    "        h3 = F.relu(self.fc3(z))\n",
    "        return torch.sigmoid(self.fc4(h3))\n",
    "\n",
    "    def forward(self, x):\n",
    "        mu, logvar = self.encode(x.view(-1, 36))\n",
    "        z = self.reparameterize(mu, logvar)\n",
    "        return self.decode(z), mu, logvar\n"
   ]
  },
  {
   "cell_type": "code",
   "execution_count": 194,
   "metadata": {},
   "outputs": [],
   "source": [
    "def train(model, epoch, traindataloader):\n",
    "    model.train()\n",
    "    train_loss = 0\n",
    "    for batch_idx, (data, _) in enumerate(traindataloader):\n",
    "        data = data.to(device)\n",
    "        optimizer.zero_grad()\n",
    "        recon_batch, mu, logvar = model(data)\n",
    "        loss = loss_function(recon_batch, data, mu, logvar)\n",
    "        loss.backward()\n",
    "        train_loss += loss.item()\n",
    "        optimizer.step()\n",
    "        if batch_idx % args.log_interval == 0:\n",
    "            print('Train Epoch: {} [{}/{} ({:.0f}%)]\\tLoss: {:.6f}'.format(\n",
    "                epoch, batch_idx * len(data), len(traindataloader.dataset),\n",
    "                100. * batch_idx / len(traindataloader),\n",
    "                loss.item() / len(data)))\n",
    "\n",
    "    print('====> Epoch: {} Average loss: {:.4f}'.format(\n",
    "          epoch, train_loss / len(traindataloader.dataset)))\n"
   ]
  },
  {
   "cell_type": "code",
   "execution_count": null,
   "metadata": {},
   "outputs": [],
   "source": []
  },
  {
   "cell_type": "code",
   "execution_count": 181,
   "metadata": {},
   "outputs": [],
   "source": [
    "def loss_function(recon_x, x, mu, logvar):\n",
    "    BCE = F.binary_cross_entropy(recon_x, x.view(-1, 36), reduction='sum')\n",
    "\n",
    "    # see Appendix B from VAE paper:\n",
    "    # Kingma and Welling. Auto-Encoding Variational Bayes. ICLR, 2014\n",
    "    # https://arxiv.org/abs/1312.6114\n",
    "    # 0.5 * sum(1 + log(sigma^2) - mu^2 - sigma^2)\n",
    "    KLD = -0.5 * torch.sum(1 + logvar - mu.pow(2) - logvar.exp())\n",
    "\n",
    "    return BCE + KLD\n"
   ]
  },
  {
   "cell_type": "code",
   "execution_count": 182,
   "metadata": {},
   "outputs": [],
   "source": [
    "from pathlib import Path\n",
    "Path(\"./results_D36\").mkdir(parents=True, exist_ok=True)"
   ]
  },
  {
   "cell_type": "code",
   "execution_count": 183,
   "metadata": {},
   "outputs": [],
   "source": [
    "args = arg(64, False, 20,20)\n",
    "device = torch.device(\"cuda\" if args.cuda else \"cpu\")\n",
    "model = myVAE().to(device)\n",
    "optimizer = optim.Adam(model.parameters(), lr=1e-3)"
   ]
  },
  {
   "cell_type": "code",
   "execution_count": 184,
   "metadata": {},
   "outputs": [
    {
     "name": "stdout",
     "output_type": "stream",
     "text": [
      "Train Epoch: 1 [0/500 (0%)]\tLoss: 77.774071\n",
      "====> Epoch: 1 Average loss: 74.3914\n",
      "Train Epoch: 2 [0/500 (0%)]\tLoss: 71.229904\n",
      "====> Epoch: 2 Average loss: 69.6490\n",
      "Train Epoch: 3 [0/500 (0%)]\tLoss: 68.253845\n",
      "====> Epoch: 3 Average loss: 66.6479\n",
      "Train Epoch: 4 [0/500 (0%)]\tLoss: 65.023491\n",
      "====> Epoch: 4 Average loss: 65.0050\n",
      "Train Epoch: 5 [0/500 (0%)]\tLoss: 65.042175\n",
      "====> Epoch: 5 Average loss: 63.6457\n",
      "Train Epoch: 6 [0/500 (0%)]\tLoss: 62.194145\n",
      "====> Epoch: 6 Average loss: 62.4958\n",
      "Train Epoch: 7 [0/500 (0%)]\tLoss: 61.095135\n",
      "====> Epoch: 7 Average loss: 61.4765\n",
      "Train Epoch: 8 [0/500 (0%)]\tLoss: 60.137344\n",
      "====> Epoch: 8 Average loss: 60.7876\n",
      "Train Epoch: 9 [0/500 (0%)]\tLoss: 60.579422\n",
      "====> Epoch: 9 Average loss: 60.0957\n",
      "Train Epoch: 10 [0/500 (0%)]\tLoss: 59.509884\n",
      "====> Epoch: 10 Average loss: 59.3386\n",
      "Train Epoch: 11 [0/500 (0%)]\tLoss: 59.023037\n",
      "====> Epoch: 11 Average loss: 59.1064\n",
      "Train Epoch: 12 [0/500 (0%)]\tLoss: 61.246647\n",
      "====> Epoch: 12 Average loss: 59.1625\n",
      "Train Epoch: 13 [0/500 (0%)]\tLoss: 60.153584\n",
      "====> Epoch: 13 Average loss: 58.9708\n",
      "Train Epoch: 14 [0/500 (0%)]\tLoss: 58.823566\n",
      "====> Epoch: 14 Average loss: 59.0771\n",
      "Train Epoch: 15 [0/500 (0%)]\tLoss: 58.225609\n",
      "====> Epoch: 15 Average loss: 58.9088\n",
      "Train Epoch: 16 [0/500 (0%)]\tLoss: 58.751568\n",
      "====> Epoch: 16 Average loss: 58.6201\n",
      "Train Epoch: 17 [0/500 (0%)]\tLoss: 56.693111\n",
      "====> Epoch: 17 Average loss: 58.4868\n",
      "Train Epoch: 18 [0/500 (0%)]\tLoss: 58.558445\n",
      "====> Epoch: 18 Average loss: 58.5034\n",
      "Train Epoch: 19 [0/500 (0%)]\tLoss: 58.365768\n",
      "====> Epoch: 19 Average loss: 58.2798\n",
      "Train Epoch: 20 [0/500 (0%)]\tLoss: 59.523582\n",
      "====> Epoch: 20 Average loss: 58.6296\n"
     ]
    }
   ],
   "source": [
    "for epoch in range(1, args.epochs + 1):\n",
    "    train(epoch)\n",
    "    with torch.no_grad():\n",
    "        sample = torch.randn(64, 10).to(device)\n",
    "        sample = model.decode(sample).cpu()\n",
    "        save_image(sample.view(64, 1, 6, 6),\n",
    "                   'results_D36/sample_' + str(epoch) + '.png')"
   ]
  },
  {
   "cell_type": "code",
   "execution_count": 190,
   "metadata": {},
   "outputs": [
    {
     "data": {
      "image/png": "[encoded data removed]",
      "text/plain": [
       "<Figure size 432x288 with 64 Axes>"
      ]
     },
     "metadata": {},
     "output_type": "display_data"
    }
   ],
   "source": [
    "# show some random generated samples from the last epoch\n",
    "plt.subplots(8,8)\n",
    "for i in range(64):\n",
    "    plt.subplot(8,8,i+1)\n",
    "    plt.imshow(sample[i,:].view(6,6))\n"
   ]
  },
  {
   "cell_type": "markdown",
   "metadata": {},
   "source": [
    "# vae with rsample"
   ]
  },
  {
   "cell_type": "code",
   "execution_count": 14,
   "metadata": {},
   "outputs": [],
   "source": [
    "from torch.distributions import Normal"
   ]
  },
  {
   "cell_type": "code",
   "execution_count": 6,
   "metadata": {},
   "outputs": [],
   "source": [
    "class myVAE2(nn.Module):\n",
    "    def __init__(self):\n",
    "        super(myVAE2, self).__init__()\n",
    "\n",
    "        self.fc1 = nn.Linear(36, 100)\n",
    "        self.fc21 = nn.Linear(100, 10)\n",
    "        self.fc22 = nn.Linear(100, 10)\n",
    "        self.fc3 = nn.Linear(10, 100)\n",
    "        self.fc4 = nn.Linear(100, 36)\n",
    "\n",
    "    def encode(self, x):\n",
    "        h1 = F.relu(self.fc1(x))\n",
    "        return self.fc21(h1), self.fc22(h1)\n",
    "\n",
    "    def decode(self, z):\n",
    "        h3 = F.relu(self.fc3(z))\n",
    "        return torch.sigmoid(self.fc4(h3))\n",
    "\n",
    "    def forward(self, x):\n",
    "        mu, logvar = self.encode(x.view(-1, 36))\n",
    "        var = logvar.exp()\n",
    "        q = Normal(mu, var)\n",
    "        z = q.rsample()\n",
    "        return self.decode(z), mu, logvar\n",
    "    def loss_function(self, recon_x, x, mu, logvar):\n",
    "        BCE = F.binary_cross_entropy(recon_x, x.view(-1, 36), reduction='sum')\n",
    "        \n",
    "        var = logvar.exp()\n",
    "        q = Normal(mu, var)\n",
    "        p = Normal(torch.zeros_like(mu), torch.ones_like(var))\n",
    "#         KLD = nn.KLDivLoss()\n",
    "        KLD = torch.distributions.kl.kl_divergence(q, p).sum(-1).mean()\n",
    "    \n",
    "        return BCE + KLD\n"
   ]
  },
  {
   "cell_type": "code",
   "execution_count": 8,
   "metadata": {},
   "outputs": [],
   "source": [
    "def train(model, epoch, traindataloader):\n",
    "    model.train()\n",
    "    train_loss = 0\n",
    "    for batch_idx, (data, _) in enumerate(traindataloader):\n",
    "        data = data.to(device)\n",
    "        optimizer.zero_grad()\n",
    "        recon_batch, mu, logvar = model(data)\n",
    "        loss = model.loss_function(recon_batch, data, mu, logvar)\n",
    "        loss.backward()\n",
    "        train_loss += loss.item()\n",
    "        optimizer.step()\n",
    "        if batch_idx % args.log_interval == 0:\n",
    "            print('Train Epoch: {} [{}/{} ({:.0f}%)]\\tLoss: {:.6f}'.format(\n",
    "                epoch, batch_idx * len(data), len(traindataloader.dataset),\n",
    "                100. * batch_idx / len(traindataloader),\n",
    "                loss.item() / len(data)))\n",
    "\n",
    "    print('====> Epoch: {} Average loss: {:.4f}'.format(\n",
    "          epoch, train_loss / len(traindataloader.dataset)))\n"
   ]
  },
  {
   "cell_type": "code",
   "execution_count": 9,
   "metadata": {},
   "outputs": [],
   "source": [
    "args = arg(64, False, 10,10)\n",
    "device = torch.device(\"cuda\" if args.cuda else \"cpu\")\n",
    "model = myVAE2().to(device)\n",
    "optimizer = optim.Adam(model.parameters(), lr=1e-3)\n",
    "Path(\"./results_D36_rsample\").mkdir(parents=True, exist_ok=True)"
   ]
  },
  {
   "cell_type": "code",
   "execution_count": 14,
   "metadata": {},
   "outputs": [
    {
     "name": "stdout",
     "output_type": "stream",
     "text": [
      "Train Epoch: 1 [0/500 (0%)]\tLoss: 74.644203\n",
      "Train Epoch: 1 [320/500 (62%)]\tLoss: 70.382782\n",
      "====> Epoch: 1 Average loss: 71.3912\n",
      "Train Epoch: 2 [0/500 (0%)]\tLoss: 67.599548\n",
      "Train Epoch: 2 [320/500 (62%)]\tLoss: 67.297768\n",
      "====> Epoch: 2 Average loss: 66.4096\n",
      "Train Epoch: 3 [0/500 (0%)]\tLoss: 65.214973\n",
      "Train Epoch: 3 [320/500 (62%)]\tLoss: 63.361115\n",
      "====> Epoch: 3 Average loss: 64.5322\n",
      "Train Epoch: 4 [0/500 (0%)]\tLoss: 65.155304\n",
      "Train Epoch: 4 [320/500 (62%)]\tLoss: 61.555935\n",
      "====> Epoch: 4 Average loss: 62.5511\n",
      "Train Epoch: 5 [0/500 (0%)]\tLoss: 60.257526\n",
      "Train Epoch: 5 [320/500 (62%)]\tLoss: 58.111618\n",
      "====> Epoch: 5 Average loss: 57.8267\n",
      "Train Epoch: 6 [0/500 (0%)]\tLoss: 54.136284\n",
      "Train Epoch: 6 [320/500 (62%)]\tLoss: 50.910278\n",
      "====> Epoch: 6 Average loss: 51.5165\n",
      "Train Epoch: 7 [0/500 (0%)]\tLoss: 50.441326\n",
      "Train Epoch: 7 [320/500 (62%)]\tLoss: 48.686867\n",
      "====> Epoch: 7 Average loss: 48.1472\n",
      "Train Epoch: 8 [0/500 (0%)]\tLoss: 45.953655\n",
      "Train Epoch: 8 [320/500 (62%)]\tLoss: 44.779762\n",
      "====> Epoch: 8 Average loss: 45.7069\n",
      "Train Epoch: 9 [0/500 (0%)]\tLoss: 46.326824\n",
      "Train Epoch: 9 [320/500 (62%)]\tLoss: 44.708248\n",
      "====> Epoch: 9 Average loss: 44.4504\n",
      "Train Epoch: 10 [0/500 (0%)]\tLoss: 44.115974\n",
      "Train Epoch: 10 [320/500 (62%)]\tLoss: 45.297329\n",
      "====> Epoch: 10 Average loss: 43.8442\n"
     ]
    }
   ],
   "source": [
    "for epoch in range(1, args.epochs + 1):\n",
    "    train(model, epoch, mydataloader)\n",
    "    with torch.no_grad():\n",
    "        sample = torch.randn(64, 10).to(device)\n",
    "        sample = model.decode(sample).cpu()\n",
    "        save_image(sample.view(64, 1, 6, 6),\n",
    "                   'results_D36_rsample/sample' + str(epoch) + '.png')"
   ]
  },
  {
   "cell_type": "code",
   "execution_count": 15,
   "metadata": {},
   "outputs": [
    {
     "data": {
      "image/png": "[encoded data removed]",
      "text/plain": [
       "<Figure size 432x288 with 64 Axes>"
      ]
     },
     "metadata": {},
     "output_type": "display_data"
    }
   ],
   "source": [
    "# show some random generated samples from the last epoch\n",
    "plt.subplots(8,8)\n",
    "for i in range(64):\n",
    "    plt.subplot(8,8,i+1)\n",
    "    plt.imshow(sample[i,:].view(6,6))\n"
   ]
  },
  {
   "cell_type": "code",
   "execution_count": 20,
   "metadata": {},
   "outputs": [],
   "source": [
    "x_recon, mu, logvar = model.forward(my_dataset[0][0])"
   ]
  },
  {
   "cell_type": "code",
   "execution_count": 22,
   "metadata": {},
   "outputs": [
    {
     "data": {
      "text/plain": [
       "tensor(0.6888, grad_fn=<MeanBackward0>)"
      ]
     },
     "execution_count": 22,
     "metadata": {},
     "output_type": "execute_result"
    }
   ],
   "source": [
    "mu.mean()"
   ]
  },
  {
   "cell_type": "code",
   "execution_count": 25,
   "metadata": {},
   "outputs": [
    {
     "data": {
      "text/plain": [
       "tensor(0.1457, grad_fn=<MeanBackward0>)"
      ]
     },
     "execution_count": 25,
     "metadata": {},
     "output_type": "execute_result"
    }
   ],
   "source": [
    "logvar.exp().mean()"
   ]
  },
  {
   "cell_type": "markdown",
   "metadata": {},
   "source": [
    "# custom loss and layers"
   ]
  },
  {
   "cell_type": "code",
   "execution_count": 243,
   "metadata": {},
   "outputs": [],
   "source": [
    "class myVAE3(nn.Module):\n",
    "    def __init__(self, X_dim, hidden_dim, truncation_level):\n",
    "        super(myVAE3, self).__init__()\n",
    "        # some common parameters\n",
    "        self.X_dim = X_dim # D\n",
    "        self.truncation = truncation_level # K\n",
    "        self.hidden = hidden_dim\n",
    "        \n",
    "        # encoder layers\n",
    "        self.fc1 = nn.Linear(self.X_dim, self.hidden)\n",
    "        self.fc2_alpha = nn.Linear(self.hidden, 1)\n",
    "        self.fc2_tau_A = nn.Linear(self.hidden, 1)\n",
    "        self.fc2_tau_n = nn.Linear(self.hidden, 1)\n",
    "        self.fc2_v = nn.Linear(self.hidden, self.truncation)\n",
    "        self.fc2_Z = nn.Linear(self.hidden, self.truncation)\n",
    "        self.fc2_A = nn.Linear(self.hidden, self.truncation*self.X_dim)\n",
    "        \n",
    "        \n",
    "        # decoder layers \n",
    "        self.fc3 = nn.Linear(self.truncation*self.X_dim + self.truncation + 1, hidden_dim)\n",
    "        self.fc4 = nn.Linear(hidden_dim, self.X_dim)\n",
    "\n",
    "    def encode(self, x):\n",
    "        h1 = F.relu(self.fc1(x))\n",
    "        logalpha = self.fc2_alpha(h1)\n",
    "        logtau_A = self.fc2_tau_A(h1)\n",
    "        logtau_n = self.fc2_tau_n(h1)\n",
    "        logv = self.fc2_v(h1)\n",
    "        Z = F.sigmoid(self.fc2_Z(h1))\n",
    "        A = self.fc2_A(h1)\n",
    "        return logalpha, logtau_A, logtau_n, logv, Z, A\n",
    "\n",
    "    def decode(self, Z, A, logtau_n):\n",
    "        h2 = F.relu(self.fc3(torch.cat((Z,A,logtau_n), dim = 1)))\n",
    "        return torch.sigmoid(self.fc4(h2))\n",
    "\n",
    "    def forward(self, x):\n",
    "        logalpha, logtau_A, logtau_n, logv, Z, A = self.encode(x.view(-1, self.X_dim))\n",
    "        x_reconstruct = self.decode(Z, A, logtau_n)\n",
    "        return x_reconstruct, logalpha, logtau_A, logtau_n, logv, Z, A\n",
    "    \n",
    "    def loss_function(self, recon_x, x):\n",
    "        BCE = F.binary_cross_entropy(recon_x, x.view(-1, self.X_dim), reduction='sum')\n",
    "\n",
    "        return BCE \n"
   ]
  },
  {
   "cell_type": "code",
   "execution_count": 244,
   "metadata": {},
   "outputs": [],
   "source": [
    "def train(model, epoch, traindataloader):\n",
    "    model.train()\n",
    "    train_loss = 0\n",
    "    for batch_idx, (data, _) in enumerate(traindataloader):\n",
    "        data = data.to(device)\n",
    "        optimizer.zero_grad()\n",
    "        x_reconstruct, logalpha, logtau_A, logtau_n, logv, Z, A = model(data)\n",
    "        loss = model.loss_function(x_reconstruct, data)\n",
    "        loss.backward()\n",
    "        train_loss += loss.item()\n",
    "        optimizer.step()\n",
    "        if batch_idx % args.log_interval == 0:\n",
    "            print('Train Epoch: {} [{}/{} ({:.0f}%)]\\tLoss: {:.6f}'.format(\n",
    "                epoch, batch_idx * len(data), len(traindataloader.dataset),\n",
    "                100. * batch_idx / len(traindataloader),\n",
    "                loss.item() / len(data)))\n",
    "\n",
    "    print('====> Epoch: {} Average loss: {:.4f}'.format(\n",
    "          epoch, train_loss / len(traindataloader.dataset)))\n"
   ]
  },
  {
   "cell_type": "code",
   "execution_count": 245,
   "metadata": {},
   "outputs": [],
   "source": [
    "args = arg(64, False, 10,10)\n",
    "device = torch.device(\"cuda\" if args.cuda else \"cpu\")\n",
    "model = myVAE3(X_dim = 36, hidden_dim = 100, truncation_level = 10).to(device)\n",
    "optimizer = optim.Adam(model.parameters(), lr=1e-3)\n",
    "Path(\"./results_D36_custom\").mkdir(parents=True, exist_ok=True)"
   ]
  },
  {
   "cell_type": "code",
   "execution_count": 246,
   "metadata": {},
   "outputs": [
    {
     "name": "stderr",
     "output_type": "stream",
     "text": [
      "/Users/joey/anaconda3/lib/python3.6/site-packages/torch/nn/functional.py:1805: UserWarning: nn.functional.sigmoid is deprecated. Use torch.sigmoid instead.\n",
      "  warnings.warn(\"nn.functional.sigmoid is deprecated. Use torch.sigmoid instead.\")\n"
     ]
    },
    {
     "name": "stdout",
     "output_type": "stream",
     "text": [
      "Train Epoch: 1 [0/500 (0%)]\tLoss: 24.915075\n",
      "Train Epoch: 1 [320/500 (62%)]\tLoss: 22.705618\n",
      "====> Epoch: 1 Average loss: 23.3288\n",
      "Train Epoch: 2 [0/500 (0%)]\tLoss: 20.973221\n",
      "Train Epoch: 2 [320/500 (62%)]\tLoss: 19.546665\n",
      "====> Epoch: 2 Average loss: 20.2792\n",
      "Train Epoch: 3 [0/500 (0%)]\tLoss: 18.609722\n",
      "Train Epoch: 3 [320/500 (62%)]\tLoss: 17.038853\n",
      "====> Epoch: 3 Average loss: 17.6324\n",
      "Train Epoch: 4 [0/500 (0%)]\tLoss: 15.873297\n",
      "Train Epoch: 4 [320/500 (62%)]\tLoss: 14.642612\n",
      "====> Epoch: 4 Average loss: 15.4374\n",
      "Train Epoch: 5 [0/500 (0%)]\tLoss: 14.933339\n",
      "Train Epoch: 5 [320/500 (62%)]\tLoss: 14.910311\n",
      "====> Epoch: 5 Average loss: 14.8624\n",
      "Train Epoch: 6 [0/500 (0%)]\tLoss: 14.570356\n",
      "Train Epoch: 6 [320/500 (62%)]\tLoss: 14.722872\n",
      "====> Epoch: 6 Average loss: 14.6447\n",
      "Train Epoch: 7 [0/500 (0%)]\tLoss: 14.756136\n",
      "Train Epoch: 7 [320/500 (62%)]\tLoss: 14.185382\n",
      "====> Epoch: 7 Average loss: 14.4454\n",
      "Train Epoch: 8 [0/500 (0%)]\tLoss: 14.403946\n",
      "Train Epoch: 8 [320/500 (62%)]\tLoss: 13.972256\n",
      "====> Epoch: 8 Average loss: 14.2520\n",
      "Train Epoch: 9 [0/500 (0%)]\tLoss: 14.222150\n",
      "Train Epoch: 9 [320/500 (62%)]\tLoss: 14.340374\n",
      "====> Epoch: 9 Average loss: 14.1422\n",
      "Train Epoch: 10 [0/500 (0%)]\tLoss: 13.904144\n",
      "Train Epoch: 10 [320/500 (62%)]\tLoss: 14.164499\n",
      "====> Epoch: 10 Average loss: 14.1102\n"
     ]
    }
   ],
   "source": [
    "for epoch in range(1, args.epochs + 1):\n",
    "    train(model, epoch, mydataloader)\n",
    "#     with torch.no_grad():\n",
    "#         sample = torch.randn(64, 10).to(device)\n",
    "#         sample = model.decode(sample).cpu()\n",
    "#         save_image(sample.view(64, 1, 6, 6),\n",
    "#                    'results_D36_custom/sample' + str(epoch) + '.png')"
   ]
  },
  {
   "cell_type": "code",
   "execution_count": 249,
   "metadata": {},
   "outputs": [
    {
     "name": "stderr",
     "output_type": "stream",
     "text": [
      "/Users/joey/anaconda3/lib/python3.6/site-packages/torch/nn/functional.py:1805: UserWarning: nn.functional.sigmoid is deprecated. Use torch.sigmoid instead.\n",
      "  warnings.warn(\"nn.functional.sigmoid is deprecated. Use torch.sigmoid instead.\")\n"
     ]
    },
    {
     "data": {
      "text/plain": [
       "<matplotlib.image.AxesImage at 0x7fc7bd6dd550>"
      ]
     },
     "execution_count": 249,
     "metadata": {},
     "output_type": "execute_result"
    },
    {
     "data": {
      "image/png": "[encoded data removed]",
      "text/plain": [
       "<Figure size 432x288 with 1 Axes>"
      ]
     },
     "metadata": {},
     "output_type": "display_data"
    }
   ],
   "source": [
    "logalpha, logtau_A, logtau_n, logv, Z, A = model.encode(my_dataset[2][0].view(-1,36))\n",
    "recons = model.decode(Z, A, logtau_n)\n",
    "plt.imshow(recons.view(6,6).detach().numpy())"
   ]
  },
  {
   "cell_type": "code",
   "execution_count": 250,
   "metadata": {},
   "outputs": [
    {
     "data": {
      "text/plain": [
       "<matplotlib.image.AxesImage at 0x7fc7be969dd8>"
      ]
     },
     "execution_count": 250,
     "metadata": {},
     "output_type": "execute_result"
    },
    {
     "data": {
      "image/png": "[encoded data removed]",
      "text/plain": [
       "<Figure size 432x288 with 1 Axes>"
      ]
     },
     "metadata": {},
     "output_type": "display_data"
    }
   ],
   "source": [
    "plt.imshow(my_dataset[2][0].view(6,6).detach().numpy())\n"
   ]
  },
  {
   "cell_type": "markdown",
   "metadata": {},
   "source": [
    "# IBP"
   ]
  },
  {
   "cell_type": "code",
   "execution_count": 15,
   "metadata": {},
   "outputs": [],
   "source": [
    "class myVAE4(nn.Module):\n",
    "    def __init__(self, X_dim, hidden_dim, truncation_level):\n",
    "        super(myVAE4, self).__init__()\n",
    "        # some common parameters\n",
    "        self.X_dim = X_dim # D\n",
    "        self.truncation = truncation_level # K\n",
    "        self.hidden = hidden_dim\n",
    "        \n",
    "        # prior distributions\n",
    "        self.alpha_0 = torch.Tensor([1.1,1.1])\n",
    "        self.p_alpha = torch.distributions.Gamma(self.alpha_0[0], self.alpha_0[1])\n",
    "        self.tau_A_0 = torch.Tensor([2.1,2.1])\n",
    "        self.p_tau_A = torch.distributions.Gamma(self.tau_A_0[0], self.tau_A_0[1])\n",
    "        self.tau_n_0 = torch.Tensor([2.1,2.1])\n",
    "        self.p_tau_n = torch.distributions.Gamma(self.tau_n_0[0], self.tau_n_0[1])\n",
    "        \n",
    "        alpha = self.p_alpha.rsample()\n",
    "        self.p_v = torch.distributions.Beta(alpha,torch.Tensor([1]))\n",
    "        \n",
    "        v = self.p_v.rsample(sample_shape = torch.Size([self.truncation])).view(-1)\n",
    "        pi = torch.cumprod(v,0)\n",
    "        \n",
    "        self.p_Z = torch.distributions.ContinuousBernoulli(pi)\n",
    "        \n",
    "        tau_A = self.p_tau_A.rsample()\n",
    "        self.p_A = torch.distributions.Normal(torch.zeros((self.truncation*self.X_dim)), tau_A)\n",
    "        \n",
    "        # encoder layers\n",
    "        self.fc1 = nn.Linear(self.X_dim, self.hidden)\n",
    "        self.fc2_rho_alpha = nn.Linear(self.hidden, 2)\n",
    "        self.fc2_rho_tau_A = nn.Linear(self.hidden, 2)\n",
    "        self.fc2_rho_tau_n = nn.Linear(self.hidden, 2)\n",
    "        self.fc2_nu = nn.Linear(self.hidden, self.truncation*2)\n",
    "#         self.fc2_Z = nn.Linear(self.hidden, self.truncation) # Z is from v\n",
    "        self.fc2_A = nn.Linear(self.hidden, self.truncation*self.X_dim)\n",
    "        \n",
    "        # decoder layers \n",
    "        self.fc3 = nn.Linear(self.truncation + self.truncation*self.X_dim + 2, self.hidden)\n",
    "        self.fc4 = nn.Linear(self.hidden, self.X_dim)\n",
    "\n",
    "    def encode(self, x):\n",
    "        h1 = F.relu(self.fc1(x))\n",
    "        \n",
    "        log_rho_alpha = self.fc2_rho_alpha(h1)\n",
    "        self.q_alpha = torch.distributions.Gamma(log_rho_alpha.exp()[:,0], log_rho_alpha.exp()[:,1])\n",
    "        \n",
    "        log_rho_tau_A = self.fc2_rho_tau_A(h1)\n",
    "        \n",
    "        self.q_tau_A = torch.distributions.Gamma(log_rho_tau_A.exp()[:,0], log_rho_tau_A.exp()[:,1])\n",
    "        \n",
    "        log_rho_tau_n = self.fc2_rho_tau_n(h1)\n",
    "        self.q_tau_n = torch.distributions.Gamma(log_rho_tau_n.exp()[:,0], log_rho_tau_n.exp()[:,1])\n",
    "        \n",
    "        log_rho_nu = self.fc2_nu(h1)\n",
    "        self.q_nu = torch.distributions.Beta(log_rho_nu.exp()[:,0], log_rho_nu.exp()[:,1])\n",
    "        \n",
    "        v = self.q_nu.rsample(sample_shape = torch.Size([self.truncation])).T\n",
    "        self.q_Z = torch.distributions.ContinuousBernoulli(v)\n",
    "        Z = self.q_Z.rsample()\n",
    "        \n",
    "        phi_A = self.fc2_A(h1) # only the mean or both mean and var?\n",
    "        tau_A = self.q_tau_A.rsample()\n",
    "        \n",
    "        self.q_A = torch.distributions.Normal(phi_A, tau_A.view(tau_A.shape[0],1).expand(phi_A.shape))\n",
    "        A = self.q_A.rsample()\n",
    "        \n",
    "        return log_rho_alpha, log_rho_tau_A, log_rho_tau_n, log_rho_nu, Z, A\n",
    "\n",
    "    def decode(self, Z, A, log_rho_tau_n):\n",
    "        h3 = F.relu(self.fc3(torch.cat([Z, A, log_rho_tau_n], dim = 1)))\n",
    "        recon_x = torch.sigmoid(F.relu(self.fc4(h3)))\n",
    "        return recon_x\n",
    "\n",
    "    def forward(self, x):\n",
    "        log_rho_alpha, log_rho_tau_A, log_rho_tau_n, log_rho_nu, Z, A = self.encode(x.view(-1, self.X_dim))\n",
    "        recon_x = self.decode(Z, A, log_rho_tau_n)\n",
    "        return recon_x, log_rho_alpha, log_rho_tau_A, log_rho_tau_n, log_rho_nu, Z, A\n",
    "    \n",
    "    def loss_function(self, recon_x, x):\n",
    "        BCE = F.binary_cross_entropy(recon_x, x.view(-1, self.X_dim), reduction='sum')\n",
    "        \n",
    "        KL_alpha = torch.distributions.kl.kl_divergence(self.q_alpha, self.p_alpha).sum(-1)\n",
    "        \n",
    "        KL_tau_A = torch.distributions.kl.kl_divergence(self.q_tau_A, self.p_tau_A).sum(-1)\n",
    "        \n",
    "        KL_tau_n = torch.distributions.kl.kl_divergence(self.q_tau_n, self.p_tau_n).sum(-1)\n",
    "        \n",
    "        KL_v = torch.distributions.kl.kl_divergence(self.q_nu, self.p_v).sum(-1)\n",
    "        \n",
    "        KL_A = torch.distributions.kl.kl_divergence(self.q_A, self.p_A).sum(-1).mean()\n",
    "        \n",
    "        KL_Z = torch.distributions.kl.kl_divergence(self.q_Z, self.p_Z).sum(-1).mean()\n",
    "        \n",
    "#         losses = [BCE, KL_alpha, KL_tau_A, KL_tau_n, KL_v, KL_A, KL_Z]\n",
    "#         print(losses)\n",
    "        return BCE + 1*(KL_alpha + KL_tau_A + KL_tau_n + KL_v + KL_A + KL_Z)\n"
   ]
  },
  {
   "cell_type": "code",
   "execution_count": 16,
   "metadata": {},
   "outputs": [],
   "source": [
    "def train(model, epoch, traindataloader):\n",
    "    model.train()\n",
    "    train_loss = 0\n",
    "    for batch_idx, (data, _) in enumerate(traindataloader):\n",
    "        data = data.to(device)\n",
    "        optimizer.zero_grad()\n",
    "        x_reconstruct, logalpha, logtau_A, logtau_n, logv, Z, A = model(data)\n",
    "        loss = model.loss_function(x_reconstruct, data)\n",
    "        loss.backward()\n",
    "        train_loss += loss.item()\n",
    "        optimizer.step()\n",
    "        if batch_idx % args.log_interval == 0:\n",
    "            print('Train Epoch: {} [{}/{} ({:.0f}%)]\\tLoss: {:.6f}'.format(\n",
    "                epoch, batch_idx * len(data), len(traindataloader.dataset),\n",
    "                100. * batch_idx / len(traindataloader),\n",
    "                loss.item() / len(data)))\n",
    "\n",
    "    print('====> Epoch: {} Average loss: {:.4f}'.format(\n",
    "          epoch, train_loss / len(traindataloader.dataset)))\n"
   ]
  },
  {
   "cell_type": "code",
   "execution_count": 17,
   "metadata": {},
   "outputs": [],
   "source": [
    "args = arg(32, False, 10,10)\n",
    "mydataloader = DataLoader(my_dataset, batch_size = args.batch_size, shuffle = True)\n",
    "device = torch.device(\"cuda\" if args.cuda else \"cpu\")\n",
    "model = myVAE4(X_dim = 36, hidden_dim = 100, truncation_level = 10).to(device)\n",
    "optimizer = optim.Adam(model.parameters(), lr=1e-3)\n",
    "Path(\"./results_D36_sample_only_decoder\").mkdir(parents=True, exist_ok=True)"
   ]
  },
  {
   "cell_type": "code",
   "execution_count": 18,
   "metadata": {},
   "outputs": [
    {
     "name": "stdout",
     "output_type": "stream",
     "text": [
      "Train Epoch: 1 [0/500 (0%)]\tLoss: 58.636841\n",
      "Train Epoch: 1 [320/500 (62%)]\tLoss: 46.879452\n",
      "====> Epoch: 1 Average loss: 41.9488\n",
      "Train Epoch: 2 [0/500 (0%)]\tLoss: 40.373783\n",
      "Train Epoch: 2 [320/500 (62%)]\tLoss: 34.317844\n",
      "====> Epoch: 2 Average loss: 35.6868\n",
      "Train Epoch: 3 [0/500 (0%)]\tLoss: 31.740463\n",
      "Train Epoch: 3 [320/500 (62%)]\tLoss: 31.114807\n",
      "====> Epoch: 3 Average loss: 32.0460\n",
      "Train Epoch: 4 [0/500 (0%)]\tLoss: 31.560354\n",
      "Train Epoch: 4 [320/500 (62%)]\tLoss: 25.764555\n",
      "====> Epoch: 4 Average loss: 27.9549\n",
      "Train Epoch: 5 [0/500 (0%)]\tLoss: 27.134487\n",
      "Train Epoch: 5 [320/500 (62%)]\tLoss: 25.698744\n",
      "====> Epoch: 5 Average loss: 26.8106\n",
      "Train Epoch: 6 [0/500 (0%)]\tLoss: 25.392954\n",
      "Train Epoch: 6 [320/500 (62%)]\tLoss: 24.910873\n",
      "====> Epoch: 6 Average loss: 25.7339\n",
      "Train Epoch: 7 [0/500 (0%)]\tLoss: 26.011110\n",
      "Train Epoch: 7 [320/500 (62%)]\tLoss: 25.867384\n",
      "====> Epoch: 7 Average loss: 25.5053\n",
      "Train Epoch: 8 [0/500 (0%)]\tLoss: 25.520363\n",
      "Train Epoch: 8 [320/500 (62%)]\tLoss: 24.647833\n",
      "====> Epoch: 8 Average loss: 24.9968\n",
      "Train Epoch: 9 [0/500 (0%)]\tLoss: 25.123232\n",
      "Train Epoch: 9 [320/500 (62%)]\tLoss: 24.516642\n",
      "====> Epoch: 9 Average loss: 24.4060\n",
      "Train Epoch: 10 [0/500 (0%)]\tLoss: 23.676718\n",
      "Train Epoch: 10 [320/500 (62%)]\tLoss: 24.934456\n",
      "====> Epoch: 10 Average loss: 24.5729\n",
      "Train Epoch: 11 [0/500 (0%)]\tLoss: 24.253721\n",
      "Train Epoch: 11 [320/500 (62%)]\tLoss: 23.470985\n",
      "====> Epoch: 11 Average loss: 24.1790\n",
      "Train Epoch: 12 [0/500 (0%)]\tLoss: 23.870722\n",
      "Train Epoch: 12 [320/500 (62%)]\tLoss: 23.902939\n",
      "====> Epoch: 12 Average loss: 24.2889\n",
      "Train Epoch: 13 [0/500 (0%)]\tLoss: 24.031273\n",
      "Train Epoch: 13 [320/500 (62%)]\tLoss: 24.421881\n",
      "====> Epoch: 13 Average loss: 24.1942\n",
      "Train Epoch: 14 [0/500 (0%)]\tLoss: 24.265787\n",
      "Train Epoch: 14 [320/500 (62%)]\tLoss: 23.601528\n",
      "====> Epoch: 14 Average loss: 24.0661\n",
      "Train Epoch: 15 [0/500 (0%)]\tLoss: 24.007620\n",
      "Train Epoch: 15 [320/500 (62%)]\tLoss: 24.301647\n",
      "====> Epoch: 15 Average loss: 24.1586\n",
      "Train Epoch: 16 [0/500 (0%)]\tLoss: 23.542713\n",
      "Train Epoch: 16 [320/500 (62%)]\tLoss: 23.799358\n",
      "====> Epoch: 16 Average loss: 24.0670\n",
      "Train Epoch: 17 [0/500 (0%)]\tLoss: 23.660620\n",
      "Train Epoch: 17 [320/500 (62%)]\tLoss: 23.645988\n",
      "====> Epoch: 17 Average loss: 24.0751\n",
      "Train Epoch: 18 [0/500 (0%)]\tLoss: 24.120733\n",
      "Train Epoch: 18 [320/500 (62%)]\tLoss: 23.859537\n",
      "====> Epoch: 18 Average loss: 24.0008\n",
      "Train Epoch: 19 [0/500 (0%)]\tLoss: 24.243923\n",
      "Train Epoch: 19 [320/500 (62%)]\tLoss: 23.865330\n",
      "====> Epoch: 19 Average loss: 24.1042\n",
      "Train Epoch: 20 [0/500 (0%)]\tLoss: 23.895529\n",
      "Train Epoch: 20 [320/500 (62%)]\tLoss: 24.172607\n",
      "====> Epoch: 20 Average loss: 24.1293\n",
      "Train Epoch: 21 [0/500 (0%)]\tLoss: 23.982695\n",
      "Train Epoch: 21 [320/500 (62%)]\tLoss: 23.844631\n",
      "====> Epoch: 21 Average loss: 24.0047\n",
      "Train Epoch: 22 [0/500 (0%)]\tLoss: 24.222609\n",
      "Train Epoch: 22 [320/500 (62%)]\tLoss: 24.236946\n",
      "====> Epoch: 22 Average loss: 24.0046\n",
      "Train Epoch: 23 [0/500 (0%)]\tLoss: 23.998236\n",
      "Train Epoch: 23 [320/500 (62%)]\tLoss: 23.863144\n",
      "====> Epoch: 23 Average loss: 24.0531\n",
      "Train Epoch: 24 [0/500 (0%)]\tLoss: 24.369173\n",
      "Train Epoch: 24 [320/500 (62%)]\tLoss: 23.473776\n",
      "====> Epoch: 24 Average loss: 23.9912\n",
      "Train Epoch: 25 [0/500 (0%)]\tLoss: 23.844738\n",
      "Train Epoch: 25 [320/500 (62%)]\tLoss: 23.768026\n",
      "====> Epoch: 25 Average loss: 23.9523\n",
      "Train Epoch: 26 [0/500 (0%)]\tLoss: 23.704540\n",
      "Train Epoch: 26 [320/500 (62%)]\tLoss: 23.572371\n",
      "====> Epoch: 26 Average loss: 23.9981\n",
      "Train Epoch: 27 [0/500 (0%)]\tLoss: 23.443901\n",
      "Train Epoch: 27 [320/500 (62%)]\tLoss: 24.345516\n",
      "====> Epoch: 27 Average loss: 23.9567\n",
      "Train Epoch: 28 [0/500 (0%)]\tLoss: 23.502916\n",
      "Train Epoch: 28 [320/500 (62%)]\tLoss: 23.764608\n",
      "====> Epoch: 28 Average loss: 23.9096\n",
      "Train Epoch: 29 [0/500 (0%)]\tLoss: 23.999468\n",
      "Train Epoch: 29 [320/500 (62%)]\tLoss: 23.814024\n",
      "====> Epoch: 29 Average loss: 23.8919\n",
      "Train Epoch: 30 [0/500 (0%)]\tLoss: 23.903162\n",
      "Train Epoch: 30 [320/500 (62%)]\tLoss: 23.700912\n",
      "====> Epoch: 30 Average loss: 23.9991\n"
     ]
    }
   ],
   "source": [
    "for epoch in range(1, 30 + 1):\n",
    "    train(model, epoch, mydataloader)\n",
    "#     with torch.no_grad():\n",
    "#         sample = torch.randn(64, 10).to(device)\n",
    "#         sample = model.decode(sample).cpu()\n",
    "#         save_image(sample.view(64, 1, 6, 6),\n",
    "#                    'results_D36_custom/sample' + str(epoch) + '.png')"
   ]
  },
  {
   "cell_type": "code",
   "execution_count": 21,
   "metadata": {},
   "outputs": [
    {
     "data": {
      "text/plain": [
       "myVAE4(\n",
       "  (fc1): Linear(in_features=36, out_features=100, bias=True)\n",
       "  (fc2_rho_alpha): Linear(in_features=100, out_features=2, bias=True)\n",
       "  (fc2_rho_tau_A): Linear(in_features=100, out_features=2, bias=True)\n",
       "  (fc2_rho_tau_n): Linear(in_features=100, out_features=2, bias=True)\n",
       "  (fc2_nu): Linear(in_features=100, out_features=20, bias=True)\n",
       "  (fc2_A): Linear(in_features=100, out_features=360, bias=True)\n",
       "  (fc3): Linear(in_features=372, out_features=100, bias=True)\n",
       "  (fc4): Linear(in_features=100, out_features=36, bias=True)\n",
       ")"
      ]
     },
     "execution_count": 21,
     "metadata": {},
     "output_type": "execute_result"
    }
   ],
   "source": [
    "model.eval()"
   ]
  },
  {
   "cell_type": "code",
   "execution_count": 24,
   "metadata": {},
   "outputs": [
    {
     "name": "stdout",
     "output_type": "stream",
     "text": [
      "tensor([[0.2946, 0.0062, 0.0251, 0.1931, 0.0427, 0.0937, 0.0782, 0.1978, 0.0305,\n",
      "         0.0739]], grad_fn=<SWhereBackward>)\n"
     ]
    },
    {
     "data": {
      "image/png": "[encoded data removed]",
      "text/plain": [
       "<Figure size 432x288 with 2 Axes>"
      ]
     },
     "metadata": {},
     "output_type": "display_data"
    }
   ],
   "source": [
    "training_sample = my_dataset[1][0]\n",
    "logalpha, logtau_A, logtau_n, logv, Z, A = model.encode(training_sample.view(-1,36))\n",
    "recons = model.decode(Z, A, logtau_n)\n",
    "plt.subplot(1,2,1)\n",
    "plt.imshow(recons.view(6,6).detach().numpy())\n",
    "plt.title('reconstruct')\n",
    "plt.subplot(1,2,2)\n",
    "plt.imshow(training_sample.view(6,6).detach().numpy())\n",
    "plt.title('origin')\n",
    "print(Z)"
   ]
  },
  {
   "cell_type": "code",
   "execution_count": 31,
   "metadata": {},
   "outputs": [],
   "source": [
    "allZ = np.zeros((len(my_dataset), Z.shape[1]))\n",
    "for i in range(len(my_dataset)):\n",
    "    training_sample = my_dataset[i][0]\n",
    "    logalpha, logtau_A, logtau_n, logv, Z, A = model.encode(training_sample.view(-1,36))\n",
    "    allZ[i,:] = Z.detach().numpy()"
   ]
  },
  {
   "cell_type": "code",
   "execution_count": 67,
   "metadata": {},
   "outputs": [],
   "source": [
    "label = np.loadtxt('Z.txt')\n",
    "label = label.astype(int)\n",
    "label = label.tolist()\n",
    "\n",
    "for i in range(len(label)):\n",
    "    label[i] = ''.join(list(map(str,label[i])))"
   ]
  },
  {
   "cell_type": "code",
   "execution_count": 71,
   "metadata": {},
   "outputs": [],
   "source": [
    "from sklearn import preprocessing\n",
    "le = preprocessing.LabelEncoder()\n",
    "cat_label = le.fit_transform(label)"
   ]
  },
  {
   "cell_type": "code",
   "execution_count": 76,
   "metadata": {},
   "outputs": [
    {
     "data": {
      "text/plain": [
       "(500, 2)"
      ]
     },
     "execution_count": 76,
     "metadata": {},
     "output_type": "execute_result"
    }
   ],
   "source": [
    "from sklearn.manifold import TSNE\n",
    "Z_embedded = TSNE(n_components=2).fit_transform(allZ)\n",
    "Z_embedded.shape"
   ]
  },
  {
   "cell_type": "code",
   "execution_count": 81,
   "metadata": {},
   "outputs": [
    {
     "data": {
      "image/png": "[encoded data removed]",
      "text/plain": [
       "<Figure size 720x720 with 1 Axes>"
      ]
     },
     "metadata": {},
     "output_type": "display_data"
    }
   ],
   "source": [
    "plt.figure(figsize = (10,10))\n",
    "for i in range(len(le.classes_)):\n",
    "    idx = cat_label==i\n",
    "    plt.scatter(Z_embedded[idx,0], Z_embedded[idx,1], label = le.classes_[i])\n",
    "plt.legend()\n",
    "plt.show()"
   ]
  },
  {
   "cell_type": "code",
   "execution_count": 82,
   "metadata": {},
   "outputs": [
    {
     "data": {
      "image/png": "[encoded data removed]",
      "text/plain": [
       "<Figure size 720x720 with 1 Axes>"
      ]
     },
     "metadata": {},
     "output_type": "display_data"
    }
   ],
   "source": [
    "# pca\n",
    "from sklearn.decomposition import PCA\n",
    "Z_embedded = PCA(n_components=2).fit_transform(allZ)\n",
    "plt.figure(figsize = (10,10))\n",
    "for i in range(len(le.classes_)):\n",
    "    idx = cat_label==i\n",
    "    plt.scatter(Z_embedded[idx,0], Z_embedded[idx,1], label = le.classes_[i])\n",
    "plt.legend()\n",
    "plt.show()"
   ]
  },
  {
   "cell_type": "code",
   "execution_count": null,
   "metadata": {},
   "outputs": [],
   "source": [
    "latent space clusters\n",
    "gumble "
   ]
  },
  {
   "cell_type": "markdown",
   "metadata": {},
   "source": [
    "# sampling decoder"
   ]
  },
  {
   "cell_type": "code",
   "execution_count": 497,
   "metadata": {},
   "outputs": [],
   "source": [
    "class myVAE5(nn.Module):\n",
    "    def __init__(self, X_dim, hidden_dim, truncation_level):\n",
    "        super(myVAE5, self).__init__()\n",
    "        # some common parameters\n",
    "        self.X_dim = X_dim # D\n",
    "        self.truncation = truncation_level # K\n",
    "        self.hidden = hidden_dim\n",
    "        \n",
    "        # prior distributions\n",
    "        self.alpha_0 = torch.Tensor([1.1,1.1])\n",
    "        self.p_alpha = torch.distributions.Gamma(self.alpha_0[0], self.alpha_0[1])\n",
    "        self.tau_A_0 = torch.Tensor([2.1,2.1])\n",
    "        self.p_tau_A = torch.distributions.Gamma(self.tau_A_0[0], self.tau_A_0[1])\n",
    "        self.tau_n_0 = torch.Tensor([2.1,2.1])\n",
    "        self.p_tau_n = torch.distributions.Gamma(self.tau_n_0[0], self.tau_n_0[1])\n",
    "        \n",
    "        alpha = self.p_alpha.rsample()\n",
    "        self.p_v = torch.distributions.Beta(alpha,torch.Tensor([1]))\n",
    "        \n",
    "        v = self.p_v.rsample(sample_shape = torch.Size([self.truncation])).view(-1)\n",
    "        pi = torch.cumprod(v,0)\n",
    "        \n",
    "        self.p_Z = torch.distributions.ContinuousBernoulli(pi)\n",
    "        \n",
    "        tau_A = self.p_tau_A.rsample()\n",
    "        self.p_A = torch.distributions.Normal(torch.zeros((self.truncation*self.X_dim)), tau_A)\n",
    "        \n",
    "        # encoder layers\n",
    "        self.fc1 = nn.Linear(self.X_dim, self.hidden)\n",
    "        self.fc2_rho_alpha = nn.Linear(self.hidden, 2)\n",
    "        self.fc2_rho_tau_A = nn.Linear(self.hidden, 2)\n",
    "        self.fc2_rho_tau_n = nn.Linear(self.hidden, 2)\n",
    "        self.fc2_nu = nn.Linear(self.hidden, self.truncation*2)\n",
    "#         self.fc2_Z = nn.Linear(self.hidden, self.truncation)\n",
    "        self.fc2_A = nn.Linear(self.hidden, self.truncation*self.X_dim)\n",
    "        \n",
    "        #  no decoder layers because P(X|W) is known\n",
    "        # \n",
    "\n",
    "    def encode(self, x):\n",
    "        h1 = F.relu(self.fc1(x))\n",
    "        \n",
    "        log_rho_alpha = self.fc2_rho_alpha(h1)\n",
    "        self.q_alpha = torch.distributions.Gamma(log_rho_alpha.exp()[:,0], log_rho_alpha.exp()[:,1])\n",
    "        \n",
    "        log_rho_tau_A = self.fc2_rho_tau_A(h1)\n",
    "        \n",
    "        self.q_tau_A = torch.distributions.Gamma(log_rho_tau_A.exp()[:,0], log_rho_tau_A.exp()[:,1])\n",
    "        \n",
    "        log_rho_tau_n = self.fc2_rho_tau_n(h1)\n",
    "        self.q_tau_n = torch.distributions.Gamma(log_rho_tau_n.exp()[:,0], log_rho_tau_n.exp()[:,1])\n",
    "        \n",
    "        log_rho_nu = self.fc2_nu(h1)\n",
    "        self.q_nu = torch.distributions.Beta(log_rho_nu.exp()[:,0], log_rho_nu.exp()[:,1])\n",
    "        \n",
    "        v = self.q_nu.rsample(sample_shape = torch.Size([self.truncation])).T\n",
    "        self.q_Z = torch.distributions.ContinuousBernoulli(v)\n",
    "        Z = self.q_Z.rsample()\n",
    "        \n",
    "        phi_A = self.fc2_A(h1) # only the mean or both mean and var?\n",
    "        tau_A = self.q_tau_A.rsample()\n",
    "        \n",
    "        self.q_A = torch.distributions.Normal(phi_A, tau_A.view(tau_A.shape[0],1).expand(phi_A.shape))\n",
    "        A = self.q_A.rsample()\n",
    "        \n",
    "        return log_rho_alpha, log_rho_tau_A, log_rho_tau_n, log_rho_nu, Z, A\n",
    "\n",
    "    def decode(self, Z, A, log_rho_tau_n):\n",
    "        tau_n = self.q_tau_n.rsample()\n",
    "        p_x_w = Normal(Z.view(-1,1,10).matmul(A.view(-1,10,36)).view(-1,36), tau_n.view(tau_n.shape[0],1).expand((-1,36)))\n",
    "        \n",
    "        return torch.sigmoid(p_x_w.rsample())\n",
    "\n",
    "    def forward(self, x):\n",
    "        log_rho_alpha, log_rho_tau_A, log_rho_tau_n, log_rho_nu, Z, A = self.encode(x.view(-1, self.X_dim))\n",
    "        x_reconstruct = self.decode(Z, A, log_rho_tau_n)\n",
    "        return x_reconstruct, log_rho_alpha, log_rho_tau_A, log_rho_tau_n, log_rho_nu, Z, A\n",
    "    \n",
    "    def loss_function(self, recon_x, x):\n",
    "        BCE = F.binary_cross_entropy(recon_x, x.view(-1, self.X_dim), reduction='sum')\n",
    "        \n",
    "        KL_alpha = torch.distributions.kl.kl_divergence(self.q_alpha, self.p_alpha).sum(-1)\n",
    "        \n",
    "        KL_tau_A = torch.distributions.kl.kl_divergence(self.q_tau_A, self.p_tau_A).sum(-1)\n",
    "        \n",
    "        KL_tau_n = torch.distributions.kl.kl_divergence(self.q_tau_n, self.p_tau_n).sum(-1)\n",
    "        \n",
    "        KL_v = torch.distributions.kl.kl_divergence(self.q_nu, self.p_v).sum(-1)\n",
    "        \n",
    "        KL_A = torch.distributions.kl.kl_divergence(self.q_A, self.p_A).sum(-1).mean()\n",
    "        \n",
    "        KL_Z = torch.distributions.kl.kl_divergence(self.q_Z, self.p_Z).sum(-1).mean()\n",
    "        \n",
    "        \n",
    "#         losses = [BCE, KL_alpha, KL_tau_A, KL_tau_n, KL_v, KL_A, KL_Z]\n",
    "#         print(losses)\n",
    "        return BCE + 1*(KL_alpha + KL_tau_A + KL_tau_n + KL_v + KL_A + KL_Z)\n"
   ]
  },
  {
   "cell_type": "code",
   "execution_count": 491,
   "metadata": {},
   "outputs": [],
   "source": [
    "args = arg(32, False, 10,10)\n",
    "mydataloader = DataLoader(my_dataset, batch_size = args.batch_size, shuffle = True)\n",
    "device = torch.device(\"cuda\" if args.cuda else \"cpu\")\n",
    "model = myVAE5(X_dim = 36, hidden_dim = 100, truncation_level = 10).to(device)\n",
    "optimizer = optim.Adam(model.parameters(), lr=1e-3)\n",
    "Path(\"./results_D36_ZA\").mkdir(parents=True, exist_ok=True)"
   ]
  },
  {
   "cell_type": "code",
   "execution_count": 492,
   "metadata": {},
   "outputs": [
    {
     "name": "stdout",
     "output_type": "stream",
     "text": [
      "Train Epoch: 1 [0/500 (0%)]\tLoss: 60.171165\n",
      "Train Epoch: 1 [320/500 (62%)]\tLoss: 43.578655\n",
      "====> Epoch: 1 Average loss: 49.6820\n",
      "Train Epoch: 2 [0/500 (0%)]\tLoss: 39.689453\n",
      "Train Epoch: 2 [320/500 (62%)]\tLoss: 35.391060\n",
      "====> Epoch: 2 Average loss: 37.9449\n",
      "Train Epoch: 3 [0/500 (0%)]\tLoss: 34.698544\n",
      "Train Epoch: 3 [320/500 (62%)]\tLoss: 33.045204\n",
      "====> Epoch: 3 Average loss: 33.2931\n",
      "Train Epoch: 4 [0/500 (0%)]\tLoss: 31.194283\n",
      "Train Epoch: 4 [320/500 (62%)]\tLoss: 30.037127\n",
      "====> Epoch: 4 Average loss: 29.5680\n",
      "Train Epoch: 5 [0/500 (0%)]\tLoss: 30.337919\n",
      "Train Epoch: 5 [320/500 (62%)]\tLoss: 27.761497\n",
      "====> Epoch: 5 Average loss: 28.3154\n",
      "Train Epoch: 6 [0/500 (0%)]\tLoss: 28.379263\n",
      "Train Epoch: 6 [320/500 (62%)]\tLoss: 25.828651\n",
      "====> Epoch: 6 Average loss: 26.5838\n",
      "Train Epoch: 7 [0/500 (0%)]\tLoss: 25.242836\n",
      "Train Epoch: 7 [320/500 (62%)]\tLoss: 24.985950\n",
      "====> Epoch: 7 Average loss: 25.4345\n",
      "Train Epoch: 8 [0/500 (0%)]\tLoss: 24.023260\n",
      "Train Epoch: 8 [320/500 (62%)]\tLoss: 25.227455\n",
      "====> Epoch: 8 Average loss: 24.7344\n",
      "Train Epoch: 9 [0/500 (0%)]\tLoss: 24.660305\n",
      "Train Epoch: 9 [320/500 (62%)]\tLoss: 24.674847\n",
      "====> Epoch: 9 Average loss: 24.4654\n",
      "Train Epoch: 10 [0/500 (0%)]\tLoss: 24.300320\n",
      "Train Epoch: 10 [320/500 (62%)]\tLoss: 24.254360\n",
      "====> Epoch: 10 Average loss: 24.2266\n",
      "Train Epoch: 11 [0/500 (0%)]\tLoss: 23.717148\n",
      "Train Epoch: 11 [320/500 (62%)]\tLoss: 24.056499\n",
      "====> Epoch: 11 Average loss: 24.2909\n",
      "Train Epoch: 12 [0/500 (0%)]\tLoss: 23.586452\n",
      "Train Epoch: 12 [320/500 (62%)]\tLoss: 23.965260\n",
      "====> Epoch: 12 Average loss: 24.0696\n",
      "Train Epoch: 13 [0/500 (0%)]\tLoss: 23.173887\n",
      "Train Epoch: 13 [320/500 (62%)]\tLoss: 24.374701\n",
      "====> Epoch: 13 Average loss: 23.7958\n",
      "Train Epoch: 14 [0/500 (0%)]\tLoss: 23.545849\n",
      "Train Epoch: 14 [320/500 (62%)]\tLoss: 24.272465\n",
      "====> Epoch: 14 Average loss: 23.7745\n",
      "Train Epoch: 15 [0/500 (0%)]\tLoss: 23.052818\n",
      "Train Epoch: 15 [320/500 (62%)]\tLoss: 23.493238\n",
      "====> Epoch: 15 Average loss: 23.7591\n",
      "Train Epoch: 16 [0/500 (0%)]\tLoss: 24.207821\n",
      "Train Epoch: 16 [320/500 (62%)]\tLoss: 24.275732\n",
      "====> Epoch: 16 Average loss: 23.7042\n",
      "Train Epoch: 17 [0/500 (0%)]\tLoss: 22.864285\n",
      "Train Epoch: 17 [320/500 (62%)]\tLoss: 22.880379\n",
      "====> Epoch: 17 Average loss: 23.6592\n",
      "Train Epoch: 18 [0/500 (0%)]\tLoss: 23.624685\n",
      "Train Epoch: 18 [320/500 (62%)]\tLoss: 23.358995\n",
      "====> Epoch: 18 Average loss: 23.5780\n",
      "Train Epoch: 19 [0/500 (0%)]\tLoss: 23.318426\n",
      "Train Epoch: 19 [320/500 (62%)]\tLoss: 23.536598\n",
      "====> Epoch: 19 Average loss: 23.6705\n",
      "Train Epoch: 20 [0/500 (0%)]\tLoss: 23.150364\n",
      "Train Epoch: 20 [320/500 (62%)]\tLoss: 23.499580\n",
      "====> Epoch: 20 Average loss: 23.4717\n",
      "Train Epoch: 21 [0/500 (0%)]\tLoss: 23.379595\n",
      "Train Epoch: 21 [320/500 (62%)]\tLoss: 23.390781\n",
      "====> Epoch: 21 Average loss: 23.4743\n",
      "Train Epoch: 22 [0/500 (0%)]\tLoss: 22.987022\n",
      "Train Epoch: 22 [320/500 (62%)]\tLoss: 23.932369\n",
      "====> Epoch: 22 Average loss: 23.5256\n",
      "Train Epoch: 23 [0/500 (0%)]\tLoss: 23.961287\n",
      "Train Epoch: 23 [320/500 (62%)]\tLoss: 23.404253\n",
      "====> Epoch: 23 Average loss: 23.5334\n",
      "Train Epoch: 24 [0/500 (0%)]\tLoss: 22.858168\n",
      "Train Epoch: 24 [320/500 (62%)]\tLoss: 23.280024\n",
      "====> Epoch: 24 Average loss: 23.6068\n",
      "Train Epoch: 25 [0/500 (0%)]\tLoss: 23.060984\n",
      "Train Epoch: 25 [320/500 (62%)]\tLoss: 23.522438\n",
      "====> Epoch: 25 Average loss: 23.6138\n",
      "Train Epoch: 26 [0/500 (0%)]\tLoss: 23.574625\n",
      "Train Epoch: 26 [320/500 (62%)]\tLoss: 24.208178\n",
      "====> Epoch: 26 Average loss: 23.6623\n",
      "Train Epoch: 27 [0/500 (0%)]\tLoss: 22.940878\n",
      "Train Epoch: 27 [320/500 (62%)]\tLoss: 24.151926\n",
      "====> Epoch: 27 Average loss: 23.6651\n",
      "Train Epoch: 28 [0/500 (0%)]\tLoss: 22.959171\n",
      "Train Epoch: 28 [320/500 (62%)]\tLoss: 22.542095\n",
      "====> Epoch: 28 Average loss: 23.4915\n",
      "Train Epoch: 29 [0/500 (0%)]\tLoss: 23.408112\n",
      "Train Epoch: 29 [320/500 (62%)]\tLoss: 23.942089\n",
      "====> Epoch: 29 Average loss: 23.5870\n",
      "Train Epoch: 30 [0/500 (0%)]\tLoss: 23.987299\n",
      "Train Epoch: 30 [320/500 (62%)]\tLoss: 22.681797\n",
      "====> Epoch: 30 Average loss: 23.4105\n"
     ]
    }
   ],
   "source": [
    "for epoch in range(1, 30 + 1):\n",
    "    train(model, epoch, mydataloader)\n",
    "#     with torch.no_grad():\n",
    "#         sample = torch.randn(64, 10).to(device)\n",
    "#         sample = model.decode(sample).cpu()\n",
    "#         save_image(sample.view(64, 1, 6, 6),\n",
    "#                    'results_D36_custom/sample' + str(epoch) + '.png')"
   ]
  },
  {
   "cell_type": "code",
   "execution_count": 499,
   "metadata": {},
   "outputs": [
    {
     "name": "stdout",
     "output_type": "stream",
     "text": [
      "tensor([[0.3043, 0.9509, 0.1556, 0.8184, 0.0649, 0.8027, 0.1802, 0.2833, 0.6977,\n",
      "         0.1362]], grad_fn=<SWhereBackward>)\n"
     ]
    },
    {
     "data": {
      "image/png": "[encoded data removed]",
      "text/plain": [
       "<Figure size 432x288 with 2 Axes>"
      ]
     },
     "metadata": {},
     "output_type": "display_data"
    }
   ],
   "source": [
    "training_sample = my_dataset[2][0]\n",
    "\n",
    "logalpha, logtau_A, logtau_n, logv, Z, A = model.encode(training_sample.view(-1,36))\n",
    "recons = model.decode(Z, A, logtau_n)\n",
    "plt.subplot(1,2,1)\n",
    "plt.imshow(recons.view(6,6).detach().numpy())\n",
    "plt.title('reconstruct')\n",
    "plt.subplot(1,2,2)\n",
    "plt.imshow(training_sample.view(6,6).detach().numpy())\n",
    "plt.title('origin')\n",
    "print(Z)"
   ]
  },
  {
   "cell_type": "code",
   "execution_count": null,
   "metadata": {},
   "outputs": [],
   "source": [
    "Z"
   ]
  },
  {
   "cell_type": "code",
   "execution_count": 425,
   "metadata": {},
   "outputs": [],
   "source": [
    "log_rho_alpha, log_rho_tau_A, log_rho_tau_n, log_rho_nu, Z, A = model.encode(my_dataset[5][0].view(-1,36))\n"
   ]
  },
  {
   "cell_type": "code",
   "execution_count": 426,
   "metadata": {},
   "outputs": [
    {
     "data": {
      "text/plain": [
       "tensor([[1.1051, 1.1219]], grad_fn=<ExpBackward>)"
      ]
     },
     "execution_count": 426,
     "metadata": {},
     "output_type": "execute_result"
    }
   ],
   "source": [
    "log_rho_alpha.exp()"
   ]
  },
  {
   "cell_type": "code",
   "execution_count": 445,
   "metadata": {},
   "outputs": [
    {
     "data": {
      "text/plain": [
       "tensor([[ 2.4805, 24.7920]], grad_fn=<ExpBackward>)"
      ]
     },
     "execution_count": 445,
     "metadata": {},
     "output_type": "execute_result"
    }
   ],
   "source": [
    "log_rho_tau_A.exp()"
   ]
  },
  {
   "cell_type": "code",
   "execution_count": 452,
   "metadata": {},
   "outputs": [
    {
     "data": {
      "text/plain": [
       "(tensor([[ 0.3291, 19.2207]], grad_fn=<ExpBackward>),\n",
       " tensor(0.0171, grad_fn=<DivBackward0>))"
      ]
     },
     "execution_count": 452,
     "metadata": {},
     "output_type": "execute_result"
    }
   ],
   "source": [
    "log_rho_tau_n.exp(), log_rho_tau_n.exp()[0,0]/log_rho_tau_n.exp()[0,1]"
   ]
  },
  {
   "cell_type": "code",
   "execution_count": 446,
   "metadata": {},
   "outputs": [
    {
     "data": {
      "text/plain": [
       "[<matplotlib.lines.Line2D at 0x7fc7bed840f0>]"
      ]
     },
     "execution_count": 446,
     "metadata": {},
     "output_type": "execute_result"
    },
    {
     "data": {
      "image/png": "[encoded data removed]",
      "text/plain": [
       "<Figure size 432x288 with 1 Axes>"
      ]
     },
     "metadata": {},
     "output_type": "display_data"
    }
   ],
   "source": [
    "pp = torch.distributions.Gamma(2.4805, 24.7920)\n",
    "xx = torch.linspace(0.001,10)\n",
    "plt.plot(xx, pp.log_prob(xx).exp())"
   ]
  },
  {
   "cell_type": "code",
   "execution_count": null,
   "metadata": {},
   "outputs": [],
   "source": []
  },
  {
   "cell_type": "markdown",
   "metadata": {},
   "source": [
    "# POS vectors"
   ]
  },
  {
   "cell_type": "code",
   "execution_count": null,
   "metadata": {},
   "outputs": [],
   "source": [
    "class CustomTextDataset(Dataset):\n",
    "    def __init__(self, annotations_file, img_dir, transform=None, target_transform=None):\n",
    "        self.text_labels = np.loadtxt(annotations_file)\n",
    "        self.text_dir = img_dir\n",
    "        self.transform = transform\n",
    "        self.target_transform = target_transform\n",
    "\n",
    "    def __len__(self):\n",
    "        return self.img_labels.shape[0]\n",
    "\n",
    "    def __getitem__(self, idx):\n",
    "        path = os.path.join(self.img_dir, str(idx) + '.jpg')\n",
    "        image = read_image(img_path).float()\n",
    "        image = image/image.max()\n",
    "        label = self.img_labels[idx, :]\n",
    "        if self.transform:\n",
    "            image = self.transform(image)\n",
    "        if self.target_transform:\n",
    "            label = self.target_transform(label).type(torch.int)\n",
    "        return image, label\n"
   ]
  },
  {
   "cell_type": "code",
   "execution_count": null,
   "metadata": {},
   "outputs": [],
   "source": [
    "my_dataset = CustomImageDataset('Z.txt' ,'./img', target_transform = torch.from_numpy)\n",
    "\n",
    "mydataloader = DataLoader(my_dataset, batch_size = 12, shuffle = True)\n"
   ]
  },
  {
   "cell_type": "code",
   "execution_count": null,
   "metadata": {},
   "outputs": [],
   "source": []
  },
  {
   "cell_type": "code",
   "execution_count": null,
   "metadata": {},
   "outputs": [],
   "source": []
  }
 ],
 "metadata": {
  "kernelspec": {
   "display_name": "Python 3",
   "language": "python",
   "name": "python3"
  },
  "language_info": {
   "codemirror_mode": {
    "name": "ipython",
    "version": 3
   },
   "file_extension": ".py",
   "mimetype": "text/x-python",
   "name": "python",
   "nbconvert_exporter": "python",
   "pygments_lexer": "ipython3",
   "version": "3.6.7"
  },
  "toc": {
   "base_numbering": 1,
   "nav_menu": {},
   "number_sections": true,
   "sideBar": true,
   "skip_h1_title": false,
   "title_cell": "Table of Contents",
   "title_sidebar": "Contents",
   "toc_cell": true,
   "toc_position": {
    "height": "calc(100% - 180px)",
    "left": "10px",
    "top": "150px",
    "width": "165px"
   },
   "toc_section_display": true,
   "toc_window_display": true
  }
 },
 "nbformat": 4,
 "nbformat_minor": 2
}
