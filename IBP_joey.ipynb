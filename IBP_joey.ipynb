{
 "cells": [
  {
   "cell_type": "code",
   "execution_count": 217,
   "metadata": {},
   "outputs": [],
   "source": [
    "import numpy as np\n",
    "import time\n",
    "import scipy.special\n",
    "from tqdm.notebook import tqdm,trange\n",
    "import matplotlib.pyplot as plt\n",
    "import scipy.stats"
   ]
  },
  {
   "cell_type": "markdown",
   "metadata": {},
   "source": [
    "Implemented paper: The Indian Buffet Process: An Introduction and Review "
   ]
  },
  {
   "cell_type": "markdown",
   "metadata": {},
   "source": [
    "Helpful resource:  \n",
    "https://www2.bcs.rochester.edu/sites/jacobslab/cheat_sheets.html"
   ]
  },
  {
   "cell_type": "markdown",
   "metadata": {},
   "source": [
    "# generate data"
   ]
  },
  {
   "cell_type": "code",
   "execution_count": 299,
   "metadata": {},
   "outputs": [],
   "source": [
    "A = np.array([[0, 1, 0, 0, 0, 0, 1, 1, 1, 0, 0, 0, 0, 1, 0, 0, 0, 0, 0, 0, 0, 0, 0, 0, 0, 0, 0, 0, 0, 0, 0, 0, 0, 0, 0, 0],\n",
    "              [0, 0, 0, 1, 1, 1, 0, 0, 0, 1, 0, 1, 0, 0, 0, 1, 1, 1, 0, 0, 0, 0, 0, 0, 0, 0, 0, 0, 0, 0, 0, 0, 0, 0, 0, 0],\n",
    "              [0, 0, 0, 0, 0, 0, 0, 0, 0, 0, 0, 0, 0, 0, 0, 0, 0, 0, 1, 0, 0, 0, 0, 0, 1, 1, 0, 0, 0, 0, 1, 1, 1, 0, 0, 0],\n",
    "              [0, 0, 0, 0, 0, 0, 0, 0, 0, 0, 0, 0, 0, 0, 0, 0, 0, 0, 0, 0, 0, 1, 1, 1, 0, 0, 0, 0, 1, 0, 0, 0, 0, 0, 1, 0]])\n",
    "def gen_data(sigma_x = 0.5, num_feature = 4, num_dim = 36, num_object = 100):\n",
    "    I = sigma_x*np.ones(num_dim)\n",
    "    Z = np.zeros((num_object, num_feature))\n",
    "    X = np.zeros((num_object, num_dim))\n",
    "    for i in range(num_object):\n",
    "        while (Z[i,:].sum() == 0):\n",
    "            Z[i,:] = np.random.rand(1,num_feature) > .5\n",
    "        X[i,:] = np.random.randn(num_dim)*I+Z[i,:]@A\n",
    "    return X, Z"
   ]
  },
  {
   "cell_type": "code",
   "execution_count": 326,
   "metadata": {},
   "outputs": [
    {
     "data": {
      "image/png": "[encoded data removed]",
      "text/plain": [
       "<Figure size 432x288 with 4 Axes>"
      ]
     },
     "metadata": {
      "needs_background": "light"
     },
     "output_type": "display_data"
    }
   ],
   "source": [
    "# the 4 features\n",
    "for i in range(4):\n",
    "    plt.subplot(1,4,1+i)\n",
    "    plt.imshow(A[i,:].reshape(6,6), cmap='gray')\n",
    "    plt.axis('off')\n",
    "    "
   ]
  },
  {
   "cell_type": "code",
   "execution_count": 301,
   "metadata": {},
   "outputs": [],
   "source": [
    "sigma_x = 0.3\n",
    "num_feature = 4\n",
    "num_dim = 36\n",
    "num_object = 200\n",
    "X,Z_groundtruth = gen_data(sigma_x = sigma_x, num_feature = num_feature, num_dim = num_dim, num_object = num_object)\n",
    "# larger sigma_x will give larger noise"
   ]
  },
  {
   "cell_type": "code",
   "execution_count": 303,
   "metadata": {},
   "outputs": [
    {
     "name": "stdout",
     "output_type": "stream",
     "text": [
      "[0. 1. 0. 0.]\n",
      "[1. 1. 1. 0.]\n",
      "[0. 1. 1. 1.]\n",
      "[1. 1. 0. 1.]\n"
     ]
    },
    {
     "data": {
      "image/png": "[encoded data removed]",
      "text/plain": [
       "<Figure size 432x288 with 4 Axes>"
      ]
     },
     "metadata": {
      "needs_background": "light"
     },
     "output_type": "display_data"
    }
   ],
   "source": [
    "# show first 4 examples\n",
    "for i in range(4):\n",
    "    print(Z_groundtruth[i])\n",
    "    plt.subplot(2,2,1+i)\n",
    "    plt.imshow(X[i,:].reshape(6,6), cmap='gray')\n"
   ]
  },
  {
   "cell_type": "markdown",
   "metadata": {},
   "source": [
    "# inference"
   ]
  },
  {
   "cell_type": "code",
   "execution_count": 304,
   "metadata": {},
   "outputs": [],
   "source": [
    "def IBP(alpha = 10, num_object = 20):\n",
    "    n_init = np.random.poisson(alpha)\n",
    "    Z = np.zeros(shape=(num_object,n_init),dtype = np.int)\n",
    "    Z[0,:] = 1\n",
    "    K_plus = n_init\n",
    "    for i in range(1,num_object):\n",
    "        #Calculate probability of visiting past dishes\n",
    "        Z[i,:] = Z.sum(axis = 0)/(i+1) > np.random.rand(1,K_plus)\n",
    "        #Calculate the number of new dishes visited by customer i\n",
    "        K_new = np.random.poisson(alpha/(i+1)) \n",
    "        Z=np.concatenate((Z,np.zeros(shape=(num_object,K_new),dtype = np.int)), axis=1)\n",
    "        Z[i,K_plus:K_plus+K_new] = 1\n",
    "        #Update matrix size and dish popularity count\n",
    "        K_plus = K_plus+K_new\n",
    "    return Z, K_plus"
   ]
  },
  {
   "cell_type": "code",
   "execution_count": 305,
   "metadata": {},
   "outputs": [],
   "source": [
    "def cal_M_i(Z, M, i, K_plus):\n",
    "    # according to equation 23, 24 line 2\n",
    "    M_i = M - (M@Z[i,:].reshape(K_plus,1)@Z[i,:].reshape(1,K_plus)@M)/(Z[i,:]@M@Z[i,:].T - 1) \n",
    "    return M_i\n"
   ]
  },
  {
   "cell_type": "code",
   "execution_count": 306,
   "metadata": {},
   "outputs": [],
   "source": [
    "def cal_M(Z, M_i, i, K_plus):\n",
    "    # according to equation 23, 24 line 2\n",
    "    M = M_i - (M_i@Z[i,:].reshape(K_plus,1)@Z[i,:].reshape(1,K_plus)@M_i)/(Z[i,:]@M_i@Z[i,:].T + 1)\n",
    "    return M"
   ]
  },
  {
   "cell_type": "code",
   "execution_count": 307,
   "metadata": {},
   "outputs": [],
   "source": [
    "def log_likelihood(X, Z, M, sigma_A, sigma_X, K_plus, num_object, num_dim):\n",
    "    # according to equation 26 in page 1203\n",
    "    return -1*num_object*num_dim*.5*np.log(2*np.pi) \\\n",
    "            - 1*(num_object - K_plus)*num_dim*np.log(sigma_X) \\\n",
    "            - K_plus*num_dim*np.log(sigma_A) \\\n",
    "            - num_dim*.5*np.log(np.linalg.det((Z.T@Z + (sigma_X**2/sigma_A**2)*np.diag(np.ones(K_plus))))) \\\n",
    "            + (-1/(2*sigma_X**2)) * np.trace(X.T@(np.diag(np.ones(num_object)) - Z@M@Z.T)@X)"
   ]
  },
  {
   "cell_type": "code",
   "execution_count": 308,
   "metadata": {},
   "outputs": [
    {
     "data": {
      "application/vnd.jupyter.widget-view+json": {
       "model_id": "2da2e45801944ee7b6ce230e4ce757df",
       "version_major": 2,
       "version_minor": 0
      },
      "text/plain": [
       "HBox(children=(HTML(value=''), FloatProgress(value=0.0, max=1000.0), HTML(value='')))"
      ]
     },
     "metadata": {},
     "output_type": "display_data"
    },
    {
     "name": "stdout",
     "output_type": "stream",
     "text": [
      "\n"
     ]
    }
   ],
   "source": [
    "# initialize \n",
    "sigma_A = 1\n",
    "sigma_X = 1\n",
    "alpha = 1\n",
    "num_object, num_dim = X.shape\n",
    "num_iter = 1000\n",
    "Z, K_plus = IBP(alpha=alpha, num_object = num_object)\n",
    "# pre calculate Harmonic number for N\n",
    "HN = np.sum(1/np.arange(1,num_object+1))\n",
    "\n",
    "# allocate storage\n",
    "history = {}\n",
    "history['Z'] = []\n",
    "history['K_plus'] = []\n",
    "history['sigma_X'] = []\n",
    "history['sigma_A'] = []\n",
    "history['alpha'] = []\n",
    "\n",
    "for iter in trange(num_iter):\n",
    "    for i in range(num_object):\n",
    "        M = np.linalg.inv(Z.T@Z+np.diag(np.ones(K_plus))) # according to equation 24 line 1 in page 1204\n",
    "        for k in range(K_plus):\n",
    "            if k>=K_plus:\n",
    "                break\n",
    "            \n",
    "            if Z[i,k] > 0:\n",
    "                # if a feature is only possessed by one object, delete the feature column\n",
    "                if Z[:,k].sum() - Z[i,k] <= 0:\n",
    "                    Z[i,k] = 0\n",
    "                    Z[:,k:K_plus-1] =  Z[:,k+1:]\n",
    "                    K_plus = K_plus-1\n",
    "                    Z = Z[:,:K_plus]\n",
    "                    M = np.linalg.inv(Z.T@Z+np.diag(np.ones(K_plus))) # according to equation 24 line 1 in page 1204\n",
    "                    continue\n",
    "                    \n",
    "            # Compute conditional distributions for the current cell in Z.\n",
    "            p = np.zeros(2)\n",
    "            M_i = cal_M_i(Z, M, i, K_plus) # M_i is the same for both\n",
    "            \n",
    "            Z[i,k] = 1\n",
    "            M1 = cal_M(Z, M_i, i, K_plus)\n",
    "            p[0] = log_likelihood(X, Z, M1, sigma_A, sigma_X, K_plus, num_object, num_dim) \\\n",
    "                    + np.log(Z[:,k].sum() - 1) - np.log(num_object)  # according to equation 22 in page 1203 and equation 18 in page 1201\n",
    "            Z[i,k] = 0\n",
    "            M2 = cal_M(Z, M_i, i, K_plus)\n",
    "            p[1] = log_likelihood(X, Z, M2, sigma_A, sigma_X, K_plus, num_object, num_dim) \\\n",
    "                    + np.log(num_object - Z[:,k].sum()) - np.log(num_object)  # according to equation 22 in page 1203 and equation 18 in page 1201\n",
    "            # sometimes give warnings here\n",
    "            \n",
    "            p = np.exp(p-p.max())\n",
    "            if np.random.rand() < p[0]/p.sum():\n",
    "                Z[i,k] = 1\n",
    "                M = M1\n",
    "            else:\n",
    "                Z[i,k] = 0\n",
    "                M = M2\n",
    "        # Sample the number of new dishes for the current object\n",
    "        K_new = K_plus # at most there won't be doubled dishes\n",
    "        trun_prob = np.zeros(K_new) \n",
    "        alpha_N = alpha / num_object\n",
    "        Z = np.concatenate((Z, np.zeros(shape=(num_object,K_plus),dtype = np.int)), axis=1)\n",
    "        Z[i,K_plus:K_plus+K_new] = 1\n",
    "        for k_i in range(K_new):\n",
    "            M = np.linalg.inv(Z[:,:K_plus+k_i].T@Z[:,:K_plus+k_i] + (sigma_X**2/sigma_A**2)*np.diag(np.ones(K_plus+k_i)))\n",
    "            trun_prob[k_i] = k_i*np.log(alpha_N) - alpha_N - np.log(scipy.special.factorial(k_i)) + \\\n",
    "                            log_likelihood(X, Z[:,:K_plus+k_i], M, sigma_A, sigma_X, K_plus+k_i, num_object, num_dim)\n",
    "        trun_prob = np.exp(trun_prob-trun_prob.max())\n",
    "        trun_prob = trun_prob/trun_prob.sum()\n",
    "        trun_prob = np.cumsum(trun_prob)\n",
    "        K_new = (trun_prob<np.random.rand()).sum()\n",
    "        Z = Z[:,:K_plus+K_new]\n",
    "        Z[i,K_plus:K_plus+K_new]=1\n",
    "        K_plus = K_plus + K_new\n",
    "        \n",
    "    # Metropolis steps for sampling sigma_X and sigma_A\n",
    "    M = np.linalg.inv(Z.T@Z + (sigma_X**2/sigma_A**2)*np.diag(np.ones(K_plus)))\n",
    "    l_curr = log_likelihood(X, Z, M, sigma_A, sigma_X, K_plus, num_object, num_dim)\n",
    "    \n",
    "    if np.random.rand() < .5:\n",
    "        pr_sigma_X = sigma_X - np.random.rand()/20\n",
    "    else:\n",
    "        pr_sigma_X = sigma_X + np.random.rand()/20\n",
    "    M = np.linalg.inv(Z.T@Z + (pr_sigma_X**2/sigma_A**2)*np.diag(np.ones(K_plus)))\n",
    "    l_new_X = log_likelihood(X, Z, M, sigma_A, pr_sigma_X, K_plus, num_object, num_dim)\n",
    "    acc_X = np.exp(min(0, l_new_X - l_curr))\n",
    "    \n",
    "    if np.random.rand() < .5:\n",
    "        pr_sigma_A = sigma_A - np.random.rand()/20\n",
    "    else:\n",
    "        pr_sigma_A = sigma_A + np.random.rand()/20\n",
    "    M = np.linalg.inv(Z.T@Z + (sigma_X**2/pr_sigma_A**2)*np.diag(np.ones(K_plus)))\n",
    "    l_new_A = log_likelihood(X, Z, M, pr_sigma_A, sigma_X, K_plus, num_object, num_dim)\n",
    "    acc_A = np.exp(min(0, l_new_A - l_curr))    \n",
    "    \n",
    "    if np.random.rand() < acc_X:\n",
    "        sigma_X = pr_sigma_X\n",
    "\n",
    "    if np.random.rand() < acc_A:\n",
    "        sigma_A = pr_sigma_A\n",
    "        \n",
    "    \n",
    "    # sample alpha\n",
    "    alpha = np.random.gamma(1+K_plus, 1/(1+HN))\n",
    "    \n",
    "    # save \n",
    "    history['Z'].append(Z)\n",
    "    history['K_plus'].append(K_plus)\n",
    "    history['sigma_X'].append(sigma_X)\n",
    "    history['sigma_A'].append(sigma_A)\n",
    "    history['alpha'].append(alpha)"
   ]
  },
  {
   "cell_type": "code",
   "execution_count": 339,
   "metadata": {},
   "outputs": [
    {
     "data": {
      "image/png": "[encoded data removed]",
      "text/plain": [
       "<Figure size 720x144 with 1 Axes>"
      ]
     },
     "metadata": {
      "needs_background": "light"
     },
     "output_type": "display_data"
    }
   ],
   "source": [
    "plt.figure(figsize = (10,2))\n",
    "plt.plot(history['K_plus'])\n",
    "plt.title('K_plus',fontsize=18)\n",
    "plt.xlabel('iteration',fontsize=16)\n",
    "plt.yticks(fontsize=16)\n",
    "plt.xticks(fontsize=16)\n",
    "plt.show()"
   ]
  },
  {
   "cell_type": "code",
   "execution_count": 335,
   "metadata": {},
   "outputs": [
    {
     "data": {
      "text/plain": [
       "Text(0.5, 0, 'iteration')"
      ]
     },
     "execution_count": 335,
     "metadata": {},
     "output_type": "execute_result"
    },
    {
     "data": {
      "image/png": "[encoded data removed]",
      "text/plain": [
       "<Figure size 720x144 with 1 Axes>"
      ]
     },
     "metadata": {
      "needs_background": "light"
     },
     "output_type": "display_data"
    }
   ],
   "source": [
    "plt.figure(figsize = (10,2))\n",
    "plt.plot(history['sigma_A'])\n",
    "plt.title('sigma_A',fontsize=18)\n",
    "plt.xlabel('iteration',fontsize=16)\n",
    "plt.yticks(fontsize=16)\n",
    "plt.xticks(fontsize=16)\n",
    "plt.show()"
   ]
  },
  {
   "cell_type": "code",
   "execution_count": 340,
   "metadata": {},
   "outputs": [
    {
     "data": {
      "image/png": "[encoded data removed]",
      "text/plain": [
       "<Figure size 720x144 with 1 Axes>"
      ]
     },
     "metadata": {
      "needs_background": "light"
     },
     "output_type": "display_data"
    }
   ],
   "source": [
    "plt.figure(figsize = (10,2))\n",
    "plt.plot(history['sigma_X'])\n",
    "plt.title('sigma_X',fontsize=18)\n",
    "plt.xlabel('iteration',fontsize=16)\n",
    "plt.yticks(fontsize=16)\n",
    "plt.xticks(fontsize=16)\n",
    "plt.show()"
   ]
  },
  {
   "cell_type": "code",
   "execution_count": 312,
   "metadata": {},
   "outputs": [],
   "source": [
    "M = np.linalg.inv(Z.T@Z + (sigma_X**2/sigma_A**2)*np.diag(np.ones(K_plus)))"
   ]
  },
  {
   "cell_type": "code",
   "execution_count": 313,
   "metadata": {},
   "outputs": [
    {
     "data": {
      "text/plain": [
       "(6, 36)"
      ]
     },
     "execution_count": 313,
     "metadata": {},
     "output_type": "execute_result"
    }
   ],
   "source": [
    "A_prox = M@Z.T@X\n",
    "A_prox.shape"
   ]
  },
  {
   "cell_type": "code",
   "execution_count": 314,
   "metadata": {},
   "outputs": [
    {
     "data": {
      "text/plain": [
       "(200, 6)"
      ]
     },
     "execution_count": 314,
     "metadata": {},
     "output_type": "execute_result"
    }
   ],
   "source": [
    "Z.shape"
   ]
  },
  {
   "cell_type": "code",
   "execution_count": 315,
   "metadata": {},
   "outputs": [],
   "source": [
    "X_prox = Z@A_prox"
   ]
  },
  {
   "cell_type": "code",
   "execution_count": 316,
   "metadata": {},
   "outputs": [
    {
     "data": {
      "image/png": "[encoded data removed]",
      "text/plain": [
       "<Figure size 360x360 with 9 Axes>"
      ]
     },
     "metadata": {
      "needs_background": "light"
     },
     "output_type": "display_data"
    }
   ],
   "source": [
    "# show first n prediction examples\n",
    "plt.figure(figsize=(5,5))\n",
    "for i in range(9):\n",
    "    plt.subplot(3,3,1+i)\n",
    "    plt.imshow(X_prox[i,:].reshape(6,6), cmap='gray')\n",
    "    plt.title(str(Z[i]))\n",
    "    plt.axis('off')"
   ]
  },
  {
   "cell_type": "code",
   "execution_count": 317,
   "metadata": {
    "scrolled": true
   },
   "outputs": [
    {
     "data": {
      "image/png": "[encoded data removed]",
      "text/plain": [
       "<Figure size 360x360 with 9 Axes>"
      ]
     },
     "metadata": {
      "needs_background": "light"
     },
     "output_type": "display_data"
    }
   ],
   "source": [
    "# show first n real examples\n",
    "plt.figure(figsize=(5,5))\n",
    "for i in range(9):\n",
    "    plt.subplot(3,3,1+i)\n",
    "    plt.imshow(X[i,:].reshape(6,6), cmap='gray')\n",
    "    plt.title(str(Z_groundtruth[i]))    \n",
    "    plt.axis('off')    "
   ]
  },
  {
   "cell_type": "code",
   "execution_count": 331,
   "metadata": {},
   "outputs": [
    {
     "data": {
      "image/png": "[encoded data removed]",
      "text/plain": [
       "<Figure size 432x288 with 6 Axes>"
      ]
     },
     "metadata": {
      "needs_background": "light"
     },
     "output_type": "display_data"
    }
   ],
   "source": [
    "# show first n real examples\n",
    "plt.figure(figsize=(6,4))\n",
    "for i in range(A_prox.shape[0]):\n",
    "    plt.subplot(2,3,1+i)\n",
    "    plt.imshow(A_prox[i,:].reshape(6,6), cmap='gray')\n",
    "    plt.title('observed feature '+str(i))    \n",
    "    plt.axis('off')    "
   ]
  },
  {
   "cell_type": "code",
   "execution_count": 341,
   "metadata": {},
   "outputs": [
    {
     "data": {
      "text/plain": [
       "0.3039388316600696"
      ]
     },
     "execution_count": 341,
     "metadata": {},
     "output_type": "execute_result"
    }
   ],
   "source": [
    "sigma_X"
   ]
  },
  {
   "cell_type": "code",
   "execution_count": null,
   "metadata": {},
   "outputs": [],
   "source": []
  }
 ],
 "metadata": {
  "kernelspec": {
   "display_name": "Python 3",
   "language": "python",
   "name": "python3"
  },
  "language_info": {
   "codemirror_mode": {
    "name": "ipython",
    "version": 3
   },
   "file_extension": ".py",
   "mimetype": "text/x-python",
   "name": "python",
   "nbconvert_exporter": "python",
   "pygments_lexer": "ipython3",
   "version": "3.8.5"
  },
  "toc": {
   "base_numbering": 1,
   "nav_menu": {},
   "number_sections": true,
   "sideBar": true,
   "skip_h1_title": false,
   "title_cell": "Table of Contents",
   "title_sidebar": "Contents",
   "toc_cell": false,
   "toc_position": {},
   "toc_section_display": true,
   "toc_window_display": true
  }
 },
 "nbformat": 4,
 "nbformat_minor": 4
}
